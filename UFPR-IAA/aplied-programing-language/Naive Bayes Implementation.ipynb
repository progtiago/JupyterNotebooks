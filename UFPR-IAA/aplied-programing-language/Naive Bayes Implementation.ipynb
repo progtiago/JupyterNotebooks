{
 "cells": [
  {
   "cell_type": "markdown",
   "metadata": {},
   "source": [
    "# Naive Bayes"
   ]
  },
  {
   "cell_type": "markdown",
   "metadata": {},
   "source": [
    "*Esse notebook foi gerado a partir de exercícios da disciplina de Linguagem de Programação Aplicada do curso de Pós Graduação em Inteligência Artifical Aplicada da UFPR.*"
   ]
  },
  {
   "cell_type": "markdown",
   "metadata": {},
   "source": [
    "Discente: Tiago José da Silva\n",
    "\n",
    "Professor: Dr. Alexander Kutzke "
   ]
  },
  {
   "cell_type": "markdown",
   "metadata": {},
   "source": [
    "## Antes de começarmos"
   ]
  },
  {
   "cell_type": "markdown",
   "metadata": {},
   "source": [
    "Esse notebook expõe um classificador de spam utilizando uma implementação de Naive Bayes.\n",
    "\n",
    "Para testarmos a implementação usaremos um conjunto de e-mails que está disponível em:\n",
    "    \n",
    "Ao fazer download dos arquivos, extraio-os para um diretório fazendo com que cada um dos dos arquivos se transforme num subdiretório.\n",
    "\n",
    "Após isso, modifique a variável path de modo a refletir a estrutura criada."
   ]
  },
  {
   "cell_type": "code",
   "execution_count": 183,
   "metadata": {},
   "outputs": [],
   "source": [
    "path = 'naive_bayes/emails/*/*'"
   ]
  },
  {
   "cell_type": "markdown",
   "metadata": {},
   "source": [
    "## O Código"
   ]
  },
  {
   "cell_type": "code",
   "execution_count": 151,
   "metadata": {},
   "outputs": [],
   "source": [
    "import math\n",
    "import random\n",
    "import re\n",
    "from collections import defaultdict, Counter\n",
    "from typing import TypeVar, List, Tuple, Dict, Iterable, NamedTuple, Set\n",
    "\n",
    "X = TypeVar('X')  # generic type to represent a data point"
   ]
  },
  {
   "cell_type": "markdown",
   "metadata": {},
   "source": [
    "- Importei a lib nltk.stem para obter os radicais das palavras.\n",
    "\n",
    "Mais informações sobre a lib: https://www.nltk.org/howto/stem.html"
   ]
  },
  {
   "cell_type": "code",
   "execution_count": 152,
   "metadata": {},
   "outputs": [],
   "source": [
    "from nltk.stem import PorterStemmer\n",
    "stemmer = PorterStemmer()"
   ]
  },
  {
   "cell_type": "code",
   "execution_count": 153,
   "metadata": {},
   "outputs": [],
   "source": [
    "def split_data(data: List[X], prob: float) -> Tuple[List[X], List[X]]:\n",
    "    \"\"\"Split data into fractions [prob, 1 - prob]\"\"\"\n",
    "    data = data[:]  # Make a shallow copy\n",
    "    random.shuffle(data)  # because shuffle modifies the list.\n",
    "    cut = int(len(data) * prob)  # Use prob to find a cutoff\n",
    "    return data[:cut], data[cut:]  # and split the shuffled list there."
   ]
  },
  {
   "cell_type": "raw",
   "metadata": {},
   "source": [
    "- Adicionei dois novos parâmetros na função tokenize:\n",
    "    - stem: Caso True, considerará apenas os radicais das palavras na hora da geração dos tokens;\n",
    "    - verify_number: Caso True, um token chamado *contain-numbers:True* ou *contain-numbers:False* será adicionado para os cenários em que existir e que não existir a presença de números no texto, respectivamente."
   ]
  },
  {
   "cell_type": "code",
   "execution_count": 184,
   "metadata": {},
   "outputs": [],
   "source": [
    "def tokenize(text: str, stem: bool = False, verify_number: bool = False) -> Set[str]:\n",
    "    text = text.lower()  # Convert to lowercase,\n",
    "    all_words = re.findall(\"[a-z0-9']+\", text)  # extract the words, and\n",
    "    if verify_number:\n",
    "        all_words.append(\"contain-numbers:\" + str(len(re.findall('\\d+', text)) > 0))\n",
    "    if stem:\n",
    "        all_words = [stemmer.stem(w) for w in all_words]\n",
    "    return set(all_words)  # remove duplicates.\n",
    "\n",
    "    assert tokenize(\"Data Science is science\") == {\"data\", \"science\", \"is\"}"
   ]
  },
  {
   "cell_type": "code",
   "execution_count": 155,
   "metadata": {},
   "outputs": [],
   "source": [
    "class Message(NamedTuple):\n",
    "    text: str\n",
    "    is_spam: bool"
   ]
  },
  {
   "cell_type": "markdown",
   "metadata": {},
   "source": [
    "- Adicionei três novos parâmetros no construtor do classificador NaiveBayes.\n",
    "    - min_count: Permite definir a quantidade mínima de vezes que um token precisa aparecer para ser considerado no classificador;\n",
    "    - stem: Caso True, considerará apenas os radicais das palavras na hora da geração dos tokens;\n",
    "    - verify_number: Caso True, um token chamado *contain-numbers:True* ou *contain-numbers:False* será adicionado para os cenários em que existir e que não existir a presença de números no texto, respectivamente."
   ]
  },
  {
   "cell_type": "code",
   "execution_count": 156,
   "metadata": {},
   "outputs": [],
   "source": [
    "class NaiveBayesClassifier:\n",
    "    def __init__(self, k: float = 0.5,\n",
    "                 min_count: int = 1,\n",
    "                 stem: bool = False,\n",
    "                 verify_number: bool = False) -> None:\n",
    "\n",
    "        self.k = k  # smoothing factor\n",
    "        self.min_count = min_count\n",
    "        self.stem = stem\n",
    "        self.verify_number = verify_number\n",
    "\n",
    "        self.tokens: Set[str] = set()\n",
    "        self.tokens_count: Dict[str, int] = defaultdict(int)\n",
    "        self.token_spam_counts: Dict[str, int] = defaultdict(int)\n",
    "        self.token_ham_counts: Dict[str, int] = defaultdict(int)\n",
    "        self.spam_messages = self.ham_messages = 0\n",
    "\n",
    "    def train(self, messages: Iterable[Message]) -> None:\n",
    "        for message in messages:\n",
    "            # Increment message counts\n",
    "            if message.is_spam:\n",
    "                self.spam_messages += 1\n",
    "            else:\n",
    "                self.ham_messages += 1\n",
    "\n",
    "            # Increment word counts\n",
    "            for token in tokenize(message.text, stem=self.stem, verify_number=self.verify_number):\n",
    "                self.tokens.add(token)\n",
    "                self.tokens_count[token] += 1\n",
    "                if message.is_spam:\n",
    "                    self.token_spam_counts[token] += 1\n",
    "                else:\n",
    "                    self.token_ham_counts[token] += 1\n",
    "\n",
    "    def probabilities(self, token: str) -> Tuple[float, float]:\n",
    "        \"\"\"returns P(token | spam) and P(token | not spam)\"\"\"\n",
    "        spam = self.token_spam_counts[token]\n",
    "        ham = self.token_ham_counts[token]\n",
    "\n",
    "        p_token_spam = (spam + self.k) / (self.spam_messages + 2 * self.k)\n",
    "        p_token_ham = (ham + self.k) / (self.ham_messages + 2 * self.k)\n",
    "\n",
    "        return p_token_spam, p_token_ham\n",
    "\n",
    "    def predict(self, text: str) -> float:\n",
    "        text_tokens = tokenize(text, stem=self.stem, verify_number=self.verify_number)\n",
    "        log_prob_if_spam = log_prob_if_ham = 0.0\n",
    "\n",
    "        # Iterate through each word in our vocabulary.\n",
    "        for token in self.tokens:\n",
    "            if self.tokens_count[token] < self.min_count:\n",
    "                continue\n",
    "\n",
    "            prob_if_spam, prob_if_ham = self.probabilities(token)\n",
    "\n",
    "            # If *token* appears in the message,\n",
    "            # add the log probability of seeing it;\n",
    "            if token in text_tokens:\n",
    "                log_prob_if_spam += math.log(prob_if_spam)\n",
    "                log_prob_if_ham += math.log(prob_if_ham)\n",
    "\n",
    "            # otherwise add the log probability of _not_ seeing it\n",
    "            # which is log(1 - probability of seeing it)\n",
    "            else:\n",
    "                log_prob_if_spam += math.log(1.0 - prob_if_spam)\n",
    "                log_prob_if_ham += math.log(1.0 - prob_if_ham)\n",
    "\n",
    "        prob_if_spam = math.exp(log_prob_if_spam)\n",
    "        prob_if_ham = math.exp(log_prob_if_ham)\n",
    "\n",
    "        return prob_if_spam / (prob_if_spam + prob_if_ham)"
   ]
  },
  {
   "cell_type": "markdown",
   "metadata": {},
   "source": [
    "## Testes de modelo"
   ]
  },
  {
   "cell_type": "markdown",
   "metadata": {},
   "source": [
    "### Teste Original"
   ]
  },
  {
   "cell_type": "code",
   "execution_count": 157,
   "metadata": {},
   "outputs": [],
   "source": [
    "messages = [Message(\"spam rules\", is_spam=True),\n",
    "            Message(\"ham rules\", is_spam=False),\n",
    "            Message(\"hello ham\", is_spam=False)]\n",
    "\n",
    "model = NaiveBayesClassifier(k=0.5)\n",
    "model.train(messages)\n",
    "\n",
    "assert model.tokens == {\"spam\", \"ham\", \"rules\", \"hello\"}\n",
    "assert model.tokens_count == {\"spam\": 1, \"rules\": 2, \"ham\": 2, \"hello\": 1}\n",
    "assert model.spam_messages == 1\n",
    "assert model.ham_messages == 2\n",
    "assert model.token_spam_counts == {\"spam\": 1, \"rules\": 1}\n",
    "assert model.token_ham_counts == {\"ham\": 2, \"rules\": 1, \"hello\": 1}\n",
    "\n",
    "text = \"hello spam\"\n",
    "\n",
    "probs_if_spam = [\n",
    "    (1 + 0.5) / (1 + 2 * 0.5),      # \"spam\"  (present)\n",
    "    1 - (0 + 0.5) / (1 + 2 * 0.5),  # \"ham\"   (not present)\n",
    "    1 - (1 + 0.5) / (1 + 2 * 0.5),  # \"rules\" (not present)\n",
    "    (0 + 0.5) / (1 + 2 * 0.5)       # \"hello\" (present)\n",
    "]\n",
    "\n",
    "probs_if_ham = [\n",
    "    (0 + 0.5) / (2 + 2 * 0.5),      # \"spam\"  (present)\n",
    "    1 - (2 + 0.5) / (2 + 2 * 0.5),  # \"ham\"   (not present)\n",
    "    1 - (1 + 0.5) / (2 + 2 * 0.5),  # \"rules\" (not present)\n",
    "    (1 + 0.5) / (2 + 2 * 0.5),      # \"hello\" (present)\n",
    "]\n",
    "\n",
    "p_if_spam = math.exp(sum(math.log(p) for p in probs_if_spam))\n",
    "p_if_ham = math.exp(sum(math.log(p) for p in probs_if_ham))\n",
    "\n",
    "# Should be about 0.83\n",
    "assert math.isclose(model.predict(text), p_if_spam / (p_if_spam + p_if_ham))"
   ]
  },
  {
   "cell_type": "markdown",
   "metadata": {},
   "source": [
    "### Teste com quantidade mínima de tokens = 2"
   ]
  },
  {
   "cell_type": "code",
   "execution_count": 158,
   "metadata": {},
   "outputs": [],
   "source": [
    "messages = [Message(\"spam rules\", is_spam=True),\n",
    "            Message(\"ham rules\", is_spam=False),\n",
    "            Message(\"hello ham\", is_spam=False)]\n",
    "\n",
    "model = NaiveBayesClassifier(k=0.5, min_count = 2)\n",
    "model.train(messages)\n",
    "\n",
    "assert model.tokens == {\"spam\", \"ham\", \"rules\", \"hello\"}\n",
    "assert model.tokens_count == {\"spam\": 1, \"rules\": 2, \"ham\": 2, \"hello\": 1}\n",
    "assert model.spam_messages == 1\n",
    "assert model.ham_messages == 2\n",
    "assert model.token_spam_counts == {\"spam\": 1, \"rules\": 1}\n",
    "assert model.token_ham_counts == {\"ham\": 2, \"rules\": 1, \"hello\": 1}\n",
    "\n",
    "text = \"hello spam\"\n",
    "\n",
    "probs_if_spam = [\n",
    "    1 - (0 + 0.5) / (1 + 2 * 0.5),  # \"ham\"   (not present)\n",
    "    1 - (1 + 0.5) / (1 + 2 * 0.5),  # \"rules\" (not present)\n",
    "]\n",
    "\n",
    "probs_if_ham = [\n",
    "    1 - (2 + 0.5) / (2 + 2 * 0.5),  # \"ham\"   (not present)\n",
    "    1 - (1 + 0.5) / (2 + 2 * 0.5),  # \"rules\" (not present)\n",
    "]\n",
    "\n",
    "p_if_spam = math.exp(sum(math.log(p) for p in probs_if_spam))\n",
    "p_if_ham = math.exp(sum(math.log(p) for p in probs_if_ham))\n",
    "\n",
    "# Should be about 0.69\n",
    "assert math.isclose(model.predict(text), p_if_spam / (p_if_spam + p_if_ham))"
   ]
  },
  {
   "cell_type": "markdown",
   "metadata": {},
   "source": [
    "### Teste com verify_number = True"
   ]
  },
  {
   "cell_type": "code",
   "execution_count": 159,
   "metadata": {},
   "outputs": [],
   "source": [
    "messages = [Message(\"spam rules 10\", is_spam=True),\n",
    "            Message(\"ham rules\", is_spam=False),\n",
    "            Message(\"hello ham\", is_spam=False)]\n",
    "\n",
    "model = NaiveBayesClassifier(k=0.5, verify_number = True)\n",
    "model.train(messages)\n",
    "\n",
    "assert model.tokens == {\"spam\", \"ham\", \"rules\", \"hello\", \"10\", \"contain-numbers:True\", \"contain-numbers:False\"}\n",
    "assert model.tokens_count == {\"spam\": 1, \"rules\": 2, \"ham\": 2, \"hello\": 1, \"10\": 1, \"contain-numbers:True\": 1, \"contain-numbers:False\": 2}\n",
    "assert model.spam_messages == 1\n",
    "assert model.ham_messages == 2\n",
    "assert model.token_spam_counts == {\"spam\": 1, \"rules\": 1, \"10\": 1, \"contain-numbers:True\": 1}\n",
    "assert model.token_ham_counts == {\"ham\": 2, \"rules\": 1, \"hello\": 1, \"contain-numbers:False\": 2}\n",
    "\n",
    "text = \"hello spam\"\n",
    "\n",
    "probs_if_spam = [\n",
    "    (1 + 0.5) / (1 + 2 * 0.5),      # \"spam\"  (present)\n",
    "    1 - (0 + 0.5) / (1 + 2 * 0.5),  # \"ham\"   (not present)\n",
    "    1 - (1 + 0.5) / (1 + 2 * 0.5),  # \"rules\" (not present)\n",
    "    (0 + 0.5) / (1 + 2 * 0.5),      # \"hello\" (present)\n",
    "    1 - (1 + 0.5) / (1 + 2 * 0.5),  # \"10\" (not present)\n",
    "    1 - (1 + 0.5) / (1 + 2 * 0.5),  # \"contain-numbers:True\" (not present)\n",
    "    (0 + 0.5) / (1 + 2 * 0.5),      # \"contain-numbers:False\" (present)\n",
    "]\n",
    "\n",
    "probs_if_ham = [\n",
    "    (0 + 0.5) / (2 + 2 * 0.5),      # \"spam\"  (present)\n",
    "    1 - (2 + 0.5) / (2 + 2 * 0.5),  # \"ham\"   (not present)\n",
    "    1 - (1 + 0.5) / (2 + 2 * 0.5),  # \"rules\" (not present)\n",
    "    (1 + 0.5) / (2 + 2 * 0.5),      # \"hello\" (present)\n",
    "    1 - (0 + 0.5) / (2 + 2 * 0.5),  # \"10\"   (not present)\n",
    "    1 - (0 + 0.5) / (2 + 2 * 0.5),  # \"contain-numbers:True\"   (not present)\n",
    "    (2 + 0.5) / (2 + 2 * 0.5)       # \"contain-numbers:False\" (present)\n",
    "]\n",
    "\n",
    "p_if_spam = math.exp(sum(math.log(p) for p in probs_if_spam))\n",
    "p_if_ham = math.exp(sum(math.log(p) for p in probs_if_ham))\n",
    "\n",
    "# Should be about 0.12\n",
    "assert math.isclose(model.predict(text), p_if_spam / (p_if_spam + p_if_ham))"
   ]
  },
  {
   "cell_type": "markdown",
   "metadata": {},
   "source": [
    "### Teste com stem = True"
   ]
  },
  {
   "cell_type": "code",
   "execution_count": 160,
   "metadata": {},
   "outputs": [],
   "source": [
    "messages = [Message(\"spam working\", is_spam=True),\n",
    "            Message(\"hard job\", is_spam=False),\n",
    "            Message(\"jobs\", is_spam=False)]\n",
    "\n",
    "model = NaiveBayesClassifier(k=0.5, stem = True)\n",
    "model.train(messages)\n",
    "\n",
    "assert model.tokens == {\"spam\", \"work\", \"hard\", \"job\"}\n",
    "assert model.tokens_count == {\"spam\": 1, \"work\": 1, \"hard\": 1, \"job\": 2}\n",
    "assert model.spam_messages == 1\n",
    "assert model.ham_messages == 2\n",
    "assert model.token_spam_counts == {\"spam\": 1, \"work\": 1}\n",
    "assert model.token_ham_counts == {\"hard\": 1, \"job\": 2}\n",
    "\n",
    "text = \"job work\"\n",
    "\n",
    "probs_if_spam = [\n",
    "    1 - (1 + 0.5) / (1 + 2 * 0.5),  # \"spam\"  (not present)\n",
    "    (1 + 0.5) / (1 + 2 * 0.5),      # \"work\"   (present)\n",
    "    1 - (0 + 0.5) / (1 + 2 * 0.5),  # \"hard\" (not present)\n",
    "    (0 + 0.5) / (1 + 2 * 0.5)       # \"job\" (present)\n",
    "]\n",
    "\n",
    "probs_if_ham = [\n",
    "    1 - (0 + 0.5) / (2 + 2 * 0.5),  # \"spam\"  (not present)\n",
    "    (0 + 0.5) / (2 + 2 * 0.5),      # \"work\"   (present)\n",
    "    1 - (1 + 0.5) / (2 + 2 * 0.5),  # \"hard\" (not present)\n",
    "    (2 + 0.5) / (2 + 2 * 0.5),      # \"job\" (present)\n",
    "]\n",
    "\n",
    "p_if_spam = math.exp(sum(math.log(p) for p in probs_if_spam))\n",
    "p_if_ham = math.exp(sum(math.log(p) for p in probs_if_ham))\n",
    "\n",
    "# Should be about 0.38\n",
    "assert math.isclose(model.predict(text), p_if_spam / (p_if_spam + p_if_ham))"
   ]
  },
  {
   "cell_type": "markdown",
   "metadata": {},
   "source": [
    "## Testes massivos"
   ]
  },
  {
   "cell_type": "code",
   "execution_count": 161,
   "metadata": {},
   "outputs": [],
   "source": [
    "def execute(model):\n",
    "    import glob\n",
    "\n",
    "    data: List[Message] = []\n",
    "\n",
    "    # glob.glob returns every filename that matches the wildcarded path\n",
    "    for filename in glob.glob(path):\n",
    "        is_spam = \"ham\" not in filename\n",
    "\n",
    "        # There are some garbage characters in the emails, the errors='ignore'\n",
    "        # skips them instead of raising an exception.\n",
    "        with open(filename, errors='ignore') as email_file:\n",
    "            # s = ' '.join(email_file)\n",
    "            # data.append(Message(s, is_spam))\n",
    "            for line in email_file:\n",
    "                if line.startswith(\"Subject:\"):\n",
    "                    subject = line.lstrip(\"Subject: \")\n",
    "                    data.append(Message(subject, is_spam))\n",
    "                    break  # done with this file\n",
    "\n",
    "    random.seed(0)  # just so you get the same answers as me\n",
    "    train_messages, test_messages = split_data(data, 0.75)\n",
    "\n",
    "    # model = NaiveBayesClassifier()\n",
    "    model.train(train_messages)\n",
    "\n",
    "    predictions = [(message, model.predict(message.text))\n",
    "                   for message in test_messages]\n",
    "\n",
    "    # Assume that spam_probability > 0.5 corresponds to spam prediction\n",
    "    # and count the combinations of (actual is_spam, predicted is_spam)\n",
    "    confusion_matrix = Counter((message.is_spam, spam_probability > 0.5)\n",
    "                               for message, spam_probability in predictions)\n",
    "\n",
    "\n",
    "    def p_spam_given_token(token: str, model: NaiveBayesClassifier) -> float:\n",
    "        prob_if_spam, prob_if_ham = model.probabilities(token)\n",
    "\n",
    "        return prob_if_spam / (prob_if_spam + prob_if_ham)\n",
    "\n",
    "    words = sorted(model.tokens, key=lambda t: p_spam_given_token(t, model))\n",
    "\n",
    "    print(\"spammiest_words\", words[-10:])\n",
    "    print(\"hammiest_words\", words[:10])\n",
    "    \n",
    "    return confusion_matrix"
   ]
  },
  {
   "cell_type": "markdown",
   "metadata": {},
   "source": [
    "### Teste sem nenhum parâmetro (solução original)"
   ]
  },
  {
   "cell_type": "code",
   "execution_count": 162,
   "metadata": {},
   "outputs": [
    {
     "name": "stdout",
     "output_type": "stream",
     "text": [
      "spammiest_words ['per', 'guaranteed', 'account', 'sale', 'attn', 'zzzz', 'systemworks', 'money', 'rates', 'adv']\n",
      "hammiest_words ['spambayes', '2', 'users', 'razor', 'zzzzteana', 'sadev', 'ouch', 'apt', 'bliss', 'wedded']\n"
     ]
    }
   ],
   "source": [
    "original_result = execute(NaiveBayesClassifier())"
   ]
  },
  {
   "cell_type": "code",
   "execution_count": 163,
   "metadata": {},
   "outputs": [
    {
     "data": {
      "text/plain": [
       "Counter({(False, False): 668,\n",
       "         (True, True): 85,\n",
       "         (True, False): 54,\n",
       "         (False, True): 18})"
      ]
     },
     "execution_count": 163,
     "metadata": {},
     "output_type": "execute_result"
    }
   ],
   "source": [
    "original_result"
   ]
  },
  {
   "cell_type": "markdown",
   "metadata": {},
   "source": [
    "### Testes com parâmetro min_count"
   ]
  },
  {
   "cell_type": "markdown",
   "metadata": {},
   "source": [
    "#### Teste com parâmetro min_count = 2"
   ]
  },
  {
   "cell_type": "code",
   "execution_count": 164,
   "metadata": {},
   "outputs": [
    {
     "name": "stdout",
     "output_type": "stream",
     "text": [
      "spammiest_words ['per', 'guaranteed', 'account', 'sale', 'attn', 'zzzz', 'systemworks', 'money', 'rates', 'adv']\n",
      "hammiest_words ['spambayes', '2', 'users', 'razor', 'zzzzteana', 'sadev', 'ouch', 'apt', 'bliss', 'wedded']\n"
     ]
    }
   ],
   "source": [
    "min_count_2_result = execute(NaiveBayesClassifier(min_count = 2))"
   ]
  },
  {
   "cell_type": "code",
   "execution_count": 165,
   "metadata": {},
   "outputs": [
    {
     "data": {
      "text/plain": [
       "Counter({(False, False): 631,\n",
       "         (True, True): 106,\n",
       "         (True, False): 33,\n",
       "         (False, True): 55})"
      ]
     },
     "execution_count": 165,
     "metadata": {},
     "output_type": "execute_result"
    }
   ],
   "source": [
    "min_count_2_result"
   ]
  },
  {
   "cell_type": "markdown",
   "metadata": {},
   "source": [
    "#### Teste com parâmetro min_count = 3"
   ]
  },
  {
   "cell_type": "code",
   "execution_count": 166,
   "metadata": {},
   "outputs": [
    {
     "name": "stdout",
     "output_type": "stream",
     "text": [
      "spammiest_words ['per', 'guaranteed', 'account', 'sale', 'attn', 'zzzz', 'systemworks', 'money', 'rates', 'adv']\n",
      "hammiest_words ['spambayes', '2', 'users', 'razor', 'zzzzteana', 'sadev', 'ouch', 'apt', 'bliss', 'wedded']\n"
     ]
    }
   ],
   "source": [
    "min_count_3_result = execute(NaiveBayesClassifier(min_count = 3))"
   ]
  },
  {
   "cell_type": "code",
   "execution_count": 167,
   "metadata": {},
   "outputs": [
    {
     "data": {
      "text/plain": [
       "Counter({(False, False): 614,\n",
       "         (True, True): 111,\n",
       "         (True, False): 28,\n",
       "         (False, True): 72})"
      ]
     },
     "execution_count": 167,
     "metadata": {},
     "output_type": "execute_result"
    }
   ],
   "source": [
    "min_count_3_result"
   ]
  },
  {
   "cell_type": "markdown",
   "metadata": {},
   "source": [
    "#### Teste com parâmetro min_count = 4"
   ]
  },
  {
   "cell_type": "code",
   "execution_count": 168,
   "metadata": {},
   "outputs": [
    {
     "name": "stdout",
     "output_type": "stream",
     "text": [
      "spammiest_words ['per', 'guaranteed', 'account', 'sale', 'attn', 'zzzz', 'systemworks', 'money', 'rates', 'adv']\n",
      "hammiest_words ['spambayes', '2', 'users', 'razor', 'zzzzteana', 'sadev', 'ouch', 'apt', 'bliss', 'wedded']\n"
     ]
    }
   ],
   "source": [
    "min_count_4_result = execute(NaiveBayesClassifier(min_count = 4))"
   ]
  },
  {
   "cell_type": "code",
   "execution_count": 169,
   "metadata": {},
   "outputs": [
    {
     "data": {
      "text/plain": [
       "Counter({(False, False): 604,\n",
       "         (False, True): 82,\n",
       "         (True, True): 107,\n",
       "         (True, False): 32})"
      ]
     },
     "execution_count": 169,
     "metadata": {},
     "output_type": "execute_result"
    }
   ],
   "source": [
    "min_count_4_result"
   ]
  },
  {
   "cell_type": "markdown",
   "metadata": {},
   "source": [
    "#### Teste com parâmetro min_count = 5"
   ]
  },
  {
   "cell_type": "code",
   "execution_count": 170,
   "metadata": {},
   "outputs": [
    {
     "name": "stdout",
     "output_type": "stream",
     "text": [
      "spammiest_words ['per', 'guaranteed', 'account', 'sale', 'attn', 'zzzz', 'systemworks', 'money', 'rates', 'adv']\n",
      "hammiest_words ['spambayes', '2', 'users', 'razor', 'zzzzteana', 'sadev', 'ouch', 'apt', 'bliss', 'wedded']\n"
     ]
    }
   ],
   "source": [
    "min_count_5_result = execute(NaiveBayesClassifier(min_count = 5))"
   ]
  },
  {
   "cell_type": "code",
   "execution_count": 171,
   "metadata": {},
   "outputs": [
    {
     "data": {
      "text/plain": [
       "Counter({(False, False): 587,\n",
       "         (False, True): 99,\n",
       "         (True, True): 101,\n",
       "         (True, False): 38})"
      ]
     },
     "execution_count": 171,
     "metadata": {},
     "output_type": "execute_result"
    }
   ],
   "source": [
    "min_count_5_result"
   ]
  },
  {
   "cell_type": "markdown",
   "metadata": {},
   "source": [
    "#### Conclusão sobre o parâmetro min_count"
   ]
  },
  {
   "cell_type": "code",
   "execution_count": 172,
   "metadata": {},
   "outputs": [
    {
     "data": {
      "text/html": [
       "<div>\n",
       "<style scoped>\n",
       "    .dataframe tbody tr th:only-of-type {\n",
       "        vertical-align: middle;\n",
       "    }\n",
       "\n",
       "    .dataframe tbody tr th {\n",
       "        vertical-align: top;\n",
       "    }\n",
       "\n",
       "    .dataframe thead th {\n",
       "        text-align: right;\n",
       "    }\n",
       "</style>\n",
       "<table border=\"1\" class=\"dataframe\">\n",
       "  <thead>\n",
       "    <tr style=\"text-align: right;\">\n",
       "      <th></th>\n",
       "      <th>(False, False)</th>\n",
       "      <th>(True, True)</th>\n",
       "      <th>(True, False)</th>\n",
       "      <th>(False, True)</th>\n",
       "      <th>Total Success</th>\n",
       "      <th>Total Fail</th>\n",
       "    </tr>\n",
       "  </thead>\n",
       "  <tbody>\n",
       "    <tr>\n",
       "      <th>original (min_count = 1)</th>\n",
       "      <td>668</td>\n",
       "      <td>85</td>\n",
       "      <td>54</td>\n",
       "      <td>18</td>\n",
       "      <td>753</td>\n",
       "      <td>72</td>\n",
       "    </tr>\n",
       "    <tr>\n",
       "      <th>min_count = 2</th>\n",
       "      <td>631</td>\n",
       "      <td>106</td>\n",
       "      <td>33</td>\n",
       "      <td>55</td>\n",
       "      <td>737</td>\n",
       "      <td>88</td>\n",
       "    </tr>\n",
       "    <tr>\n",
       "      <th>min_count = 3</th>\n",
       "      <td>614</td>\n",
       "      <td>111</td>\n",
       "      <td>28</td>\n",
       "      <td>72</td>\n",
       "      <td>725</td>\n",
       "      <td>100</td>\n",
       "    </tr>\n",
       "    <tr>\n",
       "      <th>min_count = 4</th>\n",
       "      <td>604</td>\n",
       "      <td>107</td>\n",
       "      <td>32</td>\n",
       "      <td>82</td>\n",
       "      <td>711</td>\n",
       "      <td>114</td>\n",
       "    </tr>\n",
       "    <tr>\n",
       "      <th>min_count = 5</th>\n",
       "      <td>587</td>\n",
       "      <td>101</td>\n",
       "      <td>38</td>\n",
       "      <td>99</td>\n",
       "      <td>688</td>\n",
       "      <td>137</td>\n",
       "    </tr>\n",
       "  </tbody>\n",
       "</table>\n",
       "</div>"
      ],
      "text/plain": [
       "                          (False, False)  (True, True)  (True, False)  \\\n",
       "original (min_count = 1)             668            85             54   \n",
       "min_count = 2                        631           106             33   \n",
       "min_count = 3                        614           111             28   \n",
       "min_count = 4                        604           107             32   \n",
       "min_count = 5                        587           101             38   \n",
       "\n",
       "                          (False, True)  Total Success  Total Fail  \n",
       "original (min_count = 1)             18            753          72  \n",
       "min_count = 2                        55            737          88  \n",
       "min_count = 3                        72            725         100  \n",
       "min_count = 4                        82            711         114  \n",
       "min_count = 5                        99            688         137  "
      ]
     },
     "execution_count": 172,
     "metadata": {},
     "output_type": "execute_result"
    }
   ],
   "source": [
    "import pandas as pd\n",
    "\n",
    "df_min_count_test = pd.DataFrame([dict(original_result),\n",
    "                      dict(min_count_2_result),\n",
    "                      dict(min_count_3_result),\n",
    "                      dict(min_count_4_result),\n",
    "                      dict(min_count_5_result)],\n",
    "                      index = ['original (min_count = 1)', \n",
    "                               'min_count = 2', \n",
    "                               'min_count = 3', \n",
    "                               'min_count = 4', \n",
    "                               'min_count = 5'])\n",
    "\n",
    "min_count_test_success = df_min_count_test[(False, False)] + df_min_count_test[(True, True)]\n",
    "min_count_test_fail = df_min_count_test[(False, True)] + df_min_count_test[(True, False)]\n",
    "\n",
    "df_min_count_test['Total Success']= min_count_test_success\n",
    "df_min_count_test['Total Fail']= min_count_test_fail\n",
    "df_min_count_test"
   ]
  },
  {
   "cell_type": "markdown",
   "metadata": {},
   "source": [
    "Ao aumentar o parâmetro min_count notamos uma diminuição crescente de efetividade, o que mostra um **resultado negativo para a classificação de spams**."
   ]
  },
  {
   "cell_type": "markdown",
   "metadata": {},
   "source": [
    "### Teste com stem = True"
   ]
  },
  {
   "cell_type": "code",
   "execution_count": 173,
   "metadata": {},
   "outputs": [
    {
     "name": "stdout",
     "output_type": "stream",
     "text": [
      "spammiest_words ['rep', 'clearanc', 'per', 'assist', 'account', 'attn', 'zzzz', 'systemwork', 'money', 'adv']\n",
      "hammiest_words ['spambay', '2', 'razor', 'zzzzteana', 'sadev', 'ouch', 'sell', 'apt', 'wed', 'bliss']\n"
     ]
    }
   ],
   "source": [
    "stem_result = execute(NaiveBayesClassifier(stem = True))"
   ]
  },
  {
   "cell_type": "code",
   "execution_count": 174,
   "metadata": {},
   "outputs": [
    {
     "data": {
      "text/plain": [
       "Counter({(False, False): 656,\n",
       "         (True, True): 91,\n",
       "         (True, False): 48,\n",
       "         (False, True): 30})"
      ]
     },
     "execution_count": 174,
     "metadata": {},
     "output_type": "execute_result"
    }
   ],
   "source": [
    "stem_result"
   ]
  },
  {
   "cell_type": "code",
   "execution_count": 175,
   "metadata": {},
   "outputs": [
    {
     "data": {
      "text/html": [
       "<div>\n",
       "<style scoped>\n",
       "    .dataframe tbody tr th:only-of-type {\n",
       "        vertical-align: middle;\n",
       "    }\n",
       "\n",
       "    .dataframe tbody tr th {\n",
       "        vertical-align: top;\n",
       "    }\n",
       "\n",
       "    .dataframe thead th {\n",
       "        text-align: right;\n",
       "    }\n",
       "</style>\n",
       "<table border=\"1\" class=\"dataframe\">\n",
       "  <thead>\n",
       "    <tr style=\"text-align: right;\">\n",
       "      <th></th>\n",
       "      <th>(False, False)</th>\n",
       "      <th>(True, True)</th>\n",
       "      <th>(True, False)</th>\n",
       "      <th>(False, True)</th>\n",
       "      <th>Total Success</th>\n",
       "      <th>Total Fail</th>\n",
       "    </tr>\n",
       "  </thead>\n",
       "  <tbody>\n",
       "    <tr>\n",
       "      <th>original (sem stem)</th>\n",
       "      <td>668</td>\n",
       "      <td>85</td>\n",
       "      <td>54</td>\n",
       "      <td>18</td>\n",
       "      <td>753</td>\n",
       "      <td>72</td>\n",
       "    </tr>\n",
       "    <tr>\n",
       "      <th>com stem</th>\n",
       "      <td>656</td>\n",
       "      <td>91</td>\n",
       "      <td>48</td>\n",
       "      <td>30</td>\n",
       "      <td>747</td>\n",
       "      <td>78</td>\n",
       "    </tr>\n",
       "  </tbody>\n",
       "</table>\n",
       "</div>"
      ],
      "text/plain": [
       "                     (False, False)  (True, True)  (True, False)  \\\n",
       "original (sem stem)             668            85             54   \n",
       "com stem                        656            91             48   \n",
       "\n",
       "                     (False, True)  Total Success  Total Fail  \n",
       "original (sem stem)             18            753          72  \n",
       "com stem                        30            747          78  "
      ]
     },
     "execution_count": 175,
     "metadata": {},
     "output_type": "execute_result"
    }
   ],
   "source": [
    "import pandas as pd\n",
    "\n",
    "df_stem_test = pd.DataFrame([dict(original_result),\n",
    "                             dict(stem_result)],\n",
    "                      index = ['original (sem stem)', \n",
    "                               'com stem'])\n",
    "\n",
    "stem_test_success = df_stem_test[(False, False)] + df_stem_test[(True, True)]\n",
    "stem_test_fail = df_stem_test[(False, True)] + df_stem_test[(True, False)]\n",
    "\n",
    "df_stem_test['Total Success']= stem_test_success\n",
    "df_stem_test['Total Fail']= stem_test_fail\n",
    "df_stem_test"
   ]
  },
  {
   "cell_type": "markdown",
   "metadata": {},
   "source": [
    "#### Conclusão sobre o teste com stem"
   ]
  },
  {
   "cell_type": "markdown",
   "metadata": {},
   "source": [
    "Há uma ligeira melhora na identificação de spams, porém há também um aumento no número de e-mails não spams identificados como spam, o que não é nada interessante.\n",
    "\n",
    "No geral o número de sucessos caiu se compararmos com a implementação original."
   ]
  },
  {
   "cell_type": "markdown",
   "metadata": {},
   "source": [
    "### Teste com verify_number = True"
   ]
  },
  {
   "cell_type": "code",
   "execution_count": 176,
   "metadata": {},
   "outputs": [
    {
     "name": "stdout",
     "output_type": "stream",
     "text": [
      "spammiest_words ['per', 'guaranteed', 'account', 'sale', 'attn', 'zzzz', 'systemworks', 'money', 'rates', 'adv']\n",
      "hammiest_words ['spambayes', '2', 'users', 'razor', 'zzzzteana', 'sadev', 'ouch', 'apt', 'bliss', 'wedded']\n"
     ]
    }
   ],
   "source": [
    "verify_number_result = execute(NaiveBayesClassifier(verify_number = True))"
   ]
  },
  {
   "cell_type": "code",
   "execution_count": 177,
   "metadata": {},
   "outputs": [
    {
     "data": {
      "text/plain": [
       "Counter({(False, False): 666,\n",
       "         (True, True): 87,\n",
       "         (True, False): 52,\n",
       "         (False, True): 20})"
      ]
     },
     "execution_count": 177,
     "metadata": {},
     "output_type": "execute_result"
    }
   ],
   "source": [
    "verify_number_result"
   ]
  },
  {
   "cell_type": "code",
   "execution_count": 178,
   "metadata": {},
   "outputs": [
    {
     "data": {
      "text/html": [
       "<div>\n",
       "<style scoped>\n",
       "    .dataframe tbody tr th:only-of-type {\n",
       "        vertical-align: middle;\n",
       "    }\n",
       "\n",
       "    .dataframe tbody tr th {\n",
       "        vertical-align: top;\n",
       "    }\n",
       "\n",
       "    .dataframe thead th {\n",
       "        text-align: right;\n",
       "    }\n",
       "</style>\n",
       "<table border=\"1\" class=\"dataframe\">\n",
       "  <thead>\n",
       "    <tr style=\"text-align: right;\">\n",
       "      <th></th>\n",
       "      <th>(False, False)</th>\n",
       "      <th>(True, True)</th>\n",
       "      <th>(True, False)</th>\n",
       "      <th>(False, True)</th>\n",
       "      <th>Total Success</th>\n",
       "      <th>Total Fail</th>\n",
       "    </tr>\n",
       "  </thead>\n",
       "  <tbody>\n",
       "    <tr>\n",
       "      <th>original (sem verify-number)</th>\n",
       "      <td>668</td>\n",
       "      <td>85</td>\n",
       "      <td>54</td>\n",
       "      <td>18</td>\n",
       "      <td>753</td>\n",
       "      <td>72</td>\n",
       "    </tr>\n",
       "    <tr>\n",
       "      <th>com verify_number</th>\n",
       "      <td>666</td>\n",
       "      <td>87</td>\n",
       "      <td>52</td>\n",
       "      <td>20</td>\n",
       "      <td>753</td>\n",
       "      <td>72</td>\n",
       "    </tr>\n",
       "  </tbody>\n",
       "</table>\n",
       "</div>"
      ],
      "text/plain": [
       "                              (False, False)  (True, True)  (True, False)  \\\n",
       "original (sem verify-number)             668            85             54   \n",
       "com verify_number                        666            87             52   \n",
       "\n",
       "                              (False, True)  Total Success  Total Fail  \n",
       "original (sem verify-number)             18            753          72  \n",
       "com verify_number                        20            753          72  "
      ]
     },
     "execution_count": 178,
     "metadata": {},
     "output_type": "execute_result"
    }
   ],
   "source": [
    "import pandas as pd\n",
    "\n",
    "df_verify_number_test = pd.DataFrame([dict(original_result),\n",
    "                                      dict(verify_number_result)],\n",
    "                                      index = ['original (sem verify-number)', \n",
    "                                      'com verify_number'])\n",
    "\n",
    "verify_number_test_success = df_verify_number_test[(False, False)] + df_verify_number_test[(True, True)]\n",
    "verify_number_test_fail = df_verify_number_test[(False, True)] + df_verify_number_test[(True, False)]\n",
    "\n",
    "df_verify_number_test['Total Success']= verify_number_test_success\n",
    "df_verify_number_test['Total Fail']= verify_number_test_fail\n",
    "df_verify_number_test"
   ]
  },
  {
   "cell_type": "markdown",
   "metadata": {},
   "source": [
    "#### Conclusão sobre o teste com verify_number"
   ]
  },
  {
   "cell_type": "markdown",
   "metadata": {},
   "source": [
    "O número de falhas aumentou porém também vemos um aumento na identificação de spam.\n",
    "Assim como o teste com *stem* vimos que o número de mensagens classificados erroneamente como spam cresceu."
   ]
  },
  {
   "cell_type": "markdown",
   "metadata": {},
   "source": [
    "### Teste com stem = True, verify_number = True e min_count = 1"
   ]
  },
  {
   "cell_type": "code",
   "execution_count": 179,
   "metadata": {},
   "outputs": [
    {
     "name": "stdout",
     "output_type": "stream",
     "text": [
      "spammiest_words ['rep', 'clearanc', 'per', 'assist', 'account', 'attn', 'zzzz', 'systemwork', 'money', 'adv']\n",
      "hammiest_words ['spambay', '2', 'razor', 'zzzzteana', 'sadev', 'ouch', 'sell', 'apt', 'wed', 'bliss']\n"
     ]
    }
   ],
   "source": [
    "stem_and_verify_number_result = execute(NaiveBayesClassifier(stem = True, verify_number = True))"
   ]
  },
  {
   "cell_type": "code",
   "execution_count": 180,
   "metadata": {},
   "outputs": [
    {
     "data": {
      "text/plain": [
       "Counter({(False, False): 656,\n",
       "         (True, True): 92,\n",
       "         (True, False): 47,\n",
       "         (False, True): 30})"
      ]
     },
     "execution_count": 180,
     "metadata": {},
     "output_type": "execute_result"
    }
   ],
   "source": [
    "stem_and_verify_number_result"
   ]
  },
  {
   "cell_type": "code",
   "execution_count": 181,
   "metadata": {},
   "outputs": [
    {
     "data": {
      "text/html": [
       "<div>\n",
       "<style scoped>\n",
       "    .dataframe tbody tr th:only-of-type {\n",
       "        vertical-align: middle;\n",
       "    }\n",
       "\n",
       "    .dataframe tbody tr th {\n",
       "        vertical-align: top;\n",
       "    }\n",
       "\n",
       "    .dataframe thead th {\n",
       "        text-align: right;\n",
       "    }\n",
       "</style>\n",
       "<table border=\"1\" class=\"dataframe\">\n",
       "  <thead>\n",
       "    <tr style=\"text-align: right;\">\n",
       "      <th></th>\n",
       "      <th>(False, False)</th>\n",
       "      <th>(True, True)</th>\n",
       "      <th>(True, False)</th>\n",
       "      <th>(False, True)</th>\n",
       "      <th>Total Success</th>\n",
       "      <th>Total Fail</th>\n",
       "    </tr>\n",
       "  </thead>\n",
       "  <tbody>\n",
       "    <tr>\n",
       "      <th>original</th>\n",
       "      <td>668</td>\n",
       "      <td>85</td>\n",
       "      <td>54</td>\n",
       "      <td>18</td>\n",
       "      <td>753</td>\n",
       "      <td>72</td>\n",
       "    </tr>\n",
       "    <tr>\n",
       "      <th>com stem e verify_number</th>\n",
       "      <td>656</td>\n",
       "      <td>92</td>\n",
       "      <td>47</td>\n",
       "      <td>30</td>\n",
       "      <td>748</td>\n",
       "      <td>77</td>\n",
       "    </tr>\n",
       "  </tbody>\n",
       "</table>\n",
       "</div>"
      ],
      "text/plain": [
       "                          (False, False)  (True, True)  (True, False)  \\\n",
       "original                             668            85             54   \n",
       "com stem e verify_number             656            92             47   \n",
       "\n",
       "                          (False, True)  Total Success  Total Fail  \n",
       "original                             18            753          72  \n",
       "com stem e verify_number             30            748          77  "
      ]
     },
     "execution_count": 181,
     "metadata": {},
     "output_type": "execute_result"
    }
   ],
   "source": [
    "import pandas as pd\n",
    "\n",
    "df_stem_and_verify_number_test = pd.DataFrame([dict(original_result),\n",
    "                                      dict(stem_and_verify_number_result)],\n",
    "                                      index = ['original', \n",
    "                                      'com stem e verify_number'])\n",
    "\n",
    "stem_and_verify_number_test_success = df_stem_and_verify_number_test[(False, False)] + \\\n",
    "                                      df_stem_and_verify_number_test[(True, True)]\n",
    "stem_and_verify_number_test_fail = df_stem_and_verify_number_test[(False, True)] + \\\n",
    "                                   df_stem_and_verify_number_test[(True, False)]\n",
    "\n",
    "df_stem_and_verify_number_test['Total Success']= stem_and_verify_number_test_success\n",
    "df_stem_and_verify_number_test['Total Fail']= stem_and_verify_number_test_fail\n",
    "df_stem_and_verify_number_test"
   ]
  },
  {
   "cell_type": "markdown",
   "metadata": {},
   "source": [
    "#### Conclusão sobre o teste com stem e verify_number"
   ]
  },
  {
   "cell_type": "markdown",
   "metadata": {},
   "source": [
    "Assim como nos testes anteriores vimos o aumento no número de falhas, assim como também um aumento na identificação de spam.\n"
   ]
  },
  {
   "cell_type": "markdown",
   "metadata": {},
   "source": [
    "## Conclusão final"
   ]
  },
  {
   "cell_type": "code",
   "execution_count": 182,
   "metadata": {},
   "outputs": [
    {
     "data": {
      "text/html": [
       "<div>\n",
       "<style scoped>\n",
       "    .dataframe tbody tr th:only-of-type {\n",
       "        vertical-align: middle;\n",
       "    }\n",
       "\n",
       "    .dataframe tbody tr th {\n",
       "        vertical-align: top;\n",
       "    }\n",
       "\n",
       "    .dataframe thead th {\n",
       "        text-align: right;\n",
       "    }\n",
       "</style>\n",
       "<table border=\"1\" class=\"dataframe\">\n",
       "  <thead>\n",
       "    <tr style=\"text-align: right;\">\n",
       "      <th></th>\n",
       "      <th>(False, False)</th>\n",
       "      <th>(True, True)</th>\n",
       "      <th>(True, False)</th>\n",
       "      <th>(False, True)</th>\n",
       "      <th>Total Success</th>\n",
       "      <th>Total Fail</th>\n",
       "    </tr>\n",
       "  </thead>\n",
       "  <tbody>\n",
       "    <tr>\n",
       "      <th>original (min_count = 1)</th>\n",
       "      <td>668</td>\n",
       "      <td>85</td>\n",
       "      <td>54</td>\n",
       "      <td>18</td>\n",
       "      <td>753</td>\n",
       "      <td>72</td>\n",
       "    </tr>\n",
       "    <tr>\n",
       "      <th>min_count = 2</th>\n",
       "      <td>631</td>\n",
       "      <td>106</td>\n",
       "      <td>33</td>\n",
       "      <td>55</td>\n",
       "      <td>737</td>\n",
       "      <td>88</td>\n",
       "    </tr>\n",
       "    <tr>\n",
       "      <th>min_count = 3</th>\n",
       "      <td>614</td>\n",
       "      <td>111</td>\n",
       "      <td>28</td>\n",
       "      <td>72</td>\n",
       "      <td>725</td>\n",
       "      <td>100</td>\n",
       "    </tr>\n",
       "    <tr>\n",
       "      <th>min_count = 4</th>\n",
       "      <td>604</td>\n",
       "      <td>107</td>\n",
       "      <td>32</td>\n",
       "      <td>82</td>\n",
       "      <td>711</td>\n",
       "      <td>114</td>\n",
       "    </tr>\n",
       "    <tr>\n",
       "      <th>min_count = 5</th>\n",
       "      <td>587</td>\n",
       "      <td>101</td>\n",
       "      <td>38</td>\n",
       "      <td>99</td>\n",
       "      <td>688</td>\n",
       "      <td>137</td>\n",
       "    </tr>\n",
       "    <tr>\n",
       "      <th>com stem</th>\n",
       "      <td>656</td>\n",
       "      <td>91</td>\n",
       "      <td>48</td>\n",
       "      <td>30</td>\n",
       "      <td>747</td>\n",
       "      <td>78</td>\n",
       "    </tr>\n",
       "    <tr>\n",
       "      <th>com verify_number</th>\n",
       "      <td>666</td>\n",
       "      <td>87</td>\n",
       "      <td>52</td>\n",
       "      <td>20</td>\n",
       "      <td>753</td>\n",
       "      <td>72</td>\n",
       "    </tr>\n",
       "    <tr>\n",
       "      <th>com stem e verify_number</th>\n",
       "      <td>656</td>\n",
       "      <td>92</td>\n",
       "      <td>47</td>\n",
       "      <td>30</td>\n",
       "      <td>748</td>\n",
       "      <td>77</td>\n",
       "    </tr>\n",
       "  </tbody>\n",
       "</table>\n",
       "</div>"
      ],
      "text/plain": [
       "                          (False, False)  (True, True)  (True, False)  \\\n",
       "original (min_count = 1)             668            85             54   \n",
       "min_count = 2                        631           106             33   \n",
       "min_count = 3                        614           111             28   \n",
       "min_count = 4                        604           107             32   \n",
       "min_count = 5                        587           101             38   \n",
       "com stem                             656            91             48   \n",
       "com verify_number                    666            87             52   \n",
       "com stem e verify_number             656            92             47   \n",
       "\n",
       "                          (False, True)  Total Success  Total Fail  \n",
       "original (min_count = 1)             18            753          72  \n",
       "min_count = 2                        55            737          88  \n",
       "min_count = 3                        72            725         100  \n",
       "min_count = 4                        82            711         114  \n",
       "min_count = 5                        99            688         137  \n",
       "com stem                             30            747          78  \n",
       "com verify_number                    20            753          72  \n",
       "com stem e verify_number             30            748          77  "
      ]
     },
     "execution_count": 182,
     "metadata": {},
     "output_type": "execute_result"
    }
   ],
   "source": [
    "import pandas as pd\n",
    "\n",
    "df_resultado_final = pd.DataFrame([dict(original_result),\n",
    "                      dict(min_count_2_result),\n",
    "                      dict(min_count_3_result),\n",
    "                      dict(min_count_4_result),\n",
    "                      dict(min_count_5_result),\n",
    "                      dict(stem_result),\n",
    "                      dict(verify_number_result),\n",
    "                      dict(stem_and_verify_number_result)],\n",
    "                      index = ['original (min_count = 1)', \n",
    "                               'min_count = 2', \n",
    "                               'min_count = 3', \n",
    "                               'min_count = 4', \n",
    "                               'min_count = 5',\n",
    "                               'com stem',\n",
    "                               'com verify_number',\n",
    "                               'com stem e verify_number'\n",
    "                              ])\n",
    "\n",
    "\n",
    "final_success = df_resultado_final[(False, False)] + df_resultado_final[(True, True)]\n",
    "final_fail = df_resultado_final[(False, True)] + df_resultado_final[(True, False)]\n",
    "\n",
    "df_resultado_final['Total Success']= final_success\n",
    "df_resultado_final['Total Fail']= final_fail\n",
    "df_resultado_final"
   ]
  },
  {
   "cell_type": "markdown",
   "metadata": {},
   "source": [
    "- Como resultado final identificamos que nenhum dos parâmetros criados se mostrou, no geral, mais eficaz que a implementação original.\n",
    "\n",
    "- Também percebemos que, ao olhar exclusivamente para a identificação de spam sem analisar as falhas, a execução com os parâmetros se mostrou mais eficaz em todos os cenários."
   ]
  },
  {
   "cell_type": "markdown",
   "metadata": {},
   "source": [
    "## Referências\n",
    "\n",
    "McKinney, Wes - Python para Análise de Dados: Tratamento de Dados com Pandas, Numpy e IPython, Editora Novatec, 1a Edição, 2019;"
   ]
  },
  {
   "cell_type": "code",
   "execution_count": null,
   "metadata": {},
   "outputs": [],
   "source": []
  }
 ],
 "metadata": {
  "kernelspec": {
   "display_name": "Python 3",
   "language": "python",
   "name": "python3"
  },
  "language_info": {
   "codemirror_mode": {
    "name": "ipython",
    "version": 3
   },
   "file_extension": ".py",
   "mimetype": "text/x-python",
   "name": "python",
   "nbconvert_exporter": "python",
   "pygments_lexer": "ipython3",
   "version": "3.7.6"
  }
 },
 "nbformat": 4,
 "nbformat_minor": 4
}
