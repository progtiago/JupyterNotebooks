{
 "cells": [
  {
   "cell_type": "markdown",
   "metadata": {},
   "source": [
    "# Movie Reviews - Scikit Learn"
   ]
  },
  {
   "cell_type": "markdown",
   "metadata": {},
   "source": [
    "*Esse notebook foi gerado a partir de exercícios da disciplina de Linguagem de Programação Aplicada do curso de Pós Graduação em Inteligência Artifical Aplicada da UFPR.*"
   ]
  },
  {
   "cell_type": "markdown",
   "metadata": {},
   "source": [
    "Discente: Tiago José da Silva\n",
    "\n",
    "Professor: Dr. Alexander Kutzke "
   ]
  },
  {
   "cell_type": "markdown",
   "metadata": {},
   "source": [
    "---"
   ]
  },
  {
   "cell_type": "markdown",
   "metadata": {},
   "source": [
    "O exercício proposto consiste em criar uma pipeline de classificação de reviews de filmes como positivos e negativos.\n",
    "\n",
    "Serão testados dois classificadores: MultinomialNB e BernoulliNB. Os parâmetros de ambos serão selecionados a partir da utilização do GridSearchCV.\n",
    "\n",
    "Avaliaremos ambos os resultados na conclusão.\n",
    "\n",
    "Os dados utilizados nesse exercício estão presentes em: https://github.com/progtiago/JupyterNotebooks/blob/master/UFPR-IAA/aplied-programing-language/files/movie_reviews.zip."
   ]
  },
  {
   "cell_type": "markdown",
   "metadata": {},
   "source": [
    "---"
   ]
  },
  {
   "cell_type": "markdown",
   "metadata": {},
   "source": [
    "## 1. Separando os reviews entre treino e teste"
   ]
  },
  {
   "cell_type": "markdown",
   "metadata": {},
   "source": [
    "Primeiramente, carrego os dados:"
   ]
  },
  {
   "cell_type": "code",
   "execution_count": 28,
   "metadata": {},
   "outputs": [],
   "source": [
    "movie_reviews_data_folder = r\"./files/movie_reviews/data\""
   ]
  },
  {
   "cell_type": "code",
   "execution_count": 29,
   "metadata": {},
   "outputs": [
    {
     "name": "stdout",
     "output_type": "stream",
     "text": [
      "n_samples: 2000\n"
     ]
    }
   ],
   "source": [
    "from sklearn.datasets import load_files\n",
    "\n",
    "dataset = load_files(movie_reviews_data_folder, shuffle=False)\n",
    "print(\"n_samples: %d\" % len(dataset.data))"
   ]
  },
  {
   "cell_type": "markdown",
   "metadata": {},
   "source": [
    "Separo 75% dos dados para treino e 25% para teste."
   ]
  },
  {
   "cell_type": "code",
   "execution_count": 30,
   "metadata": {},
   "outputs": [],
   "source": [
    "from sklearn.model_selection import train_test_split\n",
    "\n",
    "docs_train, docs_test, y_train, y_test = train_test_split(\n",
    "    dataset.data, dataset.target, test_size=0.25, random_state=1)\n"
   ]
  },
  {
   "cell_type": "markdown",
   "metadata": {},
   "source": [
    "---"
   ]
  },
  {
   "cell_type": "markdown",
   "metadata": {},
   "source": [
    "## 2. Testando os classificadores"
   ]
  },
  {
   "cell_type": "markdown",
   "metadata": {},
   "source": [
    "Imports necessários:"
   ]
  },
  {
   "cell_type": "code",
   "execution_count": 4,
   "metadata": {},
   "outputs": [],
   "source": [
    "from sklearn.feature_extraction.text import CountVectorizer\n",
    "from sklearn.feature_extraction.text import TfidfTransformer\n",
    "from sklearn.model_selection import GridSearchCV\n",
    "from sklearn.naive_bayes import MultinomialNB\n",
    "from sklearn.naive_bayes import BernoulliNB\n",
    "from sklearn.pipeline import Pipeline\n",
    "import matplotlib.pyplot as plt\n",
    "from sklearn import metrics\n",
    "import numpy as np "
   ]
  },
  {
   "cell_type": "raw",
   "metadata": {},
   "source": [
    "Crio dois classificadores, o primeiro utilizando MultinomialNB e o segundo utilizando BernoulliNB."
   ]
  },
  {
   "cell_type": "code",
   "execution_count": 5,
   "metadata": {},
   "outputs": [],
   "source": [
    "multinomial_clf = Pipeline([('vect', CountVectorizer()),\n",
    "                            ('tfidf', TfidfTransformer()),\n",
    "                            ('clf', MultinomialNB())])"
   ]
  },
  {
   "cell_type": "code",
   "execution_count": 6,
   "metadata": {},
   "outputs": [],
   "source": [
    "bernoulli_clf = Pipeline([('vect', CountVectorizer()),\n",
    "                          ('tfidf', TfidfTransformer()),\n",
    "                          ('clf', BernoulliNB())])"
   ]
  },
  {
   "cell_type": "markdown",
   "metadata": {},
   "source": [
    "### 2.1. Descobrindo um bom conjunto de parâmetros"
   ]
  },
  {
   "cell_type": "markdown",
   "metadata": {},
   "source": [
    "Para ambos os classificadores busco o melhor conjunto de parâmetros a partir dos listados abaixo:"
   ]
  },
  {
   "cell_type": "code",
   "execution_count": 7,
   "metadata": {},
   "outputs": [],
   "source": [
    "parameters = {'vect__ngram_range':[(1,1), (1,2), (2,2)],\n",
    "              'tfidf__use_idf': (True, False),\n",
    "              'clf__alpha': (1.0, 1e-2, 1e-3),\n",
    "              'clf__fit_prior': (True, False)}"
   ]
  },
  {
   "cell_type": "markdown",
   "metadata": {},
   "source": [
    "#### Melhor conjunto de parâmetros para o *multinomial_clf*"
   ]
  },
  {
   "cell_type": "code",
   "execution_count": 8,
   "metadata": {},
   "outputs": [
    {
     "name": "stdout",
     "output_type": "stream",
     "text": [
      "Best score for multinomial_clf: 0.8166666666666668\n",
      "clf__alpha: 0.01\n",
      "clf__fit_prior: True\n",
      "tfidf__use_idf: False\n",
      "vect__ngram_range: (2, 2)\n"
     ]
    }
   ],
   "source": [
    "grid_search_clf = GridSearchCV(multinomial_clf, parameters, n_jobs = -1).fit(docs_train, y_train)\n",
    "\n",
    "grid_search_predicted = grid_search_clf.predict(docs_test)\n",
    "\n",
    "print(f'Best score for multinomial_clf: {grid_search_clf.best_score_}')\n",
    "for param_name in sorted(parameters.keys()):\n",
    "    print('%s: %r' %(param_name, grid_search_clf.best_params_[param_name]))"
   ]
  },
  {
   "cell_type": "markdown",
   "metadata": {},
   "source": [
    "#### Melhor conjunto de parâmetros para o *bernoulli_clf*"
   ]
  },
  {
   "cell_type": "code",
   "execution_count": 10,
   "metadata": {},
   "outputs": [
    {
     "name": "stdout",
     "output_type": "stream",
     "text": [
      "Best score for bernoulli_clf: 0.8026666666666665\n",
      "clf__alpha: 0.01\n",
      "clf__fit_prior: False\n",
      "tfidf__use_idf: True\n",
      "vect__ngram_range: (2, 2)\n"
     ]
    }
   ],
   "source": [
    "grid_search_clf = GridSearchCV(bernoulli_clf, parameters, n_jobs = -1).fit(docs_train, y_train)\n",
    "\n",
    "grid_search_predicted = grid_search_clf.predict(docs_test)\n",
    "\n",
    "print(f'Best score for bernoulli_clf: {grid_search_clf.best_score_}')\n",
    "for param_name in sorted(parameters.keys()):\n",
    "    print('%s: %r' %(param_name, grid_search_clf.best_params_[param_name]))"
   ]
  },
  {
   "cell_type": "markdown",
   "metadata": {},
   "source": [
    "### 2.2. Classificando com o MultinomialNB"
   ]
  },
  {
   "cell_type": "markdown",
   "metadata": {},
   "source": [
    "A partir do melhor conjunto de parâmetros, dentre os testados, recrio o classificador."
   ]
  },
  {
   "cell_type": "code",
   "execution_count": 12,
   "metadata": {},
   "outputs": [],
   "source": [
    "multinomial_clf = Pipeline([('vect', CountVectorizer(ngram_range = (2,2))),\n",
    "                     ('tfidf', TfidfTransformer(use_idf = False)),\n",
    "                     ('clf', MultinomialNB(alpha = 1e-2, fit_prior = True))])"
   ]
  },
  {
   "cell_type": "code",
   "execution_count": 13,
   "metadata": {},
   "outputs": [],
   "source": [
    "multinomial_predicted = multinomial_clf.fit(docs_train, y_train).predict(docs_test)"
   ]
  },
  {
   "cell_type": "markdown",
   "metadata": {},
   "source": [
    "#### Acurácia"
   ]
  },
  {
   "cell_type": "code",
   "execution_count": 15,
   "metadata": {},
   "outputs": [
    {
     "data": {
      "text/plain": [
       "0.828"
      ]
     },
     "execution_count": 15,
     "metadata": {},
     "output_type": "execute_result"
    }
   ],
   "source": [
    "np.mean(multinomial_predicted == y_test)"
   ]
  },
  {
   "cell_type": "markdown",
   "metadata": {},
   "source": [
    "#### Report classification"
   ]
  },
  {
   "cell_type": "code",
   "execution_count": 16,
   "metadata": {},
   "outputs": [
    {
     "name": "stdout",
     "output_type": "stream",
     "text": [
      "              precision    recall  f1-score   support\n",
      "\n",
      "         neg       0.86      0.80      0.83       255\n",
      "         pos       0.80      0.86      0.83       245\n",
      "\n",
      "    accuracy                           0.83       500\n",
      "   macro avg       0.83      0.83      0.83       500\n",
      "weighted avg       0.83      0.83      0.83       500\n",
      "\n"
     ]
    }
   ],
   "source": [
    "print(metrics.classification_report(y_test, multinomial_predicted, target_names = dataset.target_names))"
   ]
  },
  {
   "cell_type": "markdown",
   "metadata": {},
   "source": [
    "#### Matriz de confusão"
   ]
  },
  {
   "cell_type": "code",
   "execution_count": 17,
   "metadata": {},
   "outputs": [
    {
     "data": {
      "text/plain": [
       "array([[203,  52],\n",
       "       [ 34, 211]])"
      ]
     },
     "execution_count": 17,
     "metadata": {},
     "output_type": "execute_result"
    }
   ],
   "source": [
    "multinomial_confusion_matrix = metrics.confusion_matrix(y_test, multinomial_predicted)\n",
    "\n",
    "multinomial_confusion_matrix"
   ]
  },
  {
   "cell_type": "code",
   "execution_count": 18,
   "metadata": {},
   "outputs": [
    {
     "data": {
      "image/png": "[encoded data removed]",
      "text/plain": [
       "<Figure size 288x288 with 1 Axes>"
      ]
     },
     "metadata": {
      "needs_background": "light"
     },
     "output_type": "display_data"
    }
   ],
   "source": [
    "plt.matshow(multinomial_confusion_matrix)\n",
    "plt.show()"
   ]
  },
  {
   "cell_type": "markdown",
   "metadata": {},
   "source": [
    "### 2.3. Classificando com o BernoulliNB"
   ]
  },
  {
   "cell_type": "markdown",
   "metadata": {},
   "source": [
    "A partir do melhor conjunto de parâmetros, dentre os testados, recrio o classificador."
   ]
  },
  {
   "cell_type": "code",
   "execution_count": 21,
   "metadata": {},
   "outputs": [],
   "source": [
    "bernoulli_clf = Pipeline([('vect', CountVectorizer(ngram_range = (2,2))),\n",
    "                          ('tfidf', TfidfTransformer(use_idf = True)),\n",
    "                          ('clf', BernoulliNB(alpha = 1e-2, fit_prior = False))])"
   ]
  },
  {
   "cell_type": "code",
   "execution_count": 22,
   "metadata": {},
   "outputs": [],
   "source": [
    "bernoulli_predicted = bernoulli_clf.fit(docs_train, y_train).predict(docs_test)"
   ]
  },
  {
   "cell_type": "markdown",
   "metadata": {},
   "source": [
    "#### Acurácia"
   ]
  },
  {
   "cell_type": "code",
   "execution_count": 23,
   "metadata": {},
   "outputs": [
    {
     "data": {
      "text/plain": [
       "0.842"
      ]
     },
     "execution_count": 23,
     "metadata": {},
     "output_type": "execute_result"
    }
   ],
   "source": [
    "np.mean(bernoulli_predicted == y_test)"
   ]
  },
  {
   "cell_type": "markdown",
   "metadata": {},
   "source": [
    "#### Report classification"
   ]
  },
  {
   "cell_type": "code",
   "execution_count": 24,
   "metadata": {},
   "outputs": [
    {
     "name": "stdout",
     "output_type": "stream",
     "text": [
      "              precision    recall  f1-score   support\n",
      "\n",
      "         neg       0.83      0.86      0.85       255\n",
      "         pos       0.85      0.82      0.84       245\n",
      "\n",
      "    accuracy                           0.84       500\n",
      "   macro avg       0.84      0.84      0.84       500\n",
      "weighted avg       0.84      0.84      0.84       500\n",
      "\n"
     ]
    }
   ],
   "source": [
    "print(metrics.classification_report(y_test, bernoulli_predicted, target_names = dataset.target_names))"
   ]
  },
  {
   "cell_type": "markdown",
   "metadata": {},
   "source": [
    "#### Matriz de confusão"
   ]
  },
  {
   "cell_type": "code",
   "execution_count": 25,
   "metadata": {},
   "outputs": [
    {
     "data": {
      "text/plain": [
       "array([[220,  35],\n",
       "       [ 44, 201]])"
      ]
     },
     "execution_count": 25,
     "metadata": {},
     "output_type": "execute_result"
    }
   ],
   "source": [
    "bernoulli_confusion_matrix = metrics.confusion_matrix(y_test, bernoulli_predicted)\n",
    "\n",
    "bernoulli_confusion_matrix"
   ]
  },
  {
   "cell_type": "code",
   "execution_count": 26,
   "metadata": {},
   "outputs": [
    {
     "data": {
      "image/png": "[encoded data removed]",
      "text/plain": [
       "<Figure size 288x288 with 1 Axes>"
      ]
     },
     "metadata": {
      "needs_background": "light"
     },
     "output_type": "display_data"
    }
   ],
   "source": [
    "plt.matshow(bernoulli_confusion_matrix)\n",
    "plt.show()"
   ]
  },
  {
   "cell_type": "markdown",
   "metadata": {},
   "source": [
    "---"
   ]
  },
  {
   "cell_type": "markdown",
   "metadata": {},
   "source": [
    "## 3. Conclusão"
   ]
  },
  {
   "cell_type": "markdown",
   "metadata": {},
   "source": [
    "Ao analisar a precisão dos classificadores, percebemos que o MultinomialNB alcançou 86% de precisão na indentificação de reviews negativos contra 83% alcançados pelo BernoulliNB. Já o BernoulliNB alcançou 85% de precisão na indentificação de reviews positivos contra 80% alcançados pelo MultinomialNB.\n",
    "\n",
    "No geral, ambos os classificadores testados, MultinomialNB e BernoulliNB, apresentaram resultados similares, visto suas matrizes de confusão, com uma leve vantagem para o BernoulliNB, que apresentou 84,2% de acurácia contra 82,8% do MultinomialNB.\n",
    "\n",
    "Assim, para o problema proposto, sugiro escolher o classificador de melhor acurácia, o BernoulliNB."
   ]
  }
 ],
 "metadata": {
  "kernelspec": {
   "display_name": "Python 3",
   "language": "python",
   "name": "python3"
  },
  "language_info": {
   "codemirror_mode": {
    "name": "ipython",
    "version": 3
   },
   "file_extension": ".py",
   "mimetype": "text/x-python",
   "name": "python",
   "nbconvert_exporter": "python",
   "pygments_lexer": "ipython3",
   "version": "3.7.6"
  }
 },
 "nbformat": 4,
 "nbformat_minor": 4
}
