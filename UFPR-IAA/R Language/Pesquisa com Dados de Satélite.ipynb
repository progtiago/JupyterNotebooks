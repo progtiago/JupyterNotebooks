{
 "cells": [
  {
   "cell_type": "markdown",
   "id": "4b9f9562",
   "metadata": {},
   "source": [
    "# Pesquisa com Dados de Satélite (Satellite)"
   ]
  },
  {
   "cell_type": "markdown",
   "id": "0eea2a93",
   "metadata": {},
   "source": [
    "O banco de dados consiste nos valores multi-espectrais de pixels em vizinhanças 3x3 em uma imagem de satélite, e na classificação associada ao pixel central em cada vizinhança. O objetivo é prever esta classificação, dados os valores multi-espectrais.\n",
    "\n",
    "Um quadro de imagens do Satélite Landsat com MSS (Multispectral Scanner System) consiste em quatro imagens digitais da mesma cena em diferentes bandas espectrais. Duas delas estão na região visível (correspondendo aproximadamente às regiões verde e vermelha do espectro visível) e duas no infravermelho (próximo). Cada pixel é uma palavra binária de 8 bits, com 0 correspondendo a preto e 255 a branco. A resolução espacial de um pixel é de cerca de 80m x 80m. Cada imagem contém 2340 x 3380 desses pixels. O banco de dados é uma subárea (minúscula) de uma cena, consistindo de 82 x 100 pixels. Cada linha de dados corresponde a uma vizinhança quadrada de pixels 3x3 completamente contida dentro da subárea 82x100. Cada linha contém os valores de pixel nas quatro bandas espectrais (convertidas em ASCII) de cada um dos 9 pixels na vizinhança de 3x3 e um número indicando o rótulo de classificação do pixel central.\n",
    "\n",
    "As classes são: solo vermelho, colheita de algodão, solo cinza, solo cinza úmido, restolho de vegetação, solo cinza muito úmido.\n",
    "\n",
    "Os dados estão em ordem aleatória e certas linhas de dados foram removidas, portanto você não pode reconstruir a imagem original desse conjunto de dados. Em cada linha de dados, os quatro valores espectrais para o pixel superior esquerdo são dados primeiro, seguidos pelos quatro valores espectrais para o pixel superior central e, em seguida, para o pixel superior direito, e assim por diante, com os pixels lidos em sequência, da esquerda para a direita e de cima para baixo. Assim, os quatro valores espectrais para o pixel central são dados pelos atributos 17, 18, 19 e 20. Se você quiser, pode usar apenas esses quatro atributos, ignorando os outros. Isso evita o problema que surge quando uma vizinhança 3x3 atravessa um limite.\n",
    "\n",
    "O banco de dados se encontra no pacote **mlbench** e é completo (não possui dados faltantes).\n"
   ]
  },
  {
   "cell_type": "markdown",
   "id": "2cd8ab2a",
   "metadata": {},
   "source": [
    "## Tarefas"
   ]
  },
  {
   "cell_type": "markdown",
   "id": "4c84a676",
   "metadata": {},
   "source": [
    "#### 1. Treine modelos RandomForest, SVM e RNA para predição destes dados. "
   ]
  },
  {
   "cell_type": "code",
   "execution_count": 7,
   "id": "f6a81a59",
   "metadata": {
    "scrolled": true
   },
   "outputs": [
    {
     "name": "stderr",
     "output_type": "stream",
     "text": [
      "Warning message in install.packages(\"mlbench\"):\n",
      "“installation of package ‘mlbench’ had non-zero exit status”Updating HTML index of packages in '.Library'\n",
      "Making 'packages.html' ... done\n"
     ]
    }
   ],
   "source": [
    "install.packages('mlbench')"
   ]
  },
  {
   "cell_type": "code",
   "execution_count": 2,
   "id": "3fc3385f",
   "metadata": {},
   "outputs": [],
   "source": [
    "library('mlbench')"
   ]
  },
  {
   "cell_type": "markdown",
   "id": "81282581",
   "metadata": {},
   "source": [
    "- Analisando os dados"
   ]
  },
  {
   "cell_type": "code",
   "execution_count": 60,
   "id": "0e247ba0",
   "metadata": {},
   "outputs": [
    {
     "data": {
      "text/html": [
       "<table>\n",
       "<thead><tr><th scope=col>x.17</th><th scope=col>x.18</th><th scope=col>x.19</th><th scope=col>x.20</th><th scope=col>classes</th></tr></thead>\n",
       "<tbody>\n",
       "\t<tr><td>92       </td><td>112      </td><td>118      </td><td>85       </td><td>grey soil</td></tr>\n",
       "\t<tr><td>84       </td><td>103      </td><td>104      </td><td>81       </td><td>grey soil</td></tr>\n",
       "\t<tr><td>84       </td><td> 99      </td><td>104      </td><td>78       </td><td>grey soil</td></tr>\n",
       "\t<tr><td>84       </td><td> 99      </td><td>104      </td><td>81       </td><td>grey soil</td></tr>\n",
       "\t<tr><td>76       </td><td> 99      </td><td>104      </td><td>81       </td><td>grey soil</td></tr>\n",
       "\t<tr><td>76       </td><td> 99      </td><td>108      </td><td>85       </td><td>grey soil</td></tr>\n",
       "</tbody>\n",
       "</table>\n"
      ],
      "text/latex": [
       "\\begin{tabular}{r|lllll}\n",
       " x.17 & x.18 & x.19 & x.20 & classes\\\\\n",
       "\\hline\n",
       "\t 92        & 112       & 118       & 85        & grey soil\\\\\n",
       "\t 84        & 103       & 104       & 81        & grey soil\\\\\n",
       "\t 84        &  99       & 104       & 78        & grey soil\\\\\n",
       "\t 84        &  99       & 104       & 81        & grey soil\\\\\n",
       "\t 76        &  99       & 104       & 81        & grey soil\\\\\n",
       "\t 76        &  99       & 108       & 85        & grey soil\\\\\n",
       "\\end{tabular}\n"
      ],
      "text/markdown": [
       "\n",
       "| x.17 | x.18 | x.19 | x.20 | classes |\n",
       "|---|---|---|---|---|\n",
       "| 92        | 112       | 118       | 85        | grey soil |\n",
       "| 84        | 103       | 104       | 81        | grey soil |\n",
       "| 84        |  99       | 104       | 78        | grey soil |\n",
       "| 84        |  99       | 104       | 81        | grey soil |\n",
       "| 76        |  99       | 104       | 81        | grey soil |\n",
       "| 76        |  99       | 108       | 85        | grey soil |\n",
       "\n"
      ],
      "text/plain": [
       "  x.17 x.18 x.19 x.20 classes  \n",
       "1 92   112  118  85   grey soil\n",
       "2 84   103  104  81   grey soil\n",
       "3 84    99  104  78   grey soil\n",
       "4 84    99  104  81   grey soil\n",
       "5 76    99  104  81   grey soil\n",
       "6 76    99  108  85   grey soil"
      ]
     },
     "metadata": {},
     "output_type": "display_data"
    }
   ],
   "source": [
    "dataset <- Satellite[c(17:20, 37)]\n",
    "head(dataset)"
   ]
  },
  {
   "cell_type": "code",
   "execution_count": 61,
   "id": "f8e23c49",
   "metadata": {},
   "outputs": [
    {
     "data": {
      "text/html": [
       "<table>\n",
       "<thead><tr><th scope=col>Classe</th><th scope=col>Frequência</th><th scope=col>Relativa</th><th scope=col>Percentagem</th></tr></thead>\n",
       "<tbody>\n",
       "\t<tr><td>red soil           </td><td>1533               </td><td>0.2382284          </td><td>23.82284           </td></tr>\n",
       "\t<tr><td>cotton crop        </td><td> 703               </td><td>0.1092463          </td><td>10.92463           </td></tr>\n",
       "\t<tr><td>grey soil          </td><td>1358               </td><td>0.2110334          </td><td>21.10334           </td></tr>\n",
       "\t<tr><td>damp grey soil     </td><td> 626               </td><td>0.0972805          </td><td> 9.72805           </td></tr>\n",
       "\t<tr><td>vegetation stubble </td><td> 707               </td><td>0.1098679          </td><td>10.98679           </td></tr>\n",
       "\t<tr><td>very damp grey soil</td><td>1508               </td><td>0.2343434          </td><td>23.43434           </td></tr>\n",
       "</tbody>\n",
       "</table>\n"
      ],
      "text/latex": [
       "\\begin{tabular}{r|llll}\n",
       " Classe & Frequência & Relativa & Percentagem\\\\\n",
       "\\hline\n",
       "\t red soil            & 1533                & 0.2382284           & 23.82284           \\\\\n",
       "\t cotton crop         &  703                & 0.1092463           & 10.92463           \\\\\n",
       "\t grey soil           & 1358                & 0.2110334           & 21.10334           \\\\\n",
       "\t damp grey soil      &  626                & 0.0972805           &  9.72805           \\\\\n",
       "\t vegetation stubble  &  707                & 0.1098679           & 10.98679           \\\\\n",
       "\t very damp grey soil & 1508                & 0.2343434           & 23.43434           \\\\\n",
       "\\end{tabular}\n"
      ],
      "text/markdown": [
       "\n",
       "| Classe | Frequência | Relativa | Percentagem |\n",
       "|---|---|---|---|\n",
       "| red soil            | 1533                | 0.2382284           | 23.82284            |\n",
       "| cotton crop         |  703                | 0.1092463           | 10.92463            |\n",
       "| grey soil           | 1358                | 0.2110334           | 21.10334            |\n",
       "| damp grey soil      |  626                | 0.0972805           |  9.72805            |\n",
       "| vegetation stubble  |  707                | 0.1098679           | 10.98679            |\n",
       "| very damp grey soil | 1508                | 0.2343434           | 23.43434            |\n",
       "\n"
      ],
      "text/plain": [
       "  Classe              Frequência Relativa  Percentagem\n",
       "1 red soil            1533       0.2382284 23.82284   \n",
       "2 cotton crop          703       0.1092463 10.92463   \n",
       "3 grey soil           1358       0.2110334 21.10334   \n",
       "4 damp grey soil       626       0.0972805  9.72805   \n",
       "5 vegetation stubble   707       0.1098679 10.98679   \n",
       "6 very damp grey soil 1508       0.2343434 23.43434   "
      ]
     },
     "metadata": {},
     "output_type": "display_data"
    }
   ],
   "source": [
    "frequencia_abs <- table(dataset$classes)\n",
    "frequencia_rel <- prop.table(frequencia_abs)\n",
    "data.frame('Classe'= names(frequencia_abs),\n",
    "          'Frequência'= as.vector(frequencia_abs),\n",
    "          'Relativa'= as.vector(frequencia_rel),\n",
    "          'Percentagem'= as.vector(frequencia_rel) * 100)"
   ]
  },
  {
   "cell_type": "markdown",
   "id": "65836122",
   "metadata": {},
   "source": [
    "- Separando 80% dos dados para treino e 20% para teste."
   ]
  },
  {
   "cell_type": "code",
   "execution_count": 62,
   "id": "ad977190",
   "metadata": {},
   "outputs": [],
   "source": [
    "library('caret')\n",
    "indexes <- createDataPartition(dataset$classes, p = 0.80, list = FALSE)\n",
    "train_data <- dataset[indexes,]\n",
    "test_data <- dataset[-indexes,]"
   ]
  },
  {
   "cell_type": "markdown",
   "id": "52bb942c",
   "metadata": {},
   "source": [
    "- Treinando os modelos"
   ]
  },
  {
   "cell_type": "code",
   "execution_count": 79,
   "id": "e7d11c2d",
   "metadata": {},
   "outputs": [],
   "source": [
    "rf_model <- train(classes ~ ., data = train_data, method = 'rf')\n",
    "svm_model <- train(classes ~ ., data = train_data, method = 'svmRadial')\n",
    "rna_model <- train(classes ~ ., data = train_data, method = 'nnet', trace = FALSE)"
   ]
  },
  {
   "cell_type": "markdown",
   "id": "26055d68",
   "metadata": {},
   "source": [
    "- Aplicando os modelos no dataset de testes"
   ]
  },
  {
   "cell_type": "code",
   "execution_count": 81,
   "id": "41c20ee2",
   "metadata": {},
   "outputs": [],
   "source": [
    "rf_predictions = predict(rf_model, test_data)\n",
    "svm_predictions <- predict(svm_model, test_data)\n",
    "rna_predictions <- predict(nn_model, test_data)"
   ]
  },
  {
   "cell_type": "markdown",
   "id": "3fe73804",
   "metadata": {},
   "source": [
    "----"
   ]
  },
  {
   "cell_type": "markdown",
   "id": "dacad124",
   "metadata": {},
   "source": [
    "#### 2. Escolha o melhor modelo com base em suas matrizes de confusão. "
   ]
  },
  {
   "cell_type": "code",
   "execution_count": 123,
   "id": "2c96bb6b",
   "metadata": {},
   "outputs": [
    {
     "data": {
      "text/plain": [
       "Confusion Matrix and Statistics\n",
       "\n",
       "                     Reference\n",
       "Prediction            red soil cotton crop grey soil damp grey soil\n",
       "  red soil                 294           2         2              1\n",
       "  cotton crop                1         127         0              0\n",
       "  grey soil                  5           0       249             24\n",
       "  damp grey soil             0           1        15             53\n",
       "  vegetation stubble         5           8         0              1\n",
       "  very damp grey soil        1           2         5             46\n",
       "                     Reference\n",
       "Prediction            vegetation stubble very damp grey soil\n",
       "  red soil                            13                   0\n",
       "  cotton crop                          3                   1\n",
       "  grey soil                            1                   6\n",
       "  damp grey soil                       1                  31\n",
       "  vegetation stubble                 110                   8\n",
       "  very damp grey soil                 13                 255\n",
       "\n",
       "Overall Statistics\n",
       "                                          \n",
       "               Accuracy : 0.8474          \n",
       "                 95% CI : (0.8265, 0.8666)\n",
       "    No Information Rate : 0.2383          \n",
       "    P-Value [Acc > NIR] : < 2.2e-16       \n",
       "                                          \n",
       "                  Kappa : 0.8107          \n",
       "                                          \n",
       " Mcnemar's Test P-Value : NA              \n",
       "\n",
       "Statistics by Class:\n",
       "\n",
       "                     Class: red soil Class: cotton crop Class: grey soil\n",
       "Sensitivity                   0.9608            0.90714           0.9188\n",
       "Specificity                   0.9816            0.99563           0.9645\n",
       "Pos Pred Value                0.9423            0.96212           0.8737\n",
       "Neg Pred Value                0.9877            0.98872           0.9780\n",
       "Prevalence                    0.2383            0.10903           0.2111\n",
       "Detection Rate                0.2290            0.09891           0.1939\n",
       "Detection Prevalence          0.2430            0.10280           0.2220\n",
       "Balanced Accuracy             0.9712            0.95139           0.9416\n",
       "                     Class: damp grey soil Class: vegetation stubble\n",
       "Sensitivity                        0.42400                   0.78014\n",
       "Specificity                        0.95858                   0.98075\n",
       "Pos Pred Value                     0.52475                   0.83333\n",
       "Neg Pred Value                     0.93914                   0.97309\n",
       "Prevalence                         0.09735                   0.10981\n",
       "Detection Rate                     0.04128                   0.08567\n",
       "Detection Prevalence               0.07866                   0.10280\n",
       "Balanced Accuracy                  0.69129                   0.88045\n",
       "                     Class: very damp grey soil\n",
       "Sensitivity                              0.8472\n",
       "Specificity                              0.9318\n",
       "Pos Pred Value                           0.7919\n",
       "Neg Pred Value                           0.9522\n",
       "Prevalence                               0.2344\n",
       "Detection Rate                           0.1986\n",
       "Detection Prevalence                     0.2508\n",
       "Balanced Accuracy                        0.8895"
      ]
     },
     "metadata": {},
     "output_type": "display_data"
    }
   ],
   "source": [
    "cm_rf <- confusionMatrix(rf_predictions, test_data$classes)\n",
    "cm_rf"
   ]
  },
  {
   "cell_type": "code",
   "execution_count": 124,
   "id": "c706bd69",
   "metadata": {},
   "outputs": [
    {
     "data": {
      "text/plain": [
       "Confusion Matrix and Statistics\n",
       "\n",
       "                     Reference\n",
       "Prediction            red soil cotton crop grey soil damp grey soil\n",
       "  red soil                 296           1         0              0\n",
       "  cotton crop                0         127         0              1\n",
       "  grey soil                  4           0       260             27\n",
       "  damp grey soil             0           0        10             62\n",
       "  vegetation stubble         5           9         0              1\n",
       "  very damp grey soil        1           3         1             34\n",
       "                     Reference\n",
       "Prediction            vegetation stubble very damp grey soil\n",
       "  red soil                            13                   1\n",
       "  cotton crop                          0                   1\n",
       "  grey soil                            0                   6\n",
       "  damp grey soil                       0                  29\n",
       "  vegetation stubble                 111                   4\n",
       "  very damp grey soil                 17                 260\n",
       "\n",
       "Overall Statistics\n",
       "                                          \n",
       "               Accuracy : 0.8692          \n",
       "                 95% CI : (0.8495, 0.8871)\n",
       "    No Information Rate : 0.2383          \n",
       "    P-Value [Acc > NIR] : < 2.2e-16       \n",
       "                                          \n",
       "                  Kappa : 0.8377          \n",
       "                                          \n",
       " Mcnemar's Test P-Value : NA              \n",
       "\n",
       "Statistics by Class:\n",
       "\n",
       "                     Class: red soil Class: cotton crop Class: grey soil\n",
       "Sensitivity                   0.9673            0.90714           0.9594\n",
       "Specificity                   0.9847            0.99825           0.9635\n",
       "Pos Pred Value                0.9518            0.98450           0.8754\n",
       "Neg Pred Value                0.9897            0.98874           0.9889\n",
       "Prevalence                    0.2383            0.10903           0.2111\n",
       "Detection Rate                0.2305            0.09891           0.2025\n",
       "Detection Prevalence          0.2422            0.10047           0.2313\n",
       "Balanced Accuracy             0.9760            0.95270           0.9614\n",
       "                     Class: damp grey soil Class: vegetation stubble\n",
       "Sensitivity                        0.49600                   0.78723\n",
       "Specificity                        0.96635                   0.98338\n",
       "Pos Pred Value                     0.61386                   0.85385\n",
       "Neg Pred Value                     0.94675                   0.97400\n",
       "Prevalence                         0.09735                   0.10981\n",
       "Detection Rate                     0.04829                   0.08645\n",
       "Detection Prevalence               0.07866                   0.10125\n",
       "Balanced Accuracy                  0.73118                   0.88531\n",
       "                     Class: very damp grey soil\n",
       "Sensitivity                              0.8638\n",
       "Specificity                              0.9430\n",
       "Pos Pred Value                           0.8228\n",
       "Neg Pred Value                           0.9576\n",
       "Prevalence                               0.2344\n",
       "Detection Rate                           0.2025\n",
       "Detection Prevalence                     0.2461\n",
       "Balanced Accuracy                        0.9034"
      ]
     },
     "metadata": {},
     "output_type": "display_data"
    }
   ],
   "source": [
    "cm_svm <- confusionMatrix(svm_predictions, test_data$classes)\n",
    "cm_svm"
   ]
  },
  {
   "cell_type": "code",
   "execution_count": 125,
   "id": "f5c79aad",
   "metadata": {},
   "outputs": [
    {
     "data": {
      "text/plain": [
       "Confusion Matrix and Statistics\n",
       "\n",
       "                     Reference\n",
       "Prediction            red soil cotton crop grey soil damp grey soil\n",
       "  red soil                 291           2         1              0\n",
       "  cotton crop                0         128         0              0\n",
       "  grey soil                  7           0       239             34\n",
       "  damp grey soil             0           0         7              1\n",
       "  vegetation stubble         7           7         0              0\n",
       "  very damp grey soil        1           3        24             90\n",
       "                     Reference\n",
       "Prediction            vegetation stubble very damp grey soil\n",
       "  red soil                            20                   1\n",
       "  cotton crop                         19                   0\n",
       "  grey soil                            1                  13\n",
       "  damp grey soil                       0                   0\n",
       "  vegetation stubble                  52                   2\n",
       "  very damp grey soil                 49                 285\n",
       "\n",
       "Overall Statistics\n",
       "                                          \n",
       "               Accuracy : 0.7757          \n",
       "                 95% CI : (0.7519, 0.7983)\n",
       "    No Information Rate : 0.2383          \n",
       "    P-Value [Acc > NIR] : < 2.2e-16       \n",
       "                                          \n",
       "                  Kappa : 0.7167          \n",
       "                                          \n",
       " Mcnemar's Test P-Value : NA              \n",
       "\n",
       "Statistics by Class:\n",
       "\n",
       "                     Class: red soil Class: cotton crop Class: grey soil\n",
       "Sensitivity                   0.9510            0.91429           0.8819\n",
       "Specificity                   0.9755            0.98339           0.9457\n",
       "Pos Pred Value                0.9238            0.87075           0.8129\n",
       "Neg Pred Value                0.9845            0.98945           0.9677\n",
       "Prevalence                    0.2383            0.10903           0.2111\n",
       "Detection Rate                0.2266            0.09969           0.1861\n",
       "Detection Prevalence          0.2453            0.11449           0.2290\n",
       "Balanced Accuracy             0.9632            0.94884           0.9138\n",
       "                     Class: damp grey soil Class: vegetation stubble\n",
       "Sensitivity                      0.0080000                   0.36879\n",
       "Specificity                      0.9939603                   0.98600\n",
       "Pos Pred Value                   0.1250000                   0.76471\n",
       "Neg Pred Value                   0.9028213                   0.92681\n",
       "Prevalence                       0.0973520                   0.10981\n",
       "Detection Rate                   0.0007788                   0.04050\n",
       "Detection Prevalence             0.0062305                   0.05296\n",
       "Balanced Accuracy                0.5009802                   0.67740\n",
       "                     Class: very damp grey soil\n",
       "Sensitivity                              0.9468\n",
       "Specificity                              0.8301\n",
       "Pos Pred Value                           0.6305\n",
       "Neg Pred Value                           0.9808\n",
       "Prevalence                               0.2344\n",
       "Detection Rate                           0.2220\n",
       "Detection Prevalence                     0.3520\n",
       "Balanced Accuracy                        0.8885"
      ]
     },
     "metadata": {},
     "output_type": "display_data"
    }
   ],
   "source": [
    "cm_rna <- confusionMatrix(rna_predictions, test_data$classes)\n",
    "cm_rna"
   ]
  },
  {
   "cell_type": "markdown",
   "id": "35c52319",
   "metadata": {},
   "source": [
    "-----"
   ]
  },
  {
   "cell_type": "markdown",
   "id": "1ef31c22",
   "metadata": {},
   "source": [
    "#### 3. Treine o modelo final com todos os dados e faça a predição na base completa."
   ]
  },
  {
   "cell_type": "code",
   "execution_count": 108,
   "id": "01f06516",
   "metadata": {},
   "outputs": [
    {
     "name": "stdout",
     "output_type": "stream",
     "text": [
      "Support Vector Machines with Radial Basis Function Kernel \n",
      "\n",
      "5151 samples\n",
      "   4 predictor\n",
      "   6 classes: 'red soil', 'cotton crop', 'grey soil', 'damp grey soil', 'vegetation stubble', 'very damp grey soil' \n",
      "\n",
      "No pre-processing\n",
      "Resampling: Bootstrapped (25 reps) \n",
      "Summary of sample sizes: 5151, 5151, 5151, 5151, 5151, 5151, ... \n",
      "Resampling results across tuning parameters:\n",
      "\n",
      "  C     Accuracy   Kappa    \n",
      "  0.25  0.8537440  0.8188487\n",
      "  0.50  0.8572141  0.8232122\n",
      "  1.00  0.8593428  0.8258647\n",
      "\n",
      "Tuning parameter 'sigma' was held constant at a value of 0.8280511\n",
      "Accuracy was used to select the optimal model using the largest value.\n",
      "The final values used for the model were sigma = 0.8280511 and C = 1.\n"
     ]
    }
   ],
   "source": [
    "print(svm_model)"
   ]
  },
  {
   "cell_type": "code",
   "execution_count": 117,
   "id": "a6fc137f",
   "metadata": {},
   "outputs": [],
   "source": [
    "library('kernlab')\n",
    "\n",
    "final_model <- ksvm(type = 'C-svc', classes ~ ., data = dataset, \n",
    "                    kernel = 'rbfdot', C = 1.0, kpar = list(sigma = 0.8280511))"
   ]
  },
  {
   "cell_type": "code",
   "execution_count": 120,
   "id": "c97af2c2",
   "metadata": {},
   "outputs": [],
   "source": [
    "final_model_predictions <- predict(final_model, dataset)"
   ]
  },
  {
   "cell_type": "markdown",
   "id": "f5a4b637",
   "metadata": {},
   "source": [
    "------"
   ]
  },
  {
   "cell_type": "markdown",
   "id": "ddd77b00",
   "metadata": {},
   "source": [
    "#### 4. Analise o resultado."
   ]
  },
  {
   "cell_type": "code",
   "execution_count": 127,
   "id": "a8a38924",
   "metadata": {},
   "outputs": [
    {
     "data": {
      "text/html": [
       "<table>\n",
       "<thead><tr><th scope=col>Modelo</th><th scope=col>Acurácia</th></tr></thead>\n",
       "<tbody>\n",
       "\t<tr><td>RF       </td><td>0.8473520</td></tr>\n",
       "\t<tr><td>SVM      </td><td>0.8691589</td></tr>\n",
       "\t<tr><td>RNA      </td><td>0.7757009</td></tr>\n",
       "</tbody>\n",
       "</table>\n"
      ],
      "text/latex": [
       "\\begin{tabular}{r|ll}\n",
       " Modelo & Acurácia\\\\\n",
       "\\hline\n",
       "\t RF        & 0.8473520\\\\\n",
       "\t SVM       & 0.8691589\\\\\n",
       "\t RNA       & 0.7757009\\\\\n",
       "\\end{tabular}\n"
      ],
      "text/markdown": [
       "\n",
       "| Modelo | Acurácia |\n",
       "|---|---|\n",
       "| RF        | 0.8473520 |\n",
       "| SVM       | 0.8691589 |\n",
       "| RNA       | 0.7757009 |\n",
       "\n"
      ],
      "text/plain": [
       "  Modelo Acurácia \n",
       "1 RF     0.8473520\n",
       "2 SVM    0.8691589\n",
       "3 RNA    0.7757009"
      ]
     },
     "metadata": {},
     "output_type": "display_data"
    }
   ],
   "source": [
    "data.frame('Modelo' = c('RF', 'SVM', 'RNA'), 'Acurácia' =  c(\n",
    "    cm_rf$overall['Accuracy'],\n",
    "    cm_svm$overall['Accuracy'],\n",
    "    cm_rna$overall['Accuracy'] ))"
   ]
  },
  {
   "cell_type": "markdown",
   "id": "d0a6d0fd",
   "metadata": {},
   "source": [
    "A partir das predicões feitas é possível afirmar que o modelo baseado em SVM se destaca por possuir maior acurácia (0.8691589).\n",
    "\n",
    "Já o modelo final, gerado a partir de um SVM e considerando todos os dados, alcançou 0.8671 de acurácia conforme a matriz de confusão abaixo."
   ]
  },
  {
   "cell_type": "code",
   "execution_count": 129,
   "id": "478a29ff",
   "metadata": {
    "scrolled": true
   },
   "outputs": [
    {
     "data": {
      "text/plain": [
       "Confusion Matrix and Statistics\n",
       "\n",
       "                     Reference\n",
       "Prediction            red soil cotton crop grey soil damp grey soil\n",
       "  red soil                1499           2        10              5\n",
       "  cotton crop                2         636         0              1\n",
       "  grey soil                 19           0      1303            160\n",
       "  damp grey soil             0           6        40            311\n",
       "  vegetation stubble        12          49         0              4\n",
       "  very damp grey soil        1          10         5            145\n",
       "                     Reference\n",
       "Prediction            vegetation stubble very damp grey soil\n",
       "  red soil                            48                   0\n",
       "  cotton crop                          9                   2\n",
       "  grey soil                            3                  48\n",
       "  damp grey soil                       4                 169\n",
       "  vegetation stubble                 571                  29\n",
       "  very damp grey soil                 72                1260\n",
       "\n",
       "Overall Statistics\n",
       "                                          \n",
       "               Accuracy : 0.8671          \n",
       "                 95% CI : (0.8586, 0.8753)\n",
       "    No Information Rate : 0.2382          \n",
       "    P-Value [Acc > NIR] : < 2.2e-16       \n",
       "                                          \n",
       "                  Kappa : 0.8354          \n",
       "                                          \n",
       " Mcnemar's Test P-Value : NA              \n",
       "\n",
       "Statistics by Class:\n",
       "\n",
       "                     Class: red soil Class: cotton crop Class: grey soil\n",
       "Sensitivity                   0.9778            0.90469           0.9595\n",
       "Specificity                   0.9867            0.99756           0.9547\n",
       "Pos Pred Value                0.9584            0.97846           0.8500\n",
       "Neg Pred Value                0.9930            0.98842           0.9888\n",
       "Prevalence                    0.2382            0.10925           0.2110\n",
       "Detection Rate                0.2329            0.09883           0.2025\n",
       "Detection Prevalence          0.2430            0.10101           0.2382\n",
       "Balanced Accuracy             0.9823            0.95113           0.9571\n",
       "                     Class: damp grey soil Class: vegetation stubble\n",
       "Sensitivity                        0.49681                   0.80764\n",
       "Specificity                        0.96230                   0.98359\n",
       "Pos Pred Value                     0.58679                   0.85865\n",
       "Neg Pred Value                     0.94666                   0.97643\n",
       "Prevalence                         0.09728                   0.10987\n",
       "Detection Rate                     0.04833                   0.08873\n",
       "Detection Prevalence               0.08236                   0.10334\n",
       "Balanced Accuracy                  0.72955                   0.89561\n",
       "                     Class: very damp grey soil\n",
       "Sensitivity                              0.8355\n",
       "Specificity                              0.9527\n",
       "Pos Pred Value                           0.8439\n",
       "Neg Pred Value                           0.9498\n",
       "Prevalence                               0.2343\n",
       "Detection Rate                           0.1958\n",
       "Detection Prevalence                     0.2320\n",
       "Balanced Accuracy                        0.8941"
      ]
     },
     "metadata": {},
     "output_type": "display_data"
    }
   ],
   "source": [
    "cm_final_model <- confusionMatrix(final_model_predictions, dataset$classes)\n",
    "cm_final_model"
   ]
  },
  {
   "cell_type": "markdown",
   "id": "5a515b68",
   "metadata": {},
   "source": [
    "-----"
   ]
  },
  {
   "cell_type": "markdown",
   "id": "92661685",
   "metadata": {},
   "source": [
    "#### 5. Salve este modelo final "
   ]
  },
  {
   "cell_type": "code",
   "execution_count": 130,
   "id": "575d9a60",
   "metadata": {},
   "outputs": [],
   "source": [
    "saveRDS(final_model, \"satellite_svm.rds\")"
   ]
  }
 ],
 "metadata": {
  "kernelspec": {
   "display_name": "R",
   "language": "R",
   "name": "ir"
  },
  "language_info": {
   "codemirror_mode": "r",
   "file_extension": ".r",
   "mimetype": "text/x-r-source",
   "name": "R",
   "pygments_lexer": "r",
   "version": "3.6.1"
  }
 },
 "nbformat": 4,
 "nbformat_minor": 5
}
