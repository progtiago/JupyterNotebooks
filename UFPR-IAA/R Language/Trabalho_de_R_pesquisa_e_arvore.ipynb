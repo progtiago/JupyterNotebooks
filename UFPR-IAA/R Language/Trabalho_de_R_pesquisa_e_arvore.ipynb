{
 "cells": [
  {
   "attachments": {
    "image-3.png": {
     "image/png": "[encoded data removed]"
    }
   },
   "cell_type": "markdown",
   "id": "0f004ede",
   "metadata": {},
   "source": [
    "![image-3.png](attachment:image-3.png)\n",
    "### <center>  Especialização em Inteligência Artificial Aplicada"
   ]
  },
  {
   "cell_type": "markdown",
   "id": "9512ec57",
   "metadata": {},
   "source": [
    "### NOMES: \t\n",
    "ANA PAULA CARNEIRO SCHMECHEL VALLEJOS  \n",
    "ANDRE APARECIDO DA SILVA  \n",
    "DANIELA ALEIXO DIAS  \n",
    "ELIAS SANDRO SCHMECHEL VALLEJOS  \n",
    "TIAGO JOSE DA SILVA  \n"
   ]
  },
  {
   "cell_type": "markdown",
   "id": "6db3039a",
   "metadata": {},
   "source": [
    "## <center>  TRABALHO DA DISCIPLINA \n",
    "<center> Prof. Dr. Razer Anthom Nizer Rojas Montaño  \n"
   ]
  },
  {
   "cell_type": "markdown",
   "id": "4db14f91",
   "metadata": {},
   "source": [
    "# 1 Pesquisa com Dados de Satélite (Satellite)"
   ]
  },
  {
   "cell_type": "markdown",
   "id": "93e4bf02",
   "metadata": {},
   "source": [
    "O banco de dados consiste nos valores multi-espectrais de pixels em vizinhanças 3x3 em uma imagem de satélite, e na classificação associada ao pixel central em cada vizinhança. O objetivo é prever esta classificação, dados os valores multi-espectrais.\n",
    "\n",
    "Um quadro de imagens do Satélite Landsat com MSS (Multispectral Scanner System) consiste em quatro imagens digitais da mesma cena em diferentes bandas espectrais. Duas delas estão na região visível (correspondendo aproximadamente às regiões verde e vermelha do espectro visível) e duas no infravermelho (próximo). Cada pixel é uma palavra binária de 8 bits, com 0 correspondendo a preto e 255 a branco. A resolução espacial de um pixel é de cerca de 80m x 80m. Cada imagem contém 2340 x 3380 desses pixels. O banco de dados é uma subárea (minúscula) de uma cena, consistindo de 82 x 100 pixels. Cada linha de dados corresponde a uma vizinhança quadrada de pixels 3x3 completamente contida dentro da subárea 82x100. Cada linha contém os valores de pixel nas quatro bandas espectrais (convertidas em ASCII) de cada um dos 9 pixels na vizinhança de 3x3 e um número indicando o rótulo de classificação do pixel central.\n",
    "\n",
    "As classes são: solo vermelho, colheita de algodão, solo cinza, solo cinza úmido, restolho de vegetação, solo cinza muito úmido.\n",
    "\n",
    "Os dados estão em ordem aleatória e certas linhas de dados foram removidas, portanto você não pode reconstruir a imagem original desse conjunto de dados. Em cada linha de dados, os quatro valores espectrais para o pixel superior esquerdo são dados primeiro, seguidos pelos quatro valores espectrais para o pixel superior central e, em seguida, para o pixel superior direito, e assim por diante, com os pixels lidos em sequência, da esquerda para a direita e de cima para baixo. Assim, os quatro valores espectrais para o pixel central são dados pelos atributos 17, 18, 19 e 20. Se você quiser, pode usar apenas esses quatro atributos, ignorando os outros. Isso evita o problema que surge quando uma vizinhança 3x3 atravessa um limite.\n",
    "\n",
    "O banco de dados se encontra no pacote **mlbench** e é completo (não possui dados faltantes).\n",
    "\n",
    "**Tarefas** \n",
    "\n",
    "1. Treine modelos RandomForest, SVM e RNA para predição destes dados. \n",
    "2. Escolha o melhor modelo com base em suas matrizes de confusão. \n",
    "3. Treine o modelo final com todos os dados e faça a predição na base completa. \n",
    "4. Analise o resultado.\n",
    "5. Salve este modelo final "
   ]
  },
  {
   "cell_type": "markdown",
   "id": "1fed9ed5",
   "metadata": {},
   "source": [
    "## Solução"
   ]
  },
  {
   "cell_type": "markdown",
   "id": "a5abb0d7",
   "metadata": {},
   "source": [
    "Antes de começarmos precisamos carregar as bibliotecas necessárias para esse exercício:"
   ]
  },
  {
   "cell_type": "code",
   "execution_count": 2,
   "id": "54f87d74",
   "metadata": {},
   "outputs": [],
   "source": [
    "install.packages('mlbench')\n",
    "install.packages(\"kernlab\")\n",
    "install.packages(\"e1071\")\n",
    "install.packages(\"randomForest\")\n",
    "install.packages(\"kernlab\")\n",
    "install.packages(\"caret\")\n",
    "\n",
    "library(mlbench)\n",
    "library(caret)\n",
    "library(e1071)\n",
    "library(kernlab)"
   ]
  },
  {
   "cell_type": "markdown",
   "id": "72aefc7a",
   "metadata": {},
   "source": [
    "### Análise de dados"
   ]
  },
  {
   "cell_type": "markdown",
   "id": "5f210d7f",
   "metadata": {},
   "source": [
    "- Carrega os dados"
   ]
  },
  {
   "cell_type": "code",
   "execution_count": 5,
   "id": "d5ae0d49",
   "metadata": {},
   "outputs": [],
   "source": [
    "data(Satellite)\n",
    "df <- Satellite[c(17:20, 37)]"
   ]
  },
  {
   "cell_type": "code",
   "execution_count": 6,
   "id": "caf5f4ca",
   "metadata": {},
   "outputs": [],
   "source": [
    "# conta o número de linhas\n",
    "numRows <- nrow(df)"
   ]
  },
  {
   "cell_type": "markdown",
   "id": "86462dc8",
   "metadata": {},
   "source": [
    "- Particiona os dados em 80% para treinamento e 20% para testes"
   ]
  },
  {
   "cell_type": "code",
   "execution_count": 7,
   "id": "49d83477",
   "metadata": {},
   "outputs": [],
   "source": [
    "# seta o seed para que seja possível reproduzir\n",
    "set.seed(1) "
   ]
  },
  {
   "cell_type": "code",
   "execution_count": 8,
   "id": "3c702b3d",
   "metadata": {},
   "outputs": [],
   "source": [
    "# gera lista randômica de números \n",
    "indexes <- createDataPartition(df$classes, p = 0.80, list = FALSE)  "
   ]
  },
  {
   "cell_type": "code",
   "execution_count": 9,
   "id": "7050de6f",
   "metadata": {},
   "outputs": [],
   "source": [
    "# dataframes de treino e teste\n",
    "df.train <- df[indexes,]\n",
    "df.test  <- df[-indexes,]"
   ]
  },
  {
   "cell_type": "markdown",
   "id": "4c334f4f",
   "metadata": {},
   "source": [
    "----"
   ]
  },
  {
   "cell_type": "markdown",
   "id": "167fa7fe",
   "metadata": {},
   "source": [
    "### Treinamento de modelos"
   ]
  },
  {
   "cell_type": "markdown",
   "id": "5c17faa7",
   "metadata": {},
   "source": [
    "- Random Forest"
   ]
  },
  {
   "cell_type": "code",
   "execution_count": 10,
   "id": "fa901218",
   "metadata": {},
   "outputs": [
    {
     "data": {
      "text/plain": [
       "Confusion Matrix and Statistics\n",
       "\n",
       "                     Reference\n",
       "Prediction            red soil cotton crop grey soil damp grey soil\n",
       "  red soil                 301           0         5              3\n",
       "  cotton crop                0         123         0              1\n",
       "  grey soil                  1           0       236             24\n",
       "  damp grey soil             0           1        19             64\n",
       "  vegetation stubble         4          13         1              1\n",
       "  very damp grey soil        0           3        10             32\n",
       "                     Reference\n",
       "Prediction            vegetation stubble very damp grey soil\n",
       "  red soil                            12                   0\n",
       "  cotton crop                          4                   1\n",
       "  grey soil                            1                   7\n",
       "  damp grey soil                       1                  34\n",
       "  vegetation stubble                 110                   9\n",
       "  very damp grey soil                 13                 250\n",
       "\n",
       "Overall Statistics\n",
       "                                          \n",
       "               Accuracy : 0.8442          \n",
       "                 95% CI : (0.8232, 0.8637)\n",
       "    No Information Rate : 0.2383          \n",
       "    P-Value [Acc > NIR] : < 2.2e-16       \n",
       "                                          \n",
       "                  Kappa : 0.8073          \n",
       "                                          \n",
       " Mcnemar's Test P-Value : NA              \n",
       "\n",
       "Statistics by Class:\n",
       "\n",
       "                     Class: red soil Class: cotton crop Class: grey soil\n",
       "Sensitivity                   0.9837            0.87857           0.8708\n",
       "Specificity                   0.9796            0.99476           0.9674\n",
       "Pos Pred Value                0.9377            0.95349           0.8773\n",
       "Neg Pred Value                0.9948            0.98528           0.9655\n",
       "Prevalence                    0.2383            0.10903           0.2111\n",
       "Detection Rate                0.2344            0.09579           0.1838\n",
       "Detection Prevalence          0.2500            0.10047           0.2095\n",
       "Balanced Accuracy             0.9816            0.93666           0.9191\n",
       "                     Class: damp grey soil Class: vegetation stubble\n",
       "Sensitivity                        0.51200                   0.78014\n",
       "Specificity                        0.95255                   0.97550\n",
       "Pos Pred Value                     0.53782                   0.79710\n",
       "Neg Pred Value                     0.94764                   0.97295\n",
       "Prevalence                         0.09735                   0.10981\n",
       "Detection Rate                     0.04984                   0.08567\n",
       "Detection Prevalence               0.09268                   0.10748\n",
       "Balanced Accuracy                  0.73227                   0.87782\n",
       "                     Class: very damp grey soil\n",
       "Sensitivity                              0.8306\n",
       "Specificity                              0.9410\n",
       "Pos Pred Value                           0.8117\n",
       "Neg Pred Value                           0.9477\n",
       "Prevalence                               0.2344\n",
       "Detection Rate                           0.1947\n",
       "Detection Prevalence                     0.2399\n",
       "Balanced Accuracy                        0.8858"
      ]
     },
     "metadata": {},
     "output_type": "display_data"
    }
   ],
   "source": [
    "set.seed(1) \n",
    "model.rf <- train(classes~., \n",
    "                  data=df.train, \n",
    "                  method=\"rf\",\n",
    "                  trControl = trainControl(\"cv\", number = 10),\n",
    "                  preProcess = c(\"center\",\"scale\")\n",
    ")\n",
    "predicted.rf <- predict(model.rf, df.test)\n",
    "cm.rf <- confusionMatrix(data=predicted.rf, reference = df.test$classes)\n",
    "cm.rf #Accuracy: 0.8442 "
   ]
  },
  {
   "cell_type": "markdown",
   "id": "1548508f",
   "metadata": {},
   "source": [
    "- SVM"
   ]
  },
  {
   "cell_type": "code",
   "execution_count": 11,
   "id": "34748719",
   "metadata": {},
   "outputs": [
    {
     "data": {
      "text/plain": [
       "Confusion Matrix and Statistics\n",
       "\n",
       "                     Reference\n",
       "Prediction            red soil cotton crop grey soil damp grey soil\n",
       "  red soil                 303           1         5              2\n",
       "  cotton crop                0         121         0              0\n",
       "  grey soil                  1           0       252             25\n",
       "  damp grey soil             0           0        12             72\n",
       "  vegetation stubble         2          13         0              1\n",
       "  very damp grey soil        0           5         2             25\n",
       "                     Reference\n",
       "Prediction            vegetation stubble very damp grey soil\n",
       "  red soil                            14                   0\n",
       "  cotton crop                          1                   0\n",
       "  grey soil                            1                  12\n",
       "  damp grey soil                       2                  33\n",
       "  vegetation stubble                 101                   5\n",
       "  very damp grey soil                 22                 251\n",
       "\n",
       "Overall Statistics\n",
       "                                          \n",
       "               Accuracy : 0.8567          \n",
       "                 95% CI : (0.8363, 0.8754)\n",
       "    No Information Rate : 0.2383          \n",
       "    P-Value [Acc > NIR] : < 2.2e-16       \n",
       "                                          \n",
       "                  Kappa : 0.8223          \n",
       "                                          \n",
       " Mcnemar's Test P-Value : NA              \n",
       "\n",
       "Statistics by Class:\n",
       "\n",
       "                     Class: red soil Class: cotton crop Class: grey soil\n",
       "Sensitivity                   0.9902            0.86429           0.9299\n",
       "Specificity                   0.9775            0.99913           0.9615\n",
       "Pos Pred Value                0.9323            0.99180           0.8660\n",
       "Neg Pred Value                0.9969            0.98365           0.9809\n",
       "Prevalence                    0.2383            0.10903           0.2111\n",
       "Detection Rate                0.2360            0.09424           0.1963\n",
       "Detection Prevalence          0.2531            0.09502           0.2266\n",
       "Balanced Accuracy             0.9839            0.93171           0.9457\n",
       "                     Class: damp grey soil Class: vegetation stubble\n",
       "Sensitivity                        0.57600                   0.71631\n",
       "Specificity                        0.95945                   0.98163\n",
       "Pos Pred Value                     0.60504                   0.82787\n",
       "Neg Pred Value                     0.95451                   0.96558\n",
       "Prevalence                         0.09735                   0.10981\n",
       "Detection Rate                     0.05607                   0.07866\n",
       "Detection Prevalence               0.09268                   0.09502\n",
       "Balanced Accuracy                  0.76772                   0.84897\n",
       "                     Class: very damp grey soil\n",
       "Sensitivity                              0.8339\n",
       "Specificity                              0.9451\n",
       "Pos Pred Value                           0.8230\n",
       "Neg Pred Value                           0.9489\n",
       "Prevalence                               0.2344\n",
       "Detection Rate                           0.1955\n",
       "Detection Prevalence                     0.2375\n",
       "Balanced Accuracy                        0.8895"
      ]
     },
     "metadata": {},
     "output_type": "display_data"
    }
   ],
   "source": [
    "set.seed(1) \n",
    "model.svm <- train(classes~., \n",
    "                   data=df.train, \n",
    "                   method=\"svmRadial\",\n",
    "                   trControl = trainControl(\"cv\", number = 10),\n",
    "                   preProcess = c(\"center\",\"scale\")\n",
    ")\n",
    "predicted.svm <-predict(model.svm, df.test)\n",
    "cm.svm <- confusionMatrix(data=predicted.svm, reference = df.test$classes)\n",
    "cm.svm #Accuracy: 0.8567  "
   ]
  },
  {
   "cell_type": "markdown",
   "id": "82d159d1",
   "metadata": {},
   "source": [
    "- RNA"
   ]
  },
  {
   "cell_type": "code",
   "execution_count": 12,
   "id": "dc66ae00",
   "metadata": {
    "scrolled": true
   },
   "outputs": [
    {
     "data": {
      "text/plain": [
       "Confusion Matrix and Statistics\n",
       "\n",
       "                     Reference\n",
       "Prediction            red soil cotton crop grey soil damp grey soil\n",
       "  red soil                 302           0         7              3\n",
       "  cotton crop                0         124         0              1\n",
       "  grey soil                  1           0       245             24\n",
       "  damp grey soil             0           0        15             71\n",
       "  vegetation stubble         3          12         1              1\n",
       "  very damp grey soil        0           4         3             25\n",
       "                     Reference\n",
       "Prediction            vegetation stubble very damp grey soil\n",
       "  red soil                            14                   0\n",
       "  cotton crop                          5                   1\n",
       "  grey soil                            1                  11\n",
       "  damp grey soil                       1                  31\n",
       "  vegetation stubble                 104                   7\n",
       "  very damp grey soil                 16                 251\n",
       "\n",
       "Overall Statistics\n",
       "                                          \n",
       "               Accuracy : 0.8544          \n",
       "                 95% CI : (0.8339, 0.8732)\n",
       "    No Information Rate : 0.2383          \n",
       "    P-Value [Acc > NIR] : < 2.2e-16       \n",
       "                                          \n",
       "                  Kappa : 0.8196          \n",
       "                                          \n",
       " Mcnemar's Test P-Value : NA              \n",
       "\n",
       "Statistics by Class:\n",
       "\n",
       "                     Class: red soil Class: cotton crop Class: grey soil\n",
       "Sensitivity                   0.9869            0.88571           0.9041\n",
       "Specificity                   0.9755            0.99388           0.9635\n",
       "Pos Pred Value                0.9264            0.94656           0.8688\n",
       "Neg Pred Value                0.9958            0.98612           0.9741\n",
       "Prevalence                    0.2383            0.10903           0.2111\n",
       "Detection Rate                0.2352            0.09657           0.1908\n",
       "Detection Prevalence          0.2539            0.10202           0.2196\n",
       "Balanced Accuracy             0.9812            0.93980           0.9338\n",
       "                     Class: damp grey soil Class: vegetation stubble\n",
       "Sensitivity                        0.56800                   0.73759\n",
       "Specificity                        0.95945                   0.97900\n",
       "Pos Pred Value                     0.60169                   0.81250\n",
       "Neg Pred Value                     0.95369                   0.96799\n",
       "Prevalence                         0.09735                   0.10981\n",
       "Detection Rate                     0.05530                   0.08100\n",
       "Detection Prevalence               0.09190                   0.09969\n",
       "Balanced Accuracy                  0.76372                   0.85830\n",
       "                     Class: very damp grey soil\n",
       "Sensitivity                              0.8339\n",
       "Specificity                              0.9512\n",
       "Pos Pred Value                           0.8395\n",
       "Neg Pred Value                           0.9492\n",
       "Prevalence                               0.2344\n",
       "Detection Rate                           0.1955\n",
       "Detection Prevalence                     0.2329\n",
       "Balanced Accuracy                        0.8925"
      ]
     },
     "metadata": {},
     "output_type": "display_data"
    }
   ],
   "source": [
    "set.seed(1) \n",
    "model.rna <- train(classes~., \n",
    "                   data=df.train, \n",
    "                   method=\"nnet\",\n",
    "                   trControl = trainControl(\"cv\", number = 10),\n",
    "                   preProcess = c(\"center\",\"scale\"), \n",
    "                   trace=FALSE\n",
    ")\n",
    "predicted.rna <-predict(model.rna, df.test)\n",
    "cm.rna <- confusionMatrix(data=predicted.rna, reference = df.test$classes)\n",
    "cm.rna #Accuracy: 0.8544"
   ]
  },
  {
   "cell_type": "markdown",
   "id": "36f6249b",
   "metadata": {},
   "source": [
    "------"
   ]
  },
  {
   "cell_type": "markdown",
   "id": "bdc8f95c",
   "metadata": {},
   "source": [
    "### Análise de resultados"
   ]
  },
  {
   "cell_type": "code",
   "execution_count": 13,
   "id": "eae53024",
   "metadata": {},
   "outputs": [
    {
     "data": {
      "text/html": [
       "<table>\n",
       "<thead><tr><th scope=col>Modelo</th><th scope=col>Acurácia</th></tr></thead>\n",
       "<tbody>\n",
       "\t<tr><td>Random Forest</td><td>0.8442368    </td></tr>\n",
       "\t<tr><td>SVM          </td><td>0.8566978    </td></tr>\n",
       "\t<tr><td>RNA          </td><td>0.8543614    </td></tr>\n",
       "</tbody>\n",
       "</table>\n"
      ],
      "text/latex": [
       "\\begin{tabular}{r|ll}\n",
       " Modelo & Acurácia\\\\\n",
       "\\hline\n",
       "\t Random Forest & 0.8442368    \\\\\n",
       "\t SVM           & 0.8566978    \\\\\n",
       "\t RNA           & 0.8543614    \\\\\n",
       "\\end{tabular}\n"
      ],
      "text/markdown": [
       "\n",
       "| Modelo | Acurácia |\n",
       "|---|---|\n",
       "| Random Forest | 0.8442368     |\n",
       "| SVM           | 0.8566978     |\n",
       "| RNA           | 0.8543614     |\n",
       "\n"
      ],
      "text/plain": [
       "  Modelo        Acurácia \n",
       "1 Random Forest 0.8442368\n",
       "2 SVM           0.8566978\n",
       "3 RNA           0.8543614"
      ]
     },
     "metadata": {},
     "output_type": "display_data"
    }
   ],
   "source": [
    "data.frame('Modelo' = c('Random Forest', 'SVM', 'RNA'), 'Acurácia' =  c(\n",
    "    cm.rf$overall['Accuracy'],\n",
    "    cm.svm$overall['Accuracy'],\n",
    "    cm.rna$overall['Accuracy'] ))"
   ]
  },
  {
   "cell_type": "markdown",
   "id": "97610674",
   "metadata": {},
   "source": [
    "A partir das predicões feitas é possível afirmar que o modelo baseado em SVM se destaca por possuir maior acurácia (0.8566978)."
   ]
  },
  {
   "cell_type": "markdown",
   "id": "7eb26365",
   "metadata": {},
   "source": [
    "----"
   ]
  },
  {
   "cell_type": "markdown",
   "id": "305a94c8",
   "metadata": {},
   "source": [
    "### Geração do modelo final"
   ]
  },
  {
   "cell_type": "markdown",
   "id": "9c568e72",
   "metadata": {},
   "source": [
    "- Obtém dados do melhor modelo"
   ]
  },
  {
   "cell_type": "code",
   "execution_count": 15,
   "id": "ca2d4021",
   "metadata": {},
   "outputs": [
    {
     "data": {
      "text/plain": [
       "Support Vector Machines with Radial Basis Function Kernel \n",
       "\n",
       "5151 samples\n",
       "   4 predictor\n",
       "   6 classes: 'red soil', 'cotton crop', 'grey soil', 'damp grey soil', 'vegetation stubble', 'very damp grey soil' \n",
       "\n",
       "Pre-processing: centered (4), scaled (4) \n",
       "Resampling: Cross-Validated (10 fold) \n",
       "Summary of sample sizes: 4638, 4635, 4635, 4635, 4635, 4635, ... \n",
       "Resampling results across tuning parameters:\n",
       "\n",
       "  C     Accuracy   Kappa    \n",
       "  0.25  0.8598395  0.8261975\n",
       "  0.50  0.8635274  0.8308060\n",
       "  1.00  0.8635206  0.8308518\n",
       "\n",
       "Tuning parameter 'sigma' was held constant at a value of 0.9749486\n",
       "Accuracy was used to select the optimal model using the largest value.\n",
       "The final values used for the model were sigma = 0.9749486 and C = 0.5."
      ]
     },
     "metadata": {},
     "output_type": "display_data"
    }
   ],
   "source": [
    "model.svm"
   ]
  },
  {
   "cell_type": "markdown",
   "id": "77d6d130",
   "metadata": {},
   "source": [
    "- A partir dos parâmetros C = 0.5 e Sigma = 0.9749486 gera-se o modelo final"
   ]
  },
  {
   "cell_type": "code",
   "execution_count": 16,
   "id": "e4a50a93",
   "metadata": {},
   "outputs": [
    {
     "data": {
      "text/plain": [
       "Confusion Matrix and Statistics\n",
       "\n",
       "                     Reference\n",
       "Prediction            red soil cotton crop grey soil damp grey soil\n",
       "  red soil                1533           0         2             60\n",
       "  cotton crop                0         703         0              0\n",
       "  grey soil                  0           0      1346             89\n",
       "  damp grey soil             0           0         8            400\n",
       "  vegetation stubble         0           0         0              1\n",
       "  very damp grey soil        0           0         2             76\n",
       "                     Reference\n",
       "Prediction            vegetation stubble very damp grey soil\n",
       "  red soil                             3                   0\n",
       "  cotton crop                          0                   0\n",
       "  grey soil                            0                  10\n",
       "  damp grey soil                       0                   6\n",
       "  vegetation stubble                 701                   1\n",
       "  very damp grey soil                  3                1491\n",
       "\n",
       "Overall Statistics\n",
       "                                          \n",
       "               Accuracy : 0.9594          \n",
       "                 95% CI : (0.9543, 0.9641)\n",
       "    No Information Rate : 0.2382          \n",
       "    P-Value [Acc > NIR] : < 2.2e-16       \n",
       "                                          \n",
       "                  Kappa : 0.9497          \n",
       "                                          \n",
       " Mcnemar's Test P-Value : NA              \n",
       "\n",
       "Statistics by Class:\n",
       "\n",
       "                     Class: red soil Class: cotton crop Class: grey soil\n",
       "Sensitivity                   1.0000             1.0000           0.9912\n",
       "Specificity                   0.9867             1.0000           0.9805\n",
       "Pos Pred Value                0.9593             1.0000           0.9315\n",
       "Neg Pred Value                1.0000             1.0000           0.9976\n",
       "Prevalence                    0.2382             0.1092           0.2110\n",
       "Detection Rate                0.2382             0.1092           0.2092\n",
       "Detection Prevalence          0.2483             0.1092           0.2246\n",
       "Balanced Accuracy             0.9934             1.0000           0.9858\n",
       "                     Class: damp grey soil Class: vegetation stubble\n",
       "Sensitivity                        0.63898                    0.9915\n",
       "Specificity                        0.99759                    0.9997\n",
       "Pos Pred Value                     0.96618                    0.9972\n",
       "Neg Pred Value                     0.96246                    0.9990\n",
       "Prevalence                         0.09728                    0.1099\n",
       "Detection Rate                     0.06216                    0.1089\n",
       "Detection Prevalence               0.06434                    0.1092\n",
       "Balanced Accuracy                  0.81828                    0.9956\n",
       "                     Class: very damp grey soil\n",
       "Sensitivity                              0.9887\n",
       "Specificity                              0.9836\n",
       "Pos Pred Value                           0.9485\n",
       "Neg Pred Value                           0.9965\n",
       "Prevalence                               0.2343\n",
       "Detection Rate                           0.2317\n",
       "Detection Prevalence                     0.2443\n",
       "Balanced Accuracy                        0.9861"
      ]
     },
     "metadata": {},
     "output_type": "display_data"
    }
   ],
   "source": [
    "model.final <- ksvm(type=\"C-svc\", classes~., data=Satellite, kernel=\"rbfdot\",\n",
    "                    C=0.5, kpar=list(sigma=0.9749486))\n",
    "predicted.final <- predict(model.final, Satellite)\n",
    "\n",
    "cm.final <- confusionMatrix(predicted.final, Satellite$classes)\n",
    "cm.final"
   ]
  },
  {
   "cell_type": "markdown",
   "id": "3f181aa0",
   "metadata": {},
   "source": [
    "- Salva o modelo final"
   ]
  },
  {
   "cell_type": "code",
   "execution_count": 17,
   "id": "446d4be8",
   "metadata": {},
   "outputs": [],
   "source": [
    "saveRDS(model.final, \"satellite_svm.rds\")"
   ]
  },
  {
   "cell_type": "markdown",
   "id": "cdc6766f",
   "metadata": {},
   "source": [
    "-----"
   ]
  },
  {
   "cell_type": "markdown",
   "id": "81d4e3ed",
   "metadata": {},
   "source": [
    "# 2 Estimativa de volumes de árvores"
   ]
  },
  {
   "cell_type": "markdown",
   "id": "2001fb21",
   "metadata": {},
   "source": [
    "Modelos de aprendizado de máquina são bastante usados na área da engenharia florestal (mensuração florestal) para, por exemplo, estimar o volume de madeira de árvores sem ser necessário abatê-las.\n",
    "\n",
    "O processo é feito pela coleta de dados (dados observados) através do abate de algumas árvores, onde sua altura, diâmetro na altura do peito (dap), etc, são medidos de forma exata. Com estes dados, treina-se um modelo de AM que pode estimar o volume de outras árvores da população.\n",
    "\n",
    "Os modelos, chamados **alométricos**, são usados na área há muitos anos e são baseados em regressão (linear ou não) para encontrar uma equação que descreve os dados. Por exemplo, o modelo de Spurr é dado por:\n",
    "\n",
    "$$Volume = b_0 + b_1 * dap ^ 2 * H_t$$\n",
    "\n",
    "Onde **dap** é o diâmetro na altura do peito (1,3 metros), $H_t$ é a altura total. Tem-se vários modelos alométricos, cada um com uma determinada característica, parâmetros, etc. Um modelo de regressão envolve aplicar os dados observados e encontrar $b_0$ e $b_1$ no modelo apresentado, gerando assim uma equação que pode ser usada para prever o volume de outras árvores.\n",
    "\n",
    "Dado o arquivo **Volumes.csv**, que contém os dados de observação, escolha um modelo de aprendizado de máquina com a melhor estimativa, a partir da estatística de correlação.\n",
    "\n",
    "**Tarefas**\n",
    "\n",
    "1. Carregar o arquivo Volumes.csv (http://www.razer.net.br/datasets/Volumes.csv)\n",
    "\n",
    "2. Eliminar a coluna NR, que só apresenta um número sequencial\n",
    "\n",
    "3. Criar partição de dados: treinamento 80%, teste 20%\n",
    "\n",
    "4. Usando o pacote \"caret\", treinar os modelos: Random Forest (rf), SVM (svmRadial), Redes Neurais (neuralnet) e o modelo alométrico de SPURR\n",
    "\n",
    "5. O modelo alométrico é dado por: Volume = $b_0$ + $b_1$ * $dap ^2$ * $H_t$\n",
    "\n",
    "6. Efetue as predições nos dados de teste\n",
    "\n",
    "7. Crie funções e calcule as seguintes métricas entre a predição e os dados observados\n",
    "\n",
    "- Coeficiente de determinação: $R^2$\n",
    "\n",
    "    $$R^2 = 1 - \\frac{\\sum_{i=1}^n (y_i - \\widehat{y_i})^2}{\\sum_{i=1}^n (y_i - \\overline{y} )^2}$$\n",
    "\n",
    "    Onde $y_i$ é o valor observado, $\\widehat{y_i}$ é o valor predito e $\\overline{y}$ é a média dos valores $y_i$ observados. Quanto mais perto de 1 melhor é o modelo;\n",
    "    \n",
    "- Erro padrão da estimativa: $S_{yx}$\n",
    "\n",
    "    $$S_{yx} = \\sqrt{\\frac{\\sum_{i=1}^n (y_i - \\widehat{y_i})^2}{n - 2}}$$\n",
    "\n",
    "    Esta métrica indica erro, portanto quanto mais perto de 0 melhor é o modelo;\n",
    "    \n",
    "- $S_{yx}$%:\n",
    "\n",
    "    $$S_{yx}\\% = \\frac{S_{xy}}{\\overline{y}} * 100$$\n",
    "\n",
    "    Esta métrica indica porcentagem de erro, portanto quanto mais perto de 0 melhor é o modelo;\n",
    "\n",
    "8. Escolha o melhor modelo"
   ]
  },
  {
   "cell_type": "markdown",
   "id": "250f8174",
   "metadata": {},
   "source": [
    "## Solução"
   ]
  },
  {
   "cell_type": "markdown",
   "id": "2d9f3324",
   "metadata": {},
   "source": [
    "Antes de começarmos precisamos carregar as bibliotecas necessárias para esse exercício:"
   ]
  },
  {
   "cell_type": "code",
   "execution_count": null,
   "id": "cd9a4aca",
   "metadata": {},
   "outputs": [],
   "source": [
    "# install.packages(\"kernlab\")\n",
    "# install.packages(\"e1071\")\n",
    "# install.packages(\"randomForest\")\n",
    "# install.packages(\"kernlab\")\n",
    "# install.packages(\"caret\")\n",
    "\n",
    "library(\"caret\")"
   ]
  },
  {
   "cell_type": "markdown",
   "id": "65d59d0d",
   "metadata": {},
   "source": [
    "### Análise de dados"
   ]
  },
  {
   "cell_type": "markdown",
   "id": "23fcef01",
   "metadata": {},
   "source": [
    "- Carrega os dados"
   ]
  },
  {
   "cell_type": "code",
   "execution_count": 18,
   "id": "d7057377",
   "metadata": {},
   "outputs": [],
   "source": [
    "dataset <- read.csv('http://www.razer.net.br/datasets/Volumes.csv', header = TRUE, sep = ';', dec = ',')"
   ]
  },
  {
   "cell_type": "code",
   "execution_count": 19,
   "id": "83be38bf",
   "metadata": {},
   "outputs": [
    {
     "data": {
      "text/html": [
       "<table>\n",
       "<thead><tr><th scope=col>NR</th><th scope=col>DAP</th><th scope=col>HT</th><th scope=col>HP</th><th scope=col>VOL</th></tr></thead>\n",
       "<tbody>\n",
       "\t<tr><td>1        </td><td>34.0     </td><td>27.00    </td><td>1.80     </td><td>0.8971441</td></tr>\n",
       "\t<tr><td>2        </td><td>41.5     </td><td>27.95    </td><td>2.75     </td><td>1.6204441</td></tr>\n",
       "\t<tr><td>3        </td><td>29.6     </td><td>26.35    </td><td>1.15     </td><td>0.8008181</td></tr>\n",
       "\t<tr><td>4        </td><td>34.3     </td><td>27.15    </td><td>1.95     </td><td>1.0791682</td></tr>\n",
       "\t<tr><td>5        </td><td>34.5     </td><td>26.20    </td><td>1.00     </td><td>0.9801112</td></tr>\n",
       "\t<tr><td>6        </td><td>29.9     </td><td>27.10    </td><td>1.90     </td><td>0.9067022</td></tr>\n",
       "</tbody>\n",
       "</table>\n"
      ],
      "text/latex": [
       "\\begin{tabular}{r|lllll}\n",
       " NR & DAP & HT & HP & VOL\\\\\n",
       "\\hline\n",
       "\t 1         & 34.0      & 27.00     & 1.80      & 0.8971441\\\\\n",
       "\t 2         & 41.5      & 27.95     & 2.75      & 1.6204441\\\\\n",
       "\t 3         & 29.6      & 26.35     & 1.15      & 0.8008181\\\\\n",
       "\t 4         & 34.3      & 27.15     & 1.95      & 1.0791682\\\\\n",
       "\t 5         & 34.5      & 26.20     & 1.00      & 0.9801112\\\\\n",
       "\t 6         & 29.9      & 27.10     & 1.90      & 0.9067022\\\\\n",
       "\\end{tabular}\n"
      ],
      "text/markdown": [
       "\n",
       "| NR | DAP | HT | HP | VOL |\n",
       "|---|---|---|---|---|\n",
       "| 1         | 34.0      | 27.00     | 1.80      | 0.8971441 |\n",
       "| 2         | 41.5      | 27.95     | 2.75      | 1.6204441 |\n",
       "| 3         | 29.6      | 26.35     | 1.15      | 0.8008181 |\n",
       "| 4         | 34.3      | 27.15     | 1.95      | 1.0791682 |\n",
       "| 5         | 34.5      | 26.20     | 1.00      | 0.9801112 |\n",
       "| 6         | 29.9      | 27.10     | 1.90      | 0.9067022 |\n",
       "\n"
      ],
      "text/plain": [
       "  NR DAP  HT    HP   VOL      \n",
       "1 1  34.0 27.00 1.80 0.8971441\n",
       "2 2  41.5 27.95 2.75 1.6204441\n",
       "3 3  29.6 26.35 1.15 0.8008181\n",
       "4 4  34.3 27.15 1.95 1.0791682\n",
       "5 5  34.5 26.20 1.00 0.9801112\n",
       "6 6  29.9 27.10 1.90 0.9067022"
      ]
     },
     "metadata": {},
     "output_type": "display_data"
    }
   ],
   "source": [
    "head(dataset)"
   ]
  },
  {
   "cell_type": "markdown",
   "id": "f82ffa28",
   "metadata": {},
   "source": [
    "- Remove a coluna NR do dataset"
   ]
  },
  {
   "cell_type": "code",
   "execution_count": 20,
   "id": "1e6ffd5f",
   "metadata": {},
   "outputs": [],
   "source": [
    "dataset <- dataset[-1]"
   ]
  },
  {
   "cell_type": "code",
   "execution_count": 21,
   "id": "92131656",
   "metadata": {},
   "outputs": [
    {
     "data": {
      "text/html": [
       "<table>\n",
       "<thead><tr><th scope=col>DAP</th><th scope=col>HT</th><th scope=col>HP</th><th scope=col>VOL</th></tr></thead>\n",
       "<tbody>\n",
       "\t<tr><td>34.0     </td><td>27.00    </td><td>1.80     </td><td>0.8971441</td></tr>\n",
       "\t<tr><td>41.5     </td><td>27.95    </td><td>2.75     </td><td>1.6204441</td></tr>\n",
       "\t<tr><td>29.6     </td><td>26.35    </td><td>1.15     </td><td>0.8008181</td></tr>\n",
       "\t<tr><td>34.3     </td><td>27.15    </td><td>1.95     </td><td>1.0791682</td></tr>\n",
       "\t<tr><td>34.5     </td><td>26.20    </td><td>1.00     </td><td>0.9801112</td></tr>\n",
       "\t<tr><td>29.9     </td><td>27.10    </td><td>1.90     </td><td>0.9067022</td></tr>\n",
       "</tbody>\n",
       "</table>\n"
      ],
      "text/latex": [
       "\\begin{tabular}{r|llll}\n",
       " DAP & HT & HP & VOL\\\\\n",
       "\\hline\n",
       "\t 34.0      & 27.00     & 1.80      & 0.8971441\\\\\n",
       "\t 41.5      & 27.95     & 2.75      & 1.6204441\\\\\n",
       "\t 29.6      & 26.35     & 1.15      & 0.8008181\\\\\n",
       "\t 34.3      & 27.15     & 1.95      & 1.0791682\\\\\n",
       "\t 34.5      & 26.20     & 1.00      & 0.9801112\\\\\n",
       "\t 29.9      & 27.10     & 1.90      & 0.9067022\\\\\n",
       "\\end{tabular}\n"
      ],
      "text/markdown": [
       "\n",
       "| DAP | HT | HP | VOL |\n",
       "|---|---|---|---|\n",
       "| 34.0      | 27.00     | 1.80      | 0.8971441 |\n",
       "| 41.5      | 27.95     | 2.75      | 1.6204441 |\n",
       "| 29.6      | 26.35     | 1.15      | 0.8008181 |\n",
       "| 34.3      | 27.15     | 1.95      | 1.0791682 |\n",
       "| 34.5      | 26.20     | 1.00      | 0.9801112 |\n",
       "| 29.9      | 27.10     | 1.90      | 0.9067022 |\n",
       "\n"
      ],
      "text/plain": [
       "  DAP  HT    HP   VOL      \n",
       "1 34.0 27.00 1.80 0.8971441\n",
       "2 41.5 27.95 2.75 1.6204441\n",
       "3 29.6 26.35 1.15 0.8008181\n",
       "4 34.3 27.15 1.95 1.0791682\n",
       "5 34.5 26.20 1.00 0.9801112\n",
       "6 29.9 27.10 1.90 0.9067022"
      ]
     },
     "metadata": {},
     "output_type": "display_data"
    }
   ],
   "source": [
    "head(dataset)"
   ]
  },
  {
   "cell_type": "markdown",
   "id": "231eed73",
   "metadata": {},
   "source": [
    "----"
   ]
  },
  {
   "cell_type": "markdown",
   "id": "08719cc8",
   "metadata": {},
   "source": [
    "### Particionamento"
   ]
  },
  {
   "cell_type": "markdown",
   "id": "50ee2baa",
   "metadata": {},
   "source": [
    "- Particiona os dados em 80% para treinamento e 20% para testes"
   ]
  },
  {
   "cell_type": "code",
   "execution_count": 22,
   "id": "5b899a98",
   "metadata": {},
   "outputs": [],
   "source": [
    "set.seed(1)\n",
    "indexes <- createDataPartition(dataset$VOL, p = 0.80, list = FALSE)"
   ]
  },
  {
   "cell_type": "code",
   "execution_count": 23,
   "id": "aea83948",
   "metadata": {},
   "outputs": [],
   "source": [
    "dataset.train <- dataset[indexes,]\n",
    "dataset.test <- dataset[-indexes,]"
   ]
  },
  {
   "cell_type": "markdown",
   "id": "85065a14",
   "metadata": {},
   "source": [
    "-----"
   ]
  },
  {
   "cell_type": "markdown",
   "id": "808f8222",
   "metadata": {},
   "source": [
    "### Treinamento de modelos"
   ]
  },
  {
   "cell_type": "markdown",
   "id": "a120b1df",
   "metadata": {},
   "source": [
    "- Random Forest"
   ]
  },
  {
   "cell_type": "code",
   "execution_count": 25,
   "id": "bff53425",
   "metadata": {},
   "outputs": [
    {
     "name": "stdout",
     "output_type": "stream",
     "text": [
      "note: only 2 unique complexity parameters in default grid. Truncating the grid to 2 .\n",
      "\n"
     ]
    }
   ],
   "source": [
    "set.seed(1)\n",
    "model.rf <- train(VOL ~., data = dataset.train, method = 'rf',\n",
    "                  trControl = trainControl('cv', number = 10), preProcess = c('center', 'scale'))"
   ]
  },
  {
   "cell_type": "markdown",
   "id": "522dc57d",
   "metadata": {},
   "source": [
    "- Svm"
   ]
  },
  {
   "cell_type": "code",
   "execution_count": 26,
   "id": "464f8c16",
   "metadata": {},
   "outputs": [],
   "source": [
    "set.seed(1)\n",
    "model.svm <- train(VOL ~., data = dataset.train, method = 'svmRadial',\n",
    "                  trControl = trainControl('cv', number = 10), preProcess = c('center', 'scale'))"
   ]
  },
  {
   "cell_type": "markdown",
   "id": "c332c46e",
   "metadata": {},
   "source": [
    "- Redes neurais"
   ]
  },
  {
   "cell_type": "code",
   "execution_count": 27,
   "id": "8ccd4865",
   "metadata": {},
   "outputs": [],
   "source": [
    "set.seed(1)\n",
    "model.neural <- train(VOL ~ ., data = dataset.train, method = 'neuralnet', linear.output = TRUE, threshold = 0.1,\n",
    "                  trControl = trainControl('cv', number = 10), preProcess = c('center', 'scale'))"
   ]
  },
  {
   "cell_type": "markdown",
   "id": "4b71b486",
   "metadata": {},
   "source": [
    "- Modelo alométrico de SPURR"
   ]
  },
  {
   "cell_type": "code",
   "execution_count": 28,
   "id": "0f4add7e",
   "metadata": {},
   "outputs": [],
   "source": [
    "set.seed(1)\n",
    "model.alom <- nls(VOL ~ b0 + b1 * DAP ^ 2 * HT, dataset.train, start = list(b0 = 0.5, b1 = 0.5))"
   ]
  },
  {
   "cell_type": "markdown",
   "id": "7a0a3c78",
   "metadata": {},
   "source": [
    "-----"
   ]
  },
  {
   "cell_type": "markdown",
   "id": "998a0edd",
   "metadata": {},
   "source": [
    "### Predições"
   ]
  },
  {
   "cell_type": "code",
   "execution_count": 29,
   "id": "e8475400",
   "metadata": {},
   "outputs": [],
   "source": [
    "predictions.rf <- predict(model.rf, dataset.test)"
   ]
  },
  {
   "cell_type": "code",
   "execution_count": 30,
   "id": "5baf6ec4",
   "metadata": {},
   "outputs": [],
   "source": [
    "predictions.svm <- predict(model.svm, dataset.test)"
   ]
  },
  {
   "cell_type": "code",
   "execution_count": 31,
   "id": "52fc0e5d",
   "metadata": {},
   "outputs": [],
   "source": [
    "predictions.neural <- predict(model.neural, dataset.test)"
   ]
  },
  {
   "cell_type": "code",
   "execution_count": 32,
   "id": "c86eb51b",
   "metadata": {},
   "outputs": [],
   "source": [
    "predictions.alom <- predict(model.alom, dataset.test)"
   ]
  },
  {
   "cell_type": "markdown",
   "id": "aaa03981",
   "metadata": {},
   "source": [
    "-----"
   ]
  },
  {
   "cell_type": "markdown",
   "id": "af67e3c0",
   "metadata": {},
   "source": [
    "### Métricas"
   ]
  },
  {
   "cell_type": "markdown",
   "id": "cc9060cc",
   "metadata": {},
   "source": [
    "- Cria funções para cálculo de $R^2$, $S_{yx}$ e $S_{yx}\\%$"
   ]
  },
  {
   "cell_type": "code",
   "execution_count": 33,
   "id": "58587c83",
   "metadata": {},
   "outputs": [],
   "source": [
    "functions.r2 <- function(observations, predictions) {\n",
    "    return (1 - (sum((observations - predictions) ^ 2) / sum((observations - mean(observations)) ^ 2)))\n",
    "}\n",
    "\n",
    "functions.syx <- function(observations, predictions) {\n",
    "    return (sqrt((sum((observations - predictions) ^ 2) / (length(observations) - 2))))\n",
    "}\n",
    "\n",
    "functions.syx_percent <- function(observations, predictions) {\n",
    "    return (functions.syx(observations, predictions) / mean(observations) * 100)\n",
    "}"
   ]
  },
  {
   "cell_type": "markdown",
   "id": "38e29004",
   "metadata": {},
   "source": [
    "- Métricas para Rando Forest"
   ]
  },
  {
   "cell_type": "code",
   "execution_count": 34,
   "id": "6e846e7a",
   "metadata": {},
   "outputs": [],
   "source": [
    "metrics.rf_r2 <- functions.r2(dataset.test$VOL, predictions.rf)\n",
    "metrics.rf_syx <- functions.syx(dataset.test$VOL, predictions.rf)\n",
    "metrics.rf_syx_percent <- functions.syx_percent(dataset.test$VOL, predictions.rf)"
   ]
  },
  {
   "cell_type": "markdown",
   "id": "2ca1ae80",
   "metadata": {},
   "source": [
    "- Métricas para SVM"
   ]
  },
  {
   "cell_type": "code",
   "execution_count": 35,
   "id": "f6f3a0ee",
   "metadata": {},
   "outputs": [],
   "source": [
    "metrics.svm_r2 <- functions.r2(dataset.test$VOL, predictions.svm)\n",
    "metrics.svm_syx <- functions.syx(dataset.test$VOL, predictions.svm)\n",
    "metrics.svm_syx_percent <- functions.syx_percent(dataset.test$VOL, predictions.svm)"
   ]
  },
  {
   "cell_type": "markdown",
   "id": "303db483",
   "metadata": {},
   "source": [
    "- Métricas para Neural Network"
   ]
  },
  {
   "cell_type": "code",
   "execution_count": 36,
   "id": "06e12c7a",
   "metadata": {},
   "outputs": [],
   "source": [
    "metrics.neural_r2 <- functions.r2(dataset.test$VOL, predictions.neural)\n",
    "metrics.neural_syx <- functions.syx(dataset.test$VOL, predictions.neural)\n",
    "metrics.neural_syx_percent <- functions.syx_percent(dataset.test$VOL, predictions.neural)"
   ]
  },
  {
   "cell_type": "markdown",
   "id": "05d50a1a",
   "metadata": {},
   "source": [
    "- Métricas para o modelo alométrico de Spurr"
   ]
  },
  {
   "cell_type": "code",
   "execution_count": 37,
   "id": "8828603c",
   "metadata": {},
   "outputs": [],
   "source": [
    "metrics.alom_r2 <- functions.r2(dataset.test$VOL, predictions.alom)\n",
    "metrics.alom_syx <- functions.syx(dataset.test$VOL, predictions.alom)\n",
    "metrics.alom_syx_percent <- functions.syx_percent(dataset.test$VOL, predictions.alom)"
   ]
  },
  {
   "cell_type": "markdown",
   "id": "459fab5c",
   "metadata": {},
   "source": [
    "-----"
   ]
  },
  {
   "cell_type": "markdown",
   "id": "4faf1b08",
   "metadata": {},
   "source": [
    "### Análise de resultados e conclusão"
   ]
  },
  {
   "cell_type": "markdown",
   "id": "4e4e4bb4",
   "metadata": {},
   "source": [
    "- Resultado consolidado"
   ]
  },
  {
   "cell_type": "code",
   "execution_count": 38,
   "id": "415d795e",
   "metadata": {},
   "outputs": [
    {
     "data": {
      "text/html": [
       "<table>\n",
       "<thead><tr><th></th><th scope=col>Random.Forest</th><th scope=col>SVM</th><th scope=col>Neural.Network</th><th scope=col>Alometric.Model</th></tr></thead>\n",
       "<tbody>\n",
       "\t<tr><th scope=row>R2</th><td> 0.8159382</td><td> 0.8471655</td><td> 0.8666900</td><td> 0.8328804</td></tr>\n",
       "\t<tr><th scope=row>Syx</th><td> 0.1813625</td><td> 0.1652633</td><td> 0.1543466</td><td> 0.1728142</td></tr>\n",
       "\t<tr><th scope=row>Sxy%</th><td>13.0543030</td><td>11.8954979</td><td>11.1097235</td><td>12.4390013</td></tr>\n",
       "</tbody>\n",
       "</table>\n"
      ],
      "text/latex": [
       "\\begin{tabular}{r|llll}\n",
       "  & Random.Forest & SVM & Neural.Network & Alometric.Model\\\\\n",
       "\\hline\n",
       "\tR2 &  0.8159382 &  0.8471655 &  0.8666900 &  0.8328804\\\\\n",
       "\tSyx &  0.1813625 &  0.1652633 &  0.1543466 &  0.1728142\\\\\n",
       "\tSxy\\% & 13.0543030 & 11.8954979 & 11.1097235 & 12.4390013\\\\\n",
       "\\end{tabular}\n"
      ],
      "text/markdown": [
       "\n",
       "| <!--/--> | Random.Forest | SVM | Neural.Network | Alometric.Model |\n",
       "|---|---|---|---|---|\n",
       "| R2 |  0.8159382 |  0.8471655 |  0.8666900 |  0.8328804 |\n",
       "| Syx |  0.1813625 |  0.1652633 |  0.1543466 |  0.1728142 |\n",
       "| Sxy% | 13.0543030 | 11.8954979 | 11.1097235 | 12.4390013 |\n",
       "\n"
      ],
      "text/plain": [
       "     Random.Forest SVM        Neural.Network Alometric.Model\n",
       "R2    0.8159382     0.8471655  0.8666900      0.8328804     \n",
       "Syx   0.1813625     0.1652633  0.1543466      0.1728142     \n",
       "Sxy% 13.0543030    11.8954979 11.1097235     12.4390013     "
      ]
     },
     "metadata": {},
     "output_type": "display_data"
    }
   ],
   "source": [
    "data.frame('Random Forest' = c(metrics.rf_r2, metrics.rf_syx, metrics.rf_syx_percent),\n",
    "           'SVM' = c(metrics.svm_r2, metrics.svm_syx, metrics.svm_syx_percent),\n",
    "           'Neural Network' = c(metrics.neural_r2, metrics.neural_syx, metrics.neural_syx_percent),\n",
    "           'Alometric Model' = c(metrics.alom_r2, metrics.alom_syx, metrics.alom_syx_percent), \n",
    "           row.names = c('R2', 'Syx','Sxy%'))"
   ]
  },
  {
   "cell_type": "markdown",
   "id": "659ed6c0",
   "metadata": {},
   "source": [
    "Baseado no nas estatísticas $R^2$, $S_{yx}$ e $S_{yx}\\%$, é possível concluir que o melhor modelo treinado é o modelo baseado em redes neurais (Neural Network) pois o mesmo possui a a maior taxa $R^2$ e a menor taxa $S_{yx}$"
   ]
  }
 ],
 "metadata": {
  "kernelspec": {
   "display_name": "R",
   "language": "R",
   "name": "ir"
  },
  "language_info": {
   "codemirror_mode": "r",
   "file_extension": ".r",
   "mimetype": "text/x-r-source",
   "name": "R",
   "pygments_lexer": "r",
   "version": "3.6.1"
  }
 },
 "nbformat": 4,
 "nbformat_minor": 5
}
