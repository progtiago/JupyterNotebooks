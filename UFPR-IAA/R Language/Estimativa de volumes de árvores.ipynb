{
 "cells": [
  {
   "cell_type": "markdown",
   "id": "81d4e3ed",
   "metadata": {},
   "source": [
    "# Estimativa de volumes de árvores"
   ]
  },
  {
   "cell_type": "markdown",
   "id": "2001fb21",
   "metadata": {},
   "source": [
    "Modelos de aprendizado de máquina são bastante usados na área da engenharia florestal (mensuração florestal) para, por exemplo, estimar o volume de madeira de árvores sem ser necessário abatê-las.\n",
    "\n",
    "O processo é feito pela coleta de dados (dados observados) através do abate de algumas árvores, onde sua altura, diâmetro na altura do peito (dap), etc, são medidos de forma exata. Com estes dados, treina-se um modelo de AM que pode estimar o volume de outras árvores da população.\n",
    "\n",
    "Os modelos, chamados **alométricos**, são usados na área há muitos anos e são baseados em regressão (linear ou não) para encontrar uma equação que descreve os dados. Por exemplo, o modelo de Spurr é dado por:\n",
    "\n",
    "$$Volume = b_0 + b_1 * dap ^ 2 * H_t$$\n",
    "\n",
    "Onde **dap** é o diâmetro na altura do peito (1,3 metros), $H_t$ é a altura total. Tem-se vários modelos alométricos, cada um com uma determinada característica, parâmetros, etc. Um modelo de regressão envolve aplicar os dados observados e encontrar $b_0$ e $b_1$ no modelo apresentado, gerando assim uma equação que pode ser usada para prever o volume de outras árvores.\n",
    "\n",
    "Dado o arquivo **Volumes.csv**, que contém os dados de observação, escolha um modelo de aprendizado de máquina com a melhor estimativa, a partir da estatística de correlação.\n",
    "\n",
    "**Tarefas**\n",
    "\n",
    "1. Carregar o arquivo Volumes.csv (http://www.razer.net.br/datasets/Volumes.csv)\n",
    "\n",
    "2. Eliminar a coluna NR, que só apresenta um número sequencial\n",
    "\n",
    "3. Criar partição de dados: treinamento 80%, teste 20%\n",
    "\n",
    "4. Usando o pacote \"caret\", treinar os modelos: Random Forest (rf), SVM (svmRadial), Redes Neurais (neuralnet) e o modelo alométrico de SPURR\n",
    "\n",
    "5. O modelo alométrico é dado por: Volume = $b_0$ + $b_1$ * $dap ^2$ * $H_t$\n",
    "\n",
    "6. Efetue as predições nos dados de teste\n",
    "\n",
    "7. Crie funções e calcule as seguintes métricas entre a predição e os dados observados\n",
    "\n",
    "- Coeficiente de determinação: $R^2$\n",
    "\n",
    "    $$R^2 = 1 - \\frac{\\sum_{i=1}^n (y_i - \\widehat{y_i})^2}{\\sum_{i=1}^n (y_i - \\overline{y} )^2}$$\n",
    "\n",
    "    Onde $y_i$ é o valor observado, $\\widehat{y_i}$ é o valor predito e $\\overline{y}$ é a média dos valores $y_i$ observados. Quanto mais perto de 1 melhor é o modelo;\n",
    "    \n",
    "- Erro padrão da estimativa: $S_{yx}$\n",
    "\n",
    "    $$S_{yx} = \\sqrt{\\frac{\\sum_{i=1}^n (y_i - \\widehat{y_i})^2}{n - 2}}$$\n",
    "\n",
    "    Esta métrica indica erro, portanto quanto mais perto de 0 melhor é o modelo;\n",
    "    \n",
    "- $S_{yx}$%:\n",
    "\n",
    "    $$S_{yx}\\% = \\frac{S_{xy}}{\\overline{y}} * 100$$\n",
    "\n",
    "    Esta métrica indica porcentagem de erro, portanto quanto mais perto de 0 melhor é o modelo;\n",
    "\n",
    "8. Escolha o melhor modelo"
   ]
  },
  {
   "cell_type": "markdown",
   "id": "754eddbc",
   "metadata": {},
   "source": [
    "## Solução"
   ]
  },
  {
   "cell_type": "markdown",
   "id": "a25d7150",
   "metadata": {},
   "source": [
    "Antes de começarmos precisamos carregar as bibliotecas necessárias para esse exercício:"
   ]
  },
  {
   "cell_type": "code",
   "execution_count": 622,
   "id": "0123a59d",
   "metadata": {},
   "outputs": [],
   "source": [
    "# install.packages(\"kernlab\")\n",
    "# install.packages(\"e1071\")\n",
    "# install.packages(\"randomForest\")\n",
    "# install.packages(\"kernlab\")\n",
    "# install.packages(\"caret\")\n",
    "\n",
    "library(\"caret\")"
   ]
  },
  {
   "cell_type": "markdown",
   "id": "8412e6e3",
   "metadata": {},
   "source": [
    "### Análise de dados"
   ]
  },
  {
   "cell_type": "markdown",
   "id": "bed8bdab",
   "metadata": {},
   "source": [
    "- Carrega os dados"
   ]
  },
  {
   "cell_type": "code",
   "execution_count": 601,
   "id": "d7057377",
   "metadata": {},
   "outputs": [],
   "source": [
    "dataset <- read.csv('http://www.razer.net.br/datasets/Volumes.csv', header = TRUE, sep = ';', dec = ',')"
   ]
  },
  {
   "cell_type": "code",
   "execution_count": 602,
   "id": "83be38bf",
   "metadata": {},
   "outputs": [
    {
     "data": {
      "text/html": [
       "<table>\n",
       "<thead><tr><th scope=col>NR</th><th scope=col>DAP</th><th scope=col>HT</th><th scope=col>HP</th><th scope=col>VOL</th></tr></thead>\n",
       "<tbody>\n",
       "\t<tr><td>1        </td><td>34.0     </td><td>27.00    </td><td>1.80     </td><td>0.8971441</td></tr>\n",
       "\t<tr><td>2        </td><td>41.5     </td><td>27.95    </td><td>2.75     </td><td>1.6204441</td></tr>\n",
       "\t<tr><td>3        </td><td>29.6     </td><td>26.35    </td><td>1.15     </td><td>0.8008181</td></tr>\n",
       "\t<tr><td>4        </td><td>34.3     </td><td>27.15    </td><td>1.95     </td><td>1.0791682</td></tr>\n",
       "\t<tr><td>5        </td><td>34.5     </td><td>26.20    </td><td>1.00     </td><td>0.9801112</td></tr>\n",
       "\t<tr><td>6        </td><td>29.9     </td><td>27.10    </td><td>1.90     </td><td>0.9067022</td></tr>\n",
       "</tbody>\n",
       "</table>\n"
      ],
      "text/latex": [
       "\\begin{tabular}{r|lllll}\n",
       " NR & DAP & HT & HP & VOL\\\\\n",
       "\\hline\n",
       "\t 1         & 34.0      & 27.00     & 1.80      & 0.8971441\\\\\n",
       "\t 2         & 41.5      & 27.95     & 2.75      & 1.6204441\\\\\n",
       "\t 3         & 29.6      & 26.35     & 1.15      & 0.8008181\\\\\n",
       "\t 4         & 34.3      & 27.15     & 1.95      & 1.0791682\\\\\n",
       "\t 5         & 34.5      & 26.20     & 1.00      & 0.9801112\\\\\n",
       "\t 6         & 29.9      & 27.10     & 1.90      & 0.9067022\\\\\n",
       "\\end{tabular}\n"
      ],
      "text/markdown": [
       "\n",
       "| NR | DAP | HT | HP | VOL |\n",
       "|---|---|---|---|---|\n",
       "| 1         | 34.0      | 27.00     | 1.80      | 0.8971441 |\n",
       "| 2         | 41.5      | 27.95     | 2.75      | 1.6204441 |\n",
       "| 3         | 29.6      | 26.35     | 1.15      | 0.8008181 |\n",
       "| 4         | 34.3      | 27.15     | 1.95      | 1.0791682 |\n",
       "| 5         | 34.5      | 26.20     | 1.00      | 0.9801112 |\n",
       "| 6         | 29.9      | 27.10     | 1.90      | 0.9067022 |\n",
       "\n"
      ],
      "text/plain": [
       "  NR DAP  HT    HP   VOL      \n",
       "1 1  34.0 27.00 1.80 0.8971441\n",
       "2 2  41.5 27.95 2.75 1.6204441\n",
       "3 3  29.6 26.35 1.15 0.8008181\n",
       "4 4  34.3 27.15 1.95 1.0791682\n",
       "5 5  34.5 26.20 1.00 0.9801112\n",
       "6 6  29.9 27.10 1.90 0.9067022"
      ]
     },
     "metadata": {},
     "output_type": "display_data"
    }
   ],
   "source": [
    "head(dataset)"
   ]
  },
  {
   "cell_type": "markdown",
   "id": "f82ffa28",
   "metadata": {},
   "source": [
    "- Remove a coluna NR do dataset"
   ]
  },
  {
   "cell_type": "code",
   "execution_count": 603,
   "id": "1e6ffd5f",
   "metadata": {},
   "outputs": [],
   "source": [
    "dataset <- dataset[-1]"
   ]
  },
  {
   "cell_type": "code",
   "execution_count": 604,
   "id": "92131656",
   "metadata": {},
   "outputs": [
    {
     "data": {
      "text/html": [
       "<table>\n",
       "<thead><tr><th scope=col>DAP</th><th scope=col>HT</th><th scope=col>HP</th><th scope=col>VOL</th></tr></thead>\n",
       "<tbody>\n",
       "\t<tr><td>34.0     </td><td>27.00    </td><td>1.80     </td><td>0.8971441</td></tr>\n",
       "\t<tr><td>41.5     </td><td>27.95    </td><td>2.75     </td><td>1.6204441</td></tr>\n",
       "\t<tr><td>29.6     </td><td>26.35    </td><td>1.15     </td><td>0.8008181</td></tr>\n",
       "\t<tr><td>34.3     </td><td>27.15    </td><td>1.95     </td><td>1.0791682</td></tr>\n",
       "\t<tr><td>34.5     </td><td>26.20    </td><td>1.00     </td><td>0.9801112</td></tr>\n",
       "\t<tr><td>29.9     </td><td>27.10    </td><td>1.90     </td><td>0.9067022</td></tr>\n",
       "</tbody>\n",
       "</table>\n"
      ],
      "text/latex": [
       "\\begin{tabular}{r|llll}\n",
       " DAP & HT & HP & VOL\\\\\n",
       "\\hline\n",
       "\t 34.0      & 27.00     & 1.80      & 0.8971441\\\\\n",
       "\t 41.5      & 27.95     & 2.75      & 1.6204441\\\\\n",
       "\t 29.6      & 26.35     & 1.15      & 0.8008181\\\\\n",
       "\t 34.3      & 27.15     & 1.95      & 1.0791682\\\\\n",
       "\t 34.5      & 26.20     & 1.00      & 0.9801112\\\\\n",
       "\t 29.9      & 27.10     & 1.90      & 0.9067022\\\\\n",
       "\\end{tabular}\n"
      ],
      "text/markdown": [
       "\n",
       "| DAP | HT | HP | VOL |\n",
       "|---|---|---|---|\n",
       "| 34.0      | 27.00     | 1.80      | 0.8971441 |\n",
       "| 41.5      | 27.95     | 2.75      | 1.6204441 |\n",
       "| 29.6      | 26.35     | 1.15      | 0.8008181 |\n",
       "| 34.3      | 27.15     | 1.95      | 1.0791682 |\n",
       "| 34.5      | 26.20     | 1.00      | 0.9801112 |\n",
       "| 29.9      | 27.10     | 1.90      | 0.9067022 |\n",
       "\n"
      ],
      "text/plain": [
       "  DAP  HT    HP   VOL      \n",
       "1 34.0 27.00 1.80 0.8971441\n",
       "2 41.5 27.95 2.75 1.6204441\n",
       "3 29.6 26.35 1.15 0.8008181\n",
       "4 34.3 27.15 1.95 1.0791682\n",
       "5 34.5 26.20 1.00 0.9801112\n",
       "6 29.9 27.10 1.90 0.9067022"
      ]
     },
     "metadata": {},
     "output_type": "display_data"
    }
   ],
   "source": [
    "head(dataset)"
   ]
  },
  {
   "cell_type": "markdown",
   "id": "8f9ae66f",
   "metadata": {},
   "source": [
    "----"
   ]
  },
  {
   "cell_type": "markdown",
   "id": "b29dde71",
   "metadata": {},
   "source": [
    "### Particionamento"
   ]
  },
  {
   "cell_type": "markdown",
   "id": "50ee2baa",
   "metadata": {},
   "source": [
    "- Particiona os dados em 80% para treinamento e 20% para testes"
   ]
  },
  {
   "cell_type": "code",
   "execution_count": 605,
   "id": "39c167b9",
   "metadata": {},
   "outputs": [],
   "source": [
    "library('caret')"
   ]
  },
  {
   "cell_type": "code",
   "execution_count": 606,
   "id": "5b899a98",
   "metadata": {},
   "outputs": [],
   "source": [
    "set.seed(1)\n",
    "indexes <- createDataPartition(dataset$VOL, p = 0.80, list = FALSE)"
   ]
  },
  {
   "cell_type": "code",
   "execution_count": 607,
   "id": "aea83948",
   "metadata": {},
   "outputs": [],
   "source": [
    "train_data <- dataset[indexes,]\n",
    "test_data <- dataset[-indexes,]"
   ]
  },
  {
   "cell_type": "markdown",
   "id": "75589440",
   "metadata": {},
   "source": [
    "-----"
   ]
  },
  {
   "cell_type": "markdown",
   "id": "918a32b7",
   "metadata": {},
   "source": [
    "### Treinamento de modelos"
   ]
  },
  {
   "cell_type": "markdown",
   "id": "a120b1df",
   "metadata": {},
   "source": [
    "- Random Forest"
   ]
  },
  {
   "cell_type": "code",
   "execution_count": 608,
   "id": "bff53425",
   "metadata": {},
   "outputs": [
    {
     "name": "stdout",
     "output_type": "stream",
     "text": [
      "note: only 2 unique complexity parameters in default grid. Truncating the grid to 2 .\n",
      "\n"
     ]
    }
   ],
   "source": [
    "set.seed(1)\n",
    "rf_model <- train(VOL ~., data = train_data, method = 'rf',\n",
    "                  trControl = trainControl('cv', number = 10), preProcess = c('center', 'scale'))"
   ]
  },
  {
   "cell_type": "markdown",
   "id": "522dc57d",
   "metadata": {},
   "source": [
    "- Svm"
   ]
  },
  {
   "cell_type": "code",
   "execution_count": 609,
   "id": "464f8c16",
   "metadata": {},
   "outputs": [],
   "source": [
    "set.seed(1)\n",
    "svm_model <- train(VOL ~., data = train_data, method = 'svmRadial',\n",
    "                  trControl = trainControl('cv', number = 10), preProcess = c('center', 'scale'))"
   ]
  },
  {
   "cell_type": "markdown",
   "id": "c332c46e",
   "metadata": {},
   "source": [
    "- Redes neurais"
   ]
  },
  {
   "cell_type": "code",
   "execution_count": 610,
   "id": "2d60ffe2",
   "metadata": {},
   "outputs": [],
   "source": [
    "set.seed(1)\n",
    "nn_model <- train(VOL ~ ., data = train_data, method = 'neuralnet', linear.output = TRUE, threshold = 0.1,\n",
    "                  trControl = trainControl('cv', number = 10), preProcess = c('center', 'scale'))"
   ]
  },
  {
   "cell_type": "markdown",
   "id": "4b71b486",
   "metadata": {},
   "source": [
    "- Modelo alométrico de SPURR"
   ]
  },
  {
   "cell_type": "code",
   "execution_count": 611,
   "id": "0f4add7e",
   "metadata": {},
   "outputs": [],
   "source": [
    "set.seed(1)\n",
    "alom_model <- nls(VOL ~ b0 + b1 * DAP * DAP * HT, train_data, start = list(b0 = 0.5, b1 = 0.5))"
   ]
  },
  {
   "cell_type": "markdown",
   "id": "e7bab22f",
   "metadata": {},
   "source": [
    "-----"
   ]
  },
  {
   "cell_type": "markdown",
   "id": "998a0edd",
   "metadata": {},
   "source": [
    "### Predições"
   ]
  },
  {
   "cell_type": "code",
   "execution_count": 612,
   "id": "e8475400",
   "metadata": {},
   "outputs": [],
   "source": [
    "rf_predictions <- predict(rf_model, test_data)"
   ]
  },
  {
   "cell_type": "code",
   "execution_count": 613,
   "id": "5baf6ec4",
   "metadata": {},
   "outputs": [],
   "source": [
    "svm_predictions <- predict(svm_model, test_data)"
   ]
  },
  {
   "cell_type": "code",
   "execution_count": 614,
   "id": "52fc0e5d",
   "metadata": {},
   "outputs": [],
   "source": [
    "nn_predictions <- predict(nn_model, test_data)"
   ]
  },
  {
   "cell_type": "code",
   "execution_count": 615,
   "id": "c86eb51b",
   "metadata": {},
   "outputs": [],
   "source": [
    "alom_predictions <- predict(alom_model, test_data)"
   ]
  },
  {
   "cell_type": "markdown",
   "id": "772d32d5",
   "metadata": {},
   "source": [
    "-----"
   ]
  },
  {
   "cell_type": "markdown",
   "id": "afb718f5",
   "metadata": {},
   "source": [
    "### Métricas"
   ]
  },
  {
   "cell_type": "markdown",
   "id": "2f5b412b",
   "metadata": {},
   "source": [
    "- Cria funções para cálculo de $Rˆ2$, $S_{yx}$ e $S_{yx}\\%$"
   ]
  },
  {
   "cell_type": "code",
   "execution_count": 616,
   "id": "58587c83",
   "metadata": {},
   "outputs": [],
   "source": [
    "r2 <- function(observations, predictions) {\n",
    "    return (1 - (sum((test_data$VOL - predictions) ^ 2) / sum((test_data$VOL - mean(test_data$VOL)) ^ 2)))\n",
    "}\n",
    "\n",
    "syx <- function(observations, predictions) {\n",
    "    return (sqrt((sum((test_data$VOL - predictions) ^ 2) / (length(test_data$VOL) - 2))))\n",
    "}\n",
    "\n",
    "syx_percent <- function(observations, predictions) {\n",
    "    return (syx(observations, predictions) / mean(test_data$VOL) * 100)\n",
    "}"
   ]
  },
  {
   "cell_type": "markdown",
   "id": "fccebdfa",
   "metadata": {},
   "source": [
    "- Calcula métricas para o modelo baseado em Random Forest"
   ]
  },
  {
   "cell_type": "code",
   "execution_count": 617,
   "id": "6e846e7a",
   "metadata": {},
   "outputs": [],
   "source": [
    "rf_r2 <- r2(test_data$VOL, rf_predictions)\n",
    "rf_syx <- syx(test_data$VOL, rf_predictions)\n",
    "rf_syx_percent <- syx_percent(test_data$VOL, rf_predictions)"
   ]
  },
  {
   "cell_type": "markdown",
   "id": "4db1ff5d",
   "metadata": {},
   "source": [
    "- Calcula métricas para o modelo baseado em SVM"
   ]
  },
  {
   "cell_type": "code",
   "execution_count": 618,
   "id": "0af37def",
   "metadata": {},
   "outputs": [],
   "source": [
    "svm_r2 <- r2(test_data$VOL, svm_predictions)\n",
    "svm_syx <- syx(test_data$VOL, svm_predictions)\n",
    "svm_syx_percent <- syx_percent(test_data$VOL, svm_predictions)"
   ]
  },
  {
   "cell_type": "markdown",
   "id": "f454db08",
   "metadata": {},
   "source": [
    "- Calcula métricas para o modelo baseado em Neural Network"
   ]
  },
  {
   "cell_type": "code",
   "execution_count": 619,
   "id": "056d38a4",
   "metadata": {},
   "outputs": [],
   "source": [
    "nn_r2 <- r2(test_data$VOL, nn_predictions)\n",
    "nn_syx <- syx(test_data$VOL, nn_predictions)\n",
    "nn_syx_percent <- syx_percent(test_data$VOL, nn_predictions)"
   ]
  },
  {
   "cell_type": "markdown",
   "id": "0d3b90cb",
   "metadata": {},
   "source": [
    "- Calcula métricas para o modelo alométrico de Spurr"
   ]
  },
  {
   "cell_type": "code",
   "execution_count": 620,
   "id": "9aa3c674",
   "metadata": {},
   "outputs": [],
   "source": [
    "alom_r2 <- r2(test_data$VOL, alom_predictions)\n",
    "alom_syx <- syx(test_data$VOL, alom_predictions)\n",
    "alom_syx_percent <- syx_percent(test_data$VOL, alom_predictions)"
   ]
  },
  {
   "cell_type": "markdown",
   "id": "53813c0b",
   "metadata": {},
   "source": [
    "-----"
   ]
  },
  {
   "cell_type": "markdown",
   "id": "fc0e6f92",
   "metadata": {},
   "source": [
    "### Análise de resultados e conclusão"
   ]
  },
  {
   "cell_type": "markdown",
   "id": "c242e4f1",
   "metadata": {},
   "source": [
    "- Resultado consolidado"
   ]
  },
  {
   "cell_type": "code",
   "execution_count": 628,
   "id": "5ad6ad80",
   "metadata": {},
   "outputs": [
    {
     "data": {
      "text/html": [
       "<table>\n",
       "<thead><tr><th></th><th scope=col>RF</th><th scope=col>SVM</th><th scope=col>NN</th><th scope=col>ALOM</th></tr></thead>\n",
       "<tbody>\n",
       "\t<tr><th scope=row>$R^2$</th><td> 0.8159382</td><td> 0.8471655</td><td> 0.8666900</td><td> 0.8328804</td></tr>\n",
       "\t<tr><th scope=row>Syx</th><td> 0.1813625</td><td> 0.1652633</td><td> 0.1543466</td><td> 0.1728142</td></tr>\n",
       "\t<tr><th scope=row>Sxy%</th><td>13.0543030</td><td>11.8954979</td><td>11.1097235</td><td>12.4390013</td></tr>\n",
       "</tbody>\n",
       "</table>\n"
      ],
      "text/latex": [
       "\\begin{tabular}{r|llll}\n",
       "  & RF & SVM & NN & ALOM\\\\\n",
       "\\hline\n",
       "\t\\$R\\textasciicircum{}2\\$ &  0.8159382 &  0.8471655 &  0.8666900 &  0.8328804\\\\\n",
       "\tSyx &  0.1813625 &  0.1652633 &  0.1543466 &  0.1728142\\\\\n",
       "\tSxy\\% & 13.0543030 & 11.8954979 & 11.1097235 & 12.4390013\\\\\n",
       "\\end{tabular}\n"
      ],
      "text/markdown": [
       "\n",
       "| <!--/--> | RF | SVM | NN | ALOM |\n",
       "|---|---|---|---|---|\n",
       "| $R^2$ |  0.8159382 |  0.8471655 |  0.8666900 |  0.8328804 |\n",
       "| Syx |  0.1813625 |  0.1652633 |  0.1543466 |  0.1728142 |\n",
       "| Sxy% | 13.0543030 | 11.8954979 | 11.1097235 | 12.4390013 |\n",
       "\n"
      ],
      "text/plain": [
       "      RF         SVM        NN         ALOM      \n",
       "$R^2$  0.8159382  0.8471655  0.8666900  0.8328804\n",
       "Syx    0.1813625  0.1652633  0.1543466  0.1728142\n",
       "Sxy%  13.0543030 11.8954979 11.1097235 12.4390013"
      ]
     },
     "metadata": {},
     "output_type": "display_data"
    }
   ],
   "source": [
    "data.frame('RF' = c(rf_r2, rf_syx, rf_syx_percent),\n",
    "           'SVM' = c(svm_r2, svm_syx, svm_syx_percent),\n",
    "           'NN' = c(nn_r2, nn_syx, nn_syx_percent),\n",
    "           'ALOM' = c(alom_r2, alom_syx, alom_syx_percent), \n",
    "           row.names = c('$R^2$', 'Syx','Sxy%'))"
   ]
  },
  {
   "cell_type": "markdown",
   "id": "d2b31d84",
   "metadata": {},
   "source": [
    "Baseado no nas estatísticas $R^2$, $S_{yx}$ e $S_{yx}\\%$, é possível concluir que o melhor modelo treinado é o modelo baseado em redes neurais (Neural Network) pois o mesmo possui a a maior taxa $R^2$ e a menor taxa $S_{xy}$"
   ]
  }
 ],
 "metadata": {
  "kernelspec": {
   "display_name": "R",
   "language": "R",
   "name": "ir"
  },
  "language_info": {
   "codemirror_mode": "r",
   "file_extension": ".r",
   "mimetype": "text/x-r-source",
   "name": "R",
   "pygments_lexer": "r",
   "version": "3.6.1"
  }
 },
 "nbformat": 4,
 "nbformat_minor": 5
}
