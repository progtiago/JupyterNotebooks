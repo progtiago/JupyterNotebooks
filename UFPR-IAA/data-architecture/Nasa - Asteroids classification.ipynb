{
 "cells": [
  {
   "cell_type": "markdown",
   "id": "616356f9",
   "metadata": {},
   "source": [
    "# Nasa - Asteroids classification"
   ]
  },
  {
   "cell_type": "markdown",
   "id": "060e0d09",
   "metadata": {},
   "source": [
    "Esse notebook faz parte do trabalho da disciplina de Arquitetura de dados, ministrado pelo Prof. Dr. Dieval Guizelini, do curso de Pós Graduação em Inteligência Artificial Aplicada da UFPR.\n",
    "\n",
    "O objetivo é aplicar técnicas de pré processamento de dados com a finalidade de melhorar a primeira classificação feita sem tais técnicas.\n",
    "\n",
    "Usaremos a base de classificação de asteróides presente em: https://www.kaggle.com/shrutimehta/nasa-asteroids-classification.\n",
    "\n",
    "**Alunos:** Luiza R. Marinho e Tiago J. da Silva"
   ]
  },
  {
   "cell_type": "markdown",
   "id": "297867b8",
   "metadata": {},
   "source": [
    "---"
   ]
  },
  {
   "cell_type": "markdown",
   "id": "21e7390e",
   "metadata": {},
   "source": [
    "## 1. Para começar"
   ]
  },
  {
   "cell_type": "markdown",
   "id": "c3e4ffd5",
   "metadata": {},
   "source": [
    "A base escolhida é a base de classificação de asteróides próximos à Terra entre entre perigosos (com risco de colisão com a Terra) e não perigosos. *NEO* nesse contexto é o acrônimo para *Near Earth Object* e a página https://cneos.jpl.nasa.gov/about/neo_groups.html apresenta mais detalhes para aprofundamento.\n",
    "\n",
    "**Característica da base**\n",
    "\n",
    "- Essa base possui **4687 padrões**;\n",
    "- A base possui **40 atributos**, sendo 39 features e 1 atributo classificador;\n",
    "- Os padrões estão divididos entre **duas classes**;\n",
    "- As classes presentes são **True** (risco de colisão) e **False** (sem risco de colisão);\n",
    "- O atributo que representa a classe é Hazardous;\n",
    "- **Há um problema de prevalência** tendo que a classe True concentra 84% dos padrões enquanto a classe False os 16% restantes;\n",
    "\n",
    "**Tecnologias usadas**\n",
    "\n",
    "- Python\n",
    "- Scikit Learn framework"
   ]
  },
  {
   "cell_type": "markdown",
   "id": "a02b5823",
   "metadata": {},
   "source": [
    "### Leitura da base"
   ]
  },
  {
   "cell_type": "code",
   "execution_count": 69,
   "id": "c4e21520",
   "metadata": {},
   "outputs": [],
   "source": [
    "import pandas as pd"
   ]
  },
  {
   "cell_type": "code",
   "execution_count": 70,
   "id": "24128eb3",
   "metadata": {},
   "outputs": [],
   "source": [
    "neo_df = pd.read_csv('nasa-asteroides-database.csv', sep = ',', engine = 'python', \n",
    "                            parse_dates=['Close Approach Date', 'Orbit Determination Date'])"
   ]
  },
  {
   "cell_type": "code",
   "execution_count": 71,
   "id": "79a053a7",
   "metadata": {},
   "outputs": [
    {
     "data": {
      "text/html": [
       "<div>\n",
       "<style scoped>\n",
       "    .dataframe tbody tr th:only-of-type {\n",
       "        vertical-align: middle;\n",
       "    }\n",
       "\n",
       "    .dataframe tbody tr th {\n",
       "        vertical-align: top;\n",
       "    }\n",
       "\n",
       "    .dataframe thead th {\n",
       "        text-align: right;\n",
       "    }\n",
       "</style>\n",
       "<table border=\"1\" class=\"dataframe\">\n",
       "  <thead>\n",
       "    <tr style=\"text-align: right;\">\n",
       "      <th></th>\n",
       "      <th>Neo Reference ID</th>\n",
       "      <th>Name</th>\n",
       "      <th>Absolute Magnitude</th>\n",
       "      <th>Est Dia in KM(min)</th>\n",
       "      <th>Est Dia in KM(max)</th>\n",
       "      <th>Est Dia in M(min)</th>\n",
       "      <th>Est Dia in M(max)</th>\n",
       "      <th>Est Dia in Miles(min)</th>\n",
       "      <th>Est Dia in Miles(max)</th>\n",
       "      <th>Est Dia in Feet(min)</th>\n",
       "      <th>...</th>\n",
       "      <th>Asc Node Longitude</th>\n",
       "      <th>Orbital Period</th>\n",
       "      <th>Perihelion Distance</th>\n",
       "      <th>Perihelion Arg</th>\n",
       "      <th>Aphelion Dist</th>\n",
       "      <th>Perihelion Time</th>\n",
       "      <th>Mean Anomaly</th>\n",
       "      <th>Mean Motion</th>\n",
       "      <th>Equinox</th>\n",
       "      <th>Hazardous</th>\n",
       "    </tr>\n",
       "  </thead>\n",
       "  <tbody>\n",
       "    <tr>\n",
       "      <th>0</th>\n",
       "      <td>3703080</td>\n",
       "      <td>3703080</td>\n",
       "      <td>21.6</td>\n",
       "      <td>0.127220</td>\n",
       "      <td>0.284472</td>\n",
       "      <td>127.219879</td>\n",
       "      <td>284.472297</td>\n",
       "      <td>0.079051</td>\n",
       "      <td>0.176763</td>\n",
       "      <td>417.388066</td>\n",
       "      <td>...</td>\n",
       "      <td>314.373913</td>\n",
       "      <td>609.599786</td>\n",
       "      <td>0.808259</td>\n",
       "      <td>57.257470</td>\n",
       "      <td>2.005764</td>\n",
       "      <td>2.458162e+06</td>\n",
       "      <td>264.837533</td>\n",
       "      <td>0.590551</td>\n",
       "      <td>J2000</td>\n",
       "      <td>True</td>\n",
       "    </tr>\n",
       "    <tr>\n",
       "      <th>1</th>\n",
       "      <td>3723955</td>\n",
       "      <td>3723955</td>\n",
       "      <td>21.3</td>\n",
       "      <td>0.146068</td>\n",
       "      <td>0.326618</td>\n",
       "      <td>146.067964</td>\n",
       "      <td>326.617897</td>\n",
       "      <td>0.090762</td>\n",
       "      <td>0.202951</td>\n",
       "      <td>479.225620</td>\n",
       "      <td>...</td>\n",
       "      <td>136.717242</td>\n",
       "      <td>425.869294</td>\n",
       "      <td>0.718200</td>\n",
       "      <td>313.091975</td>\n",
       "      <td>1.497352</td>\n",
       "      <td>2.457795e+06</td>\n",
       "      <td>173.741112</td>\n",
       "      <td>0.845330</td>\n",
       "      <td>J2000</td>\n",
       "      <td>False</td>\n",
       "    </tr>\n",
       "    <tr>\n",
       "      <th>2</th>\n",
       "      <td>2446862</td>\n",
       "      <td>2446862</td>\n",
       "      <td>20.3</td>\n",
       "      <td>0.231502</td>\n",
       "      <td>0.517654</td>\n",
       "      <td>231.502122</td>\n",
       "      <td>517.654482</td>\n",
       "      <td>0.143849</td>\n",
       "      <td>0.321655</td>\n",
       "      <td>759.521423</td>\n",
       "      <td>...</td>\n",
       "      <td>259.475979</td>\n",
       "      <td>643.580228</td>\n",
       "      <td>0.950791</td>\n",
       "      <td>248.415038</td>\n",
       "      <td>1.966857</td>\n",
       "      <td>2.458120e+06</td>\n",
       "      <td>292.893654</td>\n",
       "      <td>0.559371</td>\n",
       "      <td>J2000</td>\n",
       "      <td>True</td>\n",
       "    </tr>\n",
       "    <tr>\n",
       "      <th>3</th>\n",
       "      <td>3092506</td>\n",
       "      <td>3092506</td>\n",
       "      <td>27.4</td>\n",
       "      <td>0.008801</td>\n",
       "      <td>0.019681</td>\n",
       "      <td>8.801465</td>\n",
       "      <td>19.680675</td>\n",
       "      <td>0.005469</td>\n",
       "      <td>0.012229</td>\n",
       "      <td>28.876199</td>\n",
       "      <td>...</td>\n",
       "      <td>57.173266</td>\n",
       "      <td>514.082140</td>\n",
       "      <td>0.983902</td>\n",
       "      <td>18.707701</td>\n",
       "      <td>1.527904</td>\n",
       "      <td>2.457902e+06</td>\n",
       "      <td>68.741007</td>\n",
       "      <td>0.700277</td>\n",
       "      <td>J2000</td>\n",
       "      <td>False</td>\n",
       "    </tr>\n",
       "    <tr>\n",
       "      <th>4</th>\n",
       "      <td>3514799</td>\n",
       "      <td>3514799</td>\n",
       "      <td>21.6</td>\n",
       "      <td>0.127220</td>\n",
       "      <td>0.284472</td>\n",
       "      <td>127.219879</td>\n",
       "      <td>284.472297</td>\n",
       "      <td>0.079051</td>\n",
       "      <td>0.176763</td>\n",
       "      <td>417.388066</td>\n",
       "      <td>...</td>\n",
       "      <td>84.629307</td>\n",
       "      <td>495.597821</td>\n",
       "      <td>0.967687</td>\n",
       "      <td>158.263596</td>\n",
       "      <td>1.483543</td>\n",
       "      <td>2.457814e+06</td>\n",
       "      <td>135.142133</td>\n",
       "      <td>0.726395</td>\n",
       "      <td>J2000</td>\n",
       "      <td>True</td>\n",
       "    </tr>\n",
       "  </tbody>\n",
       "</table>\n",
       "<p>5 rows × 40 columns</p>\n",
       "</div>"
      ],
      "text/plain": [
       "   Neo Reference ID     Name  Absolute Magnitude  Est Dia in KM(min)  \\\n",
       "0           3703080  3703080                21.6            0.127220   \n",
       "1           3723955  3723955                21.3            0.146068   \n",
       "2           2446862  2446862                20.3            0.231502   \n",
       "3           3092506  3092506                27.4            0.008801   \n",
       "4           3514799  3514799                21.6            0.127220   \n",
       "\n",
       "   Est Dia in KM(max)  Est Dia in M(min)  Est Dia in M(max)  \\\n",
       "0            0.284472         127.219879         284.472297   \n",
       "1            0.326618         146.067964         326.617897   \n",
       "2            0.517654         231.502122         517.654482   \n",
       "3            0.019681           8.801465          19.680675   \n",
       "4            0.284472         127.219879         284.472297   \n",
       "\n",
       "   Est Dia in Miles(min)  Est Dia in Miles(max)  Est Dia in Feet(min)  ...  \\\n",
       "0               0.079051               0.176763            417.388066  ...   \n",
       "1               0.090762               0.202951            479.225620  ...   \n",
       "2               0.143849               0.321655            759.521423  ...   \n",
       "3               0.005469               0.012229             28.876199  ...   \n",
       "4               0.079051               0.176763            417.388066  ...   \n",
       "\n",
       "   Asc Node Longitude Orbital Period  Perihelion Distance  Perihelion Arg  \\\n",
       "0          314.373913     609.599786             0.808259       57.257470   \n",
       "1          136.717242     425.869294             0.718200      313.091975   \n",
       "2          259.475979     643.580228             0.950791      248.415038   \n",
       "3           57.173266     514.082140             0.983902       18.707701   \n",
       "4           84.629307     495.597821             0.967687      158.263596   \n",
       "\n",
       "   Aphelion Dist  Perihelion Time  Mean Anomaly  Mean Motion  Equinox  \\\n",
       "0       2.005764     2.458162e+06    264.837533     0.590551    J2000   \n",
       "1       1.497352     2.457795e+06    173.741112     0.845330    J2000   \n",
       "2       1.966857     2.458120e+06    292.893654     0.559371    J2000   \n",
       "3       1.527904     2.457902e+06     68.741007     0.700277    J2000   \n",
       "4       1.483543     2.457814e+06    135.142133     0.726395    J2000   \n",
       "\n",
       "   Hazardous  \n",
       "0       True  \n",
       "1      False  \n",
       "2       True  \n",
       "3      False  \n",
       "4       True  \n",
       "\n",
       "[5 rows x 40 columns]"
      ]
     },
     "execution_count": 71,
     "metadata": {},
     "output_type": "execute_result"
    }
   ],
   "source": [
    "neo_df.head()"
   ]
  },
  {
   "cell_type": "markdown",
   "id": "288d4468",
   "metadata": {},
   "source": [
    "### Análise descritiva"
   ]
  },
  {
   "cell_type": "markdown",
   "id": "987ed93f",
   "metadata": {},
   "source": [
    "#### Descrição dos atributos"
   ]
  },
  {
   "cell_type": "markdown",
   "id": "68fa7b44",
   "metadata": {},
   "source": [
    "| Atributo | Definição* | Tipo de dado |\n",
    "| :--- | :--- | :--- |\n",
    "| Neo Reference ID | Near Earth Object (NEO) reference ID number for an asteroid (or a comet) which comes close to earth| Nominal |\n",
    "| Name | 'Name' of asteroid (same as NEO Reference ID) | Nominal |\n",
    "| Absolute Magnitude | A measure of the asteroid's luminosity (in H) (the brightness of an asteroid if it is 1 astronomical unit away from both the Sun and the observer, and the angle between the Sun, asteroid, and Earth is 0 degrees) | Nominal |\n",
    "| Est Dia in KM(min) | Minimum estimated diameter of the asteroid in KM | Nominal |\n",
    "| Est Dia in KM(max) | Maximum estimated diameter of the asteroid in KM | Nominal |\n",
    "| Est Dia in M(min) | Minimum estimated diameter of the asteroid in M | Nominal |\n",
    "| Est Dia in M(max) | Maximum estimated diameter of the asteroid in M | Nominal |\n",
    "| Est Dia in Miles(min) | Minimum estimated diameter of the asteroid in Miles | Nominal |\n",
    "| Est Dia in Miles(max) | Maximum estimated diameter of the asteroid in Miles | Nominal |\n",
    "| Est Dia in Feet(min) | Minimum estimated diameter of the asteroid in Feet | Nominal |\n",
    "| Est Dia in Feet(max) | Maximum estimated diameter of the asteroid in Feet | Nominal |\n",
    "| Close Approach Date | Date at which the asteroid approaches close to Earth | Nominal |\n",
    "| Epoch Date Close Approach | Date at which the asteroid approaches close to Earth (in epoch time) | Nominal |\n",
    "| Relative Velocity km per sec | Asteroid's velocity relative to earth in km per sec | Nominal |\n",
    "| Relative Velocity km per hr | Asteroid's velocity relative to earth in km per hr | Nominal |\n",
    "| Miles per hour | Asteroid's velocity relative to earth in miles per hour | Nominal |\n",
    "| Miss Dist.(Astronomical) | Distance by which the asteroid misses Earth in astronomical | Nominal |\n",
    "| Miss Dist.(lunar) | Distance by which the asteroid misses Earth in lunar | Nominal |\n",
    "| Miss Dist.(kilometers) | Distance by which the asteroid misses Earth in km) | Nominal |\n",
    "| Miss Dist.(miles) | Distance by which the asteroid misses Earth in miles | Nominal |\n",
    "| Orbiting Body | Name of orbited body | Nominal |\n",
    "| Orbit ID | An ID of JPL NEA orbit that JPL Nasa uses in its analysis | Nominal |\n",
    "| Orbit Determination Date | Date at which the asteroid's orbit was determined | Nominal |\n",
    "| Orbit Uncertainity | A measure of the uncertainity ('measurement errors') in the calculated orbit | Nominal |\n",
    "| Minimum Orbit Intersection | The closest distance between Earth and the asteroid in their respective orbits (in astronomical units) | Nominal |\n",
    "| Jupiter Tisserand Invariant | A value used to differentiate between asteroids and Jupiter-family comets | Nominal |\n",
    "| Epoch Osculation | The instance of time at which the asteroid's position and velocity vectors (from which its osculating orbit is calculated) is specified | Nominal |\n",
    "| Eccentricity | A value which specifies by how much the asteroid's orbit deviates from a perfect circle | Nominal |\n",
    "| Semi Major Axis | The longest radius of an elliptical orbit; a easure of the asteroid's average distance from the Sun (asteroids orbit the Sun) | Nominal |\n",
    "| Inclination | Measures the tilt of the asteroid's orbit around the Sun | Nominal |\n",
    "| Asc Node Longitude | (copying from NASA) 'Angle in the ecliptic plane between the inertial-frame x-axis and the line through the ascending node' | Nominal |\n",
    "| Orbital Period | Time taken for asteroid to complete a single orbit around the Sun | Nominal |\n",
    "| Perihelion Distance | Distance of point in asteroid's orbit which is closest to the Sun | Nominal |\n",
    "| Perihelion Arg | (copying from Nasa) 'The angle (in the body's orbit plane) between the ascending node line and perihelion measured in the direction of the body's orbit' | Nominal |\n",
    "| Aphelion Dist | Distance of point in asteroid's orbit which is farthest from the Sun | Nominal |\n",
    "| Perihelion Time | Length of time of asteroid's passage through the perihelion stage | Nominal |\n",
    "| Mean Anomaly | (copying from Nasa) 'The product of an orbiting body's mean motion and time past perihelion passage') | Nominal |\n",
    "| Mean Motion | (copying from Nasa) 'The angular speed required for a body to make one orbit around an ideal ellipse with a specific semi-major axis' | Nominal |\n",
    "| Equinox | An astronomical standard to measure against (currently 'J2000.0') | Nominal |\n",
    "| Hazardous | Is the asteroid hazardous? (True or False) | Nominal |\n",
    "\n",
    "*Fonte: https://www.kaggle.com/kaggleuser654/is-the-asteroid-hazardous"
   ]
  },
  {
   "cell_type": "markdown",
   "id": "519835ca",
   "metadata": {},
   "source": [
    "#### Padrões por classe:"
   ]
  },
  {
   "cell_type": "code",
   "execution_count": 72,
   "id": "aca80b44",
   "metadata": {},
   "outputs": [
    {
     "data": {
      "text/plain": [
       "False    3932\n",
       "True      755\n",
       "Name: Hazardous, dtype: int64"
      ]
     },
     "execution_count": 72,
     "metadata": {},
     "output_type": "execute_result"
    }
   ],
   "source": [
    "neo_df['Hazardous'].value_counts()"
   ]
  },
  {
   "cell_type": "markdown",
   "id": "0ff78c62",
   "metadata": {},
   "source": [
    "#### Estatísticas"
   ]
  },
  {
   "cell_type": "code",
   "execution_count": 73,
   "id": "5f1d38ca",
   "metadata": {},
   "outputs": [
    {
     "data": {
      "text/html": [
       "<div>\n",
       "<style scoped>\n",
       "    .dataframe tbody tr th:only-of-type {\n",
       "        vertical-align: middle;\n",
       "    }\n",
       "\n",
       "    .dataframe tbody tr th {\n",
       "        vertical-align: top;\n",
       "    }\n",
       "\n",
       "    .dataframe thead th {\n",
       "        text-align: right;\n",
       "    }\n",
       "</style>\n",
       "<table border=\"1\" class=\"dataframe\">\n",
       "  <thead>\n",
       "    <tr style=\"text-align: right;\">\n",
       "      <th></th>\n",
       "      <th>Neo Reference ID</th>\n",
       "      <th>Name</th>\n",
       "      <th>Absolute Magnitude</th>\n",
       "      <th>Est Dia in KM(min)</th>\n",
       "      <th>Est Dia in KM(max)</th>\n",
       "      <th>Est Dia in M(min)</th>\n",
       "      <th>Est Dia in M(max)</th>\n",
       "      <th>Est Dia in Miles(min)</th>\n",
       "      <th>Est Dia in Miles(max)</th>\n",
       "      <th>Est Dia in Feet(min)</th>\n",
       "      <th>...</th>\n",
       "      <th>Semi Major Axis</th>\n",
       "      <th>Inclination</th>\n",
       "      <th>Asc Node Longitude</th>\n",
       "      <th>Orbital Period</th>\n",
       "      <th>Perihelion Distance</th>\n",
       "      <th>Perihelion Arg</th>\n",
       "      <th>Aphelion Dist</th>\n",
       "      <th>Perihelion Time</th>\n",
       "      <th>Mean Anomaly</th>\n",
       "      <th>Mean Motion</th>\n",
       "    </tr>\n",
       "  </thead>\n",
       "  <tbody>\n",
       "    <tr>\n",
       "      <th>count</th>\n",
       "      <td>4.687000e+03</td>\n",
       "      <td>4.687000e+03</td>\n",
       "      <td>4687.000000</td>\n",
       "      <td>4687.000000</td>\n",
       "      <td>4687.000000</td>\n",
       "      <td>4687.000000</td>\n",
       "      <td>4687.000000</td>\n",
       "      <td>4687.000000</td>\n",
       "      <td>4687.000000</td>\n",
       "      <td>4687.000000</td>\n",
       "      <td>...</td>\n",
       "      <td>4687.000000</td>\n",
       "      <td>4687.000000</td>\n",
       "      <td>4687.000000</td>\n",
       "      <td>4687.000000</td>\n",
       "      <td>4687.000000</td>\n",
       "      <td>4687.000000</td>\n",
       "      <td>4687.000000</td>\n",
       "      <td>4.687000e+03</td>\n",
       "      <td>4687.000000</td>\n",
       "      <td>4687.000000</td>\n",
       "    </tr>\n",
       "    <tr>\n",
       "      <th>mean</th>\n",
       "      <td>3.272298e+06</td>\n",
       "      <td>3.272298e+06</td>\n",
       "      <td>22.267865</td>\n",
       "      <td>0.204604</td>\n",
       "      <td>0.457509</td>\n",
       "      <td>204.604203</td>\n",
       "      <td>457.508906</td>\n",
       "      <td>0.127135</td>\n",
       "      <td>0.284283</td>\n",
       "      <td>671.273653</td>\n",
       "      <td>...</td>\n",
       "      <td>1.400264</td>\n",
       "      <td>13.373844</td>\n",
       "      <td>172.157275</td>\n",
       "      <td>635.582076</td>\n",
       "      <td>0.813383</td>\n",
       "      <td>183.932151</td>\n",
       "      <td>1.987144</td>\n",
       "      <td>2.457728e+06</td>\n",
       "      <td>181.167927</td>\n",
       "      <td>0.738242</td>\n",
       "    </tr>\n",
       "    <tr>\n",
       "      <th>std</th>\n",
       "      <td>5.486011e+05</td>\n",
       "      <td>5.486011e+05</td>\n",
       "      <td>2.890972</td>\n",
       "      <td>0.369573</td>\n",
       "      <td>0.826391</td>\n",
       "      <td>369.573402</td>\n",
       "      <td>826.391249</td>\n",
       "      <td>0.229642</td>\n",
       "      <td>0.513496</td>\n",
       "      <td>1212.511199</td>\n",
       "      <td>...</td>\n",
       "      <td>0.524154</td>\n",
       "      <td>10.936227</td>\n",
       "      <td>103.276777</td>\n",
       "      <td>370.954727</td>\n",
       "      <td>0.242059</td>\n",
       "      <td>103.513035</td>\n",
       "      <td>0.951519</td>\n",
       "      <td>9.442264e+02</td>\n",
       "      <td>107.501623</td>\n",
       "      <td>0.342627</td>\n",
       "    </tr>\n",
       "    <tr>\n",
       "      <th>min</th>\n",
       "      <td>2.000433e+06</td>\n",
       "      <td>2.000433e+06</td>\n",
       "      <td>11.160000</td>\n",
       "      <td>0.001011</td>\n",
       "      <td>0.002260</td>\n",
       "      <td>1.010543</td>\n",
       "      <td>2.259644</td>\n",
       "      <td>0.000628</td>\n",
       "      <td>0.001404</td>\n",
       "      <td>3.315431</td>\n",
       "      <td>...</td>\n",
       "      <td>0.615920</td>\n",
       "      <td>0.014513</td>\n",
       "      <td>0.001941</td>\n",
       "      <td>176.557161</td>\n",
       "      <td>0.080744</td>\n",
       "      <td>0.006918</td>\n",
       "      <td>0.803765</td>\n",
       "      <td>2.450100e+06</td>\n",
       "      <td>0.003191</td>\n",
       "      <td>0.086285</td>\n",
       "    </tr>\n",
       "    <tr>\n",
       "      <th>25%</th>\n",
       "      <td>3.097594e+06</td>\n",
       "      <td>3.097594e+06</td>\n",
       "      <td>20.100000</td>\n",
       "      <td>0.033462</td>\n",
       "      <td>0.074824</td>\n",
       "      <td>33.462237</td>\n",
       "      <td>74.823838</td>\n",
       "      <td>0.020792</td>\n",
       "      <td>0.046493</td>\n",
       "      <td>109.784247</td>\n",
       "      <td>...</td>\n",
       "      <td>1.000635</td>\n",
       "      <td>4.962341</td>\n",
       "      <td>83.081208</td>\n",
       "      <td>365.605031</td>\n",
       "      <td>0.630834</td>\n",
       "      <td>95.625916</td>\n",
       "      <td>1.266059</td>\n",
       "      <td>2.457815e+06</td>\n",
       "      <td>87.006918</td>\n",
       "      <td>0.453289</td>\n",
       "    </tr>\n",
       "    <tr>\n",
       "      <th>50%</th>\n",
       "      <td>3.514799e+06</td>\n",
       "      <td>3.514799e+06</td>\n",
       "      <td>21.900000</td>\n",
       "      <td>0.110804</td>\n",
       "      <td>0.247765</td>\n",
       "      <td>110.803882</td>\n",
       "      <td>247.765013</td>\n",
       "      <td>0.068850</td>\n",
       "      <td>0.153954</td>\n",
       "      <td>363.529809</td>\n",
       "      <td>...</td>\n",
       "      <td>1.240981</td>\n",
       "      <td>10.311836</td>\n",
       "      <td>172.625393</td>\n",
       "      <td>504.947292</td>\n",
       "      <td>0.833153</td>\n",
       "      <td>189.761641</td>\n",
       "      <td>1.618195</td>\n",
       "      <td>2.457973e+06</td>\n",
       "      <td>185.718889</td>\n",
       "      <td>0.712946</td>\n",
       "    </tr>\n",
       "    <tr>\n",
       "      <th>75%</th>\n",
       "      <td>3.690060e+06</td>\n",
       "      <td>3.690060e+06</td>\n",
       "      <td>24.500000</td>\n",
       "      <td>0.253837</td>\n",
       "      <td>0.567597</td>\n",
       "      <td>253.837029</td>\n",
       "      <td>567.596853</td>\n",
       "      <td>0.157727</td>\n",
       "      <td>0.352688</td>\n",
       "      <td>832.798679</td>\n",
       "      <td>...</td>\n",
       "      <td>1.678364</td>\n",
       "      <td>19.511681</td>\n",
       "      <td>255.026909</td>\n",
       "      <td>794.195972</td>\n",
       "      <td>0.997227</td>\n",
       "      <td>271.777557</td>\n",
       "      <td>2.451171</td>\n",
       "      <td>2.458108e+06</td>\n",
       "      <td>276.531946</td>\n",
       "      <td>0.984669</td>\n",
       "    </tr>\n",
       "    <tr>\n",
       "      <th>max</th>\n",
       "      <td>3.781897e+06</td>\n",
       "      <td>3.781897e+06</td>\n",
       "      <td>32.100000</td>\n",
       "      <td>15.579552</td>\n",
       "      <td>34.836938</td>\n",
       "      <td>15579.552413</td>\n",
       "      <td>34836.938254</td>\n",
       "      <td>9.680682</td>\n",
       "      <td>21.646663</td>\n",
       "      <td>51114.018738</td>\n",
       "      <td>...</td>\n",
       "      <td>5.072008</td>\n",
       "      <td>75.406667</td>\n",
       "      <td>359.905890</td>\n",
       "      <td>4172.231343</td>\n",
       "      <td>1.299832</td>\n",
       "      <td>359.993098</td>\n",
       "      <td>8.983852</td>\n",
       "      <td>2.458839e+06</td>\n",
       "      <td>359.917991</td>\n",
       "      <td>2.039000</td>\n",
       "    </tr>\n",
       "  </tbody>\n",
       "</table>\n",
       "<p>8 rows × 35 columns</p>\n",
       "</div>"
      ],
      "text/plain": [
       "       Neo Reference ID          Name  Absolute Magnitude  Est Dia in KM(min)  \\\n",
       "count      4.687000e+03  4.687000e+03         4687.000000         4687.000000   \n",
       "mean       3.272298e+06  3.272298e+06           22.267865            0.204604   \n",
       "std        5.486011e+05  5.486011e+05            2.890972            0.369573   \n",
       "min        2.000433e+06  2.000433e+06           11.160000            0.001011   \n",
       "25%        3.097594e+06  3.097594e+06           20.100000            0.033462   \n",
       "50%        3.514799e+06  3.514799e+06           21.900000            0.110804   \n",
       "75%        3.690060e+06  3.690060e+06           24.500000            0.253837   \n",
       "max        3.781897e+06  3.781897e+06           32.100000           15.579552   \n",
       "\n",
       "       Est Dia in KM(max)  Est Dia in M(min)  Est Dia in M(max)  \\\n",
       "count         4687.000000        4687.000000        4687.000000   \n",
       "mean             0.457509         204.604203         457.508906   \n",
       "std              0.826391         369.573402         826.391249   \n",
       "min              0.002260           1.010543           2.259644   \n",
       "25%              0.074824          33.462237          74.823838   \n",
       "50%              0.247765         110.803882         247.765013   \n",
       "75%              0.567597         253.837029         567.596853   \n",
       "max             34.836938       15579.552413       34836.938254   \n",
       "\n",
       "       Est Dia in Miles(min)  Est Dia in Miles(max)  Est Dia in Feet(min)  \\\n",
       "count            4687.000000            4687.000000           4687.000000   \n",
       "mean                0.127135               0.284283            671.273653   \n",
       "std                 0.229642               0.513496           1212.511199   \n",
       "min                 0.000628               0.001404              3.315431   \n",
       "25%                 0.020792               0.046493            109.784247   \n",
       "50%                 0.068850               0.153954            363.529809   \n",
       "75%                 0.157727               0.352688            832.798679   \n",
       "max                 9.680682              21.646663          51114.018738   \n",
       "\n",
       "       ...  Semi Major Axis  Inclination  Asc Node Longitude  Orbital Period  \\\n",
       "count  ...      4687.000000  4687.000000         4687.000000     4687.000000   \n",
       "mean   ...         1.400264    13.373844          172.157275      635.582076   \n",
       "std    ...         0.524154    10.936227          103.276777      370.954727   \n",
       "min    ...         0.615920     0.014513            0.001941      176.557161   \n",
       "25%    ...         1.000635     4.962341           83.081208      365.605031   \n",
       "50%    ...         1.240981    10.311836          172.625393      504.947292   \n",
       "75%    ...         1.678364    19.511681          255.026909      794.195972   \n",
       "max    ...         5.072008    75.406667          359.905890     4172.231343   \n",
       "\n",
       "       Perihelion Distance  Perihelion Arg  Aphelion Dist  Perihelion Time  \\\n",
       "count          4687.000000     4687.000000    4687.000000     4.687000e+03   \n",
       "mean              0.813383      183.932151       1.987144     2.457728e+06   \n",
       "std               0.242059      103.513035       0.951519     9.442264e+02   \n",
       "min               0.080744        0.006918       0.803765     2.450100e+06   \n",
       "25%               0.630834       95.625916       1.266059     2.457815e+06   \n",
       "50%               0.833153      189.761641       1.618195     2.457973e+06   \n",
       "75%               0.997227      271.777557       2.451171     2.458108e+06   \n",
       "max               1.299832      359.993098       8.983852     2.458839e+06   \n",
       "\n",
       "       Mean Anomaly  Mean Motion  \n",
       "count   4687.000000  4687.000000  \n",
       "mean     181.167927     0.738242  \n",
       "std      107.501623     0.342627  \n",
       "min        0.003191     0.086285  \n",
       "25%       87.006918     0.453289  \n",
       "50%      185.718889     0.712946  \n",
       "75%      276.531946     0.984669  \n",
       "max      359.917991     2.039000  \n",
       "\n",
       "[8 rows x 35 columns]"
      ]
     },
     "execution_count": 73,
     "metadata": {},
     "output_type": "execute_result"
    }
   ],
   "source": [
    "neo_df.describe()"
   ]
  },
  {
   "cell_type": "markdown",
   "id": "1b96e309",
   "metadata": {},
   "source": [
    "#### Relação entre atributos"
   ]
  },
  {
   "cell_type": "code",
   "execution_count": null,
   "id": "1c239896",
   "metadata": {
    "scrolled": true
   },
   "outputs": [],
   "source": [
    "import pandas as pd\n",
    "import matplotlib.pyplot as plt\n",
    "import seaborn as sn\n",
    "\n",
    "colunas = list(neo_df.head())\n",
    "colunas = colunas[0:-1]\n",
    "nomeColunas = sorted(colunas) \n",
    "numColunas = len(nomeColunas)\n",
    "fig, ax = plt.subplots(numColunas, numColunas, figsize=(100, 100), constrained_layout = False)\n",
    "\n",
    "for lin in range(0, numColunas):\n",
    "    for col in range(0,numColunas): \n",
    "        ax[lin,col].scatter(x = neo_df[nomeColunas[col]], y = neo_df[nomeColunas[lin]],s = 4) \n",
    "        ax[lin,col].set(xticks = [], yticks = [], xlabel = nomeColunas[col], ylabel = nomeColunas[lin])\n",
    "        \n",
    "plt.show()"
   ]
  },
  {
   "cell_type": "code",
   "execution_count": null,
   "id": "d02f744a",
   "metadata": {
    "scrolled": true
   },
   "outputs": [],
   "source": [
    "import pandas as pd\n",
    "import matplotlib.pyplot as plt \n",
    "import seaborn as sn\n",
    "\n",
    "pd.set_option('display.max_rows', None) \n",
    "pd.set_option('display.max_columns', None) \n",
    "pd.set_option('display.width', None) \n",
    "pd.set_option('display.max_colwidth', None) \n",
    "corr = neo_df.corr()\n",
    "\n",
    "plt.subplots(figsize=(80, 80)) \n",
    "sn.heatmap(corr, annot = True) \n",
    "plt.show()"
   ]
  },
  {
   "cell_type": "markdown",
   "id": "a7af7530",
   "metadata": {},
   "source": [
    "------"
   ]
  },
  {
   "cell_type": "markdown",
   "id": "9870bf10",
   "metadata": {},
   "source": [
    "## 2. Primeira classificação"
   ]
  },
  {
   "cell_type": "markdown",
   "id": "d6c84bab",
   "metadata": {},
   "source": [
    "Precisaremos adaptar minimamente os dados pois a classificador que usaremos, o SVM, aceita apenas features numéricas. No nosso dataframe temos duas features categóricas: **Orbiting Body** e **Equinox**. Além deles há dois campos que armazenam datas: **Orbit Determination Date** e **Close Approach Date**, como podemos ver abaixo:"
   ]
  },
  {
   "cell_type": "code",
   "execution_count": 74,
   "id": "8c7c811f",
   "metadata": {},
   "outputs": [
    {
     "data": {
      "text/html": [
       "<div>\n",
       "<style scoped>\n",
       "    .dataframe tbody tr th:only-of-type {\n",
       "        vertical-align: middle;\n",
       "    }\n",
       "\n",
       "    .dataframe tbody tr th {\n",
       "        vertical-align: top;\n",
       "    }\n",
       "\n",
       "    .dataframe thead th {\n",
       "        text-align: right;\n",
       "    }\n",
       "</style>\n",
       "<table border=\"1\" class=\"dataframe\">\n",
       "  <thead>\n",
       "    <tr style=\"text-align: right;\">\n",
       "      <th></th>\n",
       "      <th>Orbit Determination Date</th>\n",
       "      <th>Close Approach Date</th>\n",
       "      <th>Orbiting Body</th>\n",
       "      <th>Equinox</th>\n",
       "    </tr>\n",
       "  </thead>\n",
       "  <tbody>\n",
       "    <tr>\n",
       "      <th>0</th>\n",
       "      <td>2017-04-06 08:36:37</td>\n",
       "      <td>1995-01-01</td>\n",
       "      <td>Earth</td>\n",
       "      <td>J2000</td>\n",
       "    </tr>\n",
       "    <tr>\n",
       "      <th>1</th>\n",
       "      <td>2017-04-06 08:32:49</td>\n",
       "      <td>1995-01-01</td>\n",
       "      <td>Earth</td>\n",
       "      <td>J2000</td>\n",
       "    </tr>\n",
       "    <tr>\n",
       "      <th>2</th>\n",
       "      <td>2017-04-06 09:20:19</td>\n",
       "      <td>1995-01-08</td>\n",
       "      <td>Earth</td>\n",
       "      <td>J2000</td>\n",
       "    </tr>\n",
       "    <tr>\n",
       "      <th>3</th>\n",
       "      <td>2017-04-06 09:15:49</td>\n",
       "      <td>1995-01-15</td>\n",
       "      <td>Earth</td>\n",
       "      <td>J2000</td>\n",
       "    </tr>\n",
       "    <tr>\n",
       "      <th>4</th>\n",
       "      <td>2017-04-06 08:57:58</td>\n",
       "      <td>1995-01-15</td>\n",
       "      <td>Earth</td>\n",
       "      <td>J2000</td>\n",
       "    </tr>\n",
       "  </tbody>\n",
       "</table>\n",
       "</div>"
      ],
      "text/plain": [
       "  Orbit Determination Date Close Approach Date Orbiting Body Equinox\n",
       "0      2017-04-06 08:36:37          1995-01-01         Earth   J2000\n",
       "1      2017-04-06 08:32:49          1995-01-01         Earth   J2000\n",
       "2      2017-04-06 09:20:19          1995-01-08         Earth   J2000\n",
       "3      2017-04-06 09:15:49          1995-01-15         Earth   J2000\n",
       "4      2017-04-06 08:57:58          1995-01-15         Earth   J2000"
      ]
     },
     "execution_count": 74,
     "metadata": {},
     "output_type": "execute_result"
    }
   ],
   "source": [
    "neo_df[['Orbit Determination Date', 'Close Approach Date', 'Orbiting Body', 'Equinox']].head()"
   ]
  },
  {
   "cell_type": "markdown",
   "id": "c5ceb339",
   "metadata": {},
   "source": [
    "Para conseguir executar nosso classificador precisaremos:\n",
    "\n",
    "- Remover os campos de data\n",
    "- Converter os valores categórios em valores numéricos.\n",
    "\n",
    "Essas duas ações já representam ações de pré-processamento."
   ]
  },
  {
   "cell_type": "markdown",
   "id": "7977a5cd",
   "metadata": {},
   "source": [
    "#### Remoção dos campos de data"
   ]
  },
  {
   "cell_type": "code",
   "execution_count": 75,
   "id": "7115f74c",
   "metadata": {},
   "outputs": [],
   "source": [
    "neo_df.drop('Orbit Determination Date', 1, inplace = True)\n",
    "neo_df.drop('Close Approach Date', 1, inplace = True)"
   ]
  },
  {
   "cell_type": "markdown",
   "id": "4fcc348c",
   "metadata": {},
   "source": [
    "#### Codificação de features categóricas"
   ]
  },
  {
   "cell_type": "code",
   "execution_count": 76,
   "id": "49613f8a",
   "metadata": {},
   "outputs": [],
   "source": [
    "orbiting_body_factor = pd.factorize(neo_df['Orbiting Body'])\n",
    "equinox_factor = pd.factorize(neo_df['Equinox'])"
   ]
  },
  {
   "cell_type": "code",
   "execution_count": 77,
   "id": "fbf76d4d",
   "metadata": {},
   "outputs": [],
   "source": [
    "neo_df['Orbiting Body'] = orbiting_body_factor[0]\n",
    "neo_df['Equinox'] = equinox_factor[0]"
   ]
  },
  {
   "cell_type": "markdown",
   "id": "e1b5bd03",
   "metadata": {},
   "source": [
    "### Definição das features"
   ]
  },
  {
   "cell_type": "code",
   "execution_count": 78,
   "id": "4cc4899d",
   "metadata": {},
   "outputs": [
    {
     "data": {
      "text/html": [
       "<div>\n",
       "<style scoped>\n",
       "    .dataframe tbody tr th:only-of-type {\n",
       "        vertical-align: middle;\n",
       "    }\n",
       "\n",
       "    .dataframe tbody tr th {\n",
       "        vertical-align: top;\n",
       "    }\n",
       "\n",
       "    .dataframe thead th {\n",
       "        text-align: right;\n",
       "    }\n",
       "</style>\n",
       "<table border=\"1\" class=\"dataframe\">\n",
       "  <thead>\n",
       "    <tr style=\"text-align: right;\">\n",
       "      <th></th>\n",
       "      <th>Feature</th>\n",
       "    </tr>\n",
       "  </thead>\n",
       "  <tbody>\n",
       "    <tr>\n",
       "      <th>0</th>\n",
       "      <td>Neo Reference ID</td>\n",
       "    </tr>\n",
       "    <tr>\n",
       "      <th>1</th>\n",
       "      <td>Name</td>\n",
       "    </tr>\n",
       "    <tr>\n",
       "      <th>2</th>\n",
       "      <td>Absolute Magnitude</td>\n",
       "    </tr>\n",
       "    <tr>\n",
       "      <th>3</th>\n",
       "      <td>Est Dia in KM(min)</td>\n",
       "    </tr>\n",
       "    <tr>\n",
       "      <th>4</th>\n",
       "      <td>Est Dia in KM(max)</td>\n",
       "    </tr>\n",
       "    <tr>\n",
       "      <th>5</th>\n",
       "      <td>Est Dia in M(min)</td>\n",
       "    </tr>\n",
       "    <tr>\n",
       "      <th>6</th>\n",
       "      <td>Est Dia in M(max)</td>\n",
       "    </tr>\n",
       "    <tr>\n",
       "      <th>7</th>\n",
       "      <td>Est Dia in Miles(min)</td>\n",
       "    </tr>\n",
       "    <tr>\n",
       "      <th>8</th>\n",
       "      <td>Est Dia in Miles(max)</td>\n",
       "    </tr>\n",
       "    <tr>\n",
       "      <th>9</th>\n",
       "      <td>Est Dia in Feet(min)</td>\n",
       "    </tr>\n",
       "    <tr>\n",
       "      <th>10</th>\n",
       "      <td>Est Dia in Feet(max)</td>\n",
       "    </tr>\n",
       "    <tr>\n",
       "      <th>11</th>\n",
       "      <td>Epoch Date Close Approach</td>\n",
       "    </tr>\n",
       "    <tr>\n",
       "      <th>12</th>\n",
       "      <td>Relative Velocity km per sec</td>\n",
       "    </tr>\n",
       "    <tr>\n",
       "      <th>13</th>\n",
       "      <td>Relative Velocity km per hr</td>\n",
       "    </tr>\n",
       "    <tr>\n",
       "      <th>14</th>\n",
       "      <td>Miles per hour</td>\n",
       "    </tr>\n",
       "    <tr>\n",
       "      <th>15</th>\n",
       "      <td>Miss Dist.(Astronomical)</td>\n",
       "    </tr>\n",
       "    <tr>\n",
       "      <th>16</th>\n",
       "      <td>Miss Dist.(lunar)</td>\n",
       "    </tr>\n",
       "    <tr>\n",
       "      <th>17</th>\n",
       "      <td>Miss Dist.(kilometers)</td>\n",
       "    </tr>\n",
       "    <tr>\n",
       "      <th>18</th>\n",
       "      <td>Miss Dist.(miles)</td>\n",
       "    </tr>\n",
       "    <tr>\n",
       "      <th>19</th>\n",
       "      <td>Orbiting Body</td>\n",
       "    </tr>\n",
       "    <tr>\n",
       "      <th>20</th>\n",
       "      <td>Orbit ID</td>\n",
       "    </tr>\n",
       "    <tr>\n",
       "      <th>21</th>\n",
       "      <td>Orbit Uncertainity</td>\n",
       "    </tr>\n",
       "    <tr>\n",
       "      <th>22</th>\n",
       "      <td>Minimum Orbit Intersection</td>\n",
       "    </tr>\n",
       "    <tr>\n",
       "      <th>23</th>\n",
       "      <td>Jupiter Tisserand Invariant</td>\n",
       "    </tr>\n",
       "    <tr>\n",
       "      <th>24</th>\n",
       "      <td>Epoch Osculation</td>\n",
       "    </tr>\n",
       "    <tr>\n",
       "      <th>25</th>\n",
       "      <td>Eccentricity</td>\n",
       "    </tr>\n",
       "    <tr>\n",
       "      <th>26</th>\n",
       "      <td>Semi Major Axis</td>\n",
       "    </tr>\n",
       "    <tr>\n",
       "      <th>27</th>\n",
       "      <td>Inclination</td>\n",
       "    </tr>\n",
       "    <tr>\n",
       "      <th>28</th>\n",
       "      <td>Asc Node Longitude</td>\n",
       "    </tr>\n",
       "    <tr>\n",
       "      <th>29</th>\n",
       "      <td>Orbital Period</td>\n",
       "    </tr>\n",
       "    <tr>\n",
       "      <th>30</th>\n",
       "      <td>Perihelion Distance</td>\n",
       "    </tr>\n",
       "    <tr>\n",
       "      <th>31</th>\n",
       "      <td>Perihelion Arg</td>\n",
       "    </tr>\n",
       "    <tr>\n",
       "      <th>32</th>\n",
       "      <td>Aphelion Dist</td>\n",
       "    </tr>\n",
       "    <tr>\n",
       "      <th>33</th>\n",
       "      <td>Perihelion Time</td>\n",
       "    </tr>\n",
       "    <tr>\n",
       "      <th>34</th>\n",
       "      <td>Mean Anomaly</td>\n",
       "    </tr>\n",
       "    <tr>\n",
       "      <th>35</th>\n",
       "      <td>Mean Motion</td>\n",
       "    </tr>\n",
       "    <tr>\n",
       "      <th>36</th>\n",
       "      <td>Equinox</td>\n",
       "    </tr>\n",
       "  </tbody>\n",
       "</table>\n",
       "</div>"
      ],
      "text/plain": [
       "                         Feature\n",
       "0               Neo Reference ID\n",
       "1                           Name\n",
       "2             Absolute Magnitude\n",
       "3             Est Dia in KM(min)\n",
       "4             Est Dia in KM(max)\n",
       "5              Est Dia in M(min)\n",
       "6              Est Dia in M(max)\n",
       "7          Est Dia in Miles(min)\n",
       "8          Est Dia in Miles(max)\n",
       "9           Est Dia in Feet(min)\n",
       "10          Est Dia in Feet(max)\n",
       "11     Epoch Date Close Approach\n",
       "12  Relative Velocity km per sec\n",
       "13   Relative Velocity km per hr\n",
       "14                Miles per hour\n",
       "15      Miss Dist.(Astronomical)\n",
       "16             Miss Dist.(lunar)\n",
       "17        Miss Dist.(kilometers)\n",
       "18             Miss Dist.(miles)\n",
       "19                 Orbiting Body\n",
       "20                      Orbit ID\n",
       "21            Orbit Uncertainity\n",
       "22    Minimum Orbit Intersection\n",
       "23   Jupiter Tisserand Invariant\n",
       "24              Epoch Osculation\n",
       "25                  Eccentricity\n",
       "26               Semi Major Axis\n",
       "27                   Inclination\n",
       "28            Asc Node Longitude\n",
       "29                Orbital Period\n",
       "30           Perihelion Distance\n",
       "31                Perihelion Arg\n",
       "32                 Aphelion Dist\n",
       "33               Perihelion Time\n",
       "34                  Mean Anomaly\n",
       "35                   Mean Motion\n",
       "36                       Equinox"
      ]
     },
     "execution_count": 78,
     "metadata": {},
     "output_type": "execute_result"
    }
   ],
   "source": [
    "features = neo_df.columns.tolist()\n",
    "features = features[0:-1]\n",
    "pd.DataFrame({'Feature':features})"
   ]
  },
  {
   "cell_type": "markdown",
   "id": "6d6a0bcf",
   "metadata": {},
   "source": [
    "### Separação de dados entre Treino e Teste"
   ]
  },
  {
   "cell_type": "markdown",
   "id": "6df77201",
   "metadata": {},
   "source": [
    "Separaremos 80% dos padrões para treino e 20% dos para teste"
   ]
  },
  {
   "cell_type": "code",
   "execution_count": 79,
   "id": "fbe326ea",
   "metadata": {},
   "outputs": [],
   "source": [
    "from sklearn.model_selection import train_test_split \n",
    "\n",
    "neo_features_df = neo_df.iloc[:,:-1]\n",
    "neo_classes_df = neo_df.iloc[:,-1]\n",
    "\n",
    "features_train, features_test, classes_train, classes_test = \\\n",
    "train_test_split(neo_features_df, neo_classes_df, test_size = 0.2, random_state = 1, stratify = neo_classes_df)"
   ]
  },
  {
   "cell_type": "markdown",
   "id": "566b3d40",
   "metadata": {},
   "source": [
    "Por conta do desbalanceamento presente na base, usamos o parâmetro *stratify* que mantém a proporcionalidade das classes na criação dos subconjuntos de treino e teste."
   ]
  },
  {
   "cell_type": "code",
   "execution_count": 80,
   "id": "3baea2a9",
   "metadata": {},
   "outputs": [
    {
     "data": {
      "text/plain": [
       "False    3145\n",
       "True      604\n",
       "Name: Hazardous, dtype: int64"
      ]
     },
     "execution_count": 80,
     "metadata": {},
     "output_type": "execute_result"
    }
   ],
   "source": [
    "classes_train.value_counts()"
   ]
  },
  {
   "cell_type": "markdown",
   "id": "f739df8e",
   "metadata": {},
   "source": [
    "### Classificação"
   ]
  },
  {
   "cell_type": "code",
   "execution_count": 81,
   "id": "2621505b",
   "metadata": {},
   "outputs": [],
   "source": [
    "from sklearn import svm\n",
    "\n",
    "clf = svm.SVC()\n",
    "clf.fit(features_train, classes_train)\n",
    "predicted = clf.predict(features_test)"
   ]
  },
  {
   "cell_type": "markdown",
   "id": "3e5edb16",
   "metadata": {},
   "source": [
    "### Métricas"
   ]
  },
  {
   "cell_type": "markdown",
   "id": "91fe7bf2",
   "metadata": {},
   "source": [
    "##### Matriz de confusão"
   ]
  },
  {
   "cell_type": "code",
   "execution_count": 82,
   "id": "22f457d7",
   "metadata": {},
   "outputs": [
    {
     "data": {
      "text/plain": [
       "<AxesSubplot:xlabel='Predito', ylabel='Esperado'>"
      ]
     },
     "execution_count": 82,
     "metadata": {},
     "output_type": "execute_result"
    },
    {
     "data": {
      "image/png": "[encoded data removed]",
      "text/plain": [
       "<Figure size 720x360 with 2 Axes>"
      ]
     },
     "metadata": {},
     "output_type": "display_data"
    }
   ],
   "source": [
    "from sklearn.metrics import confusion_matrix\n",
    "import numpy as np\n",
    "import matplotlib.pyplot as plt\n",
    "import seaborn as sn\n",
    "\n",
    "cm = confusion_matrix(classes_test, predicted)\n",
    "\n",
    "cm_df = pd.DataFrame(cm, columns = np.unique(classes_test), index = np.unique(classes_test))\n",
    "cm_df.index.name = 'Esperado'\n",
    "cm_df.columns.name = 'Predito'\n",
    "plt.figure(figsize = (10,5))\n",
    "sn.set(font_scale = 1.4)\n",
    "sn.heatmap(cm_df, cmap=\"Blues\", annot=True, annot_kws={\"size\": 16}, fmt='g')"
   ]
  },
  {
   "cell_type": "markdown",
   "id": "53894c1d",
   "metadata": {},
   "source": [
    "##### Report classification"
   ]
  },
  {
   "cell_type": "code",
   "execution_count": 83,
   "id": "aae229e9",
   "metadata": {},
   "outputs": [
    {
     "name": "stdout",
     "output_type": "stream",
     "text": [
      "Acurácia: 0.84\n",
      "Precisão: 0.00\n",
      "Recall: 0.00\n",
      "F-sore: 0.00\n"
     ]
    }
   ],
   "source": [
    "from sklearn.metrics import accuracy_score\n",
    "from sklearn.metrics import precision_score\n",
    "from sklearn.metrics import recall_score\n",
    "from sklearn.metrics import f1_score\n",
    "\n",
    "print('Acurácia: %.2f' % accuracy_score(classes_test, predicted))\n",
    "print('Precisão: %.2f' % precision_score(classes_test, predicted, zero_division = False))\n",
    "print('Recall: %.2f' % recall_score(classes_test, predicted, zero_division = False))\n",
    "print('F-sore: %.2f' % f1_score(classes_test, predicted, zero_division = False))"
   ]
  },
  {
   "cell_type": "code",
   "execution_count": 35,
   "id": "c3f516ca",
   "metadata": {},
   "outputs": [
    {
     "name": "stdout",
     "output_type": "stream",
     "text": [
      "              precision    recall  f1-score   support\n",
      "\n",
      "       False       0.84      1.00      0.91      1175\n",
      "        True       0.00      0.00      0.00       232\n",
      "\n",
      "    accuracy                           0.84      1407\n",
      "   macro avg       0.42      0.50      0.46      1407\n",
      "weighted avg       0.70      0.84      0.76      1407\n",
      "\n"
     ]
    }
   ],
   "source": [
    "from sklearn import metrics\n",
    "\n",
    "print(metrics.classification_report(classes_test, predicted, zero_division = False))"
   ]
  },
  {
   "cell_type": "markdown",
   "id": "49898981",
   "metadata": {},
   "source": [
    "-----"
   ]
  },
  {
   "cell_type": "markdown",
   "id": "ac065727",
   "metadata": {},
   "source": [
    "## 3. Pré-processamento"
   ]
  },
  {
   "cell_type": "markdown",
   "id": "7e728bde",
   "metadata": {},
   "source": [
    "### Codificação"
   ]
  },
  {
   "cell_type": "markdown",
   "id": "baf1c7c3",
   "metadata": {},
   "source": [
    "Anteriormente, no item *2. Primeira classificação*, tivemos que antecipar a etapa de codificação para que o primeiro modelo pudesse ser criado.\n",
    "\n",
    "Essa etapa consiste em altera valores categóricos valor numéricos. Na ocasião transformamos os valores de **'Orbiting Body'** e **'Equinox'** onde cada valor passou a ser representado por um número."
   ]
  },
  {
   "cell_type": "markdown",
   "id": "85896d98",
   "metadata": {},
   "source": [
    "### Seleção de dados"
   ]
  },
  {
   "cell_type": "markdown",
   "id": "87ef65da",
   "metadata": {},
   "source": [
    "NASA'a CNEOS defines petentially hazardous asteroids as an asteroid with \"a minimum orbit intersection distance (MOID) of 0.05 au or less and an absolute magnitude (H) of 22.0 or less\". Note: 1 au (astronomical unit) = 149597870700 m (roughly distance between Earth and Sun)\n",
    "\n",
    "We will plot Minimum Orbit Intersection, Absolute Magnitude, and Hazardous in a scatter plot to see this relationship."
   ]
  },
  {
   "cell_type": "code",
   "execution_count": 84,
   "id": "4927bb7b",
   "metadata": {},
   "outputs": [],
   "source": [
    "neo_df = neo_df[['Absolute Magnitude', 'Minimum Orbit Intersection', 'Hazardous']]"
   ]
  },
  {
   "cell_type": "code",
   "execution_count": 85,
   "id": "43059fcc",
   "metadata": {},
   "outputs": [
    {
     "data": {
      "text/html": [
       "<div>\n",
       "<style scoped>\n",
       "    .dataframe tbody tr th:only-of-type {\n",
       "        vertical-align: middle;\n",
       "    }\n",
       "\n",
       "    .dataframe tbody tr th {\n",
       "        vertical-align: top;\n",
       "    }\n",
       "\n",
       "    .dataframe thead th {\n",
       "        text-align: right;\n",
       "    }\n",
       "</style>\n",
       "<table border=\"1\" class=\"dataframe\">\n",
       "  <thead>\n",
       "    <tr style=\"text-align: right;\">\n",
       "      <th></th>\n",
       "      <th>Absolute Magnitude</th>\n",
       "      <th>Minimum Orbit Intersection</th>\n",
       "      <th>Hazardous</th>\n",
       "    </tr>\n",
       "  </thead>\n",
       "  <tbody>\n",
       "    <tr>\n",
       "      <th>0</th>\n",
       "      <td>21.6</td>\n",
       "      <td>0.025282</td>\n",
       "      <td>True</td>\n",
       "    </tr>\n",
       "    <tr>\n",
       "      <th>1</th>\n",
       "      <td>21.3</td>\n",
       "      <td>0.186935</td>\n",
       "      <td>False</td>\n",
       "    </tr>\n",
       "    <tr>\n",
       "      <th>2</th>\n",
       "      <td>20.3</td>\n",
       "      <td>0.043058</td>\n",
       "      <td>True</td>\n",
       "    </tr>\n",
       "    <tr>\n",
       "      <th>3</th>\n",
       "      <td>27.4</td>\n",
       "      <td>0.005512</td>\n",
       "      <td>False</td>\n",
       "    </tr>\n",
       "    <tr>\n",
       "      <th>4</th>\n",
       "      <td>21.6</td>\n",
       "      <td>0.034798</td>\n",
       "      <td>True</td>\n",
       "    </tr>\n",
       "  </tbody>\n",
       "</table>\n",
       "</div>"
      ],
      "text/plain": [
       "   Absolute Magnitude  Minimum Orbit Intersection  Hazardous\n",
       "0                21.6                    0.025282       True\n",
       "1                21.3                    0.186935      False\n",
       "2                20.3                    0.043058       True\n",
       "3                27.4                    0.005512      False\n",
       "4                21.6                    0.034798       True"
      ]
     },
     "execution_count": 85,
     "metadata": {},
     "output_type": "execute_result"
    }
   ],
   "source": [
    "neo_df.head()"
   ]
  },
  {
   "cell_type": "markdown",
   "id": "51976b83",
   "metadata": {},
   "source": [
    "### Normalização"
   ]
  },
  {
   "cell_type": "code",
   "execution_count": 86,
   "id": "80d0f643",
   "metadata": {},
   "outputs": [],
   "source": [
    "from sklearn.preprocessing import robust_scale\n",
    "\n",
    "neo_df['absolute_magnitude_scaled'] = robust_scale(neo_df['Absolute Magnitude'])\n",
    "neo_df['minimum_orbit_intersection_scaled'] = robust_scale(neo_df['Minimum Orbit Intersection'])\n",
    "neo_df = neo_df[[\n",
    "        'Absolute Magnitude', \n",
    "        'Minimum Orbit Intersection', \n",
    "        'absolute_magnitude_scaled',\n",
    "        'minimum_orbit_intersection_scaled',\n",
    "        'Hazardous'\n",
    "    ]]"
   ]
  },
  {
   "cell_type": "code",
   "execution_count": 87,
   "id": "5f437e7a",
   "metadata": {},
   "outputs": [
    {
     "data": {
      "text/html": [
       "<div>\n",
       "<style scoped>\n",
       "    .dataframe tbody tr th:only-of-type {\n",
       "        vertical-align: middle;\n",
       "    }\n",
       "\n",
       "    .dataframe tbody tr th {\n",
       "        vertical-align: top;\n",
       "    }\n",
       "\n",
       "    .dataframe thead th {\n",
       "        text-align: right;\n",
       "    }\n",
       "</style>\n",
       "<table border=\"1\" class=\"dataframe\">\n",
       "  <thead>\n",
       "    <tr style=\"text-align: right;\">\n",
       "      <th></th>\n",
       "      <th>Absolute Magnitude</th>\n",
       "      <th>Minimum Orbit Intersection</th>\n",
       "      <th>absolute_magnitude_scaled</th>\n",
       "      <th>minimum_orbit_intersection_scaled</th>\n",
       "      <th>Hazardous</th>\n",
       "    </tr>\n",
       "  </thead>\n",
       "  <tbody>\n",
       "    <tr>\n",
       "      <th>0</th>\n",
       "      <td>21.6</td>\n",
       "      <td>0.025282</td>\n",
       "      <td>-0.068182</td>\n",
       "      <td>-0.202586</td>\n",
       "      <td>True</td>\n",
       "    </tr>\n",
       "    <tr>\n",
       "      <th>1</th>\n",
       "      <td>21.3</td>\n",
       "      <td>0.186935</td>\n",
       "      <td>-0.136364</td>\n",
       "      <td>1.280355</td>\n",
       "      <td>False</td>\n",
       "    </tr>\n",
       "    <tr>\n",
       "      <th>2</th>\n",
       "      <td>20.3</td>\n",
       "      <td>0.043058</td>\n",
       "      <td>-0.363636</td>\n",
       "      <td>-0.039516</td>\n",
       "      <td>True</td>\n",
       "    </tr>\n",
       "    <tr>\n",
       "      <th>3</th>\n",
       "      <td>27.4</td>\n",
       "      <td>0.005512</td>\n",
       "      <td>1.250000</td>\n",
       "      <td>-0.383949</td>\n",
       "      <td>False</td>\n",
       "    </tr>\n",
       "    <tr>\n",
       "      <th>4</th>\n",
       "      <td>21.6</td>\n",
       "      <td>0.034798</td>\n",
       "      <td>-0.068182</td>\n",
       "      <td>-0.115289</td>\n",
       "      <td>True</td>\n",
       "    </tr>\n",
       "  </tbody>\n",
       "</table>\n",
       "</div>"
      ],
      "text/plain": [
       "   Absolute Magnitude  Minimum Orbit Intersection  absolute_magnitude_scaled  \\\n",
       "0                21.6                    0.025282                  -0.068182   \n",
       "1                21.3                    0.186935                  -0.136364   \n",
       "2                20.3                    0.043058                  -0.363636   \n",
       "3                27.4                    0.005512                   1.250000   \n",
       "4                21.6                    0.034798                  -0.068182   \n",
       "\n",
       "   minimum_orbit_intersection_scaled  Hazardous  \n",
       "0                          -0.202586       True  \n",
       "1                           1.280355      False  \n",
       "2                          -0.039516       True  \n",
       "3                          -0.383949      False  \n",
       "4                          -0.115289       True  "
      ]
     },
     "execution_count": 87,
     "metadata": {},
     "output_type": "execute_result"
    }
   ],
   "source": [
    "neo_df.head()"
   ]
  },
  {
   "cell_type": "markdown",
   "id": "71704d6b",
   "metadata": {},
   "source": [
    "### Nova classificação"
   ]
  },
  {
   "cell_type": "code",
   "execution_count": 88,
   "id": "d5ab7ebf",
   "metadata": {},
   "outputs": [],
   "source": [
    "features = ['absolute_magnitude_scaled', 'minimum_orbit_intersection_scaled']"
   ]
  },
  {
   "cell_type": "code",
   "execution_count": 94,
   "id": "2d90008b",
   "metadata": {},
   "outputs": [],
   "source": [
    "neo_features_df = neo_df[features]\n",
    "neo_classes_df = neo_df.iloc[:,-1]\n",
    "\n",
    "features_train, features_test, classes_train, classes_test = \\\n",
    "train_test_split(neo_features_df, neo_classes_df, test_size = 0.2, random_state = 1, stratify = neo_classes_df)"
   ]
  },
  {
   "cell_type": "code",
   "execution_count": 95,
   "id": "36e2faaa",
   "metadata": {},
   "outputs": [],
   "source": [
    "clf = svm.SVC()\n",
    "clf.fit(features_train, classes_train)\n",
    "predicted = clf.predict(features_test)"
   ]
  },
  {
   "cell_type": "markdown",
   "id": "cb47d330",
   "metadata": {},
   "source": [
    "#### Métricas"
   ]
  },
  {
   "cell_type": "markdown",
   "id": "cd3348e1",
   "metadata": {},
   "source": [
    "##### Matriz de confusão"
   ]
  },
  {
   "cell_type": "code",
   "execution_count": 96,
   "id": "e0b3104c",
   "metadata": {},
   "outputs": [
    {
     "data": {
      "text/plain": [
       "<AxesSubplot:xlabel='Predito', ylabel='Esperado'>"
      ]
     },
     "execution_count": 96,
     "metadata": {},
     "output_type": "execute_result"
    },
    {
     "data": {
      "image/png": "[encoded data removed]",
      "text/plain": [
       "<Figure size 720x360 with 2 Axes>"
      ]
     },
     "metadata": {},
     "output_type": "display_data"
    }
   ],
   "source": [
    "cm = confusion_matrix(classes_test, predicted)\n",
    "\n",
    "cm_df = pd.DataFrame(cm, columns = np.unique(classes_test), index = np.unique(classes_test))\n",
    "cm_df.index.name = 'Esperado'\n",
    "cm_df.columns.name = 'Predito'\n",
    "plt.figure(figsize = (10, 5))\n",
    "sn.set(font_scale = 1.4)\n",
    "sn.heatmap(cm_df, cmap=\"Blues\", annot=True, annot_kws={\"size\": 16}, fmt='g')"
   ]
  },
  {
   "cell_type": "markdown",
   "id": "95adfba6",
   "metadata": {},
   "source": [
    "#### Report Classification"
   ]
  },
  {
   "cell_type": "code",
   "execution_count": 97,
   "id": "258d3ba3",
   "metadata": {},
   "outputs": [
    {
     "name": "stdout",
     "output_type": "stream",
     "text": [
      "              precision    recall  f1-score   support\n",
      "\n",
      "       False       0.99      0.99      0.99       787\n",
      "        True       0.97      0.95      0.96       151\n",
      "\n",
      "    accuracy                           0.99       938\n",
      "   macro avg       0.98      0.97      0.98       938\n",
      "weighted avg       0.99      0.99      0.99       938\n",
      "\n"
     ]
    }
   ],
   "source": [
    "print(metrics.classification_report(classes_test, predicted, zero_division = False))"
   ]
  },
  {
   "cell_type": "markdown",
   "id": "26d4f765",
   "metadata": {},
   "source": [
    "##### Acurácia"
   ]
  },
  {
   "cell_type": "code",
   "execution_count": 98,
   "id": "2fd9dc1b",
   "metadata": {},
   "outputs": [
    {
     "data": {
      "text/plain": [
       "0.988272921108742"
      ]
     },
     "execution_count": 98,
     "metadata": {},
     "output_type": "execute_result"
    }
   ],
   "source": [
    "np.mean(predicted == classes_test)"
   ]
  },
  {
   "cell_type": "markdown",
   "id": "157bdbe2",
   "metadata": {},
   "source": [
    "## Todos"
   ]
  },
  {
   "cell_type": "markdown",
   "id": "976154b0",
   "metadata": {},
   "source": [
    "- Preencher os tipos de dados (1 - Luiza)\n",
    "\n",
    "- Fazer as etapas de pré processamento (2 - Tiago)\n",
    "- - Normalização\n",
    "- - Codificação\n",
    "- - Escolha de features\n",
    "\n",
    "- Analisar se precisamos fazer algo pra corrigir o problema de prevalência (3 - Luiza)\n",
    "\n",
    "- Fazer o back-propagation e forward-propagation pra comparar (4)\n",
    "\n",
    "- Analisar os gráficos q estamos usando (5)"
   ]
  }
 ],
 "metadata": {
  "kernelspec": {
   "display_name": "Python 3",
   "language": "python",
   "name": "python3"
  },
  "language_info": {
   "codemirror_mode": {
    "name": "ipython",
    "version": 3
   },
   "file_extension": ".py",
   "mimetype": "text/x-python",
   "name": "python",
   "nbconvert_exporter": "python",
   "pygments_lexer": "ipython3",
   "version": "3.7.10"
  }
 },
 "nbformat": 4,
 "nbformat_minor": 5
}
