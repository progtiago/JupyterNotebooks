{
 "cells": [
  {
   "cell_type": "markdown",
   "id": "17e48c77",
   "metadata": {},
   "source": [
    "# Trabalho de IA"
   ]
  },
  {
   "cell_type": "code",
   "execution_count": 2,
   "id": "7442ca4e",
   "metadata": {},
   "outputs": [],
   "source": [
    "library('caret')"
   ]
  },
  {
   "cell_type": "code",
   "execution_count": 3,
   "id": "be7a92a9",
   "metadata": {},
   "outputs": [],
   "source": [
    "seed_universal <- 2022"
   ]
  },
  {
   "cell_type": "markdown",
   "id": "40ab2b53",
   "metadata": {},
   "source": [
    "## Funções gerais"
   ]
  },
  {
   "cell_type": "markdown",
   "id": "d42522db",
   "metadata": {},
   "source": [
    "### R2"
   ]
  },
  {
   "cell_type": "code",
   "execution_count": 199,
   "id": "6544c812",
   "metadata": {},
   "outputs": [],
   "source": [
    "r2 <- function(predito, observado) {\n",
    "  return(1 - (sum((predito - observado) ^ 2) / sum((predito - mean(observado)) ^ 2)))\n",
    "}"
   ]
  },
  {
   "cell_type": "markdown",
   "id": "9eab5e6d",
   "metadata": {},
   "source": [
    "## Volume (Regressão)"
   ]
  },
  {
   "cell_type": "code",
   "execution_count": 200,
   "id": "e3758515",
   "metadata": {},
   "outputs": [],
   "source": [
    "volume.dados <- read.csv('bases/volume/Material 02 - 3 – Estimativa de Volume - Dados.csv')"
   ]
  },
  {
   "cell_type": "code",
   "execution_count": 201,
   "id": "52c90092",
   "metadata": {},
   "outputs": [
    {
     "data": {
      "text/plain": [
       "          PROJETO    CLONE        Idade             Hdom         AreaBasal    \n",
       " Fazenda Velha:117   A2:119   Min.   : 21.30   Min.   : 8.80   Min.   : 3.20  \n",
       " Jacutinga    : 27   A3: 46   1st Qu.: 38.30   1st Qu.:19.80   1st Qu.:13.53  \n",
       " Parada       : 51   A4: 43   Median : 61.65   Median :26.00   Median :19.75  \n",
       " Santa Maria  :111   B7: 44   Mean   : 62.53   Mean   :24.38   Mean   :18.63  \n",
       "                     C3: 54   3rd Qu.: 83.38   3rd Qu.:29.00   3rd Qu.:24.30  \n",
       "                              Max.   :123.40   Max.   :35.30   Max.   :29.90  \n",
       "     Volume     \n",
       " Min.   : 12.1  \n",
       " 1st Qu.:221.2  \n",
       " Median :373.1  \n",
       " Mean   :384.6  \n",
       " 3rd Qu.:548.6  \n",
       " Max.   :894.8  "
      ]
     },
     "metadata": {},
     "output_type": "display_data"
    }
   ],
   "source": [
    "summary(volume.dados)"
   ]
  },
  {
   "cell_type": "code",
   "execution_count": 202,
   "id": "dec12ed0",
   "metadata": {},
   "outputs": [
    {
     "data": {
      "text/html": [
       "<table>\n",
       "<thead><tr><th scope=col>PROJETO</th><th scope=col>CLONE</th><th scope=col>Idade</th><th scope=col>Hdom</th><th scope=col>AreaBasal</th><th scope=col>Volume</th></tr></thead>\n",
       "<tbody>\n",
       "\t<tr><td>Fazenda Velha</td><td>C3           </td><td>21.5         </td><td> 8.8         </td><td>3.2          </td><td>12.1         </td></tr>\n",
       "\t<tr><td>Fazenda Velha</td><td>A3           </td><td>21.9         </td><td>10.2         </td><td>3.9          </td><td>66.8         </td></tr>\n",
       "\t<tr><td>Fazenda Velha</td><td>A3           </td><td>26.1         </td><td>10.1         </td><td>4.2          </td><td>72.1         </td></tr>\n",
       "\t<tr><td>Fazenda Velha</td><td>A4           </td><td>22.0         </td><td>10.0         </td><td>4.2          </td><td>35.9         </td></tr>\n",
       "\t<tr><td>Parada       </td><td>B7           </td><td>23.4         </td><td>15.3         </td><td>4.3          </td><td>44.5         </td></tr>\n",
       "\t<tr><td>Fazenda Velha</td><td>A2           </td><td>25.9         </td><td>10.5         </td><td>4.4          </td><td>63.9         </td></tr>\n",
       "</tbody>\n",
       "</table>\n"
      ],
      "text/latex": [
       "\\begin{tabular}{r|llllll}\n",
       " PROJETO & CLONE & Idade & Hdom & AreaBasal & Volume\\\\\n",
       "\\hline\n",
       "\t Fazenda Velha & C3            & 21.5          &  8.8          & 3.2           & 12.1         \\\\\n",
       "\t Fazenda Velha & A3            & 21.9          & 10.2          & 3.9           & 66.8         \\\\\n",
       "\t Fazenda Velha & A3            & 26.1          & 10.1          & 4.2           & 72.1         \\\\\n",
       "\t Fazenda Velha & A4            & 22.0          & 10.0          & 4.2           & 35.9         \\\\\n",
       "\t Parada        & B7            & 23.4          & 15.3          & 4.3           & 44.5         \\\\\n",
       "\t Fazenda Velha & A2            & 25.9          & 10.5          & 4.4           & 63.9         \\\\\n",
       "\\end{tabular}\n"
      ],
      "text/markdown": [
       "\n",
       "| PROJETO | CLONE | Idade | Hdom | AreaBasal | Volume |\n",
       "|---|---|---|---|---|---|\n",
       "| Fazenda Velha | C3            | 21.5          |  8.8          | 3.2           | 12.1          |\n",
       "| Fazenda Velha | A3            | 21.9          | 10.2          | 3.9           | 66.8          |\n",
       "| Fazenda Velha | A3            | 26.1          | 10.1          | 4.2           | 72.1          |\n",
       "| Fazenda Velha | A4            | 22.0          | 10.0          | 4.2           | 35.9          |\n",
       "| Parada        | B7            | 23.4          | 15.3          | 4.3           | 44.5          |\n",
       "| Fazenda Velha | A2            | 25.9          | 10.5          | 4.4           | 63.9          |\n",
       "\n"
      ],
      "text/plain": [
       "  PROJETO       CLONE Idade Hdom AreaBasal Volume\n",
       "1 Fazenda Velha C3    21.5   8.8 3.2       12.1  \n",
       "2 Fazenda Velha A3    21.9  10.2 3.9       66.8  \n",
       "3 Fazenda Velha A3    26.1  10.1 4.2       72.1  \n",
       "4 Fazenda Velha A4    22.0  10.0 4.2       35.9  \n",
       "5 Parada        B7    23.4  15.3 4.3       44.5  \n",
       "6 Fazenda Velha A2    25.9  10.5 4.4       63.9  "
      ]
     },
     "metadata": {},
     "output_type": "display_data"
    }
   ],
   "source": [
    "head(volume.dados)"
   ]
  },
  {
   "cell_type": "code",
   "execution_count": 203,
   "id": "bbed8587",
   "metadata": {},
   "outputs": [],
   "source": [
    "# Separa entre treino e teste\n",
    "\n",
    "set.seed(seed_universal)\n",
    "indices <- createDataPartition(volume.dados$Volume, p = 0.8, list = FALSE)\n",
    "treino <- volume.dados[indices,]\n",
    "teste <- volume.dados[-indices,]"
   ]
  },
  {
   "cell_type": "markdown",
   "id": "40c098a8",
   "metadata": {},
   "source": [
    "### Rede Neurais"
   ]
  },
  {
   "cell_type": "markdown",
   "id": "f8e6d99e",
   "metadata": {},
   "source": [
    "#### Hold-out"
   ]
  },
  {
   "cell_type": "code",
   "execution_count": 41,
   "id": "f10c6373",
   "metadata": {
    "scrolled": false
   },
   "outputs": [
    {
     "name": "stderr",
     "output_type": "stream",
     "text": [
      "Warning message in nominalTrainWorkflow(x = x, y = y, wts = weights, info = trainInfo, :\n",
      "“There were missing values in resampled performance measures.”"
     ]
    },
    {
     "data": {
      "text/plain": [
       "Neural Network \n",
       "\n",
       "246 samples\n",
       "  5 predictor\n",
       "\n",
       "No pre-processing\n",
       "Resampling: Bootstrapped (25 reps) \n",
       "Summary of sample sizes: 246, 246, 246, 246, 246, 246, ... \n",
       "Resampling results across tuning parameters:\n",
       "\n",
       "  size  decay  RMSE       Rsquared   MAE      \n",
       "  1     0e+00  197.88119  0.4634644  168.81974\n",
       "  1     1e-04  199.06606  0.2492164  170.46150\n",
       "  1     1e-01  104.07515  0.6879326   86.55805\n",
       "  3     0e+00  186.80061  0.3281662  159.29395\n",
       "  3     1e-04  195.37767  0.2584346  166.93378\n",
       "  3     1e-01   98.92831  0.7186257   79.25041\n",
       "  5     0e+00  170.30300  0.4854395  142.69061\n",
       "  5     1e-04  130.46402  0.5907056  108.58653\n",
       "  5     1e-01   78.80306  0.8109754   62.54237\n",
       "\n",
       "RMSE was used to select the optimal model using the smallest value.\n",
       "The final values used for the model were size = 5 and decay = 0.1."
      ]
     },
     "metadata": {},
     "output_type": "display_data"
    }
   ],
   "source": [
    "set.seed(seed_universal)\n",
    "rna <- train(Volume ~ ., data = treino, method = 'nnet', linout = T, trace = FALSE)\n",
    "rna"
   ]
  },
  {
   "cell_type": "code",
   "execution_count": 42,
   "id": "3df8ba33",
   "metadata": {},
   "outputs": [],
   "source": [
    "predicoes.rna <- predict(rna, teste)"
   ]
  },
  {
   "cell_type": "code",
   "execution_count": 43,
   "id": "7f8117e9",
   "metadata": {},
   "outputs": [
    {
     "data": {
      "text/html": [
       "0.795484189502914"
      ],
      "text/latex": [
       "0.795484189502914"
      ],
      "text/markdown": [
       "0.795484189502914"
      ],
      "text/plain": [
       "[1] 0.7954842"
      ]
     },
     "metadata": {},
     "output_type": "display_data"
    }
   ],
   "source": [
    "r2(predicoes.rna, teste$Volume)"
   ]
  },
  {
   "cell_type": "markdown",
   "id": "b4ce3bdd",
   "metadata": {},
   "source": [
    "#### Cross validation"
   ]
  },
  {
   "cell_type": "code",
   "execution_count": 44,
   "id": "386f919a",
   "metadata": {
    "scrolled": false
   },
   "outputs": [
    {
     "name": "stderr",
     "output_type": "stream",
     "text": [
      "Warning message in nominalTrainWorkflow(x = x, y = y, wts = weights, info = trainInfo, :\n",
      "“There were missing values in resampled performance measures.”"
     ]
    },
    {
     "data": {
      "text/plain": [
       "Neural Network \n",
       "\n",
       "246 samples\n",
       "  5 predictor\n",
       "\n",
       "No pre-processing\n",
       "Resampling: Bootstrapped (25 reps) \n",
       "Summary of sample sizes: 246, 246, 246, 246, 246, 246, ... \n",
       "Resampling results across tuning parameters:\n",
       "\n",
       "  size  decay  RMSE       Rsquared   MAE       \n",
       "  1     0e+00  197.88119  0.4634644  168.819740\n",
       "  1     1e-04  199.06606  0.2492164  170.461499\n",
       "  1     1e-01   43.95163  0.9088273   36.053049\n",
       "  3     0e+00  186.75601  0.3282928  159.176976\n",
       "  3     1e-04  192.49199  0.2844907  165.202780\n",
       "  3     1e-01   16.44218  0.9768869   12.515733\n",
       "  5     0e+00  169.22040  0.4919367  141.669076\n",
       "  5     1e-04  121.78793  0.6183588  101.877294\n",
       "  5     1e-01   10.71914  0.9970694    7.720742\n",
       "\n",
       "RMSE was used to select the optimal model using the smallest value.\n",
       "The final values used for the model were size = 5 and decay = 0.1."
      ]
     },
     "metadata": {},
     "output_type": "display_data"
    }
   ],
   "source": [
    "control <- trainControl(method = 'cv', number = 10)\n",
    "\n",
    "set.seed(seed_universal)\n",
    "rna <- train(Volume ~ ., data = treino, method = 'nnet', \n",
    "             linout = T, MaxNWts = 10000, maxit = 2000, trainControl = control, trace = FALSE)\n",
    "rna"
   ]
  },
  {
   "cell_type": "code",
   "execution_count": 45,
   "id": "d6317fd8",
   "metadata": {},
   "outputs": [],
   "source": [
    "predicoes.rna <- predict(rna, teste)"
   ]
  },
  {
   "cell_type": "code",
   "execution_count": 46,
   "id": "34cfb6d2",
   "metadata": {},
   "outputs": [
    {
     "data": {
      "text/html": [
       "0.995128120500781"
      ],
      "text/latex": [
       "0.995128120500781"
      ],
      "text/markdown": [
       "0.995128120500781"
      ],
      "text/plain": [
       "[1] 0.9951281"
      ]
     },
     "metadata": {},
     "output_type": "display_data"
    }
   ],
   "source": [
    "r2(predicoes.rna, teste$Volume)"
   ]
  },
  {
   "cell_type": "markdown",
   "id": "63ee57e6",
   "metadata": {},
   "source": [
    "##### Grid"
   ]
  },
  {
   "cell_type": "code",
   "execution_count": 47,
   "id": "9b3b4a71",
   "metadata": {
    "scrolled": true
   },
   "outputs": [
    {
     "name": "stderr",
     "output_type": "stream",
     "text": [
      "Warning message in nominalTrainWorkflow(x = x, y = y, wts = weights, info = trainInfo, :\n",
      "“There were missing values in resampled performance measures.”"
     ]
    },
    {
     "data": {
      "text/plain": [
       "Neural Network \n",
       "\n",
       "246 samples\n",
       "  5 predictor\n",
       "\n",
       "No pre-processing\n",
       "Resampling: Bootstrapped (25 reps) \n",
       "Summary of sample sizes: 246, 246, 246, 246, 246, 246, ... \n",
       "Resampling results across tuning parameters:\n",
       "\n",
       "  size  decay  RMSE      Rsquared   MAE      \n",
       "   1    0.1    65.30100  0.9329826  54.804849\n",
       "   1    0.2    52.53010  0.9424187  43.261659\n",
       "   1    0.3    39.94065  0.9182359  32.007308\n",
       "   1    0.4    34.84986  0.9423415  27.399924\n",
       "   1    0.5    43.35614  0.9802709  35.117258\n",
       "   1    0.6    30.95972  0.9781187  23.581892\n",
       "   1    0.7    45.17295  0.9384026  35.689355\n",
       "   1    0.8    32.61827  0.9759435  24.729339\n",
       "   1    0.9    40.34560  0.9423948  31.816750\n",
       "   2    0.1    49.33668  0.8887616  41.129060\n",
       "   2    0.2    17.20855  0.9922109  13.048608\n",
       "   2    0.3    25.79076  0.9912054  20.020627\n",
       "   2    0.4    17.03829  0.9930853  12.625986\n",
       "   2    0.5    18.84305  0.9914069  13.699636\n",
       "   2    0.6    19.64193  0.9907140  14.582907\n",
       "   2    0.7    20.62063  0.9895238  15.043041\n",
       "   2    0.8    20.45142  0.9898074  14.954252\n",
       "   2    0.9    21.65326  0.9883612  15.646608\n",
       "   3    0.1    11.65642  0.9966276   8.664373\n",
       "   3    0.2    12.58799  0.9960679   9.380626\n",
       "   3    0.3    13.75737  0.9951638  10.024844\n",
       "   3    0.4    15.85098  0.9937478  10.894200\n",
       "   3    0.5    14.61996  0.9948349  10.709028\n",
       "   3    0.6    15.91991  0.9936750  11.131465\n",
       "   3    0.7    16.48456  0.9931710  11.740847\n",
       "   3    0.8    16.39294  0.9933997  11.747033\n",
       "   3    0.9    17.96125  0.9919531  12.165373\n",
       "   4    0.1    11.58595  0.9965585   8.276526\n",
       "   4    0.2    10.96249  0.9970759   8.032403\n",
       "   4    0.3    13.10101  0.9956726   9.255852\n",
       "   4    0.4    13.71109  0.9952142   9.840729\n",
       "   4    0.5    13.86833  0.9953599   9.844947\n",
       "   4    0.6    13.81929  0.9953601   9.895839\n",
       "   4    0.7    13.93950  0.9952263   9.879973\n",
       "   4    0.8    16.01416  0.9932458  10.717634\n",
       "   4    0.9    14.66103  0.9947931  10.072158\n",
       "   5    0.1    11.75990  0.9964092   8.130070\n",
       "   5    0.2    12.26887  0.9962207   8.833323\n",
       "   5    0.3    11.44810  0.9967723   8.142678\n",
       "   5    0.4    13.01326  0.9956390   8.873638\n",
       "   5    0.5    12.88012  0.9957858   8.850485\n",
       "   5    0.6    13.19589  0.9955863   9.218138\n",
       "   5    0.7    15.15541  0.9941198  10.265290\n",
       "   5    0.8    14.14500  0.9950881   9.713312\n",
       "   5    0.9    13.87022  0.9954231   9.595468\n",
       "   6    0.1    12.39315  0.9960924   8.428860\n",
       "   6    0.2    12.04688  0.9962919   8.490092\n",
       "   6    0.3    12.00951  0.9963900   8.486015\n",
       "   6    0.4    12.88727  0.9958989   8.845441\n",
       "   6    0.5    13.86798  0.9951723   9.440174\n",
       "   6    0.6    12.93915  0.9957180   8.888267\n",
       "   6    0.7    14.00812  0.9951259   9.621651\n",
       "   6    0.8    14.39954  0.9949077   9.469245\n",
       "   6    0.9    14.15830  0.9950475   9.795350\n",
       "   7    0.1    11.64815  0.9965900   8.057969\n",
       "   7    0.2    12.41226  0.9961715   8.422756\n",
       "   7    0.3    13.84569  0.9951542   9.289581\n",
       "   7    0.4    13.61784  0.9953717   9.198542\n",
       "   7    0.5    13.01083  0.9957499   8.681544\n",
       "   7    0.6    14.21673  0.9949884   9.547818\n",
       "   7    0.7    13.87396  0.9948513   9.595355\n",
       "   7    0.8    14.22432  0.9948058   9.586752\n",
       "   7    0.9    13.14029  0.9957651   9.019297\n",
       "   8    0.1    13.59071  0.9951652   9.230189\n",
       "   8    0.2    13.13916  0.9957482   9.099728\n",
       "   8    0.3    12.96630  0.9959232   8.749485\n",
       "   8    0.4    13.59696  0.9954561   9.197480\n",
       "   8    0.5    13.54500  0.9953749   9.349961\n",
       "   8    0.6    14.55783  0.9947069   9.594069\n",
       "   8    0.7    14.03079  0.9950564   9.556507\n",
       "   8    0.8    13.87212  0.9951556   9.363820\n",
       "   8    0.9    14.70179  0.9946388   9.628685\n",
       "   9    0.1    15.44944  0.9939741  10.504316\n",
       "   9    0.2    14.42388  0.9947967   9.538440\n",
       "   9    0.3    15.91521  0.9935718  10.440641\n",
       "   9    0.4    14.41720  0.9947483   9.899255\n",
       "   9    0.5    14.83969  0.9943560   9.541316\n",
       "   9    0.6    14.83775  0.9943693  10.019832\n",
       "   9    0.7    13.75024  0.9952909   9.280809\n",
       "   9    0.8    14.50832  0.9946707   9.740323\n",
       "   9    0.9    13.81128  0.9952615   9.601962\n",
       "  10    0.1    15.05872  0.9943947  10.454190\n",
       "  10    0.2    15.34302  0.9940943  10.453251\n",
       "  10    0.3    13.68674  0.9952647   9.434436\n",
       "  10    0.4    15.19555  0.9942782  10.381683\n",
       "  10    0.5    13.93215  0.9951999   9.471163\n",
       "  10    0.6    14.28347  0.9949287   9.755059\n",
       "  10    0.7    15.14019  0.9943463  10.343197\n",
       "  10    0.8    14.73297  0.9945445  10.018426\n",
       "  10    0.9    14.35435  0.9950414   9.585797\n",
       "\n",
       "RMSE was used to select the optimal model using the smallest value.\n",
       "The final values used for the model were size = 4 and decay = 0.2."
      ]
     },
     "metadata": {},
     "output_type": "display_data"
    }
   ],
   "source": [
    "control <- trainControl(method = 'cv', number = 10)\n",
    "tuneGrid <- expand.grid(size = seq(from = 1, to = 10, by = 1), decay = seq(from = 0.1, to = 0.9, by = 0.1))\n",
    "\n",
    "set.seed(seed_universal)\n",
    "rna <- train(Volume ~ ., data = treino, method = 'nnet', \n",
    "             trainControl = control, tuneGrid = tuneGrid, \n",
    "             linout = T, MaxNWts = 10000, maxit = 2000, trace = FALSE)\n",
    "rna"
   ]
  },
  {
   "cell_type": "code",
   "execution_count": 48,
   "id": "c1242e19",
   "metadata": {},
   "outputs": [],
   "source": [
    "predicoes.rna <- predict(rna, teste)"
   ]
  },
  {
   "cell_type": "code",
   "execution_count": 49,
   "id": "c3b69a49",
   "metadata": {},
   "outputs": [
    {
     "data": {
      "text/html": [
       "0.993632365772095"
      ],
      "text/latex": [
       "0.993632365772095"
      ],
      "text/markdown": [
       "0.993632365772095"
      ],
      "text/plain": [
       "[1] 0.9936324"
      ]
     },
     "metadata": {},
     "output_type": "display_data"
    }
   ],
   "source": [
    "r2(predicoes.rna, teste$Volume)"
   ]
  },
  {
   "cell_type": "markdown",
   "id": "653d50b6",
   "metadata": {},
   "source": [
    "### KNN"
   ]
  },
  {
   "cell_type": "code",
   "execution_count": 206,
   "id": "cedb8f61",
   "metadata": {},
   "outputs": [
    {
     "data": {
      "text/plain": [
       "k-Nearest Neighbors \n",
       "\n",
       "246 samples\n",
       "  5 predictor\n",
       "\n",
       "No pre-processing\n",
       "Resampling: Bootstrapped (25 reps) \n",
       "Summary of sample sizes: 246, 246, 246, 246, 246, 246, ... \n",
       "Resampling results across tuning parameters:\n",
       "\n",
       "  k  RMSE      Rsquared   MAE     \n",
       "  5  108.0277  0.7167737  81.94722\n",
       "  7  106.5912  0.7236263  80.65188\n",
       "  9  105.7013  0.7276179  80.78625\n",
       "\n",
       "RMSE was used to select the optimal model using the smallest value.\n",
       "The final value used for the model was k = 9."
      ]
     },
     "metadata": {},
     "output_type": "display_data"
    }
   ],
   "source": [
    "tuneGrid <- expand.grid(k = c(1, 3, 5, 7, 9, 11, 13, 15, 17, 19, 21))\n",
    "set.seed(seed_universal)\n",
    "knn <- train(Volume ~ ., data = treino, method = \"knn\", btuneGrid=tuneGrid)\n",
    "knn"
   ]
  },
  {
   "cell_type": "code",
   "execution_count": 209,
   "id": "80947512",
   "metadata": {},
   "outputs": [
    {
     "data": {
      "text/html": [
       "0.559770941681119"
      ],
      "text/latex": [
       "0.559770941681119"
      ],
      "text/markdown": [
       "0.559770941681119"
      ],
      "text/plain": [
       "[1] 0.5597709"
      ]
     },
     "metadata": {},
     "output_type": "display_data"
    }
   ],
   "source": [
    "predicoes.knn <- predict(knn, teste)\n",
    "r2(predicoes.knn, teste$Volume)"
   ]
  },
  {
   "cell_type": "markdown",
   "id": "f7e5eb74",
   "metadata": {},
   "source": [
    "----"
   ]
  },
  {
   "cell_type": "markdown",
   "id": "2baf7db2",
   "metadata": {},
   "source": [
    "## Biomassa (Regressão)"
   ]
  },
  {
   "cell_type": "code",
   "execution_count": 210,
   "id": "6edde4ea",
   "metadata": {},
   "outputs": [],
   "source": [
    "biomassa.dados <- read.csv('bases/biomassa/Material 02 - 4 - R - Biomassa - Dados.csv')"
   ]
  },
  {
   "cell_type": "code",
   "execution_count": 211,
   "id": "dcb1a1c3",
   "metadata": {},
   "outputs": [
    {
     "data": {
      "text/plain": [
       "      dap               h               Me            biomassa       \n",
       " Min.   :  5.10   Min.   : 5.00   Min.   :0.2900   Min.   :    5.11  \n",
       " 1st Qu.: 10.00   1st Qu.:11.50   1st Qu.:0.4975   1st Qu.:   35.87  \n",
       " Median : 14.00   Median :14.25   Median :0.6100   Median :   81.40  \n",
       " Mean   : 17.43   Mean   :15.40   Mean   :0.6216   Mean   :  398.94  \n",
       " 3rd Qu.: 19.07   3rd Qu.:18.00   3rd Qu.:0.7200   3rd Qu.:  214.68  \n",
       " Max.   :138.00   Max.   :49.00   Max.   :1.0400   Max.   :18613.22  "
      ]
     },
     "metadata": {},
     "output_type": "display_data"
    }
   ],
   "source": [
    "summary(biomassa.dados)"
   ]
  },
  {
   "cell_type": "code",
   "execution_count": 212,
   "id": "8a82ddd6",
   "metadata": {},
   "outputs": [
    {
     "data": {
      "text/html": [
       "<table>\n",
       "<thead><tr><th scope=col>dap</th><th scope=col>h</th><th scope=col>Me</th><th scope=col>biomassa</th></tr></thead>\n",
       "<tbody>\n",
       "\t<tr><td> 6.4 </td><td>5.0  </td><td>1.04 </td><td> 7.07</td></tr>\n",
       "\t<tr><td> 7.3 </td><td>5.0  </td><td>1.04 </td><td>10.30</td></tr>\n",
       "\t<tr><td> 7.8 </td><td>5.5  </td><td>1.04 </td><td>13.90</td></tr>\n",
       "\t<tr><td> 9.2 </td><td>7.6  </td><td>1.04 </td><td>18.61</td></tr>\n",
       "\t<tr><td> 9.9 </td><td>8.2  </td><td>1.04 </td><td>30.97</td></tr>\n",
       "\t<tr><td>10.6 </td><td>8.7  </td><td>1.04 </td><td>46.44</td></tr>\n",
       "</tbody>\n",
       "</table>\n"
      ],
      "text/latex": [
       "\\begin{tabular}{r|llll}\n",
       " dap & h & Me & biomassa\\\\\n",
       "\\hline\n",
       "\t  6.4  & 5.0   & 1.04  &  7.07\\\\\n",
       "\t  7.3  & 5.0   & 1.04  & 10.30\\\\\n",
       "\t  7.8  & 5.5   & 1.04  & 13.90\\\\\n",
       "\t  9.2  & 7.6   & 1.04  & 18.61\\\\\n",
       "\t  9.9  & 8.2   & 1.04  & 30.97\\\\\n",
       "\t 10.6  & 8.7   & 1.04  & 46.44\\\\\n",
       "\\end{tabular}\n"
      ],
      "text/markdown": [
       "\n",
       "| dap | h | Me | biomassa |\n",
       "|---|---|---|---|\n",
       "|  6.4  | 5.0   | 1.04  |  7.07 |\n",
       "|  7.3  | 5.0   | 1.04  | 10.30 |\n",
       "|  7.8  | 5.5   | 1.04  | 13.90 |\n",
       "|  9.2  | 7.6   | 1.04  | 18.61 |\n",
       "|  9.9  | 8.2   | 1.04  | 30.97 |\n",
       "| 10.6  | 8.7   | 1.04  | 46.44 |\n",
       "\n"
      ],
      "text/plain": [
       "  dap  h   Me   biomassa\n",
       "1  6.4 5.0 1.04  7.07   \n",
       "2  7.3 5.0 1.04 10.30   \n",
       "3  7.8 5.5 1.04 13.90   \n",
       "4  9.2 7.6 1.04 18.61   \n",
       "5  9.9 8.2 1.04 30.97   \n",
       "6 10.6 8.7 1.04 46.44   "
      ]
     },
     "metadata": {},
     "output_type": "display_data"
    }
   ],
   "source": [
    "head(biomassa.dados)"
   ]
  },
  {
   "cell_type": "code",
   "execution_count": 213,
   "id": "b06481b5",
   "metadata": {},
   "outputs": [],
   "source": [
    "# Separa entre treino e teste\n",
    "\n",
    "set.seed(seed_universal)\n",
    "indices <- createDataPartition(biomassa.dados$biomassa, p = 0.8, list = FALSE)\n",
    "treino <- biomassa.dados[indices,]\n",
    "teste <- biomassa.dados[-indices,]"
   ]
  },
  {
   "cell_type": "markdown",
   "id": "64003347",
   "metadata": {},
   "source": [
    "### Redes Neurais"
   ]
  },
  {
   "cell_type": "code",
   "execution_count": 78,
   "id": "4fe1aa41",
   "metadata": {},
   "outputs": [
    {
     "name": "stderr",
     "output_type": "stream",
     "text": [
      "Warning message in nominalTrainWorkflow(x = x, y = y, wts = weights, info = trainInfo, :\n",
      "“There were missing values in resampled performance measures.”"
     ]
    },
    {
     "data": {
      "text/plain": [
       "Neural Network \n",
       "\n",
       "240 samples\n",
       "  3 predictor\n",
       "\n",
       "No pre-processing\n",
       "Resampling: Bootstrapped (25 reps) \n",
       "Summary of sample sizes: 240, 240, 240, 240, 240, 240, ... \n",
       "Resampling results across tuning parameters:\n",
       "\n",
       "  size  decay  RMSE      Rsquared   MAE     \n",
       "  1     0e+00  1466.337  0.3644486  553.3771\n",
       "  1     1e-04  1350.463  0.6292145  505.3208\n",
       "  1     1e-01  1093.296  0.6891841  369.6148\n",
       "  3     0e+00  1501.409  0.1433329  567.5949\n",
       "  3     1e-04  1489.390  0.1699539  566.2313\n",
       "  3     1e-01  1076.270  0.6121771  336.3104\n",
       "  5     0e+00  1494.634  0.2168270  556.5481\n",
       "  5     1e-04  1485.354  0.1807968  554.5376\n",
       "  5     1e-01  1027.213  0.6594092  301.5608\n",
       "\n",
       "RMSE was used to select the optimal model using the smallest value.\n",
       "The final values used for the model were size = 5 and decay = 0.1."
      ]
     },
     "metadata": {},
     "output_type": "display_data"
    }
   ],
   "source": [
    "set.seed(seed_universal)\n",
    "rna <- train(biomassa ~ ., data = treino, method = 'nnet', linout = T, trace = FALSE)\n",
    "rna"
   ]
  },
  {
   "cell_type": "code",
   "execution_count": 79,
   "id": "4c491109",
   "metadata": {},
   "outputs": [],
   "source": [
    "predicoes.rna <- predict(rna, teste)"
   ]
  },
  {
   "cell_type": "code",
   "execution_count": 80,
   "id": "54d5b5cc",
   "metadata": {},
   "outputs": [
    {
     "data": {
      "text/html": [
       "0.857866089266974"
      ],
      "text/latex": [
       "0.857866089266974"
      ],
      "text/markdown": [
       "0.857866089266974"
      ],
      "text/plain": [
       "[1] 0.8578661"
      ]
     },
     "metadata": {},
     "output_type": "display_data"
    }
   ],
   "source": [
    "r2(predicoes.rna, teste$biomassa)"
   ]
  },
  {
   "cell_type": "markdown",
   "id": "ed517392",
   "metadata": {},
   "source": [
    "#### Cross validation"
   ]
  },
  {
   "cell_type": "code",
   "execution_count": 81,
   "id": "b7a9fc27",
   "metadata": {},
   "outputs": [
    {
     "name": "stderr",
     "output_type": "stream",
     "text": [
      "Warning message in nominalTrainWorkflow(x = x, y = y, wts = weights, info = trainInfo, :\n",
      "“There were missing values in resampled performance measures.”"
     ]
    },
    {
     "data": {
      "text/plain": [
       "Neural Network \n",
       "\n",
       "240 samples\n",
       "  3 predictor\n",
       "\n",
       "No pre-processing\n",
       "Resampling: Bootstrapped (25 reps) \n",
       "Summary of sample sizes: 240, 240, 240, 240, 240, 240, ... \n",
       "Resampling results across tuning parameters:\n",
       "\n",
       "  size  decay  RMSE       Rsquared   MAE     \n",
       "  1     0e+00  1466.3374  0.3644486  553.3771\n",
       "  1     1e-04  1354.3819  0.6285031  505.8067\n",
       "  1     1e-01  1089.2802  0.6880740  352.5654\n",
       "  3     0e+00  1501.4088  0.1433329  567.5949\n",
       "  3     1e-04  1489.3902  0.1699539  566.2313\n",
       "  3     1e-01   898.5727  0.7973388  226.9956\n",
       "  5     0e+00  1494.6336  0.2168270  556.5481\n",
       "  5     1e-04  1485.3538  0.1807968  554.5376\n",
       "  5     1e-01   816.1149  0.8411808  196.1931\n",
       "\n",
       "RMSE was used to select the optimal model using the smallest value.\n",
       "The final values used for the model were size = 5 and decay = 0.1."
      ]
     },
     "metadata": {},
     "output_type": "display_data"
    }
   ],
   "source": [
    "control <- trainControl(method = 'cv', number = 10)\n",
    "\n",
    "set.seed(seed_universal)\n",
    "rna <- train(biomassa ~ ., data = treino, method = 'nnet', \n",
    "             linout = T, MaxNWts = 10000, maxit = 2000, trainControl = control, trace = FALSE)\n",
    "rna"
   ]
  },
  {
   "cell_type": "code",
   "execution_count": 82,
   "id": "d2cd1e92",
   "metadata": {},
   "outputs": [],
   "source": [
    "predicoes.rna <- predict(rna, teste)"
   ]
  },
  {
   "cell_type": "code",
   "execution_count": 83,
   "id": "331ad084",
   "metadata": {},
   "outputs": [
    {
     "data": {
      "text/html": [
       "0.916131600671121"
      ],
      "text/latex": [
       "0.916131600671121"
      ],
      "text/markdown": [
       "0.916131600671121"
      ],
      "text/plain": [
       "[1] 0.9161316"
      ]
     },
     "metadata": {},
     "output_type": "display_data"
    }
   ],
   "source": [
    "r2(predicoes.rna, teste$biomassa)"
   ]
  },
  {
   "cell_type": "markdown",
   "id": "638ff6e9",
   "metadata": {},
   "source": [
    "#### Grid"
   ]
  },
  {
   "cell_type": "code",
   "execution_count": 84,
   "id": "6cee3d7a",
   "metadata": {
    "scrolled": true
   },
   "outputs": [
    {
     "name": "stderr",
     "output_type": "stream",
     "text": [
      "Warning message in nominalTrainWorkflow(x = x, y = y, wts = weights, info = trainInfo, :\n",
      "“There were missing values in resampled performance measures.”"
     ]
    },
    {
     "data": {
      "text/plain": [
       "Neural Network \n",
       "\n",
       "240 samples\n",
       "  3 predictor\n",
       "\n",
       "No pre-processing\n",
       "Resampling: Bootstrapped (25 reps) \n",
       "Summary of sample sizes: 240, 240, 240, 240, 240, 240, ... \n",
       "Resampling results across tuning parameters:\n",
       "\n",
       "  size  decay  RMSE       Rsquared   MAE     \n",
       "   1    0.1    1067.1821  0.6831073  353.2956\n",
       "   1    0.2     980.8987  0.7018747  311.0923\n",
       "   1    0.3     956.3362  0.8485133  310.5446\n",
       "   1    0.4     962.6066  0.7492516  281.3446\n",
       "   1    0.5    1103.8242  0.5923212  365.9093\n",
       "   1    0.6     991.3940  0.7008012  305.7726\n",
       "   1    0.7    1044.9901  0.6897010  317.1576\n",
       "   1    0.8    1029.9935  0.7648785  315.6781\n",
       "   1    0.9    1018.8826  0.7117438  299.8528\n",
       "   2    0.1     952.2017  0.7758576  254.0573\n",
       "   2    0.2     896.8212  0.7946368  225.7127\n",
       "   2    0.3     886.3637  0.8239438  224.7773\n",
       "   2    0.4     810.0870  0.8703751  204.5239\n",
       "   2    0.5     888.7059  0.8321895  216.5902\n",
       "   2    0.6     875.6846  0.8406566  229.3852\n",
       "   2    0.7     893.9677  0.8289759  221.6518\n",
       "   2    0.8     840.9855  0.8315302  219.6274\n",
       "   2    0.9     879.2275  0.7951381  228.7387\n",
       "   3    0.1     940.5782  0.7448080  241.5074\n",
       "   3    0.2     955.5126  0.7379122  226.5239\n",
       "   3    0.3     905.0653  0.7718505  235.7498\n",
       "   3    0.4     823.7208  0.8419915  199.8366\n",
       "   3    0.5     821.8862  0.8298883  195.0817\n",
       "   3    0.6     908.5201  0.7657505  213.4900\n",
       "   3    0.7     836.2518  0.8377926  195.1449\n",
       "   3    0.8     897.1808  0.7742951  221.3603\n",
       "   3    0.9     801.8832  0.8422455  181.0169\n",
       "   4    0.1     868.3674  0.8379671  207.8302\n",
       "   4    0.2     911.0289  0.7941690  212.5974\n",
       "   4    0.3     864.7539  0.8268344  190.9611\n",
       "   4    0.4     931.0241  0.7778076  221.4288\n",
       "   4    0.5     876.2517  0.7881601  210.2191\n",
       "   4    0.6     871.4415  0.8110846  196.6072\n",
       "   4    0.7     834.1230  0.8250407  189.6961\n",
       "   4    0.8     891.4218  0.8228620  206.3764\n",
       "   4    0.9     845.9440  0.8501518  198.3161\n",
       "   5    0.1     948.5887  0.7691139  226.6754\n",
       "   5    0.2     945.2836  0.7754813  209.8487\n",
       "   5    0.3     862.7010  0.8022326  208.8796\n",
       "   5    0.4     882.6096  0.8209056  201.5185\n",
       "   5    0.5     842.7994  0.8339868  199.2044\n",
       "   5    0.6     806.6944  0.8376377  184.8766\n",
       "   5    0.7     880.0516  0.8269021  199.3436\n",
       "   5    0.8     848.5530  0.8144219  197.5587\n",
       "   5    0.9     893.7860  0.7902333  204.2506\n",
       "   6    0.1     916.2524  0.7647737  219.3195\n",
       "   6    0.2     886.7277  0.7704086  207.9865\n",
       "   6    0.3     831.1086  0.8347740  200.5972\n",
       "   6    0.4     848.6971  0.8340000  191.6797\n",
       "   6    0.5     854.9284  0.8288095  191.5508\n",
       "   6    0.6     883.6482  0.8249855  198.7407\n",
       "   6    0.7     818.7423  0.8339141  180.2305\n",
       "   6    0.8     864.6130  0.8131859  189.0672\n",
       "   6    0.9     800.7743  0.8463050  181.8418\n",
       "   7    0.1     967.7703  0.7576173  239.0227\n",
       "   7    0.2     916.6110  0.8070733  204.6800\n",
       "   7    0.3     869.1718  0.7787572  219.4128\n",
       "   7    0.4     815.8275  0.8349770  190.2302\n",
       "   7    0.5     885.1748  0.8005126  200.5450\n",
       "   7    0.6     837.8119  0.8165077  186.1920\n",
       "   7    0.7     825.8681  0.8308148  188.1131\n",
       "   7    0.8     877.2273  0.7936464  205.0751\n",
       "   7    0.9     852.9617  0.8320353  195.8621\n",
       "   8    0.1     893.4267  0.7673415  215.6170\n",
       "   8    0.2     911.0967  0.7939029  206.4281\n",
       "   8    0.3     858.4465  0.8238499  203.0685\n",
       "   8    0.4     837.3138  0.7951946  201.8049\n",
       "   8    0.5     820.1854  0.8283918  186.0476\n",
       "   8    0.6     863.8094  0.8349922  193.2992\n",
       "   8    0.7     810.9796  0.8319941  186.7785\n",
       "   8    0.8     836.7665  0.8064083  193.7943\n",
       "   8    0.9     823.1877  0.8245684  190.0912\n",
       "   9    0.1     896.4148  0.7938736  205.2262\n",
       "   9    0.2     898.2430  0.8009254  222.2318\n",
       "   9    0.3     816.2093  0.8332329  189.2918\n",
       "   9    0.4     858.2667  0.8121349  198.2280\n",
       "   9    0.5     852.9046  0.8292170  196.6603\n",
       "   9    0.6     849.5328  0.8273429  193.8581\n",
       "   9    0.7     825.4821  0.8315297  189.4560\n",
       "   9    0.8     839.9372  0.7931446  205.4618\n",
       "   9    0.9     824.4161  0.8321082  193.6535\n",
       "  10    0.1     883.4813  0.7897290  214.7842\n",
       "  10    0.2     837.7463  0.8300168  196.1419\n",
       "  10    0.3     792.3440  0.8431159  185.6266\n",
       "  10    0.4     852.0152  0.8029972  205.1963\n",
       "  10    0.5     779.3715  0.8574838  182.4123\n",
       "  10    0.6     827.9784  0.8327809  192.8336\n",
       "  10    0.7     845.1064  0.8355589  189.4284\n",
       "  10    0.8     789.7870  0.8296023  185.4295\n",
       "  10    0.9     817.2708  0.8366387  187.2320\n",
       "\n",
       "RMSE was used to select the optimal model using the smallest value.\n",
       "The final values used for the model were size = 10 and decay = 0.5."
      ]
     },
     "metadata": {},
     "output_type": "display_data"
    }
   ],
   "source": [
    "control <- trainControl(method = 'cv', number = 10)\n",
    "tuneGrid <- expand.grid(size = seq(from = 1, to = 10, by = 1), decay = seq(from = 0.1, to = 0.9, by = 0.1))\n",
    "\n",
    "set.seed(seed_universal)\n",
    "rna <- train(biomassa ~ ., data = treino, method = 'nnet', \n",
    "             trainControl = control, tuneGrid = tuneGrid, \n",
    "             linout = T, MaxNWts = 10000, maxit = 2000, trace = FALSE)\n",
    "rna"
   ]
  },
  {
   "cell_type": "code",
   "execution_count": 85,
   "id": "c381ae53",
   "metadata": {},
   "outputs": [],
   "source": [
    "predicoes.rna <- predict(rna, teste)"
   ]
  },
  {
   "cell_type": "code",
   "execution_count": 87,
   "id": "9e757d47",
   "metadata": {},
   "outputs": [
    {
     "data": {
      "text/html": [
       "0.913299874808458"
      ],
      "text/latex": [
       "0.913299874808458"
      ],
      "text/markdown": [
       "0.913299874808458"
      ],
      "text/plain": [
       "[1] 0.9132999"
      ]
     },
     "metadata": {},
     "output_type": "display_data"
    }
   ],
   "source": [
    "r2(predicoes.rna, teste$biomassa)"
   ]
  },
  {
   "cell_type": "markdown",
   "id": "cd93e27e",
   "metadata": {},
   "source": [
    "### KNN"
   ]
  },
  {
   "cell_type": "code",
   "execution_count": 214,
   "id": "7dee5db5",
   "metadata": {},
   "outputs": [
    {
     "data": {
      "text/plain": [
       "k-Nearest Neighbors \n",
       "\n",
       "240 samples\n",
       "  3 predictor\n",
       "\n",
       "No pre-processing\n",
       "Resampling: Bootstrapped (25 reps) \n",
       "Summary of sample sizes: 240, 240, 240, 240, 240, 240, ... \n",
       "Resampling results across tuning parameters:\n",
       "\n",
       "  k  RMSE      Rsquared   MAE     \n",
       "  5  911.2977  0.7957026  188.7942\n",
       "  7  939.6613  0.7826221  188.0198\n",
       "  9  976.0060  0.7641584  193.1996\n",
       "\n",
       "RMSE was used to select the optimal model using the smallest value.\n",
       "The final value used for the model was k = 5."
      ]
     },
     "metadata": {},
     "output_type": "display_data"
    }
   ],
   "source": [
    "tuneGrid <- expand.grid(k = c(1, 3, 5, 7, 9, 11, 13, 15, 17, 19, 21))\n",
    "set.seed(seed_universal)\n",
    "knn <- train(biomassa ~ ., data = treino, method = \"knn\", btuneGrid=tuneGrid)\n",
    "knn"
   ]
  },
  {
   "cell_type": "code",
   "execution_count": 215,
   "id": "465bcf69",
   "metadata": {},
   "outputs": [
    {
     "data": {
      "text/html": [
       "0.823090804432566"
      ],
      "text/latex": [
       "0.823090804432566"
      ],
      "text/markdown": [
       "0.823090804432566"
      ],
      "text/plain": [
       "[1] 0.8230908"
      ]
     },
     "metadata": {},
     "output_type": "display_data"
    }
   ],
   "source": [
    "predicoes.knn <- predict(knn, teste)\n",
    "r2(predicoes.knn, teste$biomassa)"
   ]
  },
  {
   "cell_type": "markdown",
   "id": "2050b0f2",
   "metadata": {},
   "source": [
    "----"
   ]
  },
  {
   "cell_type": "markdown",
   "id": "3d5dec5c",
   "metadata": {},
   "source": [
    "## Admissão (Regressão)"
   ]
  },
  {
   "cell_type": "code",
   "execution_count": 216,
   "id": "7da4a144",
   "metadata": {},
   "outputs": [],
   "source": [
    "admissao.dados <- read.csv('bases/admissao/Material 02 - 8 – R - Admissao - Dados.csv')"
   ]
  },
  {
   "cell_type": "code",
   "execution_count": 217,
   "id": "5337251c",
   "metadata": {},
   "outputs": [
    {
     "data": {
      "text/plain": [
       "   Serial.No.      GRE.Score      TOEFL.Score    University.Rating\n",
       " Min.   :  1.0   Min.   :290.0   Min.   : 92.0   Min.   :1.000    \n",
       " 1st Qu.:125.8   1st Qu.:308.0   1st Qu.:103.0   1st Qu.:2.000    \n",
       " Median :250.5   Median :317.0   Median :107.0   Median :3.000    \n",
       " Mean   :250.5   Mean   :316.5   Mean   :107.2   Mean   :3.114    \n",
       " 3rd Qu.:375.2   3rd Qu.:325.0   3rd Qu.:112.0   3rd Qu.:4.000    \n",
       " Max.   :500.0   Max.   :340.0   Max.   :120.0   Max.   :5.000    \n",
       "      SOP             LOR             CGPA          Research   \n",
       " Min.   :1.000   Min.   :1.000   Min.   :6.800   Min.   :0.00  \n",
       " 1st Qu.:2.500   1st Qu.:3.000   1st Qu.:8.127   1st Qu.:0.00  \n",
       " Median :3.500   Median :3.500   Median :8.560   Median :1.00  \n",
       " Mean   :3.374   Mean   :3.484   Mean   :8.576   Mean   :0.56  \n",
       " 3rd Qu.:4.000   3rd Qu.:4.000   3rd Qu.:9.040   3rd Qu.:1.00  \n",
       " Max.   :5.000   Max.   :5.000   Max.   :9.920   Max.   :1.00  \n",
       " ChanceOfAdmit   \n",
       " Min.   :0.3400  \n",
       " 1st Qu.:0.6300  \n",
       " Median :0.7200  \n",
       " Mean   :0.7217  \n",
       " 3rd Qu.:0.8200  \n",
       " Max.   :0.9700  "
      ]
     },
     "metadata": {},
     "output_type": "display_data"
    }
   ],
   "source": [
    "summary(admissao.dados)"
   ]
  },
  {
   "cell_type": "code",
   "execution_count": 218,
   "id": "04c9de39",
   "metadata": {},
   "outputs": [
    {
     "data": {
      "text/html": [
       "<table>\n",
       "<thead><tr><th scope=col>Serial.No.</th><th scope=col>GRE.Score</th><th scope=col>TOEFL.Score</th><th scope=col>University.Rating</th><th scope=col>SOP</th><th scope=col>LOR</th><th scope=col>CGPA</th><th scope=col>Research</th><th scope=col>ChanceOfAdmit</th></tr></thead>\n",
       "<tbody>\n",
       "\t<tr><td>1   </td><td>337 </td><td>118 </td><td>4   </td><td>4.5 </td><td>4.5 </td><td>9.65</td><td>1   </td><td>0.92</td></tr>\n",
       "\t<tr><td>2   </td><td>324 </td><td>107 </td><td>4   </td><td>4.0 </td><td>4.5 </td><td>8.87</td><td>1   </td><td>0.76</td></tr>\n",
       "\t<tr><td>3   </td><td>316 </td><td>104 </td><td>3   </td><td>3.0 </td><td>3.5 </td><td>8.00</td><td>1   </td><td>0.72</td></tr>\n",
       "\t<tr><td>4   </td><td>322 </td><td>110 </td><td>3   </td><td>3.5 </td><td>2.5 </td><td>8.67</td><td>1   </td><td>0.80</td></tr>\n",
       "\t<tr><td>5   </td><td>314 </td><td>103 </td><td>2   </td><td>2.0 </td><td>3.0 </td><td>8.21</td><td>0   </td><td>0.65</td></tr>\n",
       "\t<tr><td>6   </td><td>330 </td><td>115 </td><td>5   </td><td>4.5 </td><td>3.0 </td><td>9.34</td><td>1   </td><td>0.90</td></tr>\n",
       "</tbody>\n",
       "</table>\n"
      ],
      "text/latex": [
       "\\begin{tabular}{r|lllllllll}\n",
       " Serial.No. & GRE.Score & TOEFL.Score & University.Rating & SOP & LOR & CGPA & Research & ChanceOfAdmit\\\\\n",
       "\\hline\n",
       "\t 1    & 337  & 118  & 4    & 4.5  & 4.5  & 9.65 & 1    & 0.92\\\\\n",
       "\t 2    & 324  & 107  & 4    & 4.0  & 4.5  & 8.87 & 1    & 0.76\\\\\n",
       "\t 3    & 316  & 104  & 3    & 3.0  & 3.5  & 8.00 & 1    & 0.72\\\\\n",
       "\t 4    & 322  & 110  & 3    & 3.5  & 2.5  & 8.67 & 1    & 0.80\\\\\n",
       "\t 5    & 314  & 103  & 2    & 2.0  & 3.0  & 8.21 & 0    & 0.65\\\\\n",
       "\t 6    & 330  & 115  & 5    & 4.5  & 3.0  & 9.34 & 1    & 0.90\\\\\n",
       "\\end{tabular}\n"
      ],
      "text/markdown": [
       "\n",
       "| Serial.No. | GRE.Score | TOEFL.Score | University.Rating | SOP | LOR | CGPA | Research | ChanceOfAdmit |\n",
       "|---|---|---|---|---|---|---|---|---|\n",
       "| 1    | 337  | 118  | 4    | 4.5  | 4.5  | 9.65 | 1    | 0.92 |\n",
       "| 2    | 324  | 107  | 4    | 4.0  | 4.5  | 8.87 | 1    | 0.76 |\n",
       "| 3    | 316  | 104  | 3    | 3.0  | 3.5  | 8.00 | 1    | 0.72 |\n",
       "| 4    | 322  | 110  | 3    | 3.5  | 2.5  | 8.67 | 1    | 0.80 |\n",
       "| 5    | 314  | 103  | 2    | 2.0  | 3.0  | 8.21 | 0    | 0.65 |\n",
       "| 6    | 330  | 115  | 5    | 4.5  | 3.0  | 9.34 | 1    | 0.90 |\n",
       "\n"
      ],
      "text/plain": [
       "  Serial.No. GRE.Score TOEFL.Score University.Rating SOP LOR CGPA Research\n",
       "1 1          337       118         4                 4.5 4.5 9.65 1       \n",
       "2 2          324       107         4                 4.0 4.5 8.87 1       \n",
       "3 3          316       104         3                 3.0 3.5 8.00 1       \n",
       "4 4          322       110         3                 3.5 2.5 8.67 1       \n",
       "5 5          314       103         2                 2.0 3.0 8.21 0       \n",
       "6 6          330       115         5                 4.5 3.0 9.34 1       \n",
       "  ChanceOfAdmit\n",
       "1 0.92         \n",
       "2 0.76         \n",
       "3 0.72         \n",
       "4 0.80         \n",
       "5 0.65         \n",
       "6 0.90         "
      ]
     },
     "metadata": {},
     "output_type": "display_data"
    }
   ],
   "source": [
    "head(admissao.dados)"
   ]
  },
  {
   "cell_type": "code",
   "execution_count": 219,
   "id": "74101ddc",
   "metadata": {},
   "outputs": [],
   "source": [
    "admissao.dados$Serial.No. <- NULL"
   ]
  },
  {
   "cell_type": "code",
   "execution_count": 220,
   "id": "98c5e39f",
   "metadata": {
    "scrolled": true
   },
   "outputs": [
    {
     "data": {
      "text/html": [
       "<table>\n",
       "<thead><tr><th scope=col>GRE.Score</th><th scope=col>TOEFL.Score</th><th scope=col>University.Rating</th><th scope=col>SOP</th><th scope=col>LOR</th><th scope=col>CGPA</th><th scope=col>Research</th><th scope=col>ChanceOfAdmit</th></tr></thead>\n",
       "<tbody>\n",
       "\t<tr><td>337 </td><td>118 </td><td>4   </td><td>4.5 </td><td>4.5 </td><td>9.65</td><td>1   </td><td>0.92</td></tr>\n",
       "\t<tr><td>324 </td><td>107 </td><td>4   </td><td>4.0 </td><td>4.5 </td><td>8.87</td><td>1   </td><td>0.76</td></tr>\n",
       "\t<tr><td>316 </td><td>104 </td><td>3   </td><td>3.0 </td><td>3.5 </td><td>8.00</td><td>1   </td><td>0.72</td></tr>\n",
       "\t<tr><td>322 </td><td>110 </td><td>3   </td><td>3.5 </td><td>2.5 </td><td>8.67</td><td>1   </td><td>0.80</td></tr>\n",
       "\t<tr><td>314 </td><td>103 </td><td>2   </td><td>2.0 </td><td>3.0 </td><td>8.21</td><td>0   </td><td>0.65</td></tr>\n",
       "\t<tr><td>330 </td><td>115 </td><td>5   </td><td>4.5 </td><td>3.0 </td><td>9.34</td><td>1   </td><td>0.90</td></tr>\n",
       "</tbody>\n",
       "</table>\n"
      ],
      "text/latex": [
       "\\begin{tabular}{r|llllllll}\n",
       " GRE.Score & TOEFL.Score & University.Rating & SOP & LOR & CGPA & Research & ChanceOfAdmit\\\\\n",
       "\\hline\n",
       "\t 337  & 118  & 4    & 4.5  & 4.5  & 9.65 & 1    & 0.92\\\\\n",
       "\t 324  & 107  & 4    & 4.0  & 4.5  & 8.87 & 1    & 0.76\\\\\n",
       "\t 316  & 104  & 3    & 3.0  & 3.5  & 8.00 & 1    & 0.72\\\\\n",
       "\t 322  & 110  & 3    & 3.5  & 2.5  & 8.67 & 1    & 0.80\\\\\n",
       "\t 314  & 103  & 2    & 2.0  & 3.0  & 8.21 & 0    & 0.65\\\\\n",
       "\t 330  & 115  & 5    & 4.5  & 3.0  & 9.34 & 1    & 0.90\\\\\n",
       "\\end{tabular}\n"
      ],
      "text/markdown": [
       "\n",
       "| GRE.Score | TOEFL.Score | University.Rating | SOP | LOR | CGPA | Research | ChanceOfAdmit |\n",
       "|---|---|---|---|---|---|---|---|\n",
       "| 337  | 118  | 4    | 4.5  | 4.5  | 9.65 | 1    | 0.92 |\n",
       "| 324  | 107  | 4    | 4.0  | 4.5  | 8.87 | 1    | 0.76 |\n",
       "| 316  | 104  | 3    | 3.0  | 3.5  | 8.00 | 1    | 0.72 |\n",
       "| 322  | 110  | 3    | 3.5  | 2.5  | 8.67 | 1    | 0.80 |\n",
       "| 314  | 103  | 2    | 2.0  | 3.0  | 8.21 | 0    | 0.65 |\n",
       "| 330  | 115  | 5    | 4.5  | 3.0  | 9.34 | 1    | 0.90 |\n",
       "\n"
      ],
      "text/plain": [
       "  GRE.Score TOEFL.Score University.Rating SOP LOR CGPA Research ChanceOfAdmit\n",
       "1 337       118         4                 4.5 4.5 9.65 1        0.92         \n",
       "2 324       107         4                 4.0 4.5 8.87 1        0.76         \n",
       "3 316       104         3                 3.0 3.5 8.00 1        0.72         \n",
       "4 322       110         3                 3.5 2.5 8.67 1        0.80         \n",
       "5 314       103         2                 2.0 3.0 8.21 0        0.65         \n",
       "6 330       115         5                 4.5 3.0 9.34 1        0.90         "
      ]
     },
     "metadata": {},
     "output_type": "display_data"
    }
   ],
   "source": [
    "head(admissao.dados)"
   ]
  },
  {
   "cell_type": "code",
   "execution_count": 221,
   "id": "49274c24",
   "metadata": {},
   "outputs": [],
   "source": [
    "# Separa entre treino e teste\n",
    "\n",
    "set.seed(seed_universal)\n",
    "indices <- createDataPartition(admissao.dados$ChanceOfAdmit, p = 0.8, list = FALSE)\n",
    "treino <- admissao.dados[indices,]\n",
    "teste <- admissao.dados[-indices,]"
   ]
  },
  {
   "cell_type": "markdown",
   "id": "0b2c8d04",
   "metadata": {},
   "source": [
    "### Redes Neurais"
   ]
  },
  {
   "cell_type": "code",
   "execution_count": 94,
   "id": "00fedf7f",
   "metadata": {},
   "outputs": [
    {
     "name": "stderr",
     "output_type": "stream",
     "text": [
      "Warning message in nominalTrainWorkflow(x = x, y = y, wts = weights, info = trainInfo, :\n",
      "“There were missing values in resampled performance measures.”"
     ]
    },
    {
     "data": {
      "text/plain": [
       "Neural Network \n",
       "\n",
       "402 samples\n",
       "  7 predictor\n",
       "\n",
       "No pre-processing\n",
       "Resampling: Bootstrapped (25 reps) \n",
       "Summary of sample sizes: 402, 402, 402, 402, 402, 402, ... \n",
       "Resampling results across tuning parameters:\n",
       "\n",
       "  size  decay  RMSE        Rsquared   MAE       \n",
       "  1     0e+00  0.14271606        NaN  0.11490328\n",
       "  1     1e-04  0.13959213  0.4148616  0.11195705\n",
       "  1     1e-01  0.07242726  0.7458084  0.05354218\n",
       "  3     0e+00  0.13959972  0.7957222  0.11195485\n",
       "  3     1e-04  0.09333584  0.6329480  0.07183258\n",
       "  3     1e-01  0.07149190  0.7525573  0.05288111\n",
       "  5     0e+00  0.13335357  0.8047199  0.10655677\n",
       "  5     1e-04  0.08635205  0.6569240  0.06573398\n",
       "  5     1e-01  0.07019944  0.7612076  0.05186431\n",
       "\n",
       "RMSE was used to select the optimal model using the smallest value.\n",
       "The final values used for the model were size = 5 and decay = 0.1."
      ]
     },
     "metadata": {},
     "output_type": "display_data"
    }
   ],
   "source": [
    "set.seed(seed_universal)\n",
    "rna <- train(ChanceOfAdmit ~ ., data = treino, method = 'nnet', linout = T, trace = FALSE)\n",
    "rna"
   ]
  },
  {
   "cell_type": "code",
   "execution_count": 95,
   "id": "3bcc1489",
   "metadata": {},
   "outputs": [],
   "source": [
    "predicoes.rna <- predict(rna, teste)"
   ]
  },
  {
   "cell_type": "code",
   "execution_count": 97,
   "id": "744b6250",
   "metadata": {},
   "outputs": [
    {
     "data": {
      "text/html": [
       "0.736754097054342"
      ],
      "text/latex": [
       "0.736754097054342"
      ],
      "text/markdown": [
       "0.736754097054342"
      ],
      "text/plain": [
       "[1] 0.7367541"
      ]
     },
     "metadata": {},
     "output_type": "display_data"
    }
   ],
   "source": [
    "r2(predicoes.rna, teste$ChanceOfAdmit)"
   ]
  },
  {
   "cell_type": "markdown",
   "id": "ad397a7d",
   "metadata": {},
   "source": [
    "#### Cross validation"
   ]
  },
  {
   "cell_type": "code",
   "execution_count": 98,
   "id": "0d0698e9",
   "metadata": {},
   "outputs": [
    {
     "name": "stderr",
     "output_type": "stream",
     "text": [
      "Warning message in nominalTrainWorkflow(x = x, y = y, wts = weights, info = trainInfo, :\n",
      "“There were missing values in resampled performance measures.”"
     ]
    },
    {
     "data": {
      "text/plain": [
       "Neural Network \n",
       "\n",
       "402 samples\n",
       "  7 predictor\n",
       "\n",
       "No pre-processing\n",
       "Resampling: Bootstrapped (25 reps) \n",
       "Summary of sample sizes: 402, 402, 402, 402, 402, 402, ... \n",
       "Resampling results across tuning parameters:\n",
       "\n",
       "  size  decay  RMSE        Rsquared   MAE       \n",
       "  1     0e+00  0.14271606        NaN  0.11490328\n",
       "  1     1e-04  0.13959221  0.4148587  0.11195695\n",
       "  1     1e-01  0.07242726  0.7458084  0.05354218\n",
       "  3     0e+00  0.13959972  0.7957222  0.11195485\n",
       "  3     1e-04  0.09775307  0.6063128  0.07297710\n",
       "  3     1e-01  0.07101262  0.7559582  0.05236753\n",
       "  5     0e+00  0.13337726  0.8036307  0.10656903\n",
       "  5     1e-04  0.10533719  0.5815553  0.07113449\n",
       "  5     1e-01  0.06940364  0.7663767  0.05079719\n",
       "\n",
       "RMSE was used to select the optimal model using the smallest value.\n",
       "The final values used for the model were size = 5 and decay = 0.1."
      ]
     },
     "metadata": {},
     "output_type": "display_data"
    }
   ],
   "source": [
    "control <- trainControl(method = 'cv', number = 10)\n",
    "\n",
    "set.seed(seed_universal)\n",
    "rna <- train(ChanceOfAdmit ~ ., data = treino, method = 'nnet', \n",
    "             linout = T, MaxNWts = 10000, maxit = 2000, trainControl = control, trace = FALSE)\n",
    "rna"
   ]
  },
  {
   "cell_type": "code",
   "execution_count": 99,
   "id": "99cb4e78",
   "metadata": {},
   "outputs": [],
   "source": [
    "predicoes.rna <- predict(rna, teste)"
   ]
  },
  {
   "cell_type": "code",
   "execution_count": 100,
   "id": "e75827f6",
   "metadata": {},
   "outputs": [
    {
     "data": {
      "text/html": [
       "0.740673608624383"
      ],
      "text/latex": [
       "0.740673608624383"
      ],
      "text/markdown": [
       "0.740673608624383"
      ],
      "text/plain": [
       "[1] 0.7406736"
      ]
     },
     "metadata": {},
     "output_type": "display_data"
    }
   ],
   "source": [
    "r2(predicoes.rna, teste$ChanceOfAdmit)"
   ]
  },
  {
   "cell_type": "markdown",
   "id": "35797635",
   "metadata": {},
   "source": [
    "#### Grid"
   ]
  },
  {
   "cell_type": "code",
   "execution_count": 101,
   "id": "28e9022e",
   "metadata": {
    "scrolled": true
   },
   "outputs": [
    {
     "data": {
      "text/plain": [
       "Neural Network \n",
       "\n",
       "402 samples\n",
       "  7 predictor\n",
       "\n",
       "No pre-processing\n",
       "Resampling: Bootstrapped (25 reps) \n",
       "Summary of sample sizes: 402, 402, 402, 402, 402, 402, ... \n",
       "Resampling results across tuning parameters:\n",
       "\n",
       "  size  decay  RMSE        Rsquared   MAE       \n",
       "   1    0.1    0.07240376  0.7460118  0.05351938\n",
       "   1    0.2    0.07949528  0.6938832  0.05958088\n",
       "   1    0.3    0.08087457  0.6829034  0.06086471\n",
       "   1    0.4    0.08208196  0.6733589  0.06219753\n",
       "   1    0.5    0.08203309  0.6738834  0.06212425\n",
       "   1    0.6    0.08295717  0.6664795  0.06316990\n",
       "   1    0.7    0.08327391  0.6651113  0.06356010\n",
       "   1    0.8    0.08396669  0.6599031  0.06429069\n",
       "   1    0.9    0.08429712  0.6579740  0.06458215\n",
       "   2    0.1    0.07235634  0.7464313  0.05342085\n",
       "   2    0.2    0.07795984  0.7055596  0.05834913\n",
       "   2    0.3    0.07959692  0.6925372  0.05986246\n",
       "   2    0.4    0.08039274  0.6864647  0.06054676\n",
       "   2    0.5    0.08095644  0.6824760  0.06122800\n",
       "   2    0.6    0.08181560  0.6763109  0.06213028\n",
       "   2    0.7    0.08225712  0.6729091  0.06246447\n",
       "   2    0.8    0.08268189  0.6697391  0.06294583\n",
       "   2    0.9    0.08324306  0.6654892  0.06348018\n",
       "   3    0.1    0.07141177  0.7524311  0.05266962\n",
       "   3    0.2    0.07629400  0.7173700  0.05698154\n",
       "   3    0.3    0.07852732  0.7006369  0.05889153\n",
       "   3    0.4    0.07938852  0.6943224  0.05971983\n",
       "   3    0.5    0.08030872  0.6874921  0.06062964\n",
       "   3    0.6    0.08075673  0.6841529  0.06109175\n",
       "   3    0.7    0.08139564  0.6797401  0.06170516\n",
       "   3    0.8    0.08197912  0.6753838  0.06230508\n",
       "   3    0.9    0.08262643  0.6705910  0.06284746\n",
       "   4    0.1    0.07012124  0.7612767  0.05149406\n",
       "   4    0.2    0.07518553  0.7251662  0.05582752\n",
       "   4    0.3    0.07734226  0.7096160  0.05782125\n",
       "   4    0.4    0.07857566  0.7008880  0.05901558\n",
       "   4    0.5    0.07941238  0.6943823  0.05983236\n",
       "   4    0.6    0.08030183  0.6879510  0.06067788\n",
       "   4    0.7    0.08092504  0.6834295  0.06126579\n",
       "   4    0.8    0.08162454  0.6780653  0.06190880\n",
       "   4    0.9    0.08209599  0.6753308  0.06239111\n",
       "   5    0.1    0.06974897  0.7636049  0.05105404\n",
       "   5    0.2    0.07388178  0.7353231  0.05473553\n",
       "   5    0.3    0.07614954  0.7192698  0.05686498\n",
       "   5    0.4    0.07750604  0.7089202  0.05810769\n",
       "   5    0.5    0.07859219  0.7010136  0.05914734\n",
       "   5    0.6    0.07951799  0.6946001  0.06007378\n",
       "   5    0.7    0.07991475  0.6920751  0.06046270\n",
       "   5    0.8    0.08084152  0.6847130  0.06132303\n",
       "   5    0.9    0.08168995  0.6785426  0.06203154\n",
       "   6    0.1    0.06866655  0.7713326  0.05014087\n",
       "   6    0.2    0.07344207  0.7386399  0.05433952\n",
       "   6    0.3    0.07556087  0.7233790  0.05641198\n",
       "   6    0.4    0.07679150  0.7145829  0.05754158\n",
       "   6    0.5    0.07777859  0.7073577  0.05839624\n",
       "   6    0.6    0.07867731  0.7013740  0.05930147\n",
       "   6    0.7    0.07938142  0.6961245  0.06000811\n",
       "   6    0.8    0.08013957  0.6908451  0.06068003\n",
       "   6    0.9    0.08106981  0.6839878  0.06151531\n",
       "   7    0.1    0.06849808  0.7719142  0.05007414\n",
       "   7    0.2    0.07218794  0.7478911  0.05348541\n",
       "   7    0.3    0.07475589  0.7292394  0.05557813\n",
       "   7    0.4    0.07590738  0.7213622  0.05674769\n",
       "   7    0.5    0.07714311  0.7127409  0.05791168\n",
       "   7    0.6    0.07786488  0.7073847  0.05861065\n",
       "   7    0.7    0.07900459  0.6993930  0.05965974\n",
       "   7    0.8    0.07953524  0.6958620  0.06018471\n",
       "   7    0.9    0.08038727  0.6896356  0.06094434\n",
       "   8    0.1    0.06788508  0.7763373  0.04949768\n",
       "   8    0.2    0.07153896  0.7519449  0.05279204\n",
       "   8    0.3    0.07387274  0.7359582  0.05492694\n",
       "   8    0.4    0.07537078  0.7254225  0.05629438\n",
       "   8    0.5    0.07643053  0.7182400  0.05733527\n",
       "   8    0.6    0.07745542  0.7106347  0.05829894\n",
       "   8    0.7    0.07815780  0.7060849  0.05894492\n",
       "   8    0.8    0.07894269  0.7005787  0.05965644\n",
       "   8    0.9    0.07991806  0.6933223  0.06052246\n",
       "   9    0.1    0.06767392  0.7775185  0.04936216\n",
       "   9    0.2    0.07109291  0.7549028  0.05239079\n",
       "   9    0.3    0.07300983  0.7422502  0.05415473\n",
       "   9    0.4    0.07489465  0.7289194  0.05590544\n",
       "   9    0.5    0.07594839  0.7216718  0.05688009\n",
       "   9    0.6    0.07674823  0.7164861  0.05768184\n",
       "   9    0.7    0.07756114  0.7109081  0.05846368\n",
       "   9    0.8    0.07827397  0.7060101  0.05914515\n",
       "   9    0.9    0.07930188  0.6983235  0.06001461\n",
       "  10    0.1    0.06730332  0.7802692  0.04895257\n",
       "  10    0.2    0.07063129  0.7584156  0.05200614\n",
       "  10    0.3    0.07284635  0.7437994  0.05399542\n",
       "  10    0.4    0.07411855  0.7350943  0.05522382\n",
       "  10    0.5    0.07512524  0.7281189  0.05623919\n",
       "  10    0.6    0.07634555  0.7196732  0.05734895\n",
       "  10    0.7    0.07721973  0.7132483  0.05813208\n",
       "  10    0.8    0.07810100  0.7070975  0.05897293\n",
       "  10    0.9    0.07891437  0.7017134  0.05970666\n",
       "\n",
       "RMSE was used to select the optimal model using the smallest value.\n",
       "The final values used for the model were size = 10 and decay = 0.1."
      ]
     },
     "metadata": {},
     "output_type": "display_data"
    }
   ],
   "source": [
    "control <- trainControl(method = 'cv', number = 10)\n",
    "tuneGrid <- expand.grid(size = seq(from = 1, to = 10, by = 1), decay = seq(from = 0.1, to = 0.9, by = 0.1))\n",
    "\n",
    "set.seed(seed_universal)\n",
    "rna <- train(ChanceOfAdmit ~ ., data = treino, method = 'nnet', \n",
    "             trainControl = control, tuneGrid = tuneGrid, \n",
    "             linout = T, MaxNWts = 10000, maxit = 2000, trace = FALSE)\n",
    "rna"
   ]
  },
  {
   "cell_type": "code",
   "execution_count": 102,
   "id": "0cdf9ab9",
   "metadata": {},
   "outputs": [],
   "source": [
    "predicoes.rna <- predict(rna, teste)"
   ]
  },
  {
   "cell_type": "code",
   "execution_count": 103,
   "id": "edd9a4ff",
   "metadata": {},
   "outputs": [
    {
     "data": {
      "text/html": [
       "0.768705888625431"
      ],
      "text/latex": [
       "0.768705888625431"
      ],
      "text/markdown": [
       "0.768705888625431"
      ],
      "text/plain": [
       "[1] 0.7687059"
      ]
     },
     "metadata": {},
     "output_type": "display_data"
    }
   ],
   "source": [
    "r2(predicoes.rna, teste$ChanceOfAdmit)"
   ]
  },
  {
   "cell_type": "markdown",
   "id": "8ecbc6bc",
   "metadata": {},
   "source": [
    "### KNN"
   ]
  },
  {
   "cell_type": "code",
   "execution_count": 222,
   "id": "16d0a0cf",
   "metadata": {},
   "outputs": [
    {
     "data": {
      "text/plain": [
       "k-Nearest Neighbors \n",
       "\n",
       "402 samples\n",
       "  7 predictor\n",
       "\n",
       "No pre-processing\n",
       "Resampling: Bootstrapped (25 reps) \n",
       "Summary of sample sizes: 402, 402, 402, 402, 402, 402, ... \n",
       "Resampling results across tuning parameters:\n",
       "\n",
       "  k  RMSE        Rsquared   MAE       \n",
       "  5  0.07995354  0.6904343  0.05829223\n",
       "  7  0.07701105  0.7096555  0.05639199\n",
       "  9  0.07566495  0.7188611  0.05564908\n",
       "\n",
       "RMSE was used to select the optimal model using the smallest value.\n",
       "The final value used for the model was k = 9."
      ]
     },
     "metadata": {},
     "output_type": "display_data"
    }
   ],
   "source": [
    "tuneGrid <- expand.grid(k = c(1, 3, 5, 7, 9, 11, 13, 15, 17, 19, 21))\n",
    "set.seed(seed_universal)\n",
    "knn <- train(ChanceOfAdmit ~ ., data = treino, method = \"knn\", btuneGrid=tuneGrid)\n",
    "knn"
   ]
  },
  {
   "cell_type": "code",
   "execution_count": 223,
   "id": "ef4edab6",
   "metadata": {},
   "outputs": [
    {
     "data": {
      "text/html": [
       "0.662920828823504"
      ],
      "text/latex": [
       "0.662920828823504"
      ],
      "text/markdown": [
       "0.662920828823504"
      ],
      "text/plain": [
       "[1] 0.6629208"
      ]
     },
     "metadata": {},
     "output_type": "display_data"
    }
   ],
   "source": [
    "predicoes.knn <- predict(knn, teste)\n",
    "r2(predicoes.knn, teste$ChanceOfAdmit)"
   ]
  },
  {
   "cell_type": "markdown",
   "id": "e1ac6c84",
   "metadata": {},
   "source": [
    "---"
   ]
  },
  {
   "cell_type": "markdown",
   "id": "c0c8d921",
   "metadata": {},
   "source": [
    "## Alunos do ensino médios (Regressão)"
   ]
  },
  {
   "cell_type": "code",
   "execution_count": 224,
   "id": "6e3fde9c",
   "metadata": {},
   "outputs": [],
   "source": [
    "alunos.dados <- read.csv('bases/alunos_ensino_medio/Material 02 - 10 – Alunos - Dados.csv')"
   ]
  },
  {
   "cell_type": "code",
   "execution_count": 225,
   "id": "cc9bf94c",
   "metadata": {
    "scrolled": false
   },
   "outputs": [
    {
     "data": {
      "text/plain": [
       " school        sex             age       address famsize   Pstatus\n",
       " GP:349   Min.   :1.000   Min.   :15.0   R: 88   GT3:281   A: 41  \n",
       " MS: 46   1st Qu.:1.000   1st Qu.:16.0   U:307   LE3:114   T:354  \n",
       "          Median :2.000   Median :17.0                            \n",
       "          Mean   :1.527   Mean   :16.7                            \n",
       "          3rd Qu.:2.000   3rd Qu.:18.0                            \n",
       "          Max.   :2.000   Max.   :22.0                            \n",
       "      Medu            Fedu             Mjob           Fjob            reason   \n",
       " Min.   :0.000   Min.   :0.000   at_home : 59   at_home : 20   course    :145  \n",
       " 1st Qu.:2.000   1st Qu.:2.000   health  : 34   health  : 18   home      :109  \n",
       " Median :3.000   Median :2.000   other   :141   other   :217   other     : 36  \n",
       " Mean   :2.749   Mean   :2.522   services:103   services:111   reputation:105  \n",
       " 3rd Qu.:4.000   3rd Qu.:3.000   teacher : 58   teacher : 29                   \n",
       " Max.   :4.000   Max.   :4.000                                                 \n",
       "   guardian     traveltime      studytime        failures      schoolsup\n",
       " father: 90   Min.   :1.000   Min.   :1.000   Min.   :0.0000   no :344  \n",
       " mother:273   1st Qu.:1.000   1st Qu.:1.000   1st Qu.:0.0000   yes: 51  \n",
       " other : 32   Median :1.000   Median :2.000   Median :0.0000            \n",
       "              Mean   :1.448   Mean   :2.035   Mean   :0.3342            \n",
       "              3rd Qu.:2.000   3rd Qu.:2.000   3rd Qu.:0.0000            \n",
       "              Max.   :4.000   Max.   :4.000   Max.   :3.0000            \n",
       " famsup     paid     activities nursery   higher    internet  romantic \n",
       " no :153   no :214   no :194    no : 81   no : 20   no : 66   no :263  \n",
       " yes:242   yes:181   yes:201    yes:314   yes:375   yes:329   yes:132  \n",
       "                                                                       \n",
       "                                                                       \n",
       "                                                                       \n",
       "                                                                       \n",
       "     famrel         freetime         goout            Dalc      \n",
       " Min.   :1.000   Min.   :1.000   Min.   :1.000   Min.   :1.000  \n",
       " 1st Qu.:4.000   1st Qu.:3.000   1st Qu.:2.000   1st Qu.:1.000  \n",
       " Median :4.000   Median :3.000   Median :3.000   Median :1.000  \n",
       " Mean   :3.944   Mean   :3.235   Mean   :3.109   Mean   :1.481  \n",
       " 3rd Qu.:5.000   3rd Qu.:4.000   3rd Qu.:4.000   3rd Qu.:2.000  \n",
       " Max.   :5.000   Max.   :5.000   Max.   :5.000   Max.   :5.000  \n",
       "      Walc           health         absences            G1       \n",
       " Min.   :1.000   Min.   :1.000   Min.   : 0.000   Min.   : 3.00  \n",
       " 1st Qu.:1.000   1st Qu.:3.000   1st Qu.: 0.000   1st Qu.: 8.00  \n",
       " Median :2.000   Median :4.000   Median : 4.000   Median :11.00  \n",
       " Mean   :2.291   Mean   :3.554   Mean   : 5.709   Mean   :10.91  \n",
       " 3rd Qu.:3.000   3rd Qu.:5.000   3rd Qu.: 8.000   3rd Qu.:13.00  \n",
       " Max.   :5.000   Max.   :5.000   Max.   :75.000   Max.   :19.00  \n",
       "       G2              G3       \n",
       " Min.   : 0.00   Min.   : 0.00  \n",
       " 1st Qu.: 9.00   1st Qu.: 8.00  \n",
       " Median :11.00   Median :11.00  \n",
       " Mean   :10.71   Mean   :10.42  \n",
       " 3rd Qu.:13.00   3rd Qu.:14.00  \n",
       " Max.   :19.00   Max.   :20.00  "
      ]
     },
     "metadata": {},
     "output_type": "display_data"
    }
   ],
   "source": [
    "summary(alunos.dados)"
   ]
  },
  {
   "cell_type": "code",
   "execution_count": 226,
   "id": "40dcf972",
   "metadata": {
    "scrolled": true
   },
   "outputs": [
    {
     "data": {
      "text/html": [
       "<table>\n",
       "<thead><tr><th scope=col>school</th><th scope=col>sex</th><th scope=col>age</th><th scope=col>address</th><th scope=col>famsize</th><th scope=col>Pstatus</th><th scope=col>Medu</th><th scope=col>Fedu</th><th scope=col>Mjob</th><th scope=col>Fjob</th><th scope=col>...</th><th scope=col>famrel</th><th scope=col>freetime</th><th scope=col>goout</th><th scope=col>Dalc</th><th scope=col>Walc</th><th scope=col>health</th><th scope=col>absences</th><th scope=col>G1</th><th scope=col>G2</th><th scope=col>G3</th></tr></thead>\n",
       "<tbody>\n",
       "\t<tr><td>GP      </td><td>2       </td><td>18      </td><td>U       </td><td>GT3     </td><td>A       </td><td>4       </td><td>4       </td><td>at_home </td><td>teacher </td><td>...     </td><td>4       </td><td>3       </td><td>4       </td><td>1       </td><td>1       </td><td>3       </td><td> 6      </td><td> 5      </td><td> 6      </td><td> 6      </td></tr>\n",
       "\t<tr><td>GP      </td><td>2       </td><td>17      </td><td>U       </td><td>GT3     </td><td>T       </td><td>1       </td><td>1       </td><td>at_home </td><td>other   </td><td>...     </td><td>5       </td><td>3       </td><td>3       </td><td>1       </td><td>1       </td><td>3       </td><td> 4      </td><td> 5      </td><td> 5      </td><td> 6      </td></tr>\n",
       "\t<tr><td>GP      </td><td>2       </td><td>15      </td><td>U       </td><td>LE3     </td><td>T       </td><td>1       </td><td>1       </td><td>at_home </td><td>other   </td><td>...     </td><td>4       </td><td>3       </td><td>2       </td><td>2       </td><td>3       </td><td>3       </td><td>10      </td><td> 7      </td><td> 8      </td><td>10      </td></tr>\n",
       "\t<tr><td>GP      </td><td>2       </td><td>15      </td><td>U       </td><td>GT3     </td><td>T       </td><td>4       </td><td>2       </td><td>health  </td><td>services</td><td>...     </td><td>3       </td><td>2       </td><td>2       </td><td>1       </td><td>1       </td><td>5       </td><td> 2      </td><td>15      </td><td>14      </td><td>15      </td></tr>\n",
       "\t<tr><td>GP      </td><td>2       </td><td>16      </td><td>U       </td><td>GT3     </td><td>T       </td><td>3       </td><td>3       </td><td>other   </td><td>other   </td><td>...     </td><td>4       </td><td>3       </td><td>2       </td><td>1       </td><td>2       </td><td>5       </td><td> 4      </td><td> 6      </td><td>10      </td><td>10      </td></tr>\n",
       "\t<tr><td>GP      </td><td>1       </td><td>16      </td><td>U       </td><td>LE3     </td><td>T       </td><td>4       </td><td>3       </td><td>services</td><td>other   </td><td>...     </td><td>5       </td><td>4       </td><td>2       </td><td>1       </td><td>2       </td><td>5       </td><td>10      </td><td>15      </td><td>15      </td><td>15      </td></tr>\n",
       "</tbody>\n",
       "</table>\n"
      ],
      "text/latex": [
       "\\begin{tabular}{r|lllllllllllllllllllllllllllllllll}\n",
       " school & sex & age & address & famsize & Pstatus & Medu & Fedu & Mjob & Fjob & ... & famrel & freetime & goout & Dalc & Walc & health & absences & G1 & G2 & G3\\\\\n",
       "\\hline\n",
       "\t GP         & 2          & 18         & U          & GT3        & A          & 4          & 4          & at\\_home  & teacher    & ...        & 4          & 3          & 4          & 1          & 1          & 3          &  6         &  5         &  6         &  6        \\\\\n",
       "\t GP         & 2          & 17         & U          & GT3        & T          & 1          & 1          & at\\_home  & other      & ...        & 5          & 3          & 3          & 1          & 1          & 3          &  4         &  5         &  5         &  6        \\\\\n",
       "\t GP         & 2          & 15         & U          & LE3        & T          & 1          & 1          & at\\_home  & other      & ...        & 4          & 3          & 2          & 2          & 3          & 3          & 10         &  7         &  8         & 10        \\\\\n",
       "\t GP       & 2        & 15       & U        & GT3      & T        & 4        & 2        & health   & services & ...      & 3        & 2        & 2        & 1        & 1        & 5        &  2       & 15       & 14       & 15      \\\\\n",
       "\t GP       & 2        & 16       & U        & GT3      & T        & 3        & 3        & other    & other    & ...      & 4        & 3        & 2        & 1        & 2        & 5        &  4       &  6       & 10       & 10      \\\\\n",
       "\t GP       & 1        & 16       & U        & LE3      & T        & 4        & 3        & services & other    & ...      & 5        & 4        & 2        & 1        & 2        & 5        & 10       & 15       & 15       & 15      \\\\\n",
       "\\end{tabular}\n"
      ],
      "text/markdown": [
       "\n",
       "| school | sex | age | address | famsize | Pstatus | Medu | Fedu | Mjob | Fjob | ... | famrel | freetime | goout | Dalc | Walc | health | absences | G1 | G2 | G3 |\n",
       "|---|---|---|---|---|---|---|---|---|---|---|---|---|---|---|---|---|---|---|---|---|\n",
       "| GP       | 2        | 18       | U        | GT3      | A        | 4        | 4        | at_home  | teacher  | ...      | 4        | 3        | 4        | 1        | 1        | 3        |  6       |  5       |  6       |  6       |\n",
       "| GP       | 2        | 17       | U        | GT3      | T        | 1        | 1        | at_home  | other    | ...      | 5        | 3        | 3        | 1        | 1        | 3        |  4       |  5       |  5       |  6       |\n",
       "| GP       | 2        | 15       | U        | LE3      | T        | 1        | 1        | at_home  | other    | ...      | 4        | 3        | 2        | 2        | 3        | 3        | 10       |  7       |  8       | 10       |\n",
       "| GP       | 2        | 15       | U        | GT3      | T        | 4        | 2        | health   | services | ...      | 3        | 2        | 2        | 1        | 1        | 5        |  2       | 15       | 14       | 15       |\n",
       "| GP       | 2        | 16       | U        | GT3      | T        | 3        | 3        | other    | other    | ...      | 4        | 3        | 2        | 1        | 2        | 5        |  4       |  6       | 10       | 10       |\n",
       "| GP       | 1        | 16       | U        | LE3      | T        | 4        | 3        | services | other    | ...      | 5        | 4        | 2        | 1        | 2        | 5        | 10       | 15       | 15       | 15       |\n",
       "\n"
      ],
      "text/plain": [
       "  school sex age address famsize Pstatus Medu Fedu Mjob     Fjob     ... famrel\n",
       "1 GP     2   18  U       GT3     A       4    4    at_home  teacher  ... 4     \n",
       "2 GP     2   17  U       GT3     T       1    1    at_home  other    ... 5     \n",
       "3 GP     2   15  U       LE3     T       1    1    at_home  other    ... 4     \n",
       "4 GP     2   15  U       GT3     T       4    2    health   services ... 3     \n",
       "5 GP     2   16  U       GT3     T       3    3    other    other    ... 4     \n",
       "6 GP     1   16  U       LE3     T       4    3    services other    ... 5     \n",
       "  freetime goout Dalc Walc health absences G1 G2 G3\n",
       "1 3        4     1    1    3       6        5  6  6\n",
       "2 3        3     1    1    3       4        5  5  6\n",
       "3 3        2     2    3    3      10        7  8 10\n",
       "4 2        2     1    1    5       2       15 14 15\n",
       "5 3        2     1    2    5       4        6 10 10\n",
       "6 4        2     1    2    5      10       15 15 15"
      ]
     },
     "metadata": {},
     "output_type": "display_data"
    }
   ],
   "source": [
    "head(alunos.dados)"
   ]
  },
  {
   "cell_type": "code",
   "execution_count": 227,
   "id": "8c76cbca",
   "metadata": {},
   "outputs": [],
   "source": [
    "# Separa entre treino e teste\n",
    "\n",
    "set.seed(seed_universal)\n",
    "indices <- createDataPartition(alunos.dados$G3, p = 0.8, list = FALSE)\n",
    "treino <- alunos.dados[indices,]\n",
    "teste <- alunos.dados[-indices,]"
   ]
  },
  {
   "cell_type": "markdown",
   "id": "83bce14d",
   "metadata": {},
   "source": [
    "### Redes Neurais"
   ]
  },
  {
   "cell_type": "markdown",
   "id": "7ff97391",
   "metadata": {},
   "source": [
    "#### Hold out"
   ]
  },
  {
   "cell_type": "code",
   "execution_count": 109,
   "id": "2526a322",
   "metadata": {},
   "outputs": [
    {
     "name": "stderr",
     "output_type": "stream",
     "text": [
      "Warning message in nominalTrainWorkflow(x = x, y = y, wts = weights, info = trainInfo, :\n",
      "“There were missing values in resampled performance measures.”"
     ]
    },
    {
     "data": {
      "text/plain": [
       "Neural Network \n",
       "\n",
       "318 samples\n",
       " 32 predictor\n",
       "\n",
       "No pre-processing\n",
       "Resampling: Bootstrapped (25 reps) \n",
       "Summary of sample sizes: 318, 318, 318, 318, 318, 318, ... \n",
       "Resampling results across tuning parameters:\n",
       "\n",
       "  size  decay  RMSE      Rsquared   MAE     \n",
       "  1     0e+00  4.288185  0.4451051  3.290918\n",
       "  1     1e-04  4.302246  0.4011125  3.291850\n",
       "  1     1e-01  3.152601  0.5621009  2.461534\n",
       "  3     0e+00  3.672778  0.4638319  2.809658\n",
       "  3     1e-04  4.145325  0.3774091  3.208498\n",
       "  3     1e-01  3.153018  0.5896584  2.416653\n",
       "  5     0e+00  3.306683  0.5630039  2.507024\n",
       "  5     1e-04  3.352291  0.5295603  2.536282\n",
       "  5     1e-01  2.868583  0.6665035  2.097483\n",
       "\n",
       "RMSE was used to select the optimal model using the smallest value.\n",
       "The final values used for the model were size = 5 and decay = 0.1."
      ]
     },
     "metadata": {},
     "output_type": "display_data"
    }
   ],
   "source": [
    "set.seed(seed_universal)\n",
    "rna <- train(G3 ~ ., data = treino, method = 'nnet', linout = T, trace = FALSE)\n",
    "rna"
   ]
  },
  {
   "cell_type": "code",
   "execution_count": 110,
   "id": "2bb66acd",
   "metadata": {},
   "outputs": [],
   "source": [
    "predicoes.rna <- predict(rna, teste)"
   ]
  },
  {
   "cell_type": "code",
   "execution_count": 112,
   "id": "befd0be1",
   "metadata": {},
   "outputs": [
    {
     "data": {
      "text/html": [
       "0.619819167595113"
      ],
      "text/latex": [
       "0.619819167595113"
      ],
      "text/markdown": [
       "0.619819167595113"
      ],
      "text/plain": [
       "[1] 0.6198192"
      ]
     },
     "metadata": {},
     "output_type": "display_data"
    }
   ],
   "source": [
    "r2(predicoes.rna, teste$G3)"
   ]
  },
  {
   "cell_type": "markdown",
   "id": "84711f97",
   "metadata": {},
   "source": [
    "#### Cross validation"
   ]
  },
  {
   "cell_type": "code",
   "execution_count": 113,
   "id": "7125ece1",
   "metadata": {},
   "outputs": [
    {
     "name": "stderr",
     "output_type": "stream",
     "text": [
      "Warning message in nominalTrainWorkflow(x = x, y = y, wts = weights, info = trainInfo, :\n",
      "“There were missing values in resampled performance measures.”"
     ]
    },
    {
     "data": {
      "text/plain": [
       "Neural Network \n",
       "\n",
       "318 samples\n",
       " 32 predictor\n",
       "\n",
       "No pre-processing\n",
       "Resampling: Bootstrapped (25 reps) \n",
       "Summary of sample sizes: 318, 318, 318, 318, 318, 318, ... \n",
       "Resampling results across tuning parameters:\n",
       "\n",
       "  size  decay  RMSE      Rsquared   MAE     \n",
       "  1     0e+00  4.166563  0.5201314  3.172987\n",
       "  1     1e-04  4.031455  0.5510493  3.027069\n",
       "  1     1e-01  2.379759  0.7465901  1.713231\n",
       "  3     0e+00  3.437964  0.5298049  2.524120\n",
       "  3     1e-04  3.852667  0.5037584  2.907719\n",
       "  3     1e-01  2.924183  0.6707730  2.092594\n",
       "  5     0e+00  3.200689  0.6106384  2.287803\n",
       "  5     1e-04  3.746711  0.5264896  2.667822\n",
       "  5     1e-01  2.819315  0.6881171  2.076416\n",
       "\n",
       "RMSE was used to select the optimal model using the smallest value.\n",
       "The final values used for the model were size = 1 and decay = 0.1."
      ]
     },
     "metadata": {},
     "output_type": "display_data"
    }
   ],
   "source": [
    "control <- trainControl(method = 'cv', number = 10)\n",
    "\n",
    "set.seed(seed_universal)\n",
    "rna <- train(G3 ~ ., data = treino, method = 'nnet', \n",
    "             linout = T, MaxNWts = 10000, maxit = 2000, trainControl = control, trace = FALSE)\n",
    "rna"
   ]
  },
  {
   "cell_type": "code",
   "execution_count": 114,
   "id": "1e4a0885",
   "metadata": {},
   "outputs": [],
   "source": [
    "predicoes.rna <- predict(rna, teste)"
   ]
  },
  {
   "cell_type": "code",
   "execution_count": 115,
   "id": "ed56e84f",
   "metadata": {},
   "outputs": [
    {
     "data": {
      "text/html": [
       "0.804986428443222"
      ],
      "text/latex": [
       "0.804986428443222"
      ],
      "text/markdown": [
       "0.804986428443222"
      ],
      "text/plain": [
       "[1] 0.8049864"
      ]
     },
     "metadata": {},
     "output_type": "display_data"
    }
   ],
   "source": [
    "r2(predicoes.rna, teste$G3)"
   ]
  },
  {
   "cell_type": "markdown",
   "id": "dbc6f267",
   "metadata": {},
   "source": [
    "#### Grid"
   ]
  },
  {
   "cell_type": "code",
   "execution_count": 116,
   "id": "5b4c6c48",
   "metadata": {
    "scrolled": true
   },
   "outputs": [
    {
     "data": {
      "text/plain": [
       "Neural Network \n",
       "\n",
       "318 samples\n",
       " 32 predictor\n",
       "\n",
       "No pre-processing\n",
       "Resampling: Bootstrapped (25 reps) \n",
       "Summary of sample sizes: 318, 318, 318, 318, 318, 318, ... \n",
       "Resampling results across tuning parameters:\n",
       "\n",
       "  size  decay  RMSE      Rsquared   MAE     \n",
       "   1    0.1    2.273496  0.7745711  1.624604\n",
       "   1    0.2    2.293990  0.7701628  1.643472\n",
       "   1    0.3    2.297142  0.7690740  1.645206\n",
       "   1    0.4    2.309358  0.7661455  1.657495\n",
       "   1    0.5    2.317427  0.7644550  1.664703\n",
       "   1    0.6    2.336050  0.7602370  1.683033\n",
       "   1    0.7    2.343881  0.7581943  1.694960\n",
       "   1    0.8    2.350240  0.7569594  1.699965\n",
       "   1    0.9    2.351879  0.7563162  1.704929\n",
       "   2    0.1    2.650814  0.7152477  1.788418\n",
       "   2    0.2    2.618882  0.7173510  1.776615\n",
       "   2    0.3    2.532303  0.7322385  1.676403\n",
       "   2    0.4    2.533874  0.7357208  1.695538\n",
       "   2    0.5    2.588666  0.7218211  1.819977\n",
       "   2    0.6    2.543715  0.7271131  1.732423\n",
       "   2    0.7    2.616962  0.7134290  1.813050\n",
       "   2    0.8    2.515453  0.7340131  1.732781\n",
       "   2    0.9    2.533713  0.7294664  1.734875\n",
       "   3    0.1    2.835880  0.6960652  1.959636\n",
       "   3    0.2    2.772790  0.7034677  1.984982\n",
       "   3    0.3    2.528272  0.7314572  1.748542\n",
       "   3    0.4    2.518485  0.7315739  1.759271\n",
       "   3    0.5    2.533128  0.7379857  1.797992\n",
       "   3    0.6    2.473930  0.7408391  1.690527\n",
       "   3    0.7    2.413911  0.7587472  1.678807\n",
       "   3    0.8    2.359880  0.7601711  1.638082\n",
       "   3    0.9    2.562314  0.7309706  1.831827\n",
       "   4    0.1    3.024358  0.6508042  2.186968\n",
       "   4    0.2    2.757457  0.7006890  1.987160\n",
       "   4    0.3    2.654288  0.7120810  1.918950\n",
       "   4    0.4    2.565066  0.7303038  1.844165\n",
       "   4    0.5    2.483927  0.7468222  1.800194\n",
       "   4    0.6    2.520084  0.7383292  1.806156\n",
       "   4    0.7    2.331963  0.7669303  1.671161\n",
       "   4    0.8    2.333314  0.7681311  1.645856\n",
       "   4    0.9    2.266517  0.7790232  1.612951\n",
       "   5    0.1    2.763148  0.6994449  2.009040\n",
       "   5    0.2    2.520408  0.7407344  1.802831\n",
       "   5    0.3    2.439327  0.7527638  1.783675\n",
       "   5    0.4    2.415129  0.7555158  1.768457\n",
       "   5    0.5    2.386929  0.7591007  1.718057\n",
       "   5    0.6    2.293026  0.7751069  1.627171\n",
       "   5    0.7    2.303078  0.7736082  1.658072\n",
       "   5    0.8    2.248825  0.7830372  1.614049\n",
       "   5    0.9    2.274337  0.7790928  1.614643\n",
       "   6    0.1    2.564943  0.7257972  1.880972\n",
       "   6    0.2    2.421109  0.7510547  1.751043\n",
       "   6    0.3    2.364569  0.7671116  1.721047\n",
       "   6    0.4    2.376394  0.7615197  1.725362\n",
       "   6    0.5    2.379297  0.7605226  1.753572\n",
       "   6    0.6    2.296716  0.7743268  1.672816\n",
       "   6    0.7    2.234250  0.7862082  1.632013\n",
       "   6    0.8    2.178882  0.7935991  1.568074\n",
       "   6    0.9    2.165377  0.7981344  1.548390\n",
       "   7    0.1    2.412674  0.7572116  1.762399\n",
       "   7    0.2    2.306597  0.7757080  1.694253\n",
       "   7    0.3    2.275311  0.7785600  1.664191\n",
       "   7    0.4    2.219987  0.7900734  1.603844\n",
       "   7    0.5    2.168450  0.7971502  1.578942\n",
       "   7    0.6    2.208665  0.7899782  1.588668\n",
       "   7    0.7    2.172887  0.7980392  1.556160\n",
       "   7    0.8    2.157353  0.7968953  1.561810\n",
       "   7    0.9    2.110893  0.8076604  1.513926\n",
       "   8    0.1    2.283190  0.7758063  1.669459\n",
       "   8    0.2    2.260693  0.7838025  1.648863\n",
       "   8    0.3    2.211228  0.7881148  1.613384\n",
       "   8    0.4    2.189788  0.7935213  1.598141\n",
       "   8    0.5    2.163009  0.7979297  1.569670\n",
       "   8    0.6    2.203046  0.7910648  1.608194\n",
       "   8    0.7    2.086026  0.8098818  1.526296\n",
       "   8    0.8    2.091490  0.8098565  1.511102\n",
       "   8    0.9    2.059018  0.8138276  1.492915\n",
       "   9    0.1    2.146695  0.8014441  1.580464\n",
       "   9    0.2    2.192972  0.7934169  1.597307\n",
       "   9    0.3    2.166821  0.7977313  1.578561\n",
       "   9    0.4    2.136086  0.8045770  1.566698\n",
       "   9    0.5    2.099387  0.8095200  1.518347\n",
       "   9    0.6    2.118546  0.8045945  1.531621\n",
       "   9    0.7    2.096818  0.8089722  1.490602\n",
       "   9    0.8    2.079552  0.8125943  1.497611\n",
       "   9    0.9    2.084946  0.8115095  1.503425\n",
       "  10    0.1    2.186237  0.7949951  1.609148\n",
       "  10    0.2    2.164552  0.7971925  1.566339\n",
       "  10    0.3    2.181695  0.7961180  1.561688\n",
       "  10    0.4    2.137796  0.8018163  1.534911\n",
       "  10    0.5    2.111566  0.8056549  1.521709\n",
       "  10    0.6    2.079208  0.8120960  1.503634\n",
       "  10    0.7    2.093516  0.8096390  1.518727\n",
       "  10    0.8    2.066898  0.8136584  1.480603\n",
       "  10    0.9    2.060773  0.8148502  1.475021\n",
       "\n",
       "RMSE was used to select the optimal model using the smallest value.\n",
       "The final values used for the model were size = 8 and decay = 0.9."
      ]
     },
     "metadata": {},
     "output_type": "display_data"
    }
   ],
   "source": [
    "control <- trainControl(method = 'cv', number = 10)\n",
    "tuneGrid <- expand.grid(size = seq(from = 1, to = 10, by = 1), decay = seq(from = 0.1, to = 0.9, by = 0.1))\n",
    "\n",
    "set.seed(seed_universal)\n",
    "rna <- train(G3 ~ ., data = treino, method = 'nnet', \n",
    "             trainControl = control, tuneGrid = tuneGrid, \n",
    "             linout = T, MaxNWts = 10000, maxit = 2000, trace = FALSE)\n",
    "rna"
   ]
  },
  {
   "cell_type": "code",
   "execution_count": 117,
   "id": "703b39ea",
   "metadata": {},
   "outputs": [],
   "source": [
    "predicoes.rna <- predict(rna, teste)"
   ]
  },
  {
   "cell_type": "code",
   "execution_count": 118,
   "id": "75b81c9a",
   "metadata": {
    "scrolled": true
   },
   "outputs": [
    {
     "data": {
      "text/html": [
       "0.83842825362634"
      ],
      "text/latex": [
       "0.83842825362634"
      ],
      "text/markdown": [
       "0.83842825362634"
      ],
      "text/plain": [
       "[1] 0.8384283"
      ]
     },
     "metadata": {},
     "output_type": "display_data"
    }
   ],
   "source": [
    "r2(predicoes.rna, teste$G3)"
   ]
  },
  {
   "cell_type": "markdown",
   "id": "013628be",
   "metadata": {},
   "source": [
    "### KNN"
   ]
  },
  {
   "cell_type": "code",
   "execution_count": 228,
   "id": "84618e25",
   "metadata": {},
   "outputs": [
    {
     "data": {
      "text/plain": [
       "k-Nearest Neighbors \n",
       "\n",
       "318 samples\n",
       " 32 predictor\n",
       "\n",
       "No pre-processing\n",
       "Resampling: Bootstrapped (25 reps) \n",
       "Summary of sample sizes: 318, 318, 318, 318, 318, 318, ... \n",
       "Resampling results across tuning parameters:\n",
       "\n",
       "  k  RMSE      Rsquared   MAE     \n",
       "  5  2.007207  0.8235914  1.366998\n",
       "  7  2.012671  0.8255374  1.377899\n",
       "  9  2.026420  0.8253318  1.397398\n",
       "\n",
       "RMSE was used to select the optimal model using the smallest value.\n",
       "The final value used for the model was k = 5."
      ]
     },
     "metadata": {},
     "output_type": "display_data"
    }
   ],
   "source": [
    "tuneGrid <- expand.grid(k = c(1, 3, 5, 7, 9, 11, 13, 15, 17, 19, 21))\n",
    "set.seed(seed_universal)\n",
    "knn <- train(G3 ~ ., data = treino, method = \"knn\", btuneGrid=tuneGrid)\n",
    "knn"
   ]
  },
  {
   "cell_type": "code",
   "execution_count": 229,
   "id": "b0f85eb7",
   "metadata": {},
   "outputs": [
    {
     "data": {
      "text/html": [
       "0.844973657089188"
      ],
      "text/latex": [
       "0.844973657089188"
      ],
      "text/markdown": [
       "0.844973657089188"
      ],
      "text/plain": [
       "[1] 0.8449737"
      ]
     },
     "metadata": {},
     "output_type": "display_data"
    }
   ],
   "source": [
    "predicoes.knn <- predict(knn, teste)\n",
    "r2(predicoes.knn, teste$G3)"
   ]
  },
  {
   "cell_type": "markdown",
   "id": "a14fbf24",
   "metadata": {},
   "source": [
    "---"
   ]
  },
  {
   "cell_type": "markdown",
   "id": "96d9271c",
   "metadata": {},
   "source": [
    "## Câncer de Mama (Classificação)"
   ]
  },
  {
   "cell_type": "code",
   "execution_count": 138,
   "id": "7e28b676",
   "metadata": {},
   "outputs": [],
   "source": [
    "cancer.dados <- read.csv('bases/cancer_mama/Material 02 - 2 - Cancer de Mama - Dados.csv')"
   ]
  },
  {
   "cell_type": "code",
   "execution_count": 139,
   "id": "3922acf6",
   "metadata": {},
   "outputs": [
    {
     "data": {
      "text/plain": [
       "       Id         Cl.thickness      Cell.size        Cell.shape    \n",
       " Min.   :  1.0   Min.   : 1.000   Min.   : 1.000   Min.   : 1.000  \n",
       " 1st Qu.:175.5   1st Qu.: 2.000   1st Qu.: 1.000   1st Qu.: 1.000  \n",
       " Median :350.0   Median : 4.000   Median : 1.000   Median : 1.000  \n",
       " Mean   :350.0   Mean   : 4.418   Mean   : 3.134   Mean   : 3.207  \n",
       " 3rd Qu.:524.5   3rd Qu.: 6.000   3rd Qu.: 5.000   3rd Qu.: 5.000  \n",
       " Max.   :699.0   Max.   :10.000   Max.   :10.000   Max.   :10.000  \n",
       " Marg.adhesion     Epith.c.size     Bare.nuclei      Bl.cromatin    \n",
       " Min.   : 1.000   Min.   : 1.000   Min.   : 1.000   Min.   : 1.000  \n",
       " 1st Qu.: 1.000   1st Qu.: 2.000   1st Qu.: 1.000   1st Qu.: 2.000  \n",
       " Median : 1.000   Median : 2.000   Median : 1.000   Median : 3.000  \n",
       " Mean   : 2.807   Mean   : 3.216   Mean   : 3.535   Mean   : 3.438  \n",
       " 3rd Qu.: 4.000   3rd Qu.: 4.000   3rd Qu.: 6.000   3rd Qu.: 5.000  \n",
       " Max.   :10.000   Max.   :10.000   Max.   :10.000   Max.   :10.000  \n",
       " Normal.nucleoli     Mitoses             Class    \n",
       " Min.   : 1.000   Min.   : 1.000   benign   :458  \n",
       " 1st Qu.: 1.000   1st Qu.: 1.000   malignant:241  \n",
       " Median : 1.000   Median : 1.000                  \n",
       " Mean   : 2.867   Mean   : 1.589                  \n",
       " 3rd Qu.: 4.000   3rd Qu.: 1.000                  \n",
       " Max.   :10.000   Max.   :10.000                  "
      ]
     },
     "metadata": {},
     "output_type": "display_data"
    }
   ],
   "source": [
    "summary(cancer.dados)"
   ]
  },
  {
   "cell_type": "code",
   "execution_count": 142,
   "id": "fc60359d",
   "metadata": {},
   "outputs": [
    {
     "data": {
      "text/html": [
       "<table>\n",
       "<thead><tr><th scope=col>Cl.thickness</th><th scope=col>Cell.size</th><th scope=col>Cell.shape</th><th scope=col>Marg.adhesion</th><th scope=col>Epith.c.size</th><th scope=col>Bare.nuclei</th><th scope=col>Bl.cromatin</th><th scope=col>Normal.nucleoli</th><th scope=col>Mitoses</th><th scope=col>Class</th></tr></thead>\n",
       "<tbody>\n",
       "\t<tr><td>5        </td><td> 1       </td><td> 1       </td><td>1        </td><td>2        </td><td> 1       </td><td>3        </td><td>1        </td><td>1        </td><td>benign   </td></tr>\n",
       "\t<tr><td>5        </td><td> 4       </td><td> 4       </td><td>5        </td><td>7        </td><td>10       </td><td>3        </td><td>2        </td><td>1        </td><td>benign   </td></tr>\n",
       "\t<tr><td>3        </td><td> 1       </td><td> 1       </td><td>1        </td><td>2        </td><td> 2       </td><td>3        </td><td>1        </td><td>1        </td><td>benign   </td></tr>\n",
       "\t<tr><td>6        </td><td> 8       </td><td> 8       </td><td>1        </td><td>3        </td><td> 4       </td><td>3        </td><td>7        </td><td>1        </td><td>benign   </td></tr>\n",
       "\t<tr><td>4        </td><td> 1       </td><td> 1       </td><td>3        </td><td>2        </td><td> 1       </td><td>3        </td><td>1        </td><td>1        </td><td>benign   </td></tr>\n",
       "\t<tr><td>8        </td><td>10       </td><td>10       </td><td>8        </td><td>7        </td><td>10       </td><td>9        </td><td>7        </td><td>1        </td><td>malignant</td></tr>\n",
       "</tbody>\n",
       "</table>\n"
      ],
      "text/latex": [
       "\\begin{tabular}{r|llllllllll}\n",
       " Cl.thickness & Cell.size & Cell.shape & Marg.adhesion & Epith.c.size & Bare.nuclei & Bl.cromatin & Normal.nucleoli & Mitoses & Class\\\\\n",
       "\\hline\n",
       "\t 5         &  1        &  1        & 1         & 2         &  1        & 3         & 1         & 1         & benign   \\\\\n",
       "\t 5         &  4        &  4        & 5         & 7         & 10        & 3         & 2         & 1         & benign   \\\\\n",
       "\t 3         &  1        &  1        & 1         & 2         &  2        & 3         & 1         & 1         & benign   \\\\\n",
       "\t 6         &  8        &  8        & 1         & 3         &  4        & 3         & 7         & 1         & benign   \\\\\n",
       "\t 4         &  1        &  1        & 3         & 2         &  1        & 3         & 1         & 1         & benign   \\\\\n",
       "\t 8         & 10        & 10        & 8         & 7         & 10        & 9         & 7         & 1         & malignant\\\\\n",
       "\\end{tabular}\n"
      ],
      "text/markdown": [
       "\n",
       "| Cl.thickness | Cell.size | Cell.shape | Marg.adhesion | Epith.c.size | Bare.nuclei | Bl.cromatin | Normal.nucleoli | Mitoses | Class |\n",
       "|---|---|---|---|---|---|---|---|---|---|\n",
       "| 5         |  1        |  1        | 1         | 2         |  1        | 3         | 1         | 1         | benign    |\n",
       "| 5         |  4        |  4        | 5         | 7         | 10        | 3         | 2         | 1         | benign    |\n",
       "| 3         |  1        |  1        | 1         | 2         |  2        | 3         | 1         | 1         | benign    |\n",
       "| 6         |  8        |  8        | 1         | 3         |  4        | 3         | 7         | 1         | benign    |\n",
       "| 4         |  1        |  1        | 3         | 2         |  1        | 3         | 1         | 1         | benign    |\n",
       "| 8         | 10        | 10        | 8         | 7         | 10        | 9         | 7         | 1         | malignant |\n",
       "\n"
      ],
      "text/plain": [
       "  Cl.thickness Cell.size Cell.shape Marg.adhesion Epith.c.size Bare.nuclei\n",
       "1 5             1         1         1             2             1         \n",
       "2 5             4         4         5             7            10         \n",
       "3 3             1         1         1             2             2         \n",
       "4 6             8         8         1             3             4         \n",
       "5 4             1         1         3             2             1         \n",
       "6 8            10        10         8             7            10         \n",
       "  Bl.cromatin Normal.nucleoli Mitoses Class    \n",
       "1 3           1               1       benign   \n",
       "2 3           2               1       benign   \n",
       "3 3           1               1       benign   \n",
       "4 3           7               1       benign   \n",
       "5 3           1               1       benign   \n",
       "6 9           7               1       malignant"
      ]
     },
     "metadata": {},
     "output_type": "display_data"
    }
   ],
   "source": [
    "head(cancer.dados)"
   ]
  },
  {
   "cell_type": "code",
   "execution_count": 143,
   "id": "49225c01",
   "metadata": {},
   "outputs": [],
   "source": [
    "# Separa entre treino e teste\n",
    "\n",
    "set.seed(seed_universal)\n",
    "indices <- createDataPartition(cancer.dados$Class, p = 0.8, list = FALSE)\n",
    "treino <- cancer.dados[indices,]\n",
    "teste <- cancer.dados[-indices,]"
   ]
  },
  {
   "cell_type": "markdown",
   "id": "99fcb0ec",
   "metadata": {},
   "source": [
    "### Redes Neurais"
   ]
  },
  {
   "cell_type": "markdown",
   "id": "9ca71cb3",
   "metadata": {},
   "source": [
    "#### Hold out"
   ]
  },
  {
   "cell_type": "code",
   "execution_count": 54,
   "id": "54ab1a26",
   "metadata": {},
   "outputs": [
    {
     "data": {
      "text/plain": [
       "Neural Network \n",
       "\n",
       "560 samples\n",
       "  9 predictor\n",
       "  2 classes: 'benign', 'malignant' \n",
       "\n",
       "No pre-processing\n",
       "Resampling: Bootstrapped (25 reps) \n",
       "Summary of sample sizes: 560, 560, 560, 560, 560, 560, ... \n",
       "Resampling results across tuning parameters:\n",
       "\n",
       "  size  decay  Accuracy   Kappa    \n",
       "  1     0e+00  0.9355606  0.8436904\n",
       "  1     1e-04  0.8793081  0.6853898\n",
       "  1     1e-01  0.9618024  0.9158194\n",
       "  3     0e+00  0.9344482  0.8486237\n",
       "  3     1e-04  0.9507364  0.8916345\n",
       "  3     1e-01  0.9560586  0.9027121\n",
       "  5     0e+00  0.9492720  0.8881370\n",
       "  5     1e-04  0.9488739  0.8873937\n",
       "  5     1e-01  0.9528808  0.8956393\n",
       "\n",
       "Accuracy was used to select the optimal model using the largest value.\n",
       "The final values used for the model were size = 1 and decay = 0.1."
      ]
     },
     "metadata": {},
     "output_type": "display_data"
    }
   ],
   "source": [
    "set.seed(seed_universal)\n",
    "rna <- train(Class ~ ., data = treino, method = 'nnet', trace = FALSE)\n",
    "rna"
   ]
  },
  {
   "cell_type": "code",
   "execution_count": 55,
   "id": "ef3570ec",
   "metadata": {},
   "outputs": [],
   "source": [
    "predicoes.rna <- predict(rna, teste)"
   ]
  },
  {
   "cell_type": "code",
   "execution_count": 56,
   "id": "14f81539",
   "metadata": {},
   "outputs": [
    {
     "data": {
      "text/plain": [
       "Confusion Matrix and Statistics\n",
       "\n",
       "           Reference\n",
       "Prediction  benign malignant\n",
       "  benign        88         2\n",
       "  malignant      3        46\n",
       "                                          \n",
       "               Accuracy : 0.964           \n",
       "                 95% CI : (0.9181, 0.9882)\n",
       "    No Information Rate : 0.6547          \n",
       "    P-Value [Acc > NIR] : <2e-16          \n",
       "                                          \n",
       "                  Kappa : 0.9208          \n",
       "                                          \n",
       " Mcnemar's Test P-Value : 1               \n",
       "                                          \n",
       "            Sensitivity : 0.9670          \n",
       "            Specificity : 0.9583          \n",
       "         Pos Pred Value : 0.9778          \n",
       "         Neg Pred Value : 0.9388          \n",
       "             Prevalence : 0.6547          \n",
       "         Detection Rate : 0.6331          \n",
       "   Detection Prevalence : 0.6475          \n",
       "      Balanced Accuracy : 0.9627          \n",
       "                                          \n",
       "       'Positive' Class : benign          \n",
       "                                          "
      ]
     },
     "metadata": {},
     "output_type": "display_data"
    }
   ],
   "source": [
    "confusionMatrix(predicoes.rna, as.factor(teste$Class))"
   ]
  },
  {
   "cell_type": "markdown",
   "id": "16e6f6d4",
   "metadata": {},
   "source": [
    "#### Cross validation"
   ]
  },
  {
   "cell_type": "code",
   "execution_count": 27,
   "id": "f228bcce",
   "metadata": {},
   "outputs": [],
   "source": [
    "set.seed(seed_universal)\n",
    "ctrl <- trainControl(method = 'cv', number = 10)"
   ]
  },
  {
   "cell_type": "code",
   "execution_count": 28,
   "id": "ddc7851e",
   "metadata": {},
   "outputs": [
    {
     "data": {
      "text/plain": [
       "Neural Network \n",
       "\n",
       "560 samples\n",
       "  9 predictor\n",
       "  2 classes: 'benign', 'malignant' \n",
       "\n",
       "No pre-processing\n",
       "Resampling: Cross-Validated (10 fold) \n",
       "Summary of sample sizes: 505, 505, 504, 504, 504, 503, ... \n",
       "Resampling results across tuning parameters:\n",
       "\n",
       "  size  decay  Accuracy   Kappa    \n",
       "  1     0e+00  0.9499294  0.8900761\n",
       "  1     1e-04  0.9321372  0.8301133\n",
       "  1     1e-01  0.9624943  0.9172935\n",
       "  3     0e+00  0.9254956  0.8130474\n",
       "  3     1e-04  0.9570734  0.9058046\n",
       "  3     1e-01  0.9607411  0.9134859\n",
       "  5     0e+00  0.9570734  0.9046412\n",
       "  5     1e-04  0.9465493  0.8822215\n",
       "  5     1e-01  0.9571058  0.9056348\n",
       "\n",
       "Accuracy was used to select the optimal model using the largest value.\n",
       "The final values used for the model were size = 1 and decay = 0.1."
      ]
     },
     "metadata": {},
     "output_type": "display_data"
    }
   ],
   "source": [
    "set.seed(seed_universal)\n",
    "rna <- train(Class ~ ., data = treino, method = 'nnet', trace = FALSE, trControl = ctrl)\n",
    "rna"
   ]
  },
  {
   "cell_type": "code",
   "execution_count": 30,
   "id": "d1fbc724",
   "metadata": {},
   "outputs": [],
   "source": [
    "predicoes.rna <- predict(rna, teste)"
   ]
  },
  {
   "cell_type": "code",
   "execution_count": 31,
   "id": "cea4af28",
   "metadata": {},
   "outputs": [
    {
     "data": {
      "text/plain": [
       "Confusion Matrix and Statistics\n",
       "\n",
       "           Reference\n",
       "Prediction  benign malignant\n",
       "  benign        88         2\n",
       "  malignant      3        46\n",
       "                                          \n",
       "               Accuracy : 0.964           \n",
       "                 95% CI : (0.9181, 0.9882)\n",
       "    No Information Rate : 0.6547          \n",
       "    P-Value [Acc > NIR] : <2e-16          \n",
       "                                          \n",
       "                  Kappa : 0.9208          \n",
       "                                          \n",
       " Mcnemar's Test P-Value : 1               \n",
       "                                          \n",
       "            Sensitivity : 0.9670          \n",
       "            Specificity : 0.9583          \n",
       "         Pos Pred Value : 0.9778          \n",
       "         Neg Pred Value : 0.9388          \n",
       "             Prevalence : 0.6547          \n",
       "         Detection Rate : 0.6331          \n",
       "   Detection Prevalence : 0.6475          \n",
       "      Balanced Accuracy : 0.9627          \n",
       "                                          \n",
       "       'Positive' Class : benign          \n",
       "                                          "
      ]
     },
     "metadata": {},
     "output_type": "display_data"
    }
   ],
   "source": [
    "confusionMatrix(predicoes.rna, as.factor(teste$Class))"
   ]
  },
  {
   "cell_type": "markdown",
   "id": "d779b4de",
   "metadata": {},
   "source": [
    "#### Grid"
   ]
  },
  {
   "cell_type": "code",
   "execution_count": 32,
   "id": "2a69cdcf",
   "metadata": {},
   "outputs": [],
   "source": [
    "set.seed(seed_universal)\n",
    "ctrl <- trainControl(method = 'cv', number = 10)\n",
    "grid <- expand.grid(size = seq(from = 1, to = 20, by = 1), decay = seq(from = 0.1, to = 0.9, by = 0.1))"
   ]
  },
  {
   "cell_type": "code",
   "execution_count": 33,
   "id": "d17097d2",
   "metadata": {},
   "outputs": [],
   "source": [
    "set.seed(seed_universal)\n",
    "rna <- train(form = Class ~ .,data = treino,method = 'nnet',\n",
    "             tuneGrid = grid,trControl = ctrl, MaxNWts = 10000, maxit = 2000, trace = FALSE)"
   ]
  },
  {
   "cell_type": "code",
   "execution_count": 36,
   "id": "1315f607",
   "metadata": {
    "scrolled": true
   },
   "outputs": [
    {
     "data": {
      "text/plain": [
       "Neural Network \n",
       "\n",
       "560 samples\n",
       "  9 predictor\n",
       "  2 classes: 'benign', 'malignant' \n",
       "\n",
       "No pre-processing\n",
       "Resampling: Cross-Validated (10 fold) \n",
       "Summary of sample sizes: 505, 505, 504, 504, 504, 503, ... \n",
       "Resampling results across tuning parameters:\n",
       "\n",
       "  size  decay  Accuracy   Kappa    \n",
       "   1    0.1    0.9624943  0.9172935\n",
       "   1    0.2    0.9624943  0.9172935\n",
       "   1    0.3    0.9660657  0.9252686\n",
       "   1    0.4    0.9642162  0.9213477\n",
       "   1    0.5    0.9642162  0.9213477\n",
       "   1    0.6    0.9642487  0.9208951\n",
       "   1    0.7    0.9642487  0.9208951\n",
       "   1    0.8    0.9642487  0.9208951\n",
       "   1    0.9    0.9642487  0.9209971\n",
       "   2    0.1    0.9606448  0.9137523\n",
       "   2    0.2    0.9607097  0.9133668\n",
       "   2    0.3    0.9624305  0.9172071\n",
       "   2    0.4    0.9624305  0.9172071\n",
       "   2    0.5    0.9624630  0.9166443\n",
       "   2    0.6    0.9624630  0.9166443\n",
       "   2    0.7    0.9624630  0.9166443\n",
       "   2    0.8    0.9624630  0.9166443\n",
       "   2    0.9    0.9624630  0.9167463\n",
       "   3    0.1    0.9571372  0.9051103\n",
       "   3    0.2    0.9624305  0.9172071\n",
       "   3    0.3    0.9624305  0.9172071\n",
       "   3    0.4    0.9642487  0.9208951\n",
       "   3    0.5    0.9624630  0.9169638\n",
       "   3    0.6    0.9624630  0.9166443\n",
       "   3    0.7    0.9624630  0.9166443\n",
       "   3    0.8    0.9624630  0.9167463\n",
       "   3    0.9    0.9624630  0.9167463\n",
       "   4    0.1    0.9518438  0.8930820\n",
       "   4    0.2    0.9660669  0.9247718\n",
       "   4    0.3    0.9642487  0.9208951\n",
       "   4    0.4    0.9642487  0.9208951\n",
       "   4    0.5    0.9642487  0.9208951\n",
       "   4    0.6    0.9624630  0.9166443\n",
       "   4    0.7    0.9642487  0.9209971\n",
       "   4    0.8    0.9642487  0.9206788\n",
       "   4    0.9    0.9624630  0.9167463\n",
       "   5    0.1    0.9589553  0.9088678\n",
       "   5    0.2    0.9589229  0.9096069\n",
       "   5    0.3    0.9624954  0.9165023\n",
       "   5    0.4    0.9660344  0.9250357\n",
       "   5    0.5    0.9642487  0.9208951\n",
       "   5    0.6    0.9642487  0.9208951\n",
       "   5    0.7    0.9624630  0.9166443\n",
       "   5    0.8    0.9642487  0.9208951\n",
       "   5    0.9    0.9642487  0.9209971\n",
       "   6    0.1    0.9696394  0.9330354\n",
       "   6    0.2    0.9660669  0.9250662\n",
       "   6    0.3    0.9660344  0.9251377\n",
       "   6    0.4    0.9624630  0.9167545\n",
       "   6    0.5    0.9642487  0.9208951\n",
       "   6    0.6    0.9642487  0.9208951\n",
       "   6    0.7    0.9624630  0.9166443\n",
       "   6    0.8    0.9642487  0.9209971\n",
       "   6    0.9    0.9642487  0.9209971\n",
       "   7    0.1    0.9535646  0.8974360\n",
       "   7    0.2    0.9589229  0.9092339\n",
       "   7    0.3    0.9642174  0.9209437\n",
       "   7    0.4    0.9660344  0.9250357\n",
       "   7    0.5    0.9642487  0.9208951\n",
       "   7    0.6    0.9642487  0.9208951\n",
       "   7    0.7    0.9642487  0.9209971\n",
       "   7    0.8    0.9624630  0.9167463\n",
       "   7    0.9    0.9642487  0.9209971\n",
       "   8    0.1    0.9660031  0.9249783\n",
       "   8    0.2    0.9607097  0.9130405\n",
       "   8    0.3    0.9642498  0.9205816\n",
       "   8    0.4    0.9660344  0.9250357\n",
       "   8    0.5    0.9660344  0.9249297\n",
       "   8    0.6    0.9642487  0.9208951\n",
       "   8    0.7    0.9642487  0.9209971\n",
       "   8    0.8    0.9642487  0.9209971\n",
       "   8    0.9    0.9642487  0.9209971\n",
       "   9    0.1    0.9535971  0.8966597\n",
       "   9    0.2    0.9642174  0.9213402\n",
       "   9    0.3    0.9642174  0.9209437\n",
       "   9    0.4    0.9642487  0.9208951\n",
       "   9    0.5    0.9624630  0.9167545\n",
       "   9    0.6    0.9624630  0.9167545\n",
       "   9    0.7    0.9624630  0.9169638\n",
       "   9    0.8    0.9642487  0.9209971\n",
       "   9    0.9    0.9642487  0.9209971\n",
       "  10    0.1    0.9624943  0.9169041\n",
       "  10    0.2    0.9642498  0.9209860\n",
       "  10    0.3    0.9660031  0.9249744\n",
       "  10    0.4    0.9624630  0.9167545\n",
       "  10    0.5    0.9642487  0.9208951\n",
       "  10    0.6    0.9642487  0.9208951\n",
       "  10    0.7    0.9642487  0.9209971\n",
       "  10    0.8    0.9642487  0.9209971\n",
       "  10    0.9    0.9642487  0.9209971\n",
       "  11    0.1    0.9624641  0.9168333\n",
       "  11    0.2    0.9696394  0.9328372\n",
       "  11    0.3    0.9624954  0.9165023\n",
       "  11    0.4    0.9642487  0.9208951\n",
       "  11    0.5    0.9624630  0.9167545\n",
       "  11    0.6    0.9624630  0.9167545\n",
       "  11    0.7    0.9624630  0.9169638\n",
       "  11    0.8    0.9642487  0.9209971\n",
       "  11    0.9    0.9642487  0.9209971\n",
       "  12    0.1    0.9517464  0.8931049\n",
       "  12    0.2    0.9606784  0.9128038\n",
       "  12    0.3    0.9642812  0.9206429\n",
       "  12    0.4    0.9642487  0.9208951\n",
       "  12    0.5    0.9624630  0.9167545\n",
       "  12    0.6    0.9624630  0.9167545\n",
       "  12    0.7    0.9624630  0.9169638\n",
       "  12    0.8    0.9642487  0.9209971\n",
       "  12    0.9    0.9642487  0.9209971\n",
       "  13    0.1    0.9588591  0.9096360\n",
       "  13    0.2    0.9535982  0.8966463\n",
       "  13    0.3    0.9678213  0.9287530\n",
       "  13    0.4    0.9642812  0.9205330\n",
       "  13    0.5    0.9624630  0.9167545\n",
       "  13    0.6    0.9624630  0.9167545\n",
       "  13    0.7    0.9606773  0.9128260\n",
       "  13    0.8    0.9642487  0.9209971\n",
       "  13    0.9    0.9642487  0.9209971\n",
       "  14    0.1    0.9642487  0.9204631\n",
       "  14    0.2    0.9624316  0.9170894\n",
       "  14    0.3    0.9643125  0.9207775\n",
       "  14    0.4    0.9660344  0.9250357\n",
       "  14    0.5    0.9642487  0.9208951\n",
       "  14    0.6    0.9642812  0.9205330\n",
       "  14    0.7    0.9642487  0.9208951\n",
       "  14    0.8    0.9642487  0.9209971\n",
       "  14    0.9    0.9642487  0.9209971\n",
       "  15    0.1    0.9625268  0.9176191\n",
       "  15    0.2    0.9624630  0.9170476\n",
       "  15    0.3    0.9660669  0.9248568\n",
       "  15    0.4    0.9624630  0.9168644\n",
       "  15    0.5    0.9642487  0.9208951\n",
       "  15    0.6    0.9624630  0.9167545\n",
       "  15    0.7    0.9624630  0.9167545\n",
       "  15    0.8    0.9624630  0.9169638\n",
       "  15    0.9    0.9642487  0.9209971\n",
       "  16    0.1    0.9553514  0.9009477\n",
       "  16    0.2    0.9606773  0.9131163\n",
       "  16    0.3    0.9624954  0.9165023\n",
       "  16    0.4    0.9624630  0.9167545\n",
       "  16    0.5    0.9660669  0.9246736\n",
       "  16    0.6    0.9624630  0.9167545\n",
       "  16    0.7    0.9624630  0.9167545\n",
       "  16    0.8    0.9624630  0.9169638\n",
       "  16    0.9    0.9642487  0.9209971\n",
       "  17    0.1    0.9589240  0.9091289\n",
       "  17    0.2    0.9589229  0.9091074\n",
       "  17    0.3    0.9624630  0.9169377\n",
       "  17    0.4    0.9642487  0.9208951\n",
       "  17    0.5    0.9642812  0.9205330\n",
       "  17    0.6    0.9660344  0.9250241\n",
       "  17    0.7    0.9642487  0.9208951\n",
       "  17    0.8    0.9642487  0.9208951\n",
       "  17    0.9    0.9642487  0.9209971\n",
       "  18    0.1    0.9518113  0.8935113\n",
       "  18    0.2    0.9642823  0.9203982\n",
       "  18    0.3    0.9660982  0.9245318\n",
       "  18    0.4    0.9606773  0.9127238\n",
       "  18    0.5    0.9624630  0.9167545\n",
       "  18    0.6    0.9642812  0.9205330\n",
       "  18    0.7    0.9642487  0.9208951\n",
       "  18    0.8    0.9642487  0.9208951\n",
       "  18    0.9    0.9642487  0.9209971\n",
       "  19    0.1    0.9642812  0.9215998\n",
       "  19    0.2    0.9606773  0.9127155\n",
       "  19    0.3    0.9589229  0.9088277\n",
       "  19    0.4    0.9642487  0.9208951\n",
       "  19    0.5    0.9642812  0.9205330\n",
       "  19    0.6    0.9624630  0.9167545\n",
       "  19    0.7    0.9642487  0.9208951\n",
       "  19    0.8    0.9642487  0.9208951\n",
       "  19    0.9    0.9642487  0.9209971\n",
       "  20    0.1    0.9642812  0.9211247\n",
       "  20    0.2    0.9572010  0.9048701\n",
       "  20    0.3    0.9696070  0.9328936\n",
       "  20    0.4    0.9624954  0.9165023\n",
       "  20    0.5    0.9660669  0.9246736\n",
       "  20    0.6    0.9642487  0.9208951\n",
       "  20    0.7    0.9624630  0.9167545\n",
       "  20    0.8    0.9642487  0.9208951\n",
       "  20    0.9    0.9642487  0.9208951\n",
       "\n",
       "Accuracy was used to select the optimal model using the largest value.\n",
       "The final values used for the model were size = 6 and decay = 0.1."
      ]
     },
     "metadata": {},
     "output_type": "display_data"
    }
   ],
   "source": [
    "rna"
   ]
  },
  {
   "cell_type": "code",
   "execution_count": 37,
   "id": "2e0b7755",
   "metadata": {},
   "outputs": [],
   "source": [
    "predicoes.rna <- predict(rna, teste)"
   ]
  },
  {
   "cell_type": "code",
   "execution_count": 38,
   "id": "0ea5ff06",
   "metadata": {
    "scrolled": false
   },
   "outputs": [
    {
     "data": {
      "text/plain": [
       "Confusion Matrix and Statistics\n",
       "\n",
       "           Reference\n",
       "Prediction  benign malignant\n",
       "  benign        88         4\n",
       "  malignant      3        44\n",
       "                                         \n",
       "               Accuracy : 0.9496         \n",
       "                 95% CI : (0.899, 0.9795)\n",
       "    No Information Rate : 0.6547         \n",
       "    P-Value [Acc > NIR] : <2e-16         \n",
       "                                         \n",
       "                  Kappa : 0.8881         \n",
       "                                         \n",
       " Mcnemar's Test P-Value : 1              \n",
       "                                         \n",
       "            Sensitivity : 0.9670         \n",
       "            Specificity : 0.9167         \n",
       "         Pos Pred Value : 0.9565         \n",
       "         Neg Pred Value : 0.9362         \n",
       "             Prevalence : 0.6547         \n",
       "         Detection Rate : 0.6331         \n",
       "   Detection Prevalence : 0.6619         \n",
       "      Balanced Accuracy : 0.9418         \n",
       "                                         \n",
       "       'Positive' Class : benign         \n",
       "                                         "
      ]
     },
     "metadata": {},
     "output_type": "display_data"
    }
   ],
   "source": [
    "confusionMatrix(predicoes.rna, as.factor(teste$Class))"
   ]
  },
  {
   "cell_type": "markdown",
   "id": "3eeb09ed",
   "metadata": {},
   "source": [
    "### KNN"
   ]
  },
  {
   "cell_type": "code",
   "execution_count": 148,
   "id": "77d5dddf",
   "metadata": {},
   "outputs": [],
   "source": [
    "tuneGrid <- expand.grid(k = c(1, 3, 5, 7, 9, 11, 13, 15, 17, 19, 21))"
   ]
  },
  {
   "cell_type": "code",
   "execution_count": 149,
   "id": "87dfcf9e",
   "metadata": {},
   "outputs": [
    {
     "data": {
      "text/plain": [
       "k-Nearest Neighbors \n",
       "\n",
       "560 samples\n",
       "  9 predictor\n",
       "  2 classes: 'benign', 'malignant' \n",
       "\n",
       "No pre-processing\n",
       "Resampling: Bootstrapped (25 reps) \n",
       "Summary of sample sizes: 560, 560, 560, 560, 560, 560, ... \n",
       "Resampling results across tuning parameters:\n",
       "\n",
       "  k   Accuracy   Kappa    \n",
       "   1  0.9530746  0.8962870\n",
       "   3  0.9565261  0.9037733\n",
       "   5  0.9588458  0.9089229\n",
       "   7  0.9619745  0.9160224\n",
       "   9  0.9619833  0.9158100\n",
       "  11  0.9631333  0.9183482\n",
       "  13  0.9631311  0.9184141\n",
       "  15  0.9634177  0.9189507\n",
       "  17  0.9633754  0.9188511\n",
       "  19  0.9633914  0.9187926\n",
       "  21  0.9628484  0.9175741\n",
       "\n",
       "Accuracy was used to select the optimal model using the largest value.\n",
       "The final value used for the model was k = 15."
      ]
     },
     "metadata": {},
     "output_type": "display_data"
    }
   ],
   "source": [
    "set.seed(seed_universal)\n",
    "knn <- train(Class ~ ., data = treino, method = 'knn', tuneGrid = tuneGrid)\n",
    "knn"
   ]
  },
  {
   "cell_type": "code",
   "execution_count": 152,
   "id": "2b5c0afc",
   "metadata": {},
   "outputs": [
    {
     "data": {
      "text/plain": [
       "Confusion Matrix and Statistics\n",
       "\n",
       "           Reference\n",
       "Prediction  benign malignant\n",
       "  benign        88         3\n",
       "  malignant      3        45\n",
       "                                         \n",
       "               Accuracy : 0.9568         \n",
       "                 95% CI : (0.9084, 0.984)\n",
       "    No Information Rate : 0.6547         \n",
       "    P-Value [Acc > NIR] : <2e-16         \n",
       "                                         \n",
       "                  Kappa : 0.9045         \n",
       "                                         \n",
       " Mcnemar's Test P-Value : 1              \n",
       "                                         \n",
       "            Sensitivity : 0.9670         \n",
       "            Specificity : 0.9375         \n",
       "         Pos Pred Value : 0.9670         \n",
       "         Neg Pred Value : 0.9375         \n",
       "             Prevalence : 0.6547         \n",
       "         Detection Rate : 0.6331         \n",
       "   Detection Prevalence : 0.6547         \n",
       "      Balanced Accuracy : 0.9523         \n",
       "                                         \n",
       "       'Positive' Class : benign         \n",
       "                                         "
      ]
     },
     "metadata": {},
     "output_type": "display_data"
    }
   ],
   "source": [
    "predicoes.knn <- predict(knn, teste)\n",
    "confusionMatrix(predicoes.knn, as.factor(teste$Class))"
   ]
  },
  {
   "cell_type": "markdown",
   "id": "c3e2f324",
   "metadata": {},
   "source": [
    "---"
   ]
  },
  {
   "cell_type": "markdown",
   "id": "ded3bec4",
   "metadata": {},
   "source": [
    "## Veículos (Classificação)"
   ]
  },
  {
   "cell_type": "code",
   "execution_count": 153,
   "id": "c87bbd9b",
   "metadata": {},
   "outputs": [],
   "source": [
    "veiculos.dados <- read.csv('bases/veiculos/Material 02 - 5 - C - Veiculos - Dados.csv')"
   ]
  },
  {
   "cell_type": "code",
   "execution_count": 154,
   "id": "a7bbdc1e",
   "metadata": {},
   "outputs": [
    {
     "data": {
      "text/plain": [
       "       a              Comp             Circ           DCirc       \n",
       " Min.   :  1.0   Min.   : 73.00   Min.   :33.00   Min.   : 40.00  \n",
       " 1st Qu.:212.2   1st Qu.: 87.00   1st Qu.:40.00   1st Qu.: 70.00  \n",
       " Median :423.5   Median : 93.00   Median :44.00   Median : 80.00  \n",
       " Mean   :423.5   Mean   : 93.68   Mean   :44.86   Mean   : 82.09  \n",
       " 3rd Qu.:634.8   3rd Qu.:100.00   3rd Qu.:49.00   3rd Qu.: 98.00  \n",
       " Max.   :846.0   Max.   :119.00   Max.   :59.00   Max.   :112.00  \n",
       "     RadRa          PrAxisRa          MaxLRa           ScatRa     \n",
       " Min.   :104.0   Min.   : 47.00   Min.   : 2.000   Min.   :112.0  \n",
       " 1st Qu.:141.0   1st Qu.: 57.00   1st Qu.: 7.000   1st Qu.:146.2  \n",
       " Median :167.0   Median : 61.00   Median : 8.000   Median :157.0  \n",
       " Mean   :168.9   Mean   : 61.69   Mean   : 8.567   Mean   :168.8  \n",
       " 3rd Qu.:195.0   3rd Qu.: 65.00   3rd Qu.:10.000   3rd Qu.:198.0  \n",
       " Max.   :333.0   Max.   :138.00   Max.   :55.000   Max.   :265.0  \n",
       "     Elong         PrAxisRect       MaxLRect     ScVarMaxis      ScVarmaxis    \n",
       " Min.   :26.00   Min.   :17.00   Min.   :118   Min.   :130.0   Min.   : 184.0  \n",
       " 1st Qu.:33.00   1st Qu.:19.00   1st Qu.:137   1st Qu.:167.0   1st Qu.: 318.2  \n",
       " Median :43.00   Median :20.00   Median :146   Median :178.5   Median : 364.0  \n",
       " Mean   :40.93   Mean   :20.58   Mean   :148   Mean   :188.6   Mean   : 439.9  \n",
       " 3rd Qu.:46.00   3rd Qu.:23.00   3rd Qu.:159   3rd Qu.:217.0   3rd Qu.: 587.0  \n",
       " Max.   :61.00   Max.   :29.00   Max.   :188   Max.   :320.0   Max.   :1018.0  \n",
       "     RaGyr         SkewMaxis        Skewmaxis        Kurtmaxis   \n",
       " Min.   :109.0   Min.   : 59.00   Min.   : 0.000   Min.   : 0.0  \n",
       " 1st Qu.:149.0   1st Qu.: 67.00   1st Qu.: 2.000   1st Qu.: 5.0  \n",
       " Median :173.0   Median : 71.50   Median : 6.000   Median :11.0  \n",
       " Mean   :174.7   Mean   : 72.46   Mean   : 6.377   Mean   :12.6  \n",
       " 3rd Qu.:198.0   3rd Qu.: 75.00   3rd Qu.: 9.000   3rd Qu.:19.0  \n",
       " Max.   :268.0   Max.   :135.00   Max.   :22.000   Max.   :41.0  \n",
       "   KurtMaxis         HollRa        tipo    \n",
       " Min.   :176.0   Min.   :181.0   bus :218  \n",
       " 1st Qu.:184.0   1st Qu.:190.2   opel:212  \n",
       " Median :188.0   Median :197.0   saab:217  \n",
       " Mean   :188.9   Mean   :195.6   van :199  \n",
       " 3rd Qu.:193.0   3rd Qu.:201.0             \n",
       " Max.   :206.0   Max.   :211.0             "
      ]
     },
     "metadata": {},
     "output_type": "display_data"
    }
   ],
   "source": [
    "summary(veiculos.dados)"
   ]
  },
  {
   "cell_type": "code",
   "execution_count": 155,
   "id": "1986334a",
   "metadata": {},
   "outputs": [],
   "source": [
    "veiculos.dados$a <- NULL"
   ]
  },
  {
   "cell_type": "code",
   "execution_count": 156,
   "id": "8b17d50b",
   "metadata": {
    "scrolled": true
   },
   "outputs": [
    {
     "data": {
      "text/html": [
       "<table>\n",
       "<thead><tr><th scope=col>Comp</th><th scope=col>Circ</th><th scope=col>DCirc</th><th scope=col>RadRa</th><th scope=col>PrAxisRa</th><th scope=col>MaxLRa</th><th scope=col>ScatRa</th><th scope=col>Elong</th><th scope=col>PrAxisRect</th><th scope=col>MaxLRect</th><th scope=col>ScVarMaxis</th><th scope=col>ScVarmaxis</th><th scope=col>RaGyr</th><th scope=col>SkewMaxis</th><th scope=col>Skewmaxis</th><th scope=col>Kurtmaxis</th><th scope=col>KurtMaxis</th><th scope=col>HollRa</th><th scope=col>tipo</th></tr></thead>\n",
       "<tbody>\n",
       "\t<tr><td> 95 </td><td>48  </td><td> 83 </td><td>178 </td><td> 72 </td><td>10  </td><td>162 </td><td>42  </td><td>20  </td><td>159 </td><td>176 </td><td>379 </td><td>184 </td><td> 70 </td><td> 6  </td><td>16  </td><td>187 </td><td>197 </td><td>van </td></tr>\n",
       "\t<tr><td> 91 </td><td>41  </td><td> 84 </td><td>141 </td><td> 57 </td><td> 9  </td><td>149 </td><td>45  </td><td>19  </td><td>143 </td><td>170 </td><td>330 </td><td>158 </td><td> 72 </td><td> 9  </td><td>14  </td><td>189 </td><td>199 </td><td>van </td></tr>\n",
       "\t<tr><td>104 </td><td>50  </td><td>106 </td><td>209 </td><td> 66 </td><td>10  </td><td>207 </td><td>32  </td><td>23  </td><td>158 </td><td>223 </td><td>635 </td><td>220 </td><td> 73 </td><td>14  </td><td> 9  </td><td>188 </td><td>196 </td><td>saab</td></tr>\n",
       "\t<tr><td> 93 </td><td>41  </td><td> 82 </td><td>159 </td><td> 63 </td><td> 9  </td><td>144 </td><td>46  </td><td>19  </td><td>143 </td><td>160 </td><td>309 </td><td>127 </td><td> 63 </td><td> 6  </td><td>10  </td><td>199 </td><td>207 </td><td>van </td></tr>\n",
       "\t<tr><td> 85 </td><td>44  </td><td> 70 </td><td>205 </td><td>103 </td><td>52  </td><td>149 </td><td>45  </td><td>19  </td><td>144 </td><td>241 </td><td>325 </td><td>188 </td><td>127 </td><td> 9  </td><td>11  </td><td>180 </td><td>183 </td><td>bus </td></tr>\n",
       "\t<tr><td>107 </td><td>57  </td><td>106 </td><td>172 </td><td> 50 </td><td> 6  </td><td>255 </td><td>26  </td><td>28  </td><td>169 </td><td>280 </td><td>957 </td><td>264 </td><td> 85 </td><td> 5  </td><td> 9  </td><td>181 </td><td>183 </td><td>bus </td></tr>\n",
       "</tbody>\n",
       "</table>\n"
      ],
      "text/latex": [
       "\\begin{tabular}{r|lllllllllllllllllll}\n",
       " Comp & Circ & DCirc & RadRa & PrAxisRa & MaxLRa & ScatRa & Elong & PrAxisRect & MaxLRect & ScVarMaxis & ScVarmaxis & RaGyr & SkewMaxis & Skewmaxis & Kurtmaxis & KurtMaxis & HollRa & tipo\\\\\n",
       "\\hline\n",
       "\t  95  & 48   &  83  & 178  &  72  & 10   & 162  & 42   & 20   & 159  & 176  & 379  & 184  &  70  &  6   & 16   & 187  & 197  & van \\\\\n",
       "\t  91  & 41   &  84  & 141  &  57  &  9   & 149  & 45   & 19   & 143  & 170  & 330  & 158  &  72  &  9   & 14   & 189  & 199  & van \\\\\n",
       "\t 104  & 50   & 106  & 209  &  66  & 10   & 207  & 32   & 23   & 158  & 223  & 635  & 220  &  73  & 14   &  9   & 188  & 196  & saab\\\\\n",
       "\t  93  & 41   &  82  & 159  &  63  &  9   & 144  & 46   & 19   & 143  & 160  & 309  & 127  &  63  &  6   & 10   & 199  & 207  & van \\\\\n",
       "\t  85  & 44   &  70  & 205  & 103  & 52   & 149  & 45   & 19   & 144  & 241  & 325  & 188  & 127  &  9   & 11   & 180  & 183  & bus \\\\\n",
       "\t 107  & 57   & 106  & 172  &  50  &  6   & 255  & 26   & 28   & 169  & 280  & 957  & 264  &  85  &  5   &  9   & 181  & 183  & bus \\\\\n",
       "\\end{tabular}\n"
      ],
      "text/markdown": [
       "\n",
       "| Comp | Circ | DCirc | RadRa | PrAxisRa | MaxLRa | ScatRa | Elong | PrAxisRect | MaxLRect | ScVarMaxis | ScVarmaxis | RaGyr | SkewMaxis | Skewmaxis | Kurtmaxis | KurtMaxis | HollRa | tipo |\n",
       "|---|---|---|---|---|---|---|---|---|---|---|---|---|---|---|---|---|---|---|\n",
       "|  95  | 48   |  83  | 178  |  72  | 10   | 162  | 42   | 20   | 159  | 176  | 379  | 184  |  70  |  6   | 16   | 187  | 197  | van  |\n",
       "|  91  | 41   |  84  | 141  |  57  |  9   | 149  | 45   | 19   | 143  | 170  | 330  | 158  |  72  |  9   | 14   | 189  | 199  | van  |\n",
       "| 104  | 50   | 106  | 209  |  66  | 10   | 207  | 32   | 23   | 158  | 223  | 635  | 220  |  73  | 14   |  9   | 188  | 196  | saab |\n",
       "|  93  | 41   |  82  | 159  |  63  |  9   | 144  | 46   | 19   | 143  | 160  | 309  | 127  |  63  |  6   | 10   | 199  | 207  | van  |\n",
       "|  85  | 44   |  70  | 205  | 103  | 52   | 149  | 45   | 19   | 144  | 241  | 325  | 188  | 127  |  9   | 11   | 180  | 183  | bus  |\n",
       "| 107  | 57   | 106  | 172  |  50  |  6   | 255  | 26   | 28   | 169  | 280  | 957  | 264  |  85  |  5   |  9   | 181  | 183  | bus  |\n",
       "\n"
      ],
      "text/plain": [
       "  Comp Circ DCirc RadRa PrAxisRa MaxLRa ScatRa Elong PrAxisRect MaxLRect\n",
       "1  95  48    83   178    72      10     162    42    20         159     \n",
       "2  91  41    84   141    57       9     149    45    19         143     \n",
       "3 104  50   106   209    66      10     207    32    23         158     \n",
       "4  93  41    82   159    63       9     144    46    19         143     \n",
       "5  85  44    70   205   103      52     149    45    19         144     \n",
       "6 107  57   106   172    50       6     255    26    28         169     \n",
       "  ScVarMaxis ScVarmaxis RaGyr SkewMaxis Skewmaxis Kurtmaxis KurtMaxis HollRa\n",
       "1 176        379        184    70        6        16        187       197   \n",
       "2 170        330        158    72        9        14        189       199   \n",
       "3 223        635        220    73       14         9        188       196   \n",
       "4 160        309        127    63        6        10        199       207   \n",
       "5 241        325        188   127        9        11        180       183   \n",
       "6 280        957        264    85        5         9        181       183   \n",
       "  tipo\n",
       "1 van \n",
       "2 van \n",
       "3 saab\n",
       "4 van \n",
       "5 bus \n",
       "6 bus "
      ]
     },
     "metadata": {},
     "output_type": "display_data"
    }
   ],
   "source": [
    "head(veiculos.dados)"
   ]
  },
  {
   "cell_type": "code",
   "execution_count": 157,
   "id": "3cd38f9f",
   "metadata": {},
   "outputs": [],
   "source": [
    "# Separa entre treino e teste\n",
    "\n",
    "set.seed(seed_universal)\n",
    "indices <- createDataPartition(veiculos.dados$tipo, p = 0.8, list = FALSE)\n",
    "treino <- veiculos.dados[indices,]\n",
    "teste <- veiculos.dados[-indices,]"
   ]
  },
  {
   "cell_type": "markdown",
   "id": "cf8157fc",
   "metadata": {},
   "source": [
    "### Redes Neurais"
   ]
  },
  {
   "cell_type": "markdown",
   "id": "76ff7aa3",
   "metadata": {},
   "source": [
    "#### Hold out"
   ]
  },
  {
   "cell_type": "code",
   "execution_count": 62,
   "id": "8f6b5aa4",
   "metadata": {},
   "outputs": [
    {
     "data": {
      "text/plain": [
       "Neural Network \n",
       "\n",
       "679 samples\n",
       " 18 predictor\n",
       "  4 classes: 'bus', 'opel', 'saab', 'van' \n",
       "\n",
       "No pre-processing\n",
       "Resampling: Bootstrapped (25 reps) \n",
       "Summary of sample sizes: 679, 679, 679, 679, 679, 679, ... \n",
       "Resampling results across tuning parameters:\n",
       "\n",
       "  size  decay  Accuracy   Kappa     \n",
       "  1     0e+00  0.2556064  0.02905632\n",
       "  1     1e-04  0.2421816  0.01184603\n",
       "  1     1e-01  0.4271395  0.24999845\n",
       "  3     0e+00  0.2723895  0.05084082\n",
       "  3     1e-04  0.2952822  0.07947773\n",
       "  3     1e-01  0.5453347  0.39900893\n",
       "  5     0e+00  0.3715668  0.17728169\n",
       "  5     1e-04  0.2912832  0.07331797\n",
       "  5     1e-01  0.5628079  0.42137699\n",
       "\n",
       "Accuracy was used to select the optimal model using the largest value.\n",
       "The final values used for the model were size = 5 and decay = 0.1."
      ]
     },
     "metadata": {},
     "output_type": "display_data"
    }
   ],
   "source": [
    "set.seed(seed_universal)\n",
    "rna <- train(tipo ~ ., data = treino, method = 'nnet', trace = FALSE)\n",
    "rna"
   ]
  },
  {
   "cell_type": "code",
   "execution_count": 63,
   "id": "556bfdfe",
   "metadata": {},
   "outputs": [],
   "source": [
    "predicoes.rna <- predict(rna, teste)"
   ]
  },
  {
   "cell_type": "code",
   "execution_count": 64,
   "id": "7452517c",
   "metadata": {},
   "outputs": [
    {
     "data": {
      "text/plain": [
       "Confusion Matrix and Statistics\n",
       "\n",
       "          Reference\n",
       "Prediction bus opel saab van\n",
       "      bus   29    3    7   0\n",
       "      opel   0    0    0   0\n",
       "      saab   7   37   35   1\n",
       "      van    7    2    1  38\n",
       "\n",
       "Overall Statistics\n",
       "                                          \n",
       "               Accuracy : 0.6108          \n",
       "                 95% CI : (0.5324, 0.6851)\n",
       "    No Information Rate : 0.2575          \n",
       "    P-Value [Acc > NIR] : < 2.2e-16       \n",
       "                                          \n",
       "                  Kappa : 0.4806          \n",
       "                                          \n",
       " Mcnemar's Test P-Value : 7.456e-09       \n",
       "\n",
       "Statistics by Class:\n",
       "\n",
       "                     Class: bus Class: opel Class: saab Class: van\n",
       "Sensitivity              0.6744      0.0000      0.8140     0.9744\n",
       "Specificity              0.9194      1.0000      0.6371     0.9219\n",
       "Pos Pred Value           0.7436         NaN      0.4375     0.7917\n",
       "Neg Pred Value           0.8906      0.7485      0.9080     0.9916\n",
       "Prevalence               0.2575      0.2515      0.2575     0.2335\n",
       "Detection Rate           0.1737      0.0000      0.2096     0.2275\n",
       "Detection Prevalence     0.2335      0.0000      0.4790     0.2874\n",
       "Balanced Accuracy        0.7969      0.5000      0.7255     0.9481"
      ]
     },
     "metadata": {},
     "output_type": "display_data"
    }
   ],
   "source": [
    "confusionMatrix(predicoes.rna, as.factor(teste$tipo))"
   ]
  },
  {
   "cell_type": "markdown",
   "id": "4ecc988c",
   "metadata": {},
   "source": [
    "#### Cross validation"
   ]
  },
  {
   "cell_type": "code",
   "execution_count": 65,
   "id": "614de0a0",
   "metadata": {},
   "outputs": [],
   "source": [
    "set.seed(seed_universal)\n",
    "ctrl <- trainControl(method = 'cv', number = 10)"
   ]
  },
  {
   "cell_type": "code",
   "execution_count": 66,
   "id": "7ae3585d",
   "metadata": {},
   "outputs": [
    {
     "data": {
      "text/plain": [
       "Neural Network \n",
       "\n",
       "679 samples\n",
       " 18 predictor\n",
       "  4 classes: 'bus', 'opel', 'saab', 'van' \n",
       "\n",
       "No pre-processing\n",
       "Resampling: Cross-Validated (10 fold) \n",
       "Summary of sample sizes: 612, 611, 611, 611, 611, 610, ... \n",
       "Resampling results across tuning parameters:\n",
       "\n",
       "  size  decay  Accuracy   Kappa     \n",
       "  1     0e+00  0.2845049  0.03738740\n",
       "  1     1e-04  0.2771739  0.02949643\n",
       "  1     1e-01  0.4459381  0.26310192\n",
       "  3     0e+00  0.2830789  0.03738993\n",
       "  3     1e-04  0.3621690  0.14475717\n",
       "  3     1e-01  0.5738914  0.43195317\n",
       "  5     0e+00  0.4641244  0.28324896\n",
       "  5     1e-04  0.3566607  0.13885904\n",
       "  5     1e-01  0.6357722  0.51415590\n",
       "\n",
       "Accuracy was used to select the optimal model using the largest value.\n",
       "The final values used for the model were size = 5 and decay = 0.1."
      ]
     },
     "metadata": {},
     "output_type": "display_data"
    }
   ],
   "source": [
    "set.seed(seed_universal)\n",
    "rna <- train(tipo ~ ., data = treino, method = 'nnet', trace = FALSE, trControl = ctrl)\n",
    "rna"
   ]
  },
  {
   "cell_type": "code",
   "execution_count": 67,
   "id": "d7f9e39f",
   "metadata": {},
   "outputs": [],
   "source": [
    "predicoes.rna <- predict(rna, teste)"
   ]
  },
  {
   "cell_type": "code",
   "execution_count": 68,
   "id": "c593062e",
   "metadata": {},
   "outputs": [
    {
     "data": {
      "text/plain": [
       "Confusion Matrix and Statistics\n",
       "\n",
       "          Reference\n",
       "Prediction bus opel saab van\n",
       "      bus   32    0    2  13\n",
       "      opel   0    4    4   0\n",
       "      saab   9   36   33   0\n",
       "      van    2    2    4  26\n",
       "\n",
       "Overall Statistics\n",
       "                                          \n",
       "               Accuracy : 0.5689          \n",
       "                 95% CI : (0.4901, 0.6451)\n",
       "    No Information Rate : 0.2575          \n",
       "    P-Value [Acc > NIR] : < 2.2e-16       \n",
       "                                          \n",
       "                  Kappa : 0.4234          \n",
       "                                          \n",
       " Mcnemar's Test P-Value : NA              \n",
       "\n",
       "Statistics by Class:\n",
       "\n",
       "                     Class: bus Class: opel Class: saab Class: van\n",
       "Sensitivity              0.7442     0.09524      0.7674     0.6667\n",
       "Specificity              0.8790     0.96800      0.6371     0.9375\n",
       "Pos Pred Value           0.6809     0.50000      0.4231     0.7647\n",
       "Neg Pred Value           0.9083     0.76101      0.8876     0.9023\n",
       "Prevalence               0.2575     0.25150      0.2575     0.2335\n",
       "Detection Rate           0.1916     0.02395      0.1976     0.1557\n",
       "Detection Prevalence     0.2814     0.04790      0.4671     0.2036\n",
       "Balanced Accuracy        0.8116     0.53162      0.7023     0.8021"
      ]
     },
     "metadata": {},
     "output_type": "display_data"
    }
   ],
   "source": [
    "confusionMatrix(predicoes.rna, as.factor(teste$tipo))"
   ]
  },
  {
   "cell_type": "markdown",
   "id": "e5dbb237",
   "metadata": {},
   "source": [
    "#### Grid"
   ]
  },
  {
   "cell_type": "code",
   "execution_count": 69,
   "id": "bc619190",
   "metadata": {},
   "outputs": [],
   "source": [
    "set.seed(seed_universal)\n",
    "ctrl <- trainControl(method = 'cv', number = 10)\n",
    "grid <- expand.grid(size = seq(from = 1, to = 20, by = 1), decay = seq(from = 0.1, to = 0.9, by = 0.1))"
   ]
  },
  {
   "cell_type": "code",
   "execution_count": 70,
   "id": "e71694a7",
   "metadata": {},
   "outputs": [
    {
     "data": {
      "text/plain": [
       "Neural Network \n",
       "\n",
       "679 samples\n",
       " 18 predictor\n",
       "  4 classes: 'bus', 'opel', 'saab', 'van' \n",
       "\n",
       "No pre-processing\n",
       "Resampling: Cross-Validated (10 fold) \n",
       "Summary of sample sizes: 612, 611, 611, 611, 611, 610, ... \n",
       "Resampling results across tuning parameters:\n",
       "\n",
       "  size  decay  Accuracy   Kappa    \n",
       "   1    0.1    0.4955141  0.3255716\n",
       "   1    0.2    0.4936787  0.3214073\n",
       "   1    0.3    0.5089867  0.3413993\n",
       "   1    0.4    0.5523536  0.4025164\n",
       "   1    0.5    0.5184585  0.3560281\n",
       "   1    0.6    0.5392030  0.3843746\n",
       "   1    0.7    0.5523950  0.4005104\n",
       "   1    0.8    0.5243434  0.3638023\n",
       "   1    0.9    0.5230672  0.3619274\n",
       "   2    0.1    0.7127947  0.6165796\n",
       "   2    0.2    0.7304431  0.6398160\n",
       "   2    0.3    0.7246246  0.6320257\n",
       "   2    0.4    0.7202342  0.6260461\n",
       "   2    0.5    0.7155823  0.6202173\n",
       "   2    0.6    0.7320673  0.6425441\n",
       "   2    0.7    0.7217048  0.6282929\n",
       "   2    0.8    0.7029081  0.6029649\n",
       "   2    0.9    0.7246027  0.6318869\n",
       "   3    0.1    0.7878895  0.7168167\n",
       "   3    0.2    0.7702606  0.6936427\n",
       "   3    0.3    0.7809240  0.7080808\n",
       "   3    0.4    0.8026819  0.7367242\n",
       "   3    0.5    0.8014496  0.7352890\n",
       "   3    0.6    0.8087812  0.7447636\n",
       "   3    0.7    0.7792823  0.7054873\n",
       "   3    0.8    0.7893582  0.7188996\n",
       "   3    0.9    0.7674034  0.6895342\n",
       "   4    0.1    0.7867004  0.7155465\n",
       "   4    0.2    0.8013631  0.7351195\n",
       "   4    0.3    0.7953936  0.7269825\n",
       "   4    0.4    0.7983993  0.7309700\n",
       "   4    0.5    0.8070297  0.7426048\n",
       "   4    0.6    0.8099929  0.7465638\n",
       "   4    0.7    0.8042390  0.7389989\n",
       "   4    0.8    0.8073100  0.7429946\n",
       "   4    0.9    0.8275560  0.7699943\n",
       "   5    0.1    0.7924963  0.7231673\n",
       "   5    0.2    0.8069871  0.7425140\n",
       "   5    0.3    0.8219984  0.7625036\n",
       "   5    0.4    0.8438641  0.7916770\n",
       "   5    0.5    0.8084803  0.7445463\n",
       "   5    0.6    0.8188158  0.7583444\n",
       "   5    0.7    0.8189048  0.7584013\n",
       "   5    0.8    0.8189048  0.7583866\n",
       "   5    0.9    0.8160489  0.7547068\n",
       "   6    0.1    0.7937073  0.7248624\n",
       "   6    0.2    0.8025948  0.7367391\n",
       "   6    0.3    0.8248737  0.7664388\n",
       "   6    0.4    0.7937493  0.7248396\n",
       "   6    0.5    0.8160282  0.7545987\n",
       "   6    0.6    0.8308645  0.7743220\n",
       "   6    0.7    0.8144912  0.7526263\n",
       "   6    0.8    0.8338283  0.7783926\n",
       "   6    0.9    0.8262785  0.7683515\n",
       "   7    0.1    0.8099070  0.7464457\n",
       "   7    0.2    0.7879321  0.7171428\n",
       "   7    0.3    0.8039814  0.7384287\n",
       "   7    0.4    0.8321840  0.7762651\n",
       "   7    0.5    0.8143394  0.7523316\n",
       "   7    0.6    0.8217795  0.7622635\n",
       "   7    0.7    0.8277716  0.7702453\n",
       "   7    0.8    0.8291131  0.7720484\n",
       "   7    0.9    0.8233386  0.7643118\n",
       "   8    0.1    0.8041105  0.7387032\n",
       "   8    0.2    0.8275127  0.7698686\n",
       "   8    0.3    0.8188183  0.7582962\n",
       "   8    0.4    0.8101653  0.7467051\n",
       "   8    0.5    0.8145351  0.7525726\n",
       "   8    0.6    0.8144918  0.7525548\n",
       "   8    0.7    0.8261274  0.7680496\n",
       "   8    0.8    0.8205039  0.7606148\n",
       "   8    0.9    0.8116359  0.7488174\n",
       "   9    0.1    0.7966478  0.7287269\n",
       "   9    0.2    0.8010163  0.7345339\n",
       "   9    0.3    0.8000655  0.7332633\n",
       "   9    0.4    0.8263663  0.7683675\n",
       "   9    0.5    0.8247233  0.7662392\n",
       "   9    0.6    0.8131297  0.7507725\n",
       "   9    0.7    0.8277090  0.7702355\n",
       "   9    0.8    0.8232953  0.7643982\n",
       "   9    0.9    0.8263876  0.7684047\n",
       "  10    0.1    0.7938810  0.7249678\n",
       "  10    0.2    0.8085655  0.7446535\n",
       "  10    0.3    0.8204193  0.7604566\n",
       "  10    0.4    0.8231210  0.7640487\n",
       "  10    0.5    0.8263230  0.7682899\n",
       "  10    0.6    0.8322499  0.7762822\n",
       "  10    0.7    0.8159179  0.7544655\n",
       "  10    0.8    0.8322712  0.7763233\n",
       "  10    0.9    0.8247866  0.7663566\n",
       "  11    0.1    0.7909392  0.7212269\n",
       "  11    0.2    0.8100819  0.7466176\n",
       "  11    0.3    0.8248524  0.7663866\n",
       "  11    0.4    0.8161574  0.7547561\n",
       "  11    0.5    0.8247220  0.7661331\n",
       "  11    0.6    0.8173897  0.7565004\n",
       "  11    0.7    0.8335035  0.7778954\n",
       "  11    0.8    0.8323151  0.7762809\n",
       "  11    0.9    0.8130632  0.7506348\n",
       "  12    0.1    0.8189901  0.7585086\n",
       "  12    0.2    0.8073558  0.7431139\n",
       "  12    0.3    0.7968667  0.7289844\n",
       "  12    0.4    0.7998492  0.7329772\n",
       "  12    0.5    0.8278155  0.7703771\n",
       "  12    0.6    0.8248098  0.7662195\n",
       "  12    0.7    0.8217582  0.7622570\n",
       "  12    0.8    0.8144699  0.7525181\n",
       "  12    0.9    0.8321408  0.7760878\n",
       "  13    0.1    0.8026845  0.7366820\n",
       "  13    0.2    0.8025101  0.7366142\n",
       "  13    0.3    0.8279020  0.7704022\n",
       "  13    0.4    0.8085022  0.7445388\n",
       "  13    0.5    0.8087166  0.7448305\n",
       "  13    0.6    0.8129560  0.7504658\n",
       "  13    0.7    0.8116384  0.7487310\n",
       "  13    0.8    0.8190559  0.7585924\n",
       "  13    0.9    0.8365338  0.7819575\n",
       "  14    0.1    0.8232746  0.7641911\n",
       "  14    0.2    0.7969733  0.7291476\n",
       "  14    0.3    0.8159185  0.7543873\n",
       "  14    0.4    0.8203522  0.7603855\n",
       "  14    0.5    0.8232081  0.7642109\n",
       "  14    0.6    0.8203967  0.7604187\n",
       "  14    0.7    0.8394097  0.7858135\n",
       "  14    0.8    0.8352976  0.7803191\n",
       "  14    0.9    0.8113111  0.7483322\n",
       "  15    0.1    0.8141871  0.7521013\n",
       "  15    0.2    0.8040654  0.7386769\n",
       "  15    0.3    0.8203541  0.7603848\n",
       "  15    0.4    0.8234658  0.7645324\n",
       "  15    0.5    0.8306683  0.7740775\n",
       "  15    0.6    0.8069865  0.7425695\n",
       "  15    0.7    0.8145783  0.7526881\n",
       "  15    0.8    0.8293068  0.7723198\n",
       "  15    0.9    0.8336120  0.7780367\n",
       "  16    0.1    0.8055817  0.7406651\n",
       "  16    0.2    0.8247665  0.7662448\n",
       "  16    0.3    0.8129127  0.7504996\n",
       "  16    0.4    0.8306695  0.7741536\n",
       "  16    0.5    0.8219338  0.7625077\n",
       "  16    0.6    0.8322912  0.7762546\n",
       "  16    0.7    0.8367688  0.7822575\n",
       "  16    0.8    0.8204619  0.7605447\n",
       "  16    0.9    0.8233573  0.7643823\n",
       "  17    0.1    0.8142768  0.7522525\n",
       "  17    0.2    0.8321621  0.7761661\n",
       "  17    0.3    0.8098857  0.7463820\n",
       "  17    0.4    0.8172819  0.7562027\n",
       "  17    0.5    0.8174355  0.7564877\n",
       "  17    0.6    0.8232947  0.7642147\n",
       "  17    0.7    0.8277484  0.7701661\n",
       "  17    0.8    0.8322279  0.7761869\n",
       "  17    0.9    0.8290918  0.7720734\n",
       "  18    0.1    0.8099064  0.7464489\n",
       "  18    0.2    0.8233812  0.7644631\n",
       "  18    0.3    0.8234451  0.7644926\n",
       "  18    0.4    0.8247213  0.7661743\n",
       "  18    0.5    0.8249370  0.7664000\n",
       "  18    0.6    0.8231862  0.7641768\n",
       "  18    0.7    0.8234683  0.7645416\n",
       "  18    0.8    0.8219093  0.7624235\n",
       "  18    0.9    0.8263017  0.7682315\n",
       "  19    0.1    0.8084564  0.7445175\n",
       "  19    0.2    0.8247446  0.7661832\n",
       "  19    0.3    0.8291789  0.7721198\n",
       "  19    0.4    0.8188164  0.7583199\n",
       "  19    0.5    0.8247853  0.7662000\n",
       "  19    0.6    0.8203742  0.7604320\n",
       "  19    0.7    0.8202670  0.7601862\n",
       "  19    0.8    0.8204852  0.7605240\n",
       "  19    0.9    0.8203742  0.7603223\n",
       "  20    0.1    0.8130657  0.7505864\n",
       "  20    0.2    0.8028130  0.7368523\n",
       "  20    0.3    0.8278162  0.7702832\n",
       "  20    0.4    0.8159411  0.7544764\n",
       "  20    0.5    0.8202024  0.7601349\n",
       "  20    0.6    0.8128889  0.7503594\n",
       "  20    0.7    0.8160282  0.7546033\n",
       "  20    0.8    0.8234432  0.7644777\n",
       "  20    0.9    0.8276632  0.7701172\n",
       "\n",
       "Accuracy was used to select the optimal model using the largest value.\n",
       "The final values used for the model were size = 5 and decay = 0.4."
      ]
     },
     "metadata": {},
     "output_type": "display_data"
    }
   ],
   "source": [
    "set.seed(seed_universal)\n",
    "rna <- train(form = tipo ~ .,data = treino, method = 'nnet',\n",
    "             tuneGrid = grid, trControl = ctrl, MaxNWts = 10000, maxit = 2000, trace = FALSE)\n",
    "rna"
   ]
  },
  {
   "cell_type": "code",
   "execution_count": 71,
   "id": "361fd3fa",
   "metadata": {},
   "outputs": [],
   "source": [
    "predicoes.rna <- predict(rna, teste)"
   ]
  },
  {
   "cell_type": "code",
   "execution_count": 72,
   "id": "240a58dc",
   "metadata": {
    "scrolled": false
   },
   "outputs": [
    {
     "data": {
      "text/plain": [
       "Confusion Matrix and Statistics\n",
       "\n",
       "          Reference\n",
       "Prediction bus opel saab van\n",
       "      bus   40    2    4   3\n",
       "      opel   2   25   10   0\n",
       "      saab   0   13   29   1\n",
       "      van    1    2    0  35\n",
       "\n",
       "Overall Statistics\n",
       "                                          \n",
       "               Accuracy : 0.7725          \n",
       "                 95% CI : (0.7013, 0.8337)\n",
       "    No Information Rate : 0.2575          \n",
       "    P-Value [Acc > NIR] : <2e-16          \n",
       "                                          \n",
       "                  Kappa : 0.6963          \n",
       "                                          \n",
       " Mcnemar's Test P-Value : 0.2108          \n",
       "\n",
       "Statistics by Class:\n",
       "\n",
       "                     Class: bus Class: opel Class: saab Class: van\n",
       "Sensitivity              0.9302      0.5952      0.6744     0.8974\n",
       "Specificity              0.9274      0.9040      0.8871     0.9766\n",
       "Pos Pred Value           0.8163      0.6757      0.6744     0.9211\n",
       "Neg Pred Value           0.9746      0.8692      0.8871     0.9690\n",
       "Prevalence               0.2575      0.2515      0.2575     0.2335\n",
       "Detection Rate           0.2395      0.1497      0.1737     0.2096\n",
       "Detection Prevalence     0.2934      0.2216      0.2575     0.2275\n",
       "Balanced Accuracy        0.9288      0.7496      0.7808     0.9370"
      ]
     },
     "metadata": {},
     "output_type": "display_data"
    }
   ],
   "source": [
    "confusionMatrix(predicoes.rna, as.factor(teste$tipo))"
   ]
  },
  {
   "cell_type": "markdown",
   "id": "45377a72",
   "metadata": {},
   "source": [
    "### KNN"
   ]
  },
  {
   "cell_type": "code",
   "execution_count": 158,
   "id": "7d5aa823",
   "metadata": {},
   "outputs": [],
   "source": [
    "tuneGrid <- expand.grid(k = c(1, 3, 5, 7, 9, 11, 13, 15, 17, 19, 21))"
   ]
  },
  {
   "cell_type": "code",
   "execution_count": 159,
   "id": "808a887b",
   "metadata": {},
   "outputs": [
    {
     "data": {
      "text/plain": [
       "k-Nearest Neighbors \n",
       "\n",
       "679 samples\n",
       " 18 predictor\n",
       "  4 classes: 'bus', 'opel', 'saab', 'van' \n",
       "\n",
       "No pre-processing\n",
       "Resampling: Bootstrapped (25 reps) \n",
       "Summary of sample sizes: 679, 679, 679, 679, 679, 679, ... \n",
       "Resampling results across tuning parameters:\n",
       "\n",
       "  k   Accuracy   Kappa    \n",
       "   1  0.6219105  0.4954732\n",
       "   3  0.6014193  0.4680911\n",
       "   5  0.6080492  0.4774091\n",
       "   7  0.6045153  0.4726698\n",
       "   9  0.5994078  0.4660012\n",
       "  11  0.5935021  0.4583123\n",
       "  13  0.5934363  0.4584592\n",
       "  15  0.5867011  0.4496481\n",
       "  17  0.5830713  0.4449385\n",
       "  19  0.5836042  0.4455362\n",
       "  21  0.5786242  0.4391090\n",
       "\n",
       "Accuracy was used to select the optimal model using the largest value.\n",
       "The final value used for the model was k = 1."
      ]
     },
     "metadata": {},
     "output_type": "display_data"
    }
   ],
   "source": [
    "set.seed(seed_universal)\n",
    "knn <- train(tipo ~ ., data = treino, method = 'knn', tuneGrid = tuneGrid)\n",
    "knn"
   ]
  },
  {
   "cell_type": "code",
   "execution_count": 160,
   "id": "ebd571db",
   "metadata": {},
   "outputs": [
    {
     "data": {
      "text/plain": [
       "Confusion Matrix and Statistics\n",
       "\n",
       "          Reference\n",
       "Prediction bus opel saab van\n",
       "      bus   36    2    5   4\n",
       "      opel   2   19   15   1\n",
       "      saab   2   17   22   1\n",
       "      van    3    4    1  33\n",
       "\n",
       "Overall Statistics\n",
       "                                          \n",
       "               Accuracy : 0.6587          \n",
       "                 95% CI : (0.5814, 0.7302)\n",
       "    No Information Rate : 0.2575          \n",
       "    P-Value [Acc > NIR] : <2e-16          \n",
       "                                          \n",
       "                  Kappa : 0.5447          \n",
       "                                          \n",
       " Mcnemar's Test P-Value : 0.7633          \n",
       "\n",
       "Statistics by Class:\n",
       "\n",
       "                     Class: bus Class: opel Class: saab Class: van\n",
       "Sensitivity              0.8372      0.4524      0.5116     0.8462\n",
       "Specificity              0.9113      0.8560      0.8387     0.9375\n",
       "Pos Pred Value           0.7660      0.5135      0.5238     0.8049\n",
       "Neg Pred Value           0.9417      0.8231      0.8320     0.9524\n",
       "Prevalence               0.2575      0.2515      0.2575     0.2335\n",
       "Detection Rate           0.2156      0.1138      0.1317     0.1976\n",
       "Detection Prevalence     0.2814      0.2216      0.2515     0.2455\n",
       "Balanced Accuracy        0.8742      0.6542      0.6752     0.8918"
      ]
     },
     "metadata": {},
     "output_type": "display_data"
    }
   ],
   "source": [
    "predicoes.knn <- predict(knn, teste)\n",
    "confusionMatrix(predicoes.knn, as.factor(teste$tipo))"
   ]
  },
  {
   "cell_type": "markdown",
   "id": "348744c5",
   "metadata": {},
   "source": [
    "----"
   ]
  },
  {
   "cell_type": "markdown",
   "id": "3c509e38",
   "metadata": {},
   "source": [
    "## Previsão do tempo (Classificação)"
   ]
  },
  {
   "cell_type": "code",
   "execution_count": 161,
   "id": "966ea1b6",
   "metadata": {},
   "outputs": [],
   "source": [
    "previsao.dados <- read.csv('bases/previsao_tempo/Material 02 - 6 - C - Previsao do Tempo - Dados.csv')"
   ]
  },
  {
   "cell_type": "code",
   "execution_count": 162,
   "id": "cb6f7138",
   "metadata": {},
   "outputs": [
    {
     "data": {
      "text/plain": [
       "         Ceu      Temperatura   Umidade   Vento    Chovera \n",
       " Chuvoso   :16   Baixa  :16   Alta  :20   Nao:28   NAO:24  \n",
       " Coberto   : 8   Elevada:12   Normal:20   Sim:12   SIM:16  \n",
       " Ensolarado:16   Media  :12                                "
      ]
     },
     "metadata": {},
     "output_type": "display_data"
    }
   ],
   "source": [
    "summary(previsao.dados)"
   ]
  },
  {
   "cell_type": "code",
   "execution_count": 163,
   "id": "122106c2",
   "metadata": {
    "scrolled": true
   },
   "outputs": [
    {
     "data": {
      "text/html": [
       "<table>\n",
       "<thead><tr><th scope=col>Ceu</th><th scope=col>Temperatura</th><th scope=col>Umidade</th><th scope=col>Vento</th><th scope=col>Chovera</th></tr></thead>\n",
       "<tbody>\n",
       "\t<tr><td>Ensolarado</td><td>Elevada   </td><td>Alta      </td><td>Nao       </td><td>SIM       </td></tr>\n",
       "\t<tr><td>Ensolarado</td><td>Elevada   </td><td>Alta      </td><td>Sim       </td><td>SIM       </td></tr>\n",
       "\t<tr><td>Coberto   </td><td>Elevada   </td><td>Alta      </td><td>Nao       </td><td>NAO       </td></tr>\n",
       "\t<tr><td>Chuvoso   </td><td>Media     </td><td>Alta      </td><td>Nao       </td><td>NAO       </td></tr>\n",
       "\t<tr><td>Chuvoso   </td><td>Baixa     </td><td>Normal    </td><td>Nao       </td><td>NAO       </td></tr>\n",
       "\t<tr><td>Chuvoso   </td><td>Baixa     </td><td>Normal    </td><td>Sim       </td><td>SIM       </td></tr>\n",
       "</tbody>\n",
       "</table>\n"
      ],
      "text/latex": [
       "\\begin{tabular}{r|lllll}\n",
       " Ceu & Temperatura & Umidade & Vento & Chovera\\\\\n",
       "\\hline\n",
       "\t Ensolarado & Elevada    & Alta       & Nao        & SIM       \\\\\n",
       "\t Ensolarado & Elevada    & Alta       & Sim        & SIM       \\\\\n",
       "\t Coberto    & Elevada    & Alta       & Nao        & NAO       \\\\\n",
       "\t Chuvoso    & Media      & Alta       & Nao        & NAO       \\\\\n",
       "\t Chuvoso    & Baixa      & Normal     & Nao        & NAO       \\\\\n",
       "\t Chuvoso    & Baixa      & Normal     & Sim        & SIM       \\\\\n",
       "\\end{tabular}\n"
      ],
      "text/markdown": [
       "\n",
       "| Ceu | Temperatura | Umidade | Vento | Chovera |\n",
       "|---|---|---|---|---|\n",
       "| Ensolarado | Elevada    | Alta       | Nao        | SIM        |\n",
       "| Ensolarado | Elevada    | Alta       | Sim        | SIM        |\n",
       "| Coberto    | Elevada    | Alta       | Nao        | NAO        |\n",
       "| Chuvoso    | Media      | Alta       | Nao        | NAO        |\n",
       "| Chuvoso    | Baixa      | Normal     | Nao        | NAO        |\n",
       "| Chuvoso    | Baixa      | Normal     | Sim        | SIM        |\n",
       "\n"
      ],
      "text/plain": [
       "  Ceu        Temperatura Umidade Vento Chovera\n",
       "1 Ensolarado Elevada     Alta    Nao   SIM    \n",
       "2 Ensolarado Elevada     Alta    Sim   SIM    \n",
       "3 Coberto    Elevada     Alta    Nao   NAO    \n",
       "4 Chuvoso    Media       Alta    Nao   NAO    \n",
       "5 Chuvoso    Baixa       Normal  Nao   NAO    \n",
       "6 Chuvoso    Baixa       Normal  Sim   SIM    "
      ]
     },
     "metadata": {},
     "output_type": "display_data"
    }
   ],
   "source": [
    "head(previsao.dados)"
   ]
  },
  {
   "cell_type": "code",
   "execution_count": 164,
   "id": "b7a439fb",
   "metadata": {},
   "outputs": [],
   "source": [
    "# Separa entre treino e teste\n",
    "\n",
    "set.seed(seed_universal)\n",
    "indices <- createDataPartition(previsao.dados$Chovera, p = 0.8, list = FALSE)\n",
    "treino <- previsao.dados[indices,]\n",
    "teste <- previsao.dados[-indices,]"
   ]
  },
  {
   "cell_type": "markdown",
   "id": "95d7a5bb",
   "metadata": {},
   "source": [
    "### Redes Neurais"
   ]
  },
  {
   "cell_type": "markdown",
   "id": "49c79067",
   "metadata": {},
   "source": [
    "#### Hold out"
   ]
  },
  {
   "cell_type": "code",
   "execution_count": 77,
   "id": "3360a89b",
   "metadata": {},
   "outputs": [
    {
     "data": {
      "text/plain": [
       "Neural Network \n",
       "\n",
       "33 samples\n",
       " 4 predictor\n",
       " 2 classes: 'NAO', 'SIM' \n",
       "\n",
       "No pre-processing\n",
       "Resampling: Bootstrapped (25 reps) \n",
       "Summary of sample sizes: 33, 33, 33, 33, 33, 33, ... \n",
       "Resampling results across tuning parameters:\n",
       "\n",
       "  size  decay  Accuracy   Kappa    \n",
       "  1     0e+00  0.9167386  0.8306648\n",
       "  1     1e-04  0.9335744  0.8609592\n",
       "  1     1e-01  0.9171691  0.8329419\n",
       "  3     0e+00  0.9525195  0.9021314\n",
       "  3     1e-04  0.9525195  0.9021314\n",
       "  3     1e-01  0.9251691  0.8477982\n",
       "  5     0e+00  0.9490909  0.8967980\n",
       "  5     1e-04  0.9525195  0.9021314\n",
       "  5     1e-01  0.9171691  0.8329419\n",
       "\n",
       "Accuracy was used to select the optimal model using the largest value.\n",
       "The final values used for the model were size = 3 and decay = 1e-04."
      ]
     },
     "metadata": {},
     "output_type": "display_data"
    }
   ],
   "source": [
    "set.seed(seed_universal)\n",
    "rna <- train(Chovera ~ ., data = treino, method = 'nnet', trace = FALSE)\n",
    "rna"
   ]
  },
  {
   "cell_type": "code",
   "execution_count": 78,
   "id": "f4653873",
   "metadata": {},
   "outputs": [],
   "source": [
    "predicoes.rna <- predict(rna, teste)"
   ]
  },
  {
   "cell_type": "code",
   "execution_count": 79,
   "id": "92bf512f",
   "metadata": {},
   "outputs": [
    {
     "data": {
      "text/plain": [
       "Confusion Matrix and Statistics\n",
       "\n",
       "          Reference\n",
       "Prediction NAO SIM\n",
       "       NAO   4   0\n",
       "       SIM   0   3\n",
       "                                     \n",
       "               Accuracy : 1          \n",
       "                 95% CI : (0.5904, 1)\n",
       "    No Information Rate : 0.5714     \n",
       "    P-Value [Acc > NIR] : 0.01989    \n",
       "                                     \n",
       "                  Kappa : 1          \n",
       "                                     \n",
       " Mcnemar's Test P-Value : NA         \n",
       "                                     \n",
       "            Sensitivity : 1.0000     \n",
       "            Specificity : 1.0000     \n",
       "         Pos Pred Value : 1.0000     \n",
       "         Neg Pred Value : 1.0000     \n",
       "             Prevalence : 0.5714     \n",
       "         Detection Rate : 0.5714     \n",
       "   Detection Prevalence : 0.5714     \n",
       "      Balanced Accuracy : 1.0000     \n",
       "                                     \n",
       "       'Positive' Class : NAO        \n",
       "                                     "
      ]
     },
     "metadata": {},
     "output_type": "display_data"
    }
   ],
   "source": [
    "confusionMatrix(predicoes.rna, as.factor(teste$Chovera))"
   ]
  },
  {
   "cell_type": "markdown",
   "id": "851b9825",
   "metadata": {},
   "source": [
    "#### Cross validation"
   ]
  },
  {
   "cell_type": "code",
   "execution_count": 84,
   "id": "35055eed",
   "metadata": {},
   "outputs": [],
   "source": [
    "set.seed(seed_universal)\n",
    "ctrl <- trainControl(method = 'cv', number = 10)"
   ]
  },
  {
   "cell_type": "code",
   "execution_count": 85,
   "id": "05ea426b",
   "metadata": {},
   "outputs": [
    {
     "data": {
      "text/plain": [
       "Neural Network \n",
       "\n",
       "33 samples\n",
       " 4 predictor\n",
       " 2 classes: 'NAO', 'SIM' \n",
       "\n",
       "No pre-processing\n",
       "Resampling: Cross-Validated (10 fold) \n",
       "Summary of sample sizes: 30, 30, 30, 30, 30, 30, ... \n",
       "Resampling results across tuning parameters:\n",
       "\n",
       "  size  decay  Accuracy  Kappa\n",
       "  1     0e+00  1         1    \n",
       "  1     1e-04  1         1    \n",
       "  1     1e-01  1         1    \n",
       "  3     0e+00  1         1    \n",
       "  3     1e-04  1         1    \n",
       "  3     1e-01  1         1    \n",
       "  5     0e+00  1         1    \n",
       "  5     1e-04  1         1    \n",
       "  5     1e-01  1         1    \n",
       "\n",
       "Accuracy was used to select the optimal model using the largest value.\n",
       "The final values used for the model were size = 1 and decay = 0.1."
      ]
     },
     "metadata": {},
     "output_type": "display_data"
    }
   ],
   "source": [
    "set.seed(seed_universal)\n",
    "rna <- train(Chovera ~ ., data = treino, method = 'nnet', trace = FALSE, trControl = ctrl)\n",
    "rna"
   ]
  },
  {
   "cell_type": "code",
   "execution_count": 86,
   "id": "15581306",
   "metadata": {},
   "outputs": [],
   "source": [
    "predicoes.rna <- predict(rna, teste)"
   ]
  },
  {
   "cell_type": "code",
   "execution_count": 87,
   "id": "9d232f94",
   "metadata": {},
   "outputs": [
    {
     "data": {
      "text/plain": [
       "Confusion Matrix and Statistics\n",
       "\n",
       "          Reference\n",
       "Prediction NAO SIM\n",
       "       NAO   4   0\n",
       "       SIM   0   3\n",
       "                                     \n",
       "               Accuracy : 1          \n",
       "                 95% CI : (0.5904, 1)\n",
       "    No Information Rate : 0.5714     \n",
       "    P-Value [Acc > NIR] : 0.01989    \n",
       "                                     \n",
       "                  Kappa : 1          \n",
       "                                     \n",
       " Mcnemar's Test P-Value : NA         \n",
       "                                     \n",
       "            Sensitivity : 1.0000     \n",
       "            Specificity : 1.0000     \n",
       "         Pos Pred Value : 1.0000     \n",
       "         Neg Pred Value : 1.0000     \n",
       "             Prevalence : 0.5714     \n",
       "         Detection Rate : 0.5714     \n",
       "   Detection Prevalence : 0.5714     \n",
       "      Balanced Accuracy : 1.0000     \n",
       "                                     \n",
       "       'Positive' Class : NAO        \n",
       "                                     "
      ]
     },
     "metadata": {},
     "output_type": "display_data"
    }
   ],
   "source": [
    "confusionMatrix(predicoes.rna, as.factor(teste$Chovera))"
   ]
  },
  {
   "cell_type": "markdown",
   "id": "25c0cd7e",
   "metadata": {},
   "source": [
    "#### Grid"
   ]
  },
  {
   "cell_type": "code",
   "execution_count": 88,
   "id": "7bcbc923",
   "metadata": {},
   "outputs": [],
   "source": [
    "set.seed(seed_universal)\n",
    "ctrl <- trainControl(method = 'cv', number = 10)\n",
    "grid <- expand.grid(size = seq(from = 1, to = 20, by = 1), decay = seq(from = 0.1, to = 0.9, by = 0.1))"
   ]
  },
  {
   "cell_type": "code",
   "execution_count": 89,
   "id": "b6f5bae0",
   "metadata": {},
   "outputs": [
    {
     "data": {
      "text/plain": [
       "Neural Network \n",
       "\n",
       "33 samples\n",
       " 4 predictor\n",
       " 2 classes: 'NAO', 'SIM' \n",
       "\n",
       "No pre-processing\n",
       "Resampling: Cross-Validated (10 fold) \n",
       "Summary of sample sizes: 30, 30, 30, 30, 30, 30, ... \n",
       "Resampling results across tuning parameters:\n",
       "\n",
       "  size  decay  Accuracy   Kappa\n",
       "   1    0.1    1.0000000  1.00 \n",
       "   1    0.2    1.0000000  1.00 \n",
       "   1    0.3    0.8333333  0.60 \n",
       "   1    0.4    0.7750000  0.45 \n",
       "   1    0.5    0.7083333  0.25 \n",
       "   1    0.6    0.6166667  0.00 \n",
       "   1    0.7    0.6166667  0.00 \n",
       "   1    0.8    0.6166667  0.00 \n",
       "   1    0.9    0.6166667  0.00 \n",
       "   2    0.1    1.0000000  1.00 \n",
       "   2    0.2    0.9666667  0.90 \n",
       "   2    0.3    0.8666667  0.70 \n",
       "   2    0.4    0.8333333  0.60 \n",
       "   2    0.5    0.7666667  0.40 \n",
       "   2    0.6    0.6166667  0.00 \n",
       "   2    0.7    0.6166667  0.00 \n",
       "   2    0.8    0.6166667  0.00 \n",
       "   2    0.9    0.6166667  0.00 \n",
       "   3    0.1    1.0000000  1.00 \n",
       "   3    0.2    0.9750000  0.95 \n",
       "   3    0.3    0.8333333  0.60 \n",
       "   3    0.4    0.8333333  0.60 \n",
       "   3    0.5    0.8000000  0.50 \n",
       "   3    0.6    0.7083333  0.25 \n",
       "   3    0.7    0.6166667  0.00 \n",
       "   3    0.8    0.6166667  0.00 \n",
       "   3    0.9    0.6166667  0.00 \n",
       "   4    0.1    1.0000000  1.00 \n",
       "   4    0.2    1.0000000  1.00 \n",
       "   4    0.3    0.8583333  0.65 \n",
       "   4    0.4    0.8333333  0.60 \n",
       "   4    0.5    0.8000000  0.50 \n",
       "   4    0.6    0.7083333  0.25 \n",
       "   4    0.7    0.6166667  0.00 \n",
       "   4    0.8    0.6166667  0.00 \n",
       "   4    0.9    0.6166667  0.00 \n",
       "   5    0.1    1.0000000  1.00 \n",
       "   5    0.2    1.0000000  1.00 \n",
       "   5    0.3    0.8666667  0.70 \n",
       "   5    0.4    0.8333333  0.60 \n",
       "   5    0.5    0.8000000  0.50 \n",
       "   5    0.6    0.7083333  0.25 \n",
       "   5    0.7    0.6166667  0.00 \n",
       "   5    0.8    0.6166667  0.00 \n",
       "   5    0.9    0.6166667  0.00 \n",
       "   6    0.1    1.0000000  1.00 \n",
       "   6    0.2    1.0000000  1.00 \n",
       "   6    0.3    0.8916667  0.75 \n",
       "   6    0.4    0.8333333  0.60 \n",
       "   6    0.5    0.8000000  0.50 \n",
       "   6    0.6    0.7083333  0.25 \n",
       "   6    0.7    0.6166667  0.00 \n",
       "   6    0.8    0.6166667  0.00 \n",
       "   6    0.9    0.6166667  0.00 \n",
       "   7    0.1    1.0000000  1.00 \n",
       "   7    0.2    1.0000000  1.00 \n",
       "   7    0.3    0.8666667  0.70 \n",
       "   7    0.4    0.8333333  0.60 \n",
       "   7    0.5    0.8000000  0.50 \n",
       "   7    0.6    0.7083333  0.25 \n",
       "   7    0.7    0.6166667  0.00 \n",
       "   7    0.8    0.6166667  0.00 \n",
       "   7    0.9    0.6166667  0.00 \n",
       "   8    0.1    1.0000000  1.00 \n",
       "   8    0.2    1.0000000  1.00 \n",
       "   8    0.3    0.8666667  0.70 \n",
       "   8    0.4    0.8333333  0.60 \n",
       "   8    0.5    0.8000000  0.50 \n",
       "   8    0.6    0.7083333  0.25 \n",
       "   8    0.7    0.6166667  0.00 \n",
       "   8    0.8    0.6166667  0.00 \n",
       "   8    0.9    0.6166667  0.00 \n",
       "   9    0.1    1.0000000  1.00 \n",
       "   9    0.2    1.0000000  1.00 \n",
       "   9    0.3    0.8666667  0.70 \n",
       "   9    0.4    0.8333333  0.60 \n",
       "   9    0.5    0.8000000  0.50 \n",
       "   9    0.6    0.7083333  0.25 \n",
       "   9    0.7    0.6166667  0.00 \n",
       "   9    0.8    0.6166667  0.00 \n",
       "   9    0.9    0.6166667  0.00 \n",
       "  10    0.1    1.0000000  1.00 \n",
       "  10    0.2    1.0000000  1.00 \n",
       "  10    0.3    0.8916667  0.75 \n",
       "  10    0.4    0.8333333  0.60 \n",
       "  10    0.5    0.8000000  0.50 \n",
       "  10    0.6    0.7416667  0.35 \n",
       "  10    0.7    0.6166667  0.00 \n",
       "  10    0.8    0.6166667  0.00 \n",
       "  10    0.9    0.6166667  0.00 \n",
       "  11    0.1    1.0000000  1.00 \n",
       "  11    0.2    1.0000000  1.00 \n",
       "  11    0.3    0.8666667  0.70 \n",
       "  11    0.4    0.8333333  0.60 \n",
       "  11    0.5    0.8000000  0.50 \n",
       "  11    0.6    0.7416667  0.35 \n",
       "  11    0.7    0.6166667  0.00 \n",
       "  11    0.8    0.6166667  0.00 \n",
       "  11    0.9    0.6166667  0.00 \n",
       "  12    0.1    1.0000000  1.00 \n",
       "  12    0.2    1.0000000  1.00 \n",
       "  12    0.3    0.8666667  0.70 \n",
       "  12    0.4    0.8333333  0.60 \n",
       "  12    0.5    0.8000000  0.50 \n",
       "  12    0.6    0.7416667  0.35 \n",
       "  12    0.7    0.6166667  0.00 \n",
       "  12    0.8    0.6166667  0.00 \n",
       "  12    0.9    0.6166667  0.00 \n",
       "  13    0.1    1.0000000  1.00 \n",
       "  13    0.2    1.0000000  1.00 \n",
       "  13    0.3    0.8666667  0.70 \n",
       "  13    0.4    0.8333333  0.60 \n",
       "  13    0.5    0.8000000  0.50 \n",
       "  13    0.6    0.7416667  0.35 \n",
       "  13    0.7    0.6166667  0.00 \n",
       "  13    0.8    0.6166667  0.00 \n",
       "  13    0.9    0.6166667  0.00 \n",
       "  14    0.1    1.0000000  1.00 \n",
       "  14    0.2    1.0000000  1.00 \n",
       "  14    0.3    0.8666667  0.70 \n",
       "  14    0.4    0.8333333  0.60 \n",
       "  14    0.5    0.8000000  0.50 \n",
       "  14    0.6    0.7416667  0.35 \n",
       "  14    0.7    0.6166667  0.00 \n",
       "  14    0.8    0.6166667  0.00 \n",
       "  14    0.9    0.6166667  0.00 \n",
       "  15    0.1    1.0000000  1.00 \n",
       "  15    0.2    1.0000000  1.00 \n",
       "  15    0.3    0.8666667  0.70 \n",
       "  15    0.4    0.8333333  0.60 \n",
       "  15    0.5    0.8000000  0.50 \n",
       "  15    0.6    0.7416667  0.35 \n",
       "  15    0.7    0.6166667  0.00 \n",
       "  15    0.8    0.6166667  0.00 \n",
       "  15    0.9    0.6166667  0.00 \n",
       "  16    0.1    1.0000000  1.00 \n",
       "  16    0.2    1.0000000  1.00 \n",
       "  16    0.3    0.8666667  0.70 \n",
       "  16    0.4    0.8333333  0.60 \n",
       "  16    0.5    0.8000000  0.50 \n",
       "  16    0.6    0.7416667  0.35 \n",
       "  16    0.7    0.6166667  0.00 \n",
       "  16    0.8    0.6166667  0.00 \n",
       "  16    0.9    0.6166667  0.00 \n",
       "  17    0.1    1.0000000  1.00 \n",
       "  17    0.2    1.0000000  1.00 \n",
       "  17    0.3    0.8666667  0.70 \n",
       "  17    0.4    0.8333333  0.60 \n",
       "  17    0.5    0.8000000  0.50 \n",
       "  17    0.6    0.7416667  0.35 \n",
       "  17    0.7    0.6166667  0.00 \n",
       "  17    0.8    0.6166667  0.00 \n",
       "  17    0.9    0.6166667  0.00 \n",
       "  18    0.1    1.0000000  1.00 \n",
       "  18    0.2    1.0000000  1.00 \n",
       "  18    0.3    0.8666667  0.70 \n",
       "  18    0.4    0.8333333  0.60 \n",
       "  18    0.5    0.8000000  0.50 \n",
       "  18    0.6    0.7416667  0.35 \n",
       "  18    0.7    0.6166667  0.00 \n",
       "  18    0.8    0.6166667  0.00 \n",
       "  18    0.9    0.6166667  0.00 \n",
       "  19    0.1    1.0000000  1.00 \n",
       "  19    0.2    1.0000000  1.00 \n",
       "  19    0.3    0.8666667  0.70 \n",
       "  19    0.4    0.8333333  0.60 \n",
       "  19    0.5    0.8000000  0.50 \n",
       "  19    0.6    0.7416667  0.35 \n",
       "  19    0.7    0.6166667  0.00 \n",
       "  19    0.8    0.6166667  0.00 \n",
       "  19    0.9    0.6166667  0.00 \n",
       "  20    0.1    1.0000000  1.00 \n",
       "  20    0.2    1.0000000  1.00 \n",
       "  20    0.3    0.8666667  0.70 \n",
       "  20    0.4    0.8333333  0.60 \n",
       "  20    0.5    0.8000000  0.50 \n",
       "  20    0.6    0.7416667  0.35 \n",
       "  20    0.7    0.6166667  0.00 \n",
       "  20    0.8    0.6166667  0.00 \n",
       "  20    0.9    0.6166667  0.00 \n",
       "\n",
       "Accuracy was used to select the optimal model using the largest value.\n",
       "The final values used for the model were size = 1 and decay = 0.2."
      ]
     },
     "metadata": {},
     "output_type": "display_data"
    }
   ],
   "source": [
    "set.seed(seed_universal)\n",
    "rna <- train(form = Chovera ~ .,data = treino, method = 'nnet',\n",
    "             tuneGrid = grid, trControl = ctrl, MaxNWts = 10000, maxit = 2000, trace = FALSE)\n",
    "rna"
   ]
  },
  {
   "cell_type": "code",
   "execution_count": 90,
   "id": "1a3a5f05",
   "metadata": {},
   "outputs": [],
   "source": [
    "predicoes.rna <- predict(rna, teste)"
   ]
  },
  {
   "cell_type": "code",
   "execution_count": 91,
   "id": "d6635097",
   "metadata": {},
   "outputs": [
    {
     "data": {
      "text/plain": [
       "Confusion Matrix and Statistics\n",
       "\n",
       "          Reference\n",
       "Prediction NAO SIM\n",
       "       NAO   4   0\n",
       "       SIM   0   3\n",
       "                                     \n",
       "               Accuracy : 1          \n",
       "                 95% CI : (0.5904, 1)\n",
       "    No Information Rate : 0.5714     \n",
       "    P-Value [Acc > NIR] : 0.01989    \n",
       "                                     \n",
       "                  Kappa : 1          \n",
       "                                     \n",
       " Mcnemar's Test P-Value : NA         \n",
       "                                     \n",
       "            Sensitivity : 1.0000     \n",
       "            Specificity : 1.0000     \n",
       "         Pos Pred Value : 1.0000     \n",
       "         Neg Pred Value : 1.0000     \n",
       "             Prevalence : 0.5714     \n",
       "         Detection Rate : 0.5714     \n",
       "   Detection Prevalence : 0.5714     \n",
       "      Balanced Accuracy : 1.0000     \n",
       "                                     \n",
       "       'Positive' Class : NAO        \n",
       "                                     "
      ]
     },
     "metadata": {},
     "output_type": "display_data"
    }
   ],
   "source": [
    "confusionMatrix(predicoes.rna, as.factor(teste$Chovera))"
   ]
  },
  {
   "cell_type": "markdown",
   "id": "2d774652",
   "metadata": {},
   "source": [
    "### KNN"
   ]
  },
  {
   "cell_type": "code",
   "execution_count": 165,
   "id": "97692f05",
   "metadata": {},
   "outputs": [],
   "source": [
    "tuneGrid <- expand.grid(k = c(1, 3, 5, 7, 9, 11, 13, 15, 17, 19, 21))"
   ]
  },
  {
   "cell_type": "code",
   "execution_count": 166,
   "id": "c3c96523",
   "metadata": {},
   "outputs": [
    {
     "data": {
      "text/plain": [
       "k-Nearest Neighbors \n",
       "\n",
       "33 samples\n",
       " 4 predictor\n",
       " 2 classes: 'NAO', 'SIM' \n",
       "\n",
       "No pre-processing\n",
       "Resampling: Bootstrapped (25 reps) \n",
       "Summary of sample sizes: 33, 33, 33, 33, 33, 33, ... \n",
       "Resampling results across tuning parameters:\n",
       "\n",
       "  k   Accuracy   Kappa    \n",
       "   1  0.9596923  0.9181141\n",
       "   3  0.8215593  0.6391019\n",
       "   5  0.7076303  0.4117436\n",
       "   7  0.6648560  0.3319262\n",
       "   9  0.6690882  0.3394840\n",
       "  11  0.6847934  0.3640808\n",
       "  13  0.6674981  0.3119448\n",
       "  15  0.6587015  0.2854068\n",
       "  17  0.6190865  0.2051913\n",
       "  19  0.6029086  0.1748818\n",
       "  21  0.5845741  0.1299148\n",
       "\n",
       "Accuracy was used to select the optimal model using the largest value.\n",
       "The final value used for the model was k = 1."
      ]
     },
     "metadata": {},
     "output_type": "display_data"
    }
   ],
   "source": [
    "set.seed(seed_universal)\n",
    "knn <- train(Chovera ~ ., data = treino, method = 'knn', tuneGrid = tuneGrid)\n",
    "knn"
   ]
  },
  {
   "cell_type": "code",
   "execution_count": 167,
   "id": "c4f9f0d3",
   "metadata": {},
   "outputs": [
    {
     "data": {
      "text/plain": [
       "Confusion Matrix and Statistics\n",
       "\n",
       "          Reference\n",
       "Prediction NAO SIM\n",
       "       NAO   4   0\n",
       "       SIM   0   3\n",
       "                                     \n",
       "               Accuracy : 1          \n",
       "                 95% CI : (0.5904, 1)\n",
       "    No Information Rate : 0.5714     \n",
       "    P-Value [Acc > NIR] : 0.01989    \n",
       "                                     \n",
       "                  Kappa : 1          \n",
       "                                     \n",
       " Mcnemar's Test P-Value : NA         \n",
       "                                     \n",
       "            Sensitivity : 1.0000     \n",
       "            Specificity : 1.0000     \n",
       "         Pos Pred Value : 1.0000     \n",
       "         Neg Pred Value : 1.0000     \n",
       "             Prevalence : 0.5714     \n",
       "         Detection Rate : 0.5714     \n",
       "   Detection Prevalence : 0.5714     \n",
       "      Balanced Accuracy : 1.0000     \n",
       "                                     \n",
       "       'Positive' Class : NAO        \n",
       "                                     "
      ]
     },
     "metadata": {},
     "output_type": "display_data"
    }
   ],
   "source": [
    "predicoes.knn <- predict(knn, teste)\n",
    "confusionMatrix(predicoes.knn, as.factor(teste$Chovera))"
   ]
  },
  {
   "cell_type": "markdown",
   "id": "0802d662",
   "metadata": {},
   "source": [
    "---"
   ]
  },
  {
   "cell_type": "markdown",
   "id": "62a3fe55",
   "metadata": {},
   "source": [
    "## IR (Classifição)"
   ]
  },
  {
   "cell_type": "code",
   "execution_count": 168,
   "id": "101342cc",
   "metadata": {},
   "outputs": [],
   "source": [
    "ir.dados <- read.csv('bases/imposto_renda/Material 02 - 7 – C - IR - Dados.csv')"
   ]
  },
  {
   "cell_type": "code",
   "execution_count": 169,
   "id": "98d6bb43",
   "metadata": {},
   "outputs": [
    {
     "data": {
      "text/plain": [
       "  rest           ecivil     rendimento      sonegador \n",
       " Nao:35   Casado    :20   Min.   : 60000   Nao   :20  \n",
       " Sim:15   Divorciado:10   1st Qu.: 75000   Sim   :15  \n",
       "          Solteiro  :20   Median : 92500   Talvez:15  \n",
       "                          Mean   :104000              \n",
       "                          3rd Qu.:120000              \n",
       "                          Max.   :220000              "
      ]
     },
     "metadata": {},
     "output_type": "display_data"
    }
   ],
   "source": [
    "summary(ir.dados)"
   ]
  },
  {
   "cell_type": "code",
   "execution_count": 170,
   "id": "0780f336",
   "metadata": {},
   "outputs": [
    {
     "data": {
      "text/html": [
       "<table>\n",
       "<thead><tr><th scope=col>rest</th><th scope=col>ecivil</th><th scope=col>rendimento</th><th scope=col>sonegador</th></tr></thead>\n",
       "<tbody>\n",
       "\t<tr><td>Sim       </td><td>Solteiro  </td><td>125000    </td><td>Sim       </td></tr>\n",
       "\t<tr><td>Nao       </td><td>Casado    </td><td>100000    </td><td>Nao       </td></tr>\n",
       "\t<tr><td>Nao       </td><td>Solteiro  </td><td> 70000    </td><td>Talvez    </td></tr>\n",
       "\t<tr><td>Sim       </td><td>Casado    </td><td>120000    </td><td>Sim       </td></tr>\n",
       "\t<tr><td>Nao       </td><td>Divorciado</td><td> 95000    </td><td>Talvez    </td></tr>\n",
       "\t<tr><td>Nao       </td><td>Casado    </td><td> 60000    </td><td>Nao       </td></tr>\n",
       "</tbody>\n",
       "</table>\n"
      ],
      "text/latex": [
       "\\begin{tabular}{r|llll}\n",
       " rest & ecivil & rendimento & sonegador\\\\\n",
       "\\hline\n",
       "\t Sim        & Solteiro   & 125000     & Sim       \\\\\n",
       "\t Nao        & Casado     & 100000     & Nao       \\\\\n",
       "\t Nao        & Solteiro   &  70000     & Talvez    \\\\\n",
       "\t Sim        & Casado     & 120000     & Sim       \\\\\n",
       "\t Nao        & Divorciado &  95000     & Talvez    \\\\\n",
       "\t Nao        & Casado     &  60000     & Nao       \\\\\n",
       "\\end{tabular}\n"
      ],
      "text/markdown": [
       "\n",
       "| rest | ecivil | rendimento | sonegador |\n",
       "|---|---|---|---|\n",
       "| Sim        | Solteiro   | 125000     | Sim        |\n",
       "| Nao        | Casado     | 100000     | Nao        |\n",
       "| Nao        | Solteiro   |  70000     | Talvez     |\n",
       "| Sim        | Casado     | 120000     | Sim        |\n",
       "| Nao        | Divorciado |  95000     | Talvez     |\n",
       "| Nao        | Casado     |  60000     | Nao        |\n",
       "\n"
      ],
      "text/plain": [
       "  rest ecivil     rendimento sonegador\n",
       "1 Sim  Solteiro   125000     Sim      \n",
       "2 Nao  Casado     100000     Nao      \n",
       "3 Nao  Solteiro    70000     Talvez   \n",
       "4 Sim  Casado     120000     Sim      \n",
       "5 Nao  Divorciado  95000     Talvez   \n",
       "6 Nao  Casado      60000     Nao      "
      ]
     },
     "metadata": {},
     "output_type": "display_data"
    }
   ],
   "source": [
    "head(ir.dados)"
   ]
  },
  {
   "cell_type": "code",
   "execution_count": 171,
   "id": "4c9cc980",
   "metadata": {},
   "outputs": [],
   "source": [
    "# Separa entre treino e teste\n",
    "\n",
    "set.seed(seed_universal)\n",
    "indices <- createDataPartition(ir.dados$sonegador, p = 0.8, list = FALSE)\n",
    "treino <- ir.dados[indices,]\n",
    "teste <- ir.dados[-indices,]"
   ]
  },
  {
   "cell_type": "markdown",
   "id": "5bfb4d09",
   "metadata": {},
   "source": [
    "### Redes Neurais"
   ]
  },
  {
   "cell_type": "markdown",
   "id": "858ea3a1",
   "metadata": {},
   "source": [
    "#### Hold out"
   ]
  },
  {
   "cell_type": "code",
   "execution_count": 96,
   "id": "03594c89",
   "metadata": {},
   "outputs": [
    {
     "data": {
      "text/plain": [
       "Neural Network \n",
       "\n",
       "40 samples\n",
       " 3 predictor\n",
       " 3 classes: 'Nao', 'Sim', 'Talvez' \n",
       "\n",
       "No pre-processing\n",
       "Resampling: Bootstrapped (25 reps) \n",
       "Summary of sample sizes: 40, 40, 40, 40, 40, 40, ... \n",
       "Resampling results across tuning parameters:\n",
       "\n",
       "  size  decay  Accuracy   Kappa       \n",
       "  1     0e+00  0.2969527   0.004444444\n",
       "  1     1e-04  0.2869527   0.000000000\n",
       "  1     1e-01  0.4337769   0.151887306\n",
       "  3     0e+00  0.2919527   0.000000000\n",
       "  3     1e-04  0.2844527  -0.008372093\n",
       "  3     1e-01  0.5748208   0.336738077\n",
       "  5     0e+00  0.2869527  -0.006829268\n",
       "  5     1e-04  0.3182860   0.023892617\n",
       "  5     1e-01  0.5835300   0.365057930\n",
       "\n",
       "Accuracy was used to select the optimal model using the largest value.\n",
       "The final values used for the model were size = 5 and decay = 0.1."
      ]
     },
     "metadata": {},
     "output_type": "display_data"
    }
   ],
   "source": [
    "set.seed(seed_universal)\n",
    "rna <- train(sonegador ~ ., data = treino, method = 'nnet', trace = FALSE)\n",
    "rna"
   ]
  },
  {
   "cell_type": "code",
   "execution_count": 97,
   "id": "36db67ab",
   "metadata": {},
   "outputs": [],
   "source": [
    "predicoes.rna <- predict(rna, teste)"
   ]
  },
  {
   "cell_type": "code",
   "execution_count": 98,
   "id": "301ac5f9",
   "metadata": {},
   "outputs": [
    {
     "data": {
      "text/plain": [
       "Confusion Matrix and Statistics\n",
       "\n",
       "          Reference\n",
       "Prediction Nao Sim Talvez\n",
       "    Nao      4   0      0\n",
       "    Sim      0   2      0\n",
       "    Talvez   0   1      3\n",
       "\n",
       "Overall Statistics\n",
       "                                         \n",
       "               Accuracy : 0.9            \n",
       "                 95% CI : (0.555, 0.9975)\n",
       "    No Information Rate : 0.4            \n",
       "    P-Value [Acc > NIR] : 0.001678       \n",
       "                                         \n",
       "                  Kappa : 0.8485         \n",
       "                                         \n",
       " Mcnemar's Test P-Value : NA             \n",
       "\n",
       "Statistics by Class:\n",
       "\n",
       "                     Class: Nao Class: Sim Class: Talvez\n",
       "Sensitivity                 1.0     0.6667        1.0000\n",
       "Specificity                 1.0     1.0000        0.8571\n",
       "Pos Pred Value              1.0     1.0000        0.7500\n",
       "Neg Pred Value              1.0     0.8750        1.0000\n",
       "Prevalence                  0.4     0.3000        0.3000\n",
       "Detection Rate              0.4     0.2000        0.3000\n",
       "Detection Prevalence        0.4     0.2000        0.4000\n",
       "Balanced Accuracy           1.0     0.8333        0.9286"
      ]
     },
     "metadata": {},
     "output_type": "display_data"
    }
   ],
   "source": [
    "confusionMatrix(predicoes.rna, as.factor(teste$sonegador))"
   ]
  },
  {
   "cell_type": "markdown",
   "id": "43e3303e",
   "metadata": {},
   "source": [
    "#### Cross validation"
   ]
  },
  {
   "cell_type": "code",
   "execution_count": 99,
   "id": "b2d012fb",
   "metadata": {},
   "outputs": [],
   "source": [
    "set.seed(seed_universal)\n",
    "ctrl <- trainControl(method = 'cv', number = 10)"
   ]
  },
  {
   "cell_type": "code",
   "execution_count": 100,
   "id": "0387bbdb",
   "metadata": {},
   "outputs": [
    {
     "data": {
      "text/plain": [
       "Neural Network \n",
       "\n",
       "40 samples\n",
       " 3 predictor\n",
       " 3 classes: 'Nao', 'Sim', 'Talvez' \n",
       "\n",
       "No pre-processing\n",
       "Resampling: Cross-Validated (10 fold) \n",
       "Summary of sample sizes: 37, 36, 35, 36, 37, 35, ... \n",
       "Resampling results across tuning parameters:\n",
       "\n",
       "  size  decay  Accuracy   Kappa    \n",
       "  1     0e+00  0.3950000  0.0000000\n",
       "  1     1e-04  0.3950000  0.0000000\n",
       "  1     1e-01  0.4283333  0.0500000\n",
       "  3     0e+00  0.3950000  0.0000000\n",
       "  3     1e-04  0.3950000  0.0000000\n",
       "  3     1e-01  0.5266667  0.2377778\n",
       "  5     0e+00  0.3950000  0.0000000\n",
       "  5     1e-04  0.3950000  0.0000000\n",
       "  5     1e-01  0.6133333  0.4100000\n",
       "\n",
       "Accuracy was used to select the optimal model using the largest value.\n",
       "The final values used for the model were size = 5 and decay = 0.1."
      ]
     },
     "metadata": {},
     "output_type": "display_data"
    }
   ],
   "source": [
    "set.seed(seed_universal)\n",
    "rna <- train(sonegador ~ ., data = treino, method = 'nnet', trace = FALSE, trControl = ctrl)\n",
    "rna"
   ]
  },
  {
   "cell_type": "code",
   "execution_count": 101,
   "id": "5a875d9f",
   "metadata": {},
   "outputs": [],
   "source": [
    "predicoes.rna <- predict(rna, teste)"
   ]
  },
  {
   "cell_type": "code",
   "execution_count": 102,
   "id": "14ba6f80",
   "metadata": {},
   "outputs": [
    {
     "data": {
      "text/plain": [
       "Confusion Matrix and Statistics\n",
       "\n",
       "          Reference\n",
       "Prediction Nao Sim Talvez\n",
       "    Nao      4   3      3\n",
       "    Sim      0   0      0\n",
       "    Talvez   0   0      0\n",
       "\n",
       "Overall Statistics\n",
       "                                          \n",
       "               Accuracy : 0.4             \n",
       "                 95% CI : (0.1216, 0.7376)\n",
       "    No Information Rate : 0.4             \n",
       "    P-Value [Acc > NIR] : 0.6177          \n",
       "                                          \n",
       "                  Kappa : 0               \n",
       "                                          \n",
       " Mcnemar's Test P-Value : NA              \n",
       "\n",
       "Statistics by Class:\n",
       "\n",
       "                     Class: Nao Class: Sim Class: Talvez\n",
       "Sensitivity                 1.0        0.0           0.0\n",
       "Specificity                 0.0        1.0           1.0\n",
       "Pos Pred Value              0.4        NaN           NaN\n",
       "Neg Pred Value              NaN        0.7           0.7\n",
       "Prevalence                  0.4        0.3           0.3\n",
       "Detection Rate              0.4        0.0           0.0\n",
       "Detection Prevalence        1.0        0.0           0.0\n",
       "Balanced Accuracy           0.5        0.5           0.5"
      ]
     },
     "metadata": {},
     "output_type": "display_data"
    }
   ],
   "source": [
    "confusionMatrix(predicoes.rna, as.factor(teste$sonegador))"
   ]
  },
  {
   "cell_type": "markdown",
   "id": "61d044db",
   "metadata": {},
   "source": [
    "#### Grid"
   ]
  },
  {
   "cell_type": "code",
   "execution_count": 103,
   "id": "183f54d6",
   "metadata": {},
   "outputs": [],
   "source": [
    "set.seed(seed_universal)\n",
    "ctrl <- trainControl(method = 'cv', number = 10)\n",
    "grid <- expand.grid(size = seq(from = 1, to = 20, by = 1), decay = seq(from = 0.1, to = 0.9, by = 0.1))"
   ]
  },
  {
   "cell_type": "code",
   "execution_count": 104,
   "id": "e4da7f16",
   "metadata": {},
   "outputs": [
    {
     "data": {
      "text/plain": [
       "Neural Network \n",
       "\n",
       "40 samples\n",
       " 3 predictor\n",
       " 3 classes: 'Nao', 'Sim', 'Talvez' \n",
       "\n",
       "No pre-processing\n",
       "Resampling: Cross-Validated (10 fold) \n",
       "Summary of sample sizes: 37, 36, 35, 36, 37, 35, ... \n",
       "Resampling results across tuning parameters:\n",
       "\n",
       "  size  decay  Accuracy   Kappa        \n",
       "   1    0.1    0.4650000   1.011765e-01\n",
       "   1    0.2    0.4600000   1.222222e-01\n",
       "   1    0.3    0.3950000   0.000000e+00\n",
       "   1    0.4    0.4600000   1.342320e-01\n",
       "   1    0.5    0.3950000   0.000000e+00\n",
       "   1    0.6    0.3950000  -9.251859e-18\n",
       "   1    0.7    0.3950000   0.000000e+00\n",
       "   1    0.8    0.3950000   0.000000e+00\n",
       "   1    0.9    0.3950000   0.000000e+00\n",
       "   2    0.1    0.5016667   1.666667e-01\n",
       "   2    0.2    0.5250000   2.333333e-01\n",
       "   2    0.3    0.5566667   2.411765e-01\n",
       "   2    0.4    0.5350000   2.576389e-01\n",
       "   2    0.5    0.4533333   1.118056e-01\n",
       "   2    0.6    0.4350000   8.492647e-02\n",
       "   2    0.7    0.3950000   0.000000e+00\n",
       "   2    0.8    0.3950000   0.000000e+00\n",
       "   2    0.9    0.3950000   0.000000e+00\n",
       "   3    0.1    0.5116667   2.000000e-01\n",
       "   3    0.2    0.7516667   5.766667e-01\n",
       "   3    0.3    0.4550000   1.000000e-01\n",
       "   3    0.4    0.7783333   6.305882e-01\n",
       "   3    0.5    0.6066667   3.629820e-01\n",
       "   3    0.6    0.4533333   1.229167e-01\n",
       "   3    0.7    0.3950000   0.000000e+00\n",
       "   3    0.8    0.3950000   0.000000e+00\n",
       "   3    0.9    0.3950000   0.000000e+00\n",
       "   4    0.1    0.6066667   3.375000e-01\n",
       "   4    0.2    0.6700000   4.766667e-01\n",
       "   4    0.3    0.6266667   3.705882e-01\n",
       "   4    0.4    0.6933333   5.287500e-01\n",
       "   4    0.5    0.5816667   3.278431e-01\n",
       "   4    0.6    0.5033333   2.229167e-01\n",
       "   4    0.7    0.4200000   6.180556e-02\n",
       "   4    0.8    0.3950000   0.000000e+00\n",
       "   4    0.9    0.3950000   0.000000e+00\n",
       "   5    0.1    0.6933333   5.472549e-01\n",
       "   5    0.2    0.6616667   4.822222e-01\n",
       "   5    0.3    0.6616667   4.705882e-01\n",
       "   5    0.4    0.7250000   5.511765e-01\n",
       "   5    0.5    0.6600000   4.511765e-01\n",
       "   5    0.6    0.4533333   1.229167e-01\n",
       "   5    0.7    0.3950000   1.736111e-02\n",
       "   5    0.8    0.3950000   0.000000e+00\n",
       "   5    0.9    0.3950000   0.000000e+00\n",
       "   6    0.1    0.7183333   5.608913e-01\n",
       "   6    0.2    0.6100000   3.645276e-01\n",
       "   6    0.3    0.9016667   8.472549e-01\n",
       "   6    0.4    0.6533333   4.200000e-01\n",
       "   6    0.5    0.5700000   2.766667e-01\n",
       "   6    0.6    0.5850000   3.571487e-01\n",
       "   6    0.7    0.3950000   6.250000e-03\n",
       "   6    0.8    0.3950000   0.000000e+00\n",
       "   6    0.9    0.3950000   0.000000e+00\n",
       "   7    0.1    0.7450000   5.766667e-01\n",
       "   7    0.2    0.7916667   6.805882e-01\n",
       "   7    0.3    0.7516667   5.972549e-01\n",
       "   7    0.4    0.7516667   5.805882e-01\n",
       "   7    0.5    0.6066667   3.678431e-01\n",
       "   7    0.6    0.5566667   3.104167e-01\n",
       "   7    0.7    0.4483333   9.742647e-02\n",
       "   7    0.8    0.3950000   0.000000e+00\n",
       "   7    0.9    0.3950000   0.000000e+00\n",
       "   8    0.1    0.8016667   6.972549e-01\n",
       "   8    0.2    0.8016667   6.972549e-01\n",
       "   8    0.3    0.8150000   7.139216e-01\n",
       "   8    0.4    0.7683333   6.287500e-01\n",
       "   8    0.5    0.6266667   4.011765e-01\n",
       "   8    0.6    0.5233333   2.529820e-01\n",
       "   8    0.7    0.4533333   1.055556e-01\n",
       "   8    0.8    0.3950000   0.000000e+00\n",
       "   8    0.9    0.3950000   0.000000e+00\n",
       "   9    0.1    0.8283333   7.384314e-01\n",
       "   9    0.2    0.7133333   5.200000e-01\n",
       "   9    0.3    0.7450000   6.217647e-01\n",
       "   9    0.4    0.7450000   5.961438e-01\n",
       "   9    0.5    0.5766667   3.300654e-01\n",
       "   9    0.6    0.4783333   1.784722e-01\n",
       "   9    0.7    0.4033333   2.291667e-02\n",
       "   9    0.8    0.3950000   0.000000e+00\n",
       "   9    0.9    0.3950000   0.000000e+00\n",
       "  10    0.1    0.8516667   7.472549e-01\n",
       "  10    0.2    0.7616667   6.266667e-01\n",
       "  10    0.3    0.6100000   3.766667e-01\n",
       "  10    0.4    0.6433333   4.305882e-01\n",
       "  10    0.5    0.5183333   2.467320e-01\n",
       "  10    0.6    0.5116667   2.284722e-01\n",
       "  10    0.7    0.4483333   1.307598e-01\n",
       "  10    0.8    0.3950000   0.000000e+00\n",
       "  10    0.9    0.3950000   0.000000e+00\n",
       "  11    0.1    0.8016667   7.072549e-01\n",
       "  11    0.2    0.8016667   6.928105e-01\n",
       "  11    0.3    0.8433333   7.372549e-01\n",
       "  11    0.4    0.5850000   3.277778e-01\n",
       "  11    0.5    0.5316667   2.522876e-01\n",
       "  11    0.6    0.5900000   3.640931e-01\n",
       "  11    0.7    0.4200000   7.291667e-02\n",
       "  11    0.8    0.3950000   0.000000e+00\n",
       "  11    0.9    0.3950000   0.000000e+00\n",
       "  12    0.1    0.8016667   6.972549e-01\n",
       "  12    0.2    0.7633333   6.200000e-01\n",
       "  12    0.3    0.8350000   7.472549e-01\n",
       "  12    0.4    0.7700000   6.361438e-01\n",
       "  12    0.5    0.5766667   3.011765e-01\n",
       "  12    0.6    0.5566667   3.140931e-01\n",
       "  12    0.7    0.4733333   1.529820e-01\n",
       "  12    0.8    0.3700000  -3.333333e-02\n",
       "  12    0.9    0.3700000  -3.333333e-02\n",
       "  13    0.1    0.8033333   6.816993e-01\n",
       "  13    0.2    0.7433333   5.866667e-01\n",
       "  13    0.3    0.7233333   5.778431e-01\n",
       "  13    0.4    0.7200000   5.605882e-01\n",
       "  13    0.5    0.5116667   1.662500e-01\n",
       "  13    0.6    0.5233333   2.578431e-01\n",
       "  13    0.7    0.4283333   7.222222e-02\n",
       "  13    0.8    0.3950000   0.000000e+00\n",
       "  13    0.9    0.3700000  -3.333333e-02\n",
       "  14    0.1    0.7200000   5.884314e-01\n",
       "  14    0.2    0.8183333   7.172549e-01\n",
       "  14    0.3    0.7950000   6.805882e-01\n",
       "  14    0.4    0.6633333   4.347549e-01\n",
       "  14    0.5    0.4533333   1.045455e-01\n",
       "  14    0.6    0.5316667   2.696487e-01\n",
       "  14    0.7    0.4483333   1.133987e-01\n",
       "  14    0.8    0.3950000   0.000000e+00\n",
       "  14    0.9    0.3700000  -3.333333e-02\n",
       "  15    0.1    0.7916667   6.472549e-01\n",
       "  15    0.2    0.8166667   7.072549e-01\n",
       "  15    0.3    0.6266667   3.866667e-01\n",
       "  15    0.4    0.6283333   4.005882e-01\n",
       "  15    0.5    0.5600000   3.011765e-01\n",
       "  15    0.6    0.4400000   1.229820e-01\n",
       "  15    0.7    0.4400000   1.078431e-01\n",
       "  15    0.8    0.3700000  -3.333333e-02\n",
       "  15    0.9    0.3950000   0.000000e+00\n",
       "  16    0.1    0.7450000   5.805882e-01\n",
       "  16    0.2    0.7933333   6.555556e-01\n",
       "  16    0.3    0.7116667   5.505882e-01\n",
       "  16    0.4    0.6416667   4.104493e-01\n",
       "  16    0.5    0.6266667   4.090196e-01\n",
       "  16    0.6    0.4400000   1.340931e-01\n",
       "  16    0.7    0.4033333   2.777778e-02\n",
       "  16    0.8    0.3450000  -6.666667e-02\n",
       "  16    0.9    0.3950000   0.000000e+00\n",
       "  17    0.1    0.7916667   6.472549e-01\n",
       "  17    0.2    0.8283333   7.266667e-01\n",
       "  17    0.3    0.6950000   5.361438e-01\n",
       "  17    0.4    0.6983333   4.789542e-01\n",
       "  17    0.5    0.4983333   2.075275e-01\n",
       "  17    0.6    0.4733333   1.467320e-01\n",
       "  17    0.7    0.4616667   1.451389e-01\n",
       "  17    0.8    0.3950000   0.000000e+00\n",
       "  17    0.9    0.3450000  -6.666667e-02\n",
       "  18    0.1    0.7850000   6.472549e-01\n",
       "  18    0.2    0.7616667   6.305882e-01\n",
       "  18    0.3    0.7116667   5.266667e-01\n",
       "  18    0.4    0.7083333   5.172549e-01\n",
       "  18    0.5    0.5566667   2.740931e-01\n",
       "  18    0.6    0.4150000   6.339869e-02\n",
       "  18    0.7    0.4233333   7.520425e-02\n",
       "  18    0.8    0.3950000   0.000000e+00\n",
       "  18    0.9    0.3700000  -3.333333e-02\n",
       "  19    0.1    0.7950000   6.805882e-01\n",
       "  19    0.2    0.6333333   4.139216e-01\n",
       "  19    0.3    0.8683333   7.972549e-01\n",
       "  19    0.4    0.6800000   4.655556e-01\n",
       "  19    0.5    0.5066667   2.078431e-01\n",
       "  19    0.6    0.3983333   2.349970e-02\n",
       "  19    0.7    0.3700000  -2.222222e-02\n",
       "  19    0.8    0.3500000  -5.833333e-02\n",
       "  19    0.9    0.3116667  -1.166667e-01\n",
       "  20    0.1    0.7400000   5.817246e-01\n",
       "  20    0.2    0.7450000   5.805882e-01\n",
       "  20    0.3    0.7000000   4.872549e-01\n",
       "  20    0.4    0.7216667   5.633987e-01\n",
       "  20    0.5    0.5566667   3.140931e-01\n",
       "  20    0.6    0.4150000   4.117647e-02\n",
       "  20    0.7    0.3700000  -2.222222e-02\n",
       "  20    0.8    0.3700000  -3.333333e-02\n",
       "  20    0.9    0.3950000   0.000000e+00\n",
       "\n",
       "Accuracy was used to select the optimal model using the largest value.\n",
       "The final values used for the model were size = 6 and decay = 0.3."
      ]
     },
     "metadata": {},
     "output_type": "display_data"
    }
   ],
   "source": [
    "set.seed(seed_universal)\n",
    "rna <- train(form = sonegador ~ .,data = treino, method = 'nnet',\n",
    "             tuneGrid = grid, trControl = ctrl, MaxNWts = 10000, maxit = 2000, trace = FALSE)\n",
    "rna"
   ]
  },
  {
   "cell_type": "code",
   "execution_count": 105,
   "id": "7e4c601d",
   "metadata": {},
   "outputs": [],
   "source": [
    "predicoes.rna <- predict(rna, teste)"
   ]
  },
  {
   "cell_type": "code",
   "execution_count": 106,
   "id": "dc706cb0",
   "metadata": {},
   "outputs": [
    {
     "data": {
      "text/plain": [
       "Confusion Matrix and Statistics\n",
       "\n",
       "          Reference\n",
       "Prediction Nao Sim Talvez\n",
       "    Nao      4   0      0\n",
       "    Sim      0   2      0\n",
       "    Talvez   0   1      3\n",
       "\n",
       "Overall Statistics\n",
       "                                         \n",
       "               Accuracy : 0.9            \n",
       "                 95% CI : (0.555, 0.9975)\n",
       "    No Information Rate : 0.4            \n",
       "    P-Value [Acc > NIR] : 0.001678       \n",
       "                                         \n",
       "                  Kappa : 0.8485         \n",
       "                                         \n",
       " Mcnemar's Test P-Value : NA             \n",
       "\n",
       "Statistics by Class:\n",
       "\n",
       "                     Class: Nao Class: Sim Class: Talvez\n",
       "Sensitivity                 1.0     0.6667        1.0000\n",
       "Specificity                 1.0     1.0000        0.8571\n",
       "Pos Pred Value              1.0     1.0000        0.7500\n",
       "Neg Pred Value              1.0     0.8750        1.0000\n",
       "Prevalence                  0.4     0.3000        0.3000\n",
       "Detection Rate              0.4     0.2000        0.3000\n",
       "Detection Prevalence        0.4     0.2000        0.4000\n",
       "Balanced Accuracy           1.0     0.8333        0.9286"
      ]
     },
     "metadata": {},
     "output_type": "display_data"
    }
   ],
   "source": [
    "confusionMatrix(predicoes.rna, as.factor(teste$sonegador))"
   ]
  },
  {
   "cell_type": "markdown",
   "id": "e72e619d",
   "metadata": {},
   "source": [
    "### KNN"
   ]
  },
  {
   "cell_type": "code",
   "execution_count": 172,
   "id": "e35ee25e",
   "metadata": {},
   "outputs": [],
   "source": [
    "tuneGrid <- expand.grid(k = c(1, 3, 5, 7, 9, 11, 13, 15, 17, 19, 21))"
   ]
  },
  {
   "cell_type": "code",
   "execution_count": 173,
   "id": "965d315b",
   "metadata": {},
   "outputs": [
    {
     "data": {
      "text/plain": [
       "k-Nearest Neighbors \n",
       "\n",
       "40 samples\n",
       " 3 predictor\n",
       " 3 classes: 'Nao', 'Sim', 'Talvez' \n",
       "\n",
       "No pre-processing\n",
       "Resampling: Bootstrapped (25 reps) \n",
       "Summary of sample sizes: 40, 40, 40, 40, 40, 40, ... \n",
       "Resampling results across tuning parameters:\n",
       "\n",
       "  k   Accuracy   Kappa    \n",
       "   1  0.9796923  0.9694232\n",
       "   3  0.7314928  0.6005095\n",
       "   5  0.5784559  0.3825846\n",
       "   7  0.5270330  0.3021497\n",
       "   9  0.5009569  0.2845151\n",
       "  11  0.4980954  0.2791060\n",
       "  13  0.4668500  0.2448484\n",
       "  15  0.4214745  0.1793150\n",
       "  17  0.4100643  0.1673195\n",
       "  19  0.3848200  0.1403709\n",
       "  21  0.3408785  0.1049611\n",
       "\n",
       "Accuracy was used to select the optimal model using the largest value.\n",
       "The final value used for the model was k = 1."
      ]
     },
     "metadata": {},
     "output_type": "display_data"
    }
   ],
   "source": [
    "set.seed(seed_universal)\n",
    "knn <- train(sonegador ~ ., data = treino, method = 'knn', tuneGrid = tuneGrid)\n",
    "knn"
   ]
  },
  {
   "cell_type": "code",
   "execution_count": 174,
   "id": "f636f438",
   "metadata": {},
   "outputs": [
    {
     "data": {
      "text/plain": [
       "Confusion Matrix and Statistics\n",
       "\n",
       "          Reference\n",
       "Prediction Nao Sim Talvez\n",
       "    Nao      4   0      0\n",
       "    Sim      0   3      0\n",
       "    Talvez   0   0      3\n",
       "\n",
       "Overall Statistics\n",
       "                                     \n",
       "               Accuracy : 1          \n",
       "                 95% CI : (0.6915, 1)\n",
       "    No Information Rate : 0.4        \n",
       "    P-Value [Acc > NIR] : 0.0001049  \n",
       "                                     \n",
       "                  Kappa : 1          \n",
       "                                     \n",
       " Mcnemar's Test P-Value : NA         \n",
       "\n",
       "Statistics by Class:\n",
       "\n",
       "                     Class: Nao Class: Sim Class: Talvez\n",
       "Sensitivity                 1.0        1.0           1.0\n",
       "Specificity                 1.0        1.0           1.0\n",
       "Pos Pred Value              1.0        1.0           1.0\n",
       "Neg Pred Value              1.0        1.0           1.0\n",
       "Prevalence                  0.4        0.3           0.3\n",
       "Detection Rate              0.4        0.3           0.3\n",
       "Detection Prevalence        0.4        0.3           0.3\n",
       "Balanced Accuracy           1.0        1.0           1.0"
      ]
     },
     "metadata": {},
     "output_type": "display_data"
    }
   ],
   "source": [
    "predicoes.knn <- predict(knn, teste)\n",
    "confusionMatrix(predicoes.knn, as.factor(teste$sonegador))"
   ]
  },
  {
   "cell_type": "markdown",
   "id": "84e2ccba",
   "metadata": {},
   "source": [
    "___"
   ]
  },
  {
   "cell_type": "markdown",
   "id": "3f938d15",
   "metadata": {},
   "source": [
    "## Diabetes (Classificação)"
   ]
  },
  {
   "cell_type": "code",
   "execution_count": 176,
   "id": "dd183bd7",
   "metadata": {},
   "outputs": [],
   "source": [
    "diabetes.dados <- read.csv('bases/diabetes/Material 02 - 9 – C - Diabetes - Dados.csv')"
   ]
  },
  {
   "cell_type": "code",
   "execution_count": 177,
   "id": "1deabdf7",
   "metadata": {},
   "outputs": [
    {
     "data": {
      "text/plain": [
       "      num           preg0nt          glucose         pressure     \n",
       " Min.   :  1.0   Min.   : 0.000   Min.   :  0.0   Min.   :  0.00  \n",
       " 1st Qu.:192.8   1st Qu.: 1.000   1st Qu.: 99.0   1st Qu.: 62.00  \n",
       " Median :384.5   Median : 3.000   Median :117.0   Median : 72.00  \n",
       " Mean   :384.5   Mean   : 3.845   Mean   :120.9   Mean   : 69.11  \n",
       " 3rd Qu.:576.2   3rd Qu.: 6.000   3rd Qu.:140.2   3rd Qu.: 80.00  \n",
       " Max.   :768.0   Max.   :17.000   Max.   :199.0   Max.   :122.00  \n",
       "    triceps         insulin           mass          pedigree     \n",
       " Min.   : 0.00   Min.   :  0.0   Min.   : 0.00   Min.   :0.0780  \n",
       " 1st Qu.: 0.00   1st Qu.:  0.0   1st Qu.:27.30   1st Qu.:0.2437  \n",
       " Median :23.00   Median : 30.5   Median :32.00   Median :0.3725  \n",
       " Mean   :20.54   Mean   : 79.8   Mean   :31.99   Mean   :0.4719  \n",
       " 3rd Qu.:32.00   3rd Qu.:127.2   3rd Qu.:36.60   3rd Qu.:0.6262  \n",
       " Max.   :99.00   Max.   :846.0   Max.   :67.10   Max.   :2.4200  \n",
       "      age        diabetes \n",
       " Min.   :21.00   neg:500  \n",
       " 1st Qu.:24.00   pos:268  \n",
       " Median :29.00            \n",
       " Mean   :33.24            \n",
       " 3rd Qu.:41.00            \n",
       " Max.   :81.00            "
      ]
     },
     "metadata": {},
     "output_type": "display_data"
    }
   ],
   "source": [
    "summary(diabetes.dados)"
   ]
  },
  {
   "cell_type": "code",
   "execution_count": 178,
   "id": "eeef73b9",
   "metadata": {},
   "outputs": [],
   "source": [
    "diabetes.dados$num <- NULL"
   ]
  },
  {
   "cell_type": "code",
   "execution_count": 179,
   "id": "3dfb47dc",
   "metadata": {},
   "outputs": [
    {
     "data": {
      "text/html": [
       "<table>\n",
       "<thead><tr><th scope=col>preg0nt</th><th scope=col>glucose</th><th scope=col>pressure</th><th scope=col>triceps</th><th scope=col>insulin</th><th scope=col>mass</th><th scope=col>pedigree</th><th scope=col>age</th><th scope=col>diabetes</th></tr></thead>\n",
       "<tbody>\n",
       "\t<tr><td>6    </td><td>148  </td><td>72   </td><td>35   </td><td>  0  </td><td>33.6 </td><td>0.627</td><td>50   </td><td>pos  </td></tr>\n",
       "\t<tr><td>1    </td><td> 85  </td><td>66   </td><td>29   </td><td>  0  </td><td>26.6 </td><td>0.351</td><td>31   </td><td>neg  </td></tr>\n",
       "\t<tr><td>8    </td><td>183  </td><td>64   </td><td> 0   </td><td>  0  </td><td>23.3 </td><td>0.672</td><td>32   </td><td>pos  </td></tr>\n",
       "\t<tr><td>1    </td><td> 89  </td><td>66   </td><td>23   </td><td> 94  </td><td>28.1 </td><td>0.167</td><td>21   </td><td>neg  </td></tr>\n",
       "\t<tr><td>0    </td><td>137  </td><td>40   </td><td>35   </td><td>168  </td><td>43.1 </td><td>2.288</td><td>33   </td><td>pos  </td></tr>\n",
       "\t<tr><td>5    </td><td>116  </td><td>74   </td><td> 0   </td><td>  0  </td><td>25.6 </td><td>0.201</td><td>30   </td><td>neg  </td></tr>\n",
       "</tbody>\n",
       "</table>\n"
      ],
      "text/latex": [
       "\\begin{tabular}{r|lllllllll}\n",
       " preg0nt & glucose & pressure & triceps & insulin & mass & pedigree & age & diabetes\\\\\n",
       "\\hline\n",
       "\t 6     & 148   & 72    & 35    &   0   & 33.6  & 0.627 & 50    & pos  \\\\\n",
       "\t 1     &  85   & 66    & 29    &   0   & 26.6  & 0.351 & 31    & neg  \\\\\n",
       "\t 8     & 183   & 64    &  0    &   0   & 23.3  & 0.672 & 32    & pos  \\\\\n",
       "\t 1     &  89   & 66    & 23    &  94   & 28.1  & 0.167 & 21    & neg  \\\\\n",
       "\t 0     & 137   & 40    & 35    & 168   & 43.1  & 2.288 & 33    & pos  \\\\\n",
       "\t 5     & 116   & 74    &  0    &   0   & 25.6  & 0.201 & 30    & neg  \\\\\n",
       "\\end{tabular}\n"
      ],
      "text/markdown": [
       "\n",
       "| preg0nt | glucose | pressure | triceps | insulin | mass | pedigree | age | diabetes |\n",
       "|---|---|---|---|---|---|---|---|---|\n",
       "| 6     | 148   | 72    | 35    |   0   | 33.6  | 0.627 | 50    | pos   |\n",
       "| 1     |  85   | 66    | 29    |   0   | 26.6  | 0.351 | 31    | neg   |\n",
       "| 8     | 183   | 64    |  0    |   0   | 23.3  | 0.672 | 32    | pos   |\n",
       "| 1     |  89   | 66    | 23    |  94   | 28.1  | 0.167 | 21    | neg   |\n",
       "| 0     | 137   | 40    | 35    | 168   | 43.1  | 2.288 | 33    | pos   |\n",
       "| 5     | 116   | 74    |  0    |   0   | 25.6  | 0.201 | 30    | neg   |\n",
       "\n"
      ],
      "text/plain": [
       "  preg0nt glucose pressure triceps insulin mass pedigree age diabetes\n",
       "1 6       148     72       35        0     33.6 0.627    50  pos     \n",
       "2 1        85     66       29        0     26.6 0.351    31  neg     \n",
       "3 8       183     64        0        0     23.3 0.672    32  pos     \n",
       "4 1        89     66       23       94     28.1 0.167    21  neg     \n",
       "5 0       137     40       35      168     43.1 2.288    33  pos     \n",
       "6 5       116     74        0        0     25.6 0.201    30  neg     "
      ]
     },
     "metadata": {},
     "output_type": "display_data"
    }
   ],
   "source": [
    "head(diabetes.dados)"
   ]
  },
  {
   "cell_type": "code",
   "execution_count": 180,
   "id": "2d67760d",
   "metadata": {},
   "outputs": [],
   "source": [
    "# Separa entre treino e teste\n",
    "\n",
    "set.seed(seed_universal)\n",
    "indices <- createDataPartition(diabetes.dados$diabetes, p = 0.8, list = FALSE)\n",
    "treino <- diabetes.dados[indices,]\n",
    "teste <- diabetes.dados[-indices,]"
   ]
  },
  {
   "cell_type": "markdown",
   "id": "66f7a379",
   "metadata": {},
   "source": [
    "### Redes Neurais"
   ]
  },
  {
   "cell_type": "markdown",
   "id": "5b6f245b",
   "metadata": {},
   "source": [
    "#### Hold out"
   ]
  },
  {
   "cell_type": "code",
   "execution_count": 112,
   "id": "f5210d3b",
   "metadata": {},
   "outputs": [
    {
     "data": {
      "text/plain": [
       "Neural Network \n",
       "\n",
       "615 samples\n",
       "  8 predictor\n",
       "  2 classes: 'neg', 'pos' \n",
       "\n",
       "No pre-processing\n",
       "Resampling: Bootstrapped (25 reps) \n",
       "Summary of sample sizes: 615, 615, 615, 615, 615, 615, ... \n",
       "Resampling results across tuning parameters:\n",
       "\n",
       "  size  decay  Accuracy   Kappa     \n",
       "  1     0e+00  0.6462388  0.05218711\n",
       "  1     1e-04  0.6445605  0.06087513\n",
       "  1     1e-01  0.6439753  0.14101926\n",
       "  3     0e+00  0.6430005  0.12656845\n",
       "  3     1e-04  0.6442854  0.09488189\n",
       "  3     1e-01  0.6794833  0.25046095\n",
       "  5     0e+00  0.6572974  0.18220200\n",
       "  5     1e-04  0.6578923  0.18440297\n",
       "  5     1e-01  0.6854652  0.26966042\n",
       "\n",
       "Accuracy was used to select the optimal model using the largest value.\n",
       "The final values used for the model were size = 5 and decay = 0.1."
      ]
     },
     "metadata": {},
     "output_type": "display_data"
    }
   ],
   "source": [
    "set.seed(seed_universal)\n",
    "rna <- train(diabetes ~ ., data = treino, method = 'nnet', trace = FALSE)\n",
    "rna"
   ]
  },
  {
   "cell_type": "code",
   "execution_count": 113,
   "id": "28bf5ed5",
   "metadata": {},
   "outputs": [],
   "source": [
    "predicoes.rna <- predict(rna, teste)"
   ]
  },
  {
   "cell_type": "code",
   "execution_count": 114,
   "id": "5df875e7",
   "metadata": {},
   "outputs": [
    {
     "data": {
      "text/plain": [
       "Confusion Matrix and Statistics\n",
       "\n",
       "          Reference\n",
       "Prediction neg pos\n",
       "       neg  81  24\n",
       "       pos  19  29\n",
       "                                          \n",
       "               Accuracy : 0.719           \n",
       "                 95% CI : (0.6407, 0.7886)\n",
       "    No Information Rate : 0.6536          \n",
       "    P-Value [Acc > NIR] : 0.05152         \n",
       "                                          \n",
       "                  Kappa : 0.3653          \n",
       "                                          \n",
       " Mcnemar's Test P-Value : 0.54187         \n",
       "                                          \n",
       "            Sensitivity : 0.8100          \n",
       "            Specificity : 0.5472          \n",
       "         Pos Pred Value : 0.7714          \n",
       "         Neg Pred Value : 0.6042          \n",
       "             Prevalence : 0.6536          \n",
       "         Detection Rate : 0.5294          \n",
       "   Detection Prevalence : 0.6863          \n",
       "      Balanced Accuracy : 0.6786          \n",
       "                                          \n",
       "       'Positive' Class : neg             \n",
       "                                          "
      ]
     },
     "metadata": {},
     "output_type": "display_data"
    }
   ],
   "source": [
    "confusionMatrix(predicoes.rna, as.factor(teste$diabetes))"
   ]
  },
  {
   "cell_type": "markdown",
   "id": "e4466af7",
   "metadata": {},
   "source": [
    "#### Cross validation"
   ]
  },
  {
   "cell_type": "code",
   "execution_count": 115,
   "id": "c2f79ff7",
   "metadata": {},
   "outputs": [],
   "source": [
    "set.seed(seed_universal)\n",
    "ctrl <- trainControl(method = 'cv', number = 10)"
   ]
  },
  {
   "cell_type": "code",
   "execution_count": 116,
   "id": "def9b54a",
   "metadata": {},
   "outputs": [
    {
     "data": {
      "text/plain": [
       "Neural Network \n",
       "\n",
       "615 samples\n",
       "  8 predictor\n",
       "  2 classes: 'neg', 'pos' \n",
       "\n",
       "No pre-processing\n",
       "Resampling: Cross-Validated (10 fold) \n",
       "Summary of sample sizes: 554, 554, 554, 554, 553, 553, ... \n",
       "Resampling results across tuning parameters:\n",
       "\n",
       "  size  decay  Accuracy   Kappa      \n",
       "  1     0e+00  0.6276838  0.007969641\n",
       "  1     1e-04  0.6536753  0.090645527\n",
       "  1     1e-01  0.7447911  0.402348287\n",
       "  3     0e+00  0.6309889  0.084825931\n",
       "  3     1e-04  0.6766526  0.126146092\n",
       "  3     1e-01  0.7544685  0.451399338\n",
       "  5     0e+00  0.6488102  0.122877574\n",
       "  5     1e-04  0.7332893  0.377536533\n",
       "  5     1e-01  0.7059228  0.322349057\n",
       "\n",
       "Accuracy was used to select the optimal model using the largest value.\n",
       "The final values used for the model were size = 3 and decay = 0.1."
      ]
     },
     "metadata": {},
     "output_type": "display_data"
    }
   ],
   "source": [
    "set.seed(seed_universal)\n",
    "rna <- train(diabetes ~ ., data = treino, method = 'nnet', trace = FALSE, trControl = ctrl)\n",
    "rna"
   ]
  },
  {
   "cell_type": "code",
   "execution_count": 117,
   "id": "838dab36",
   "metadata": {},
   "outputs": [],
   "source": [
    "predicoes.rna <- predict(rna, teste)"
   ]
  },
  {
   "cell_type": "code",
   "execution_count": 118,
   "id": "a85ae46d",
   "metadata": {},
   "outputs": [
    {
     "data": {
      "text/plain": [
       "Confusion Matrix and Statistics\n",
       "\n",
       "          Reference\n",
       "Prediction neg pos\n",
       "       neg  84  21\n",
       "       pos  16  32\n",
       "                                          \n",
       "               Accuracy : 0.7582          \n",
       "                 95% CI : (0.6824, 0.8237)\n",
       "    No Information Rate : 0.6536          \n",
       "    P-Value [Acc > NIR] : 0.003479        \n",
       "                                          \n",
       "                  Kappa : 0.4538          \n",
       "                                          \n",
       " Mcnemar's Test P-Value : 0.510798        \n",
       "                                          \n",
       "            Sensitivity : 0.8400          \n",
       "            Specificity : 0.6038          \n",
       "         Pos Pred Value : 0.8000          \n",
       "         Neg Pred Value : 0.6667          \n",
       "             Prevalence : 0.6536          \n",
       "         Detection Rate : 0.5490          \n",
       "   Detection Prevalence : 0.6863          \n",
       "      Balanced Accuracy : 0.7219          \n",
       "                                          \n",
       "       'Positive' Class : neg             \n",
       "                                          "
      ]
     },
     "metadata": {},
     "output_type": "display_data"
    }
   ],
   "source": [
    "confusionMatrix(predicoes.rna, as.factor(teste$diabetes))"
   ]
  },
  {
   "cell_type": "markdown",
   "id": "70c45cd5",
   "metadata": {},
   "source": [
    "#### Grid"
   ]
  },
  {
   "cell_type": "code",
   "execution_count": 119,
   "id": "cafe4fdd",
   "metadata": {},
   "outputs": [],
   "source": [
    "set.seed(seed_universal)\n",
    "ctrl <- trainControl(method = 'cv', number = 10)\n",
    "grid <- expand.grid(size = seq(from = 1, to = 20, by = 1), decay = seq(from = 0.1, to = 0.9, by = 0.1))"
   ]
  },
  {
   "cell_type": "code",
   "execution_count": 120,
   "id": "457b21dc",
   "metadata": {},
   "outputs": [
    {
     "data": {
      "text/plain": [
       "Neural Network \n",
       "\n",
       "615 samples\n",
       "  8 predictor\n",
       "  2 classes: 'neg', 'pos' \n",
       "\n",
       "No pre-processing\n",
       "Resampling: Cross-Validated (10 fold) \n",
       "Summary of sample sizes: 554, 554, 554, 554, 553, 553, ... \n",
       "Resampling results across tuning parameters:\n",
       "\n",
       "  size  decay  Accuracy   Kappa    \n",
       "   1    0.1    0.7270756  0.3270753\n",
       "   1    0.2    0.7006875  0.2306773\n",
       "   1    0.3    0.7512956  0.3863156\n",
       "   1    0.4    0.7039133  0.2343904\n",
       "   1    0.5    0.7126917  0.3347354\n",
       "   1    0.6    0.7626917  0.4498852\n",
       "   1    0.7    0.7365415  0.3657334\n",
       "   1    0.8    0.7059757  0.2848042\n",
       "   1    0.9    0.7367795  0.3572056\n",
       "   2    0.1    0.6914067  0.2751845\n",
       "   2    0.2    0.7433633  0.3901325\n",
       "   2    0.3    0.7416711  0.4143130\n",
       "   2    0.4    0.7203332  0.3155511\n",
       "   2    0.5    0.7430724  0.4014418\n",
       "   2    0.6    0.7302221  0.3745627\n",
       "   2    0.7    0.7433104  0.3924946\n",
       "   2    0.8    0.7741407  0.4688847\n",
       "   2    0.9    0.7367266  0.3845488\n",
       "   3    0.1    0.7218932  0.3473887\n",
       "   3    0.2    0.7563458  0.4536825\n",
       "   3    0.3    0.7352723  0.3770812\n",
       "   3    0.4    0.7464305  0.4124939\n",
       "   3    0.5    0.7201481  0.3693927\n",
       "   3    0.6    0.7383395  0.3838498\n",
       "   3    0.7    0.7611581  0.4446483\n",
       "   3    0.8    0.7446325  0.3914749\n",
       "   3    0.9    0.7334215  0.3655296\n",
       "   4    0.1    0.7055791  0.3275078\n",
       "   4    0.2    0.7399260  0.4062505\n",
       "   4    0.3    0.7318879  0.3845932\n",
       "   4    0.4    0.7155473  0.3464464\n",
       "   4    0.5    0.7057641  0.3391256\n",
       "   4    0.6    0.7286092  0.3593096\n",
       "   4    0.7    0.7546272  0.4190690\n",
       "   4    0.8    0.7578265  0.4451388\n",
       "   4    0.9    0.7416182  0.3921891\n",
       "   5    0.1    0.7432047  0.4019042\n",
       "   5    0.2    0.7284241  0.3938023\n",
       "   5    0.3    0.7302485  0.3767968\n",
       "   5    0.4    0.7514807  0.4343558\n",
       "   5    0.5    0.7284506  0.3766543\n",
       "   5    0.6    0.7398731  0.3958035\n",
       "   5    0.7    0.7563458  0.4323116\n",
       "   5    0.8    0.7430724  0.4049819\n",
       "   5    0.9    0.7237176  0.3633651\n",
       "   6    0.1    0.7382602  0.4179104\n",
       "   6    0.2    0.7318086  0.3840244\n",
       "   6    0.3    0.7527763  0.4273285\n",
       "   6    0.4    0.7253041  0.3709862\n",
       "   6    0.5    0.7499207  0.4254024\n",
       "   6    0.6    0.7498678  0.4167494\n",
       "   6    0.7    0.7414595  0.4136306\n",
       "   6    0.8    0.7139873  0.3310609\n",
       "   6    0.9    0.7415124  0.3976500\n",
       "   7    0.1    0.7430460  0.4155672\n",
       "   7    0.2    0.7494712  0.4281656\n",
       "   7    0.3    0.7530407  0.4431733\n",
       "   7    0.4    0.7383395  0.3997975\n",
       "   7    0.5    0.7463511  0.4212977\n",
       "   7    0.6    0.7300635  0.3735098\n",
       "   7    0.7    0.7528027  0.4191153\n",
       "   7    0.8    0.7253570  0.3557710\n",
       "   7    0.9    0.7447647  0.4038659\n",
       "   8    0.1    0.7431253  0.4234012\n",
       "   8    0.2    0.7367266  0.4066163\n",
       "   8    0.3    0.7676891  0.4691403\n",
       "   8    0.4    0.7384188  0.4122537\n",
       "   8    0.5    0.7397673  0.3988361\n",
       "   8    0.6    0.7383924  0.4029938\n",
       "   8    0.7    0.7462983  0.4104996\n",
       "   8    0.8    0.7283184  0.3662437\n",
       "   8    0.9    0.7235854  0.3601591\n",
       "   9    0.1    0.7237705  0.3774084\n",
       "   9    0.2    0.7383131  0.4118420\n",
       "   9    0.3    0.7399524  0.4074978\n",
       "   9    0.4    0.7449762  0.4158490\n",
       "   9    0.5    0.7318614  0.3940975\n",
       "   9    0.6    0.7400053  0.4132670\n",
       "   9    0.7    0.7512163  0.4249129\n",
       "   9    0.8    0.7301428  0.3713934\n",
       "   9    0.9    0.7267583  0.3648974\n",
       "  10    0.1    0.7400846  0.4221407\n",
       "  10    0.2    0.7286356  0.3911736\n",
       "  10    0.3    0.7251983  0.3767997\n",
       "  10    0.4    0.7416182  0.4064817\n",
       "  10    0.5    0.7529350  0.4397678\n",
       "  10    0.6    0.7416182  0.4090060\n",
       "  10    0.7    0.7366737  0.3787440\n",
       "  10    0.8    0.7253834  0.3653253\n",
       "  10    0.9    0.7317821  0.3796020\n",
       "  11    0.1    0.7267054  0.3863851\n",
       "  11    0.2    0.7317557  0.3841753\n",
       "  11    0.3    0.7334479  0.3977859\n",
       "  11    0.4    0.7236118  0.3737208\n",
       "  11    0.5    0.7643839  0.4649568\n",
       "  11    0.6    0.7380222  0.3961882\n",
       "  11    0.7    0.7235590  0.3573080\n",
       "  11    0.8    0.7365415  0.4004587\n",
       "  11    0.9    0.7318879  0.3802248\n",
       "  12    0.1    0.7531729  0.4512921\n",
       "  12    0.2    0.7383131  0.4006717\n",
       "  12    0.3    0.7252776  0.3781765\n",
       "  12    0.4    0.7268641  0.3758498\n",
       "  12    0.5    0.7269170  0.3706894\n",
       "  12    0.6    0.7432311  0.4103371\n",
       "  12    0.7    0.7398466  0.4102737\n",
       "  12    0.8    0.7219989  0.3660270\n",
       "  12    0.9    0.7365680  0.3851688\n",
       "  13    0.1    0.7350873  0.3998402\n",
       "  13    0.2    0.7317028  0.4013984\n",
       "  13    0.3    0.7560550  0.4446758\n",
       "  13    0.4    0.7398995  0.4104398\n",
       "  13    0.5    0.7464569  0.4300735\n",
       "  13    0.6    0.7497356  0.4410207\n",
       "  13    0.7    0.7318086  0.3841964\n",
       "  13    0.8    0.7318086  0.3929621\n",
       "  13    0.9    0.7415653  0.3997258\n",
       "  14    0.1    0.7285034  0.3844123\n",
       "  14    0.2    0.7560550  0.4377193\n",
       "  14    0.3    0.7317292  0.3937649\n",
       "  14    0.4    0.7154680  0.3578483\n",
       "  14    0.5    0.7579059  0.4544695\n",
       "  14    0.6    0.7302485  0.3883739\n",
       "  14    0.7    0.7366208  0.3991007\n",
       "  14    0.8    0.7235854  0.3726917\n",
       "  14    0.9    0.7237441  0.3673140\n",
       "  15    0.1    0.7546536  0.4553432\n",
       "  15    0.2    0.7415918  0.4183827\n",
       "  15    0.3    0.7496563  0.4366182\n",
       "  15    0.4    0.7643310  0.4637679\n",
       "  15    0.5    0.7512692  0.4343171\n",
       "  15    0.6    0.7514014  0.4308172\n",
       "  15    0.7    0.7139344  0.3439038\n",
       "  15    0.8    0.7335008  0.3895228\n",
       "  15    0.9    0.7285563  0.3764430\n",
       "  16    0.1    0.7301957  0.3984271\n",
       "  16    0.2    0.7140931  0.3577730\n",
       "  16    0.3    0.7220518  0.3752856\n",
       "  16    0.4    0.7365415  0.3897882\n",
       "  16    0.5    0.7301428  0.3710157\n",
       "  16    0.6    0.7383395  0.4122735\n",
       "  16    0.7    0.7593866  0.4387531\n",
       "  16    0.8    0.7333157  0.3875571\n",
       "  16    0.9    0.7350873  0.3904005\n",
       "  17    0.1    0.7367002  0.4148729\n",
       "  17    0.2    0.7397144  0.4143043\n",
       "  17    0.3    0.7319408  0.4014863\n",
       "  17    0.4    0.7268905  0.3799511\n",
       "  17    0.5    0.7285299  0.3695598\n",
       "  17    0.6    0.7220254  0.3645634\n",
       "  17    0.7    0.7287414  0.3832061\n",
       "  17    0.8    0.7543628  0.4284359\n",
       "  17    0.9    0.7123480  0.3459659\n",
       "  18    0.1    0.7219725  0.3798084\n",
       "  18    0.2    0.7398731  0.4155211\n",
       "  18    0.3    0.7367795  0.4094284\n",
       "  18    0.4    0.7122422  0.3488266\n",
       "  18    0.5    0.7511898  0.4367986\n",
       "  18    0.6    0.7431518  0.4143469\n",
       "  18    0.7    0.7381809  0.4006394\n",
       "  18    0.8    0.7318086  0.3917489\n",
       "  18    0.9    0.7253041  0.3686408\n",
       "  19    0.1    0.7430196  0.4256313\n",
       "  19    0.2    0.7268112  0.3857286\n",
       "  19    0.3    0.7382602  0.4103091\n",
       "  19    0.4    0.7414860  0.4118702\n",
       "  19    0.5    0.7089371  0.3317037\n",
       "  19    0.6    0.7432311  0.4111505\n",
       "  19    0.7    0.7237441  0.3678581\n",
       "  19    0.8    0.7187996  0.3506495\n",
       "  19    0.9    0.7171074  0.3467810\n",
       "  20    0.1    0.7025648  0.3382712\n",
       "  20    0.2    0.7447911  0.4409551\n",
       "  20    0.3    0.7222105  0.3814168\n",
       "  20    0.4    0.7364622  0.4044514\n",
       "  20    0.5    0.7465098  0.4269629\n",
       "  20    0.6    0.7251719  0.3713576\n",
       "  20    0.7    0.7122158  0.3401053\n",
       "  20    0.8    0.7398466  0.3974555\n",
       "  20    0.9    0.7284506  0.3720959\n",
       "\n",
       "Accuracy was used to select the optimal model using the largest value.\n",
       "The final values used for the model were size = 2 and decay = 0.8."
      ]
     },
     "metadata": {},
     "output_type": "display_data"
    }
   ],
   "source": [
    "set.seed(seed_universal)\n",
    "rna <- train(form = diabetes ~ .,data = treino, method = 'nnet',\n",
    "             tuneGrid = grid, trControl = ctrl, MaxNWts = 10000, maxit = 2000, trace = FALSE)\n",
    "rna"
   ]
  },
  {
   "cell_type": "code",
   "execution_count": 121,
   "id": "f8282d32",
   "metadata": {},
   "outputs": [],
   "source": [
    "predicoes.rna <- predict(rna, teste)"
   ]
  },
  {
   "cell_type": "code",
   "execution_count": 122,
   "id": "44b11a0e",
   "metadata": {},
   "outputs": [
    {
     "data": {
      "text/plain": [
       "Confusion Matrix and Statistics\n",
       "\n",
       "          Reference\n",
       "Prediction neg pos\n",
       "       neg  86  25\n",
       "       pos  14  28\n",
       "                                         \n",
       "               Accuracy : 0.7451         \n",
       "                 95% CI : (0.6684, 0.812)\n",
       "    No Information Rate : 0.6536         \n",
       "    P-Value [Acc > NIR] : 0.009661       \n",
       "                                         \n",
       "                  Kappa : 0.4082         \n",
       "                                         \n",
       " Mcnemar's Test P-Value : 0.109315       \n",
       "                                         \n",
       "            Sensitivity : 0.8600         \n",
       "            Specificity : 0.5283         \n",
       "         Pos Pred Value : 0.7748         \n",
       "         Neg Pred Value : 0.6667         \n",
       "             Prevalence : 0.6536         \n",
       "         Detection Rate : 0.5621         \n",
       "   Detection Prevalence : 0.7255         \n",
       "      Balanced Accuracy : 0.6942         \n",
       "                                         \n",
       "       'Positive' Class : neg            \n",
       "                                         "
      ]
     },
     "metadata": {},
     "output_type": "display_data"
    }
   ],
   "source": [
    "confusionMatrix(predicoes.rna, as.factor(teste$diabetes))"
   ]
  },
  {
   "cell_type": "markdown",
   "id": "88e13c56",
   "metadata": {},
   "source": [
    "### KNN"
   ]
  },
  {
   "cell_type": "code",
   "execution_count": 181,
   "id": "90288a14",
   "metadata": {},
   "outputs": [],
   "source": [
    "tuneGrid <- expand.grid(k = c(1, 3, 5, 7, 9, 11, 13, 15, 17, 19, 21))"
   ]
  },
  {
   "cell_type": "code",
   "execution_count": 182,
   "id": "1c28b3ad",
   "metadata": {},
   "outputs": [
    {
     "data": {
      "text/plain": [
       "k-Nearest Neighbors \n",
       "\n",
       "615 samples\n",
       "  8 predictor\n",
       "  2 classes: 'neg', 'pos' \n",
       "\n",
       "No pre-processing\n",
       "Resampling: Bootstrapped (25 reps) \n",
       "Summary of sample sizes: 615, 615, 615, 615, 615, 615, ... \n",
       "Resampling results across tuning parameters:\n",
       "\n",
       "  k   Accuracy   Kappa    \n",
       "   1  0.6731765  0.2890132\n",
       "   3  0.6727623  0.2874482\n",
       "   5  0.6873484  0.3101040\n",
       "   7  0.7014126  0.3370444\n",
       "   9  0.7123351  0.3565318\n",
       "  11  0.7188705  0.3680130\n",
       "  13  0.7275272  0.3864632\n",
       "  15  0.7248063  0.3789608\n",
       "  17  0.7225241  0.3699379\n",
       "  19  0.7184907  0.3581286\n",
       "  21  0.7190564  0.3572538\n",
       "\n",
       "Accuracy was used to select the optimal model using the largest value.\n",
       "The final value used for the model was k = 13."
      ]
     },
     "metadata": {},
     "output_type": "display_data"
    }
   ],
   "source": [
    "set.seed(seed_universal)\n",
    "knn <- train(diabetes ~ ., data = treino, method = 'knn', tuneGrid = tuneGrid)\n",
    "knn"
   ]
  },
  {
   "cell_type": "code",
   "execution_count": 183,
   "id": "783303a2",
   "metadata": {},
   "outputs": [
    {
     "data": {
      "text/plain": [
       "Confusion Matrix and Statistics\n",
       "\n",
       "          Reference\n",
       "Prediction neg pos\n",
       "       neg  83  23\n",
       "       pos  17  30\n",
       "                                          \n",
       "               Accuracy : 0.7386          \n",
       "                 95% CI : (0.6615, 0.8062)\n",
       "    No Information Rate : 0.6536          \n",
       "    P-Value [Acc > NIR] : 0.01536         \n",
       "                                          \n",
       "                  Kappa : 0.4069          \n",
       "                                          \n",
       " Mcnemar's Test P-Value : 0.42920         \n",
       "                                          \n",
       "            Sensitivity : 0.8300          \n",
       "            Specificity : 0.5660          \n",
       "         Pos Pred Value : 0.7830          \n",
       "         Neg Pred Value : 0.6383          \n",
       "             Prevalence : 0.6536          \n",
       "         Detection Rate : 0.5425          \n",
       "   Detection Prevalence : 0.6928          \n",
       "      Balanced Accuracy : 0.6980          \n",
       "                                          \n",
       "       'Positive' Class : neg             \n",
       "                                          "
      ]
     },
     "metadata": {},
     "output_type": "display_data"
    }
   ],
   "source": [
    "predicoes.knn <- predict(knn, teste)\n",
    "confusionMatrix(predicoes.knn, as.factor(teste$diabetes))"
   ]
  },
  {
   "cell_type": "markdown",
   "id": "d12582df",
   "metadata": {},
   "source": [
    "---"
   ]
  },
  {
   "cell_type": "markdown",
   "id": "d643f09f",
   "metadata": {},
   "source": [
    "## Banco (Classificação)"
   ]
  },
  {
   "cell_type": "code",
   "execution_count": 184,
   "id": "4ee47e68",
   "metadata": {},
   "outputs": [],
   "source": [
    "banco.dados <- read.csv('bases/banco/Material 02 - 11 – Banco - Dados.csv')"
   ]
  },
  {
   "cell_type": "code",
   "execution_count": 185,
   "id": "33eaa594",
   "metadata": {},
   "outputs": [
    {
     "data": {
      "text/plain": [
       "      age                  job         marital        education   default  \n",
       " Min.   :20.00   bluecollar  :59   divorced: 34   primary  : 40   no :292  \n",
       " 1st Qu.:33.00   technician  :57   married :177   secondary:155   yes:  8  \n",
       " Median :38.00   management  :55   single  : 89   tertiary : 93            \n",
       " Mean   :40.65   admin.      :37                  unknown  : 12            \n",
       " 3rd Qu.:48.00   services    :26                                           \n",
       " Max.   :78.00   selfemployed:16                                           \n",
       "                 (Other)     :50                                           \n",
       "    balance        housing    loan       y      \n",
       " Min.   :    0.0   no :133   no :245   no :262  \n",
       " 1st Qu.:  175.5   yes:167   yes: 55   yes: 38  \n",
       " Median :  482.5                                \n",
       " Mean   : 1515.0                                \n",
       " 3rd Qu.: 1653.5                                \n",
       " Max.   :16873.0                                \n",
       "                                                "
      ]
     },
     "metadata": {},
     "output_type": "display_data"
    }
   ],
   "source": [
    "summary(banco.dados)"
   ]
  },
  {
   "cell_type": "code",
   "execution_count": 186,
   "id": "805ff2c9",
   "metadata": {
    "scrolled": false
   },
   "outputs": [
    {
     "data": {
      "text/html": [
       "<table>\n",
       "<thead><tr><th scope=col>age</th><th scope=col>job</th><th scope=col>marital</th><th scope=col>education</th><th scope=col>default</th><th scope=col>balance</th><th scope=col>housing</th><th scope=col>loan</th><th scope=col>y</th></tr></thead>\n",
       "<tbody>\n",
       "\t<tr><td>30        </td><td>unemployed</td><td>married   </td><td>primary   </td><td>no        </td><td>1787      </td><td>no        </td><td>no        </td><td>no        </td></tr>\n",
       "\t<tr><td>33        </td><td>services  </td><td>married   </td><td>secondary </td><td>no        </td><td>4789      </td><td>yes       </td><td>yes       </td><td>no        </td></tr>\n",
       "\t<tr><td>35        </td><td>management</td><td>single    </td><td>tertiary  </td><td>no        </td><td>1350      </td><td>yes       </td><td>no        </td><td>no        </td></tr>\n",
       "\t<tr><td>30        </td><td>management</td><td>married   </td><td>tertiary  </td><td>no        </td><td>1476      </td><td>yes       </td><td>yes       </td><td>no        </td></tr>\n",
       "\t<tr><td>59        </td><td>bluecollar</td><td>married   </td><td>secondary </td><td>no        </td><td>   0      </td><td>yes       </td><td>no        </td><td>no        </td></tr>\n",
       "\t<tr><td>35        </td><td>management</td><td>single    </td><td>tertiary  </td><td>no        </td><td> 747      </td><td>no        </td><td>no        </td><td>no        </td></tr>\n",
       "</tbody>\n",
       "</table>\n"
      ],
      "text/latex": [
       "\\begin{tabular}{r|lllllllll}\n",
       " age & job & marital & education & default & balance & housing & loan & y\\\\\n",
       "\\hline\n",
       "\t 30         & unemployed & married    & primary    & no         & 1787       & no         & no         & no        \\\\\n",
       "\t 33         & services   & married    & secondary  & no         & 4789       & yes        & yes        & no        \\\\\n",
       "\t 35         & management & single     & tertiary   & no         & 1350       & yes        & no         & no        \\\\\n",
       "\t 30         & management & married    & tertiary   & no         & 1476       & yes        & yes        & no        \\\\\n",
       "\t 59         & bluecollar & married    & secondary  & no         &    0       & yes        & no         & no        \\\\\n",
       "\t 35         & management & single     & tertiary   & no         &  747       & no         & no         & no        \\\\\n",
       "\\end{tabular}\n"
      ],
      "text/markdown": [
       "\n",
       "| age | job | marital | education | default | balance | housing | loan | y |\n",
       "|---|---|---|---|---|---|---|---|---|\n",
       "| 30         | unemployed | married    | primary    | no         | 1787       | no         | no         | no         |\n",
       "| 33         | services   | married    | secondary  | no         | 4789       | yes        | yes        | no         |\n",
       "| 35         | management | single     | tertiary   | no         | 1350       | yes        | no         | no         |\n",
       "| 30         | management | married    | tertiary   | no         | 1476       | yes        | yes        | no         |\n",
       "| 59         | bluecollar | married    | secondary  | no         |    0       | yes        | no         | no         |\n",
       "| 35         | management | single     | tertiary   | no         |  747       | no         | no         | no         |\n",
       "\n"
      ],
      "text/plain": [
       "  age job        marital education default balance housing loan y \n",
       "1 30  unemployed married primary   no      1787    no      no   no\n",
       "2 33  services   married secondary no      4789    yes     yes  no\n",
       "3 35  management single  tertiary  no      1350    yes     no   no\n",
       "4 30  management married tertiary  no      1476    yes     yes  no\n",
       "5 59  bluecollar married secondary no         0    yes     no   no\n",
       "6 35  management single  tertiary  no       747    no      no   no"
      ]
     },
     "metadata": {},
     "output_type": "display_data"
    }
   ],
   "source": [
    "head(banco.dados)"
   ]
  },
  {
   "cell_type": "code",
   "execution_count": 187,
   "id": "47496af2",
   "metadata": {},
   "outputs": [],
   "source": [
    "# Separa entre treino e teste\n",
    "\n",
    "set.seed(seed_universal)\n",
    "indices <- createDataPartition(banco.dados$y, p = 0.8, list = FALSE)\n",
    "treino <- banco.dados[indices,]\n",
    "teste <- banco.dados[-indices,]"
   ]
  },
  {
   "cell_type": "markdown",
   "id": "f72ac448",
   "metadata": {},
   "source": [
    "### Redes Neurais"
   ]
  },
  {
   "cell_type": "markdown",
   "id": "8e8c1dfe",
   "metadata": {},
   "source": [
    "#### Hold out"
   ]
  },
  {
   "cell_type": "code",
   "execution_count": 127,
   "id": "344e058a",
   "metadata": {},
   "outputs": [
    {
     "data": {
      "text/plain": [
       "Neural Network \n",
       "\n",
       "241 samples\n",
       "  8 predictor\n",
       "  2 classes: 'no', 'yes' \n",
       "\n",
       "No pre-processing\n",
       "Resampling: Bootstrapped (25 reps) \n",
       "Summary of sample sizes: 241, 241, 241, 241, 241, 241, ... \n",
       "Resampling results across tuning parameters:\n",
       "\n",
       "  size  decay  Accuracy   Kappa        \n",
       "  1     0e+00  0.8723151   0.0000000000\n",
       "  1     1e-04  0.8723151   0.0000000000\n",
       "  1     1e-01  0.8617192  -0.0005673441\n",
       "  3     0e+00  0.8713425  -0.0018001533\n",
       "  3     1e-04  0.8649918   0.0002290965\n",
       "  3     1e-01  0.8418853   0.0280703226\n",
       "  5     0e+00  0.8678320  -0.0033617713\n",
       "  5     1e-04  0.8635611  -0.0097134785\n",
       "  5     1e-01  0.8229977   0.0209140128\n",
       "\n",
       "Accuracy was used to select the optimal model using the largest value.\n",
       "The final values used for the model were size = 1 and decay = 1e-04."
      ]
     },
     "metadata": {},
     "output_type": "display_data"
    }
   ],
   "source": [
    "set.seed(seed_universal)\n",
    "rna <- train(y ~ ., data = treino, method = 'nnet', trace = FALSE)\n",
    "rna"
   ]
  },
  {
   "cell_type": "code",
   "execution_count": 128,
   "id": "10fd34c3",
   "metadata": {},
   "outputs": [],
   "source": [
    "predicoes.rna <- predict(rna, teste)"
   ]
  },
  {
   "cell_type": "code",
   "execution_count": 129,
   "id": "83824dcd",
   "metadata": {},
   "outputs": [
    {
     "data": {
      "text/plain": [
       "Confusion Matrix and Statistics\n",
       "\n",
       "          Reference\n",
       "Prediction no yes\n",
       "       no  52   7\n",
       "       yes  0   0\n",
       "                                          \n",
       "               Accuracy : 0.8814          \n",
       "                 95% CI : (0.7707, 0.9509)\n",
       "    No Information Rate : 0.8814          \n",
       "    P-Value [Acc > NIR] : 0.59891         \n",
       "                                          \n",
       "                  Kappa : 0               \n",
       "                                          \n",
       " Mcnemar's Test P-Value : 0.02334         \n",
       "                                          \n",
       "            Sensitivity : 1.0000          \n",
       "            Specificity : 0.0000          \n",
       "         Pos Pred Value : 0.8814          \n",
       "         Neg Pred Value :    NaN          \n",
       "             Prevalence : 0.8814          \n",
       "         Detection Rate : 0.8814          \n",
       "   Detection Prevalence : 1.0000          \n",
       "      Balanced Accuracy : 0.5000          \n",
       "                                          \n",
       "       'Positive' Class : no              \n",
       "                                          "
      ]
     },
     "metadata": {},
     "output_type": "display_data"
    }
   ],
   "source": [
    "confusionMatrix(predicoes.rna, as.factor(teste$y))"
   ]
  },
  {
   "cell_type": "markdown",
   "id": "f74f4f8f",
   "metadata": {},
   "source": [
    "#### Cross validation"
   ]
  },
  {
   "cell_type": "code",
   "execution_count": 130,
   "id": "592a42b8",
   "metadata": {},
   "outputs": [],
   "source": [
    "set.seed(seed_universal)\n",
    "ctrl <- trainControl(method = 'cv', number = 10)"
   ]
  },
  {
   "cell_type": "code",
   "execution_count": 131,
   "id": "eb7f28c5",
   "metadata": {},
   "outputs": [
    {
     "data": {
      "text/plain": [
       "Neural Network \n",
       "\n",
       "241 samples\n",
       "  8 predictor\n",
       "  2 classes: 'no', 'yes' \n",
       "\n",
       "No pre-processing\n",
       "Resampling: Cross-Validated (10 fold) \n",
       "Summary of sample sizes: 217, 217, 217, 217, 217, 217, ... \n",
       "Resampling results across tuning parameters:\n",
       "\n",
       "  size  decay  Accuracy   Kappa       \n",
       "  1     0e+00  0.8715000   0.000000000\n",
       "  1     1e-04  0.8715000   0.000000000\n",
       "  1     1e-01  0.8715000   0.000000000\n",
       "  3     0e+00  0.8715000   0.000000000\n",
       "  3     1e-04  0.8756667   0.046666667\n",
       "  3     1e-01  0.8508333   0.002051282\n",
       "  5     0e+00  0.8675000  -0.006837607\n",
       "  5     1e-04  0.8591667   0.010305250\n",
       "  5     1e-01  0.8381667  -0.015555556\n",
       "\n",
       "Accuracy was used to select the optimal model using the largest value.\n",
       "The final values used for the model were size = 3 and decay = 1e-04."
      ]
     },
     "metadata": {},
     "output_type": "display_data"
    }
   ],
   "source": [
    "set.seed(seed_universal)\n",
    "rna <- train(y ~ ., data = treino, method = 'nnet', trace = FALSE, trControl = ctrl)\n",
    "rna"
   ]
  },
  {
   "cell_type": "code",
   "execution_count": 132,
   "id": "a7a1aefd",
   "metadata": {},
   "outputs": [],
   "source": [
    "predicoes.rna <- predict(rna, teste)"
   ]
  },
  {
   "cell_type": "code",
   "execution_count": 133,
   "id": "c5cde54b",
   "metadata": {},
   "outputs": [
    {
     "data": {
      "text/plain": [
       "Confusion Matrix and Statistics\n",
       "\n",
       "          Reference\n",
       "Prediction no yes\n",
       "       no  52   6\n",
       "       yes  0   1\n",
       "                                          \n",
       "               Accuracy : 0.8983          \n",
       "                 95% CI : (0.7917, 0.9618)\n",
       "    No Information Rate : 0.8814          \n",
       "    P-Value [Acc > NIR] : 0.44023         \n",
       "                                          \n",
       "                  Kappa : 0.2271          \n",
       "                                          \n",
       " Mcnemar's Test P-Value : 0.04123         \n",
       "                                          \n",
       "            Sensitivity : 1.0000          \n",
       "            Specificity : 0.1429          \n",
       "         Pos Pred Value : 0.8966          \n",
       "         Neg Pred Value : 1.0000          \n",
       "             Prevalence : 0.8814          \n",
       "         Detection Rate : 0.8814          \n",
       "   Detection Prevalence : 0.9831          \n",
       "      Balanced Accuracy : 0.5714          \n",
       "                                          \n",
       "       'Positive' Class : no              \n",
       "                                          "
      ]
     },
     "metadata": {},
     "output_type": "display_data"
    }
   ],
   "source": [
    "confusionMatrix(predicoes.rna, as.factor(teste$y))"
   ]
  },
  {
   "cell_type": "markdown",
   "id": "5b43a98f",
   "metadata": {},
   "source": [
    "#### Grid"
   ]
  },
  {
   "cell_type": "code",
   "execution_count": 134,
   "id": "20fb8ab2",
   "metadata": {},
   "outputs": [],
   "source": [
    "set.seed(seed_universal)\n",
    "ctrl <- trainControl(method = 'cv', number = 10)\n",
    "grid <- expand.grid(size = seq(from = 1, to = 20, by = 1), decay = seq(from = 0.1, to = 0.9, by = 0.1))"
   ]
  },
  {
   "cell_type": "code",
   "execution_count": 135,
   "id": "a77cb7aa",
   "metadata": {},
   "outputs": [
    {
     "data": {
      "text/plain": [
       "Neural Network \n",
       "\n",
       "241 samples\n",
       "  8 predictor\n",
       "  2 classes: 'no', 'yes' \n",
       "\n",
       "No pre-processing\n",
       "Resampling: Cross-Validated (10 fold) \n",
       "Summary of sample sizes: 217, 217, 217, 217, 217, 217, ... \n",
       "Resampling results across tuning parameters:\n",
       "\n",
       "  size  decay  Accuracy   Kappa        \n",
       "   1    0.1    0.8756667   0.0466666667\n",
       "   1    0.2    0.8715000   0.0000000000\n",
       "   1    0.3    0.8715000   0.0000000000\n",
       "   1    0.4    0.8715000   0.0000000000\n",
       "   1    0.5    0.8715000   0.0000000000\n",
       "   1    0.6    0.8715000   0.0000000000\n",
       "   1    0.7    0.8715000   0.0000000000\n",
       "   1    0.8    0.8715000   0.0000000000\n",
       "   1    0.9    0.8715000   0.0000000000\n",
       "   2    0.1    0.8590000   0.0111111111\n",
       "   2    0.2    0.8631667  -0.0133333333\n",
       "   2    0.3    0.8715000   0.0000000000\n",
       "   2    0.4    0.8715000   0.0000000000\n",
       "   2    0.5    0.8715000   0.0000000000\n",
       "   2    0.6    0.8715000   0.0000000000\n",
       "   2    0.7    0.8715000   0.0000000000\n",
       "   2    0.8    0.8715000   0.0000000000\n",
       "   2    0.9    0.8715000   0.0000000000\n",
       "   3    0.1    0.8590000  -0.0200000000\n",
       "   3    0.2    0.8673333  -0.0066666667\n",
       "   3    0.3    0.8673333  -0.0066666667\n",
       "   3    0.4    0.8715000   0.0000000000\n",
       "   3    0.5    0.8715000   0.0000000000\n",
       "   3    0.6    0.8715000   0.0000000000\n",
       "   3    0.7    0.8715000   0.0000000000\n",
       "   3    0.8    0.8715000   0.0000000000\n",
       "   3    0.9    0.8715000   0.0000000000\n",
       "   4    0.1    0.8340000   0.0394949495\n",
       "   4    0.2    0.8673333   0.0266666667\n",
       "   4    0.3    0.8715000   0.0000000000\n",
       "   4    0.4    0.8715000   0.0000000000\n",
       "   4    0.5    0.8715000   0.0000000000\n",
       "   4    0.6    0.8715000   0.0000000000\n",
       "   4    0.7    0.8715000   0.0000000000\n",
       "   4    0.8    0.8715000   0.0000000000\n",
       "   4    0.9    0.8715000   0.0000000000\n",
       "   5    0.1    0.8548333   0.0742857143\n",
       "   5    0.2    0.8465000  -0.0277777778\n",
       "   5    0.3    0.8673333  -0.0066666667\n",
       "   5    0.4    0.8673333  -0.0066666667\n",
       "   5    0.5    0.8673333  -0.0066666667\n",
       "   5    0.6    0.8715000   0.0000000000\n",
       "   5    0.7    0.8715000   0.0000000000\n",
       "   5    0.8    0.8715000   0.0000000000\n",
       "   5    0.9    0.8715000   0.0000000000\n",
       "   6    0.1    0.8298333  -0.0052380952\n",
       "   6    0.2    0.8465000  -0.0355555556\n",
       "   6    0.3    0.8590000  -0.0142857143\n",
       "   6    0.4    0.8715000   0.0000000000\n",
       "   6    0.5    0.8715000   0.0000000000\n",
       "   6    0.6    0.8715000   0.0000000000\n",
       "   6    0.7    0.8715000   0.0000000000\n",
       "   6    0.8    0.8715000   0.0000000000\n",
       "   6    0.9    0.8715000   0.0000000000\n",
       "   7    0.1    0.8300000   0.0120512821\n",
       "   7    0.2    0.8590000   0.0190476190\n",
       "   7    0.3    0.8506667  -0.0233333333\n",
       "   7    0.4    0.8715000   0.0000000000\n",
       "   7    0.5    0.8715000   0.0000000000\n",
       "   7    0.6    0.8715000   0.0000000000\n",
       "   7    0.7    0.8715000   0.0000000000\n",
       "   7    0.8    0.8715000   0.0000000000\n",
       "   7    0.9    0.8715000   0.0000000000\n",
       "   8    0.1    0.8176667  -0.0006704572\n",
       "   8    0.2    0.8590000   0.0633333333\n",
       "   8    0.3    0.8548333  -0.0209523810\n",
       "   8    0.4    0.8715000   0.0000000000\n",
       "   8    0.5    0.8673333  -0.0066666667\n",
       "   8    0.6    0.8715000   0.0000000000\n",
       "   8    0.7    0.8715000   0.0000000000\n",
       "   8    0.8    0.8715000   0.0000000000\n",
       "   8    0.9    0.8715000   0.0000000000\n",
       "   9    0.1    0.8216667  -0.0401709402\n",
       "   9    0.2    0.8506667   0.0319047619\n",
       "   9    0.3    0.8506667   0.0100000000\n",
       "   9    0.4    0.8715000   0.0000000000\n",
       "   9    0.5    0.8673333  -0.0066666667\n",
       "   9    0.6    0.8715000   0.0000000000\n",
       "   9    0.7    0.8715000   0.0000000000\n",
       "   9    0.8    0.8715000   0.0000000000\n",
       "   9    0.9    0.8715000   0.0000000000\n",
       "  10    0.1    0.7885000  -0.0750475616\n",
       "  10    0.2    0.8548333  -0.0166666667\n",
       "  10    0.3    0.8506667  -0.0185185185\n",
       "  10    0.4    0.8631667  -0.0133333333\n",
       "  10    0.5    0.8715000   0.0000000000\n",
       "  10    0.6    0.8715000   0.0000000000\n",
       "  10    0.7    0.8715000   0.0000000000\n",
       "  10    0.8    0.8715000   0.0000000000\n",
       "  10    0.9    0.8715000   0.0000000000\n",
       "  11    0.1    0.7966667  -0.0894831095\n",
       "  11    0.2    0.8465000  -0.0277777778\n",
       "  11    0.3    0.8506667  -0.0233333333\n",
       "  11    0.4    0.8590000  -0.0142857143\n",
       "  11    0.5    0.8673333  -0.0066666667\n",
       "  11    0.6    0.8715000   0.0000000000\n",
       "  11    0.7    0.8715000   0.0000000000\n",
       "  11    0.8    0.8715000   0.0000000000\n",
       "  11    0.9    0.8715000   0.0000000000\n",
       "  12    0.1    0.8053333  -0.0366580867\n",
       "  12    0.2    0.8423333  -0.0296296296\n",
       "  12    0.3    0.8465000  -0.0300000000\n",
       "  12    0.4    0.8631667  -0.0111111111\n",
       "  12    0.5    0.8715000   0.0000000000\n",
       "  12    0.6    0.8715000   0.0000000000\n",
       "  12    0.7    0.8715000   0.0000000000\n",
       "  12    0.8    0.8715000   0.0000000000\n",
       "  12    0.9    0.8715000   0.0000000000\n",
       "  13    0.1    0.8131667   0.0334006734\n",
       "  13    0.2    0.8423333   0.0037037037\n",
       "  13    0.3    0.8506667  -0.0233333333\n",
       "  13    0.4    0.8548333  -0.0209523810\n",
       "  13    0.5    0.8673333  -0.0066666667\n",
       "  13    0.6    0.8715000   0.0000000000\n",
       "  13    0.7    0.8715000   0.0000000000\n",
       "  13    0.8    0.8715000   0.0000000000\n",
       "  13    0.9    0.8715000   0.0000000000\n",
       "  14    0.1    0.8175000  -0.0477899878\n",
       "  14    0.2    0.8423333  -0.0344444444\n",
       "  14    0.3    0.8465000  -0.0251851852\n",
       "  14    0.4    0.8590000  -0.0142857143\n",
       "  14    0.5    0.8673333  -0.0066666667\n",
       "  14    0.6    0.8715000   0.0000000000\n",
       "  14    0.7    0.8715000   0.0000000000\n",
       "  14    0.8    0.8715000   0.0000000000\n",
       "  14    0.9    0.8715000   0.0000000000\n",
       "  15    0.1    0.8050000  -0.0564672365\n",
       "  15    0.2    0.8381667  -0.0080423280\n",
       "  15    0.3    0.8506667  -0.0233333333\n",
       "  15    0.4    0.8673333  -0.0066666667\n",
       "  15    0.5    0.8715000   0.0000000000\n",
       "  15    0.6    0.8715000   0.0000000000\n",
       "  15    0.7    0.8715000   0.0000000000\n",
       "  15    0.8    0.8715000   0.0000000000\n",
       "  15    0.9    0.8715000   0.0000000000\n",
       "  16    0.1    0.8008333  -0.0863085063\n",
       "  16    0.2    0.8465000   0.0055555556\n",
       "  16    0.3    0.8506667  -0.0233333333\n",
       "  16    0.4    0.8673333  -0.0066666667\n",
       "  16    0.5    0.8631667  -0.0111111111\n",
       "  16    0.6    0.8715000   0.0000000000\n",
       "  16    0.7    0.8715000   0.0000000000\n",
       "  16    0.8    0.8715000   0.0000000000\n",
       "  16    0.9    0.8715000   0.0000000000\n",
       "  17    0.1    0.8255000   0.0125533481\n",
       "  17    0.2    0.8506667  -0.0233333333\n",
       "  17    0.3    0.8506667  -0.0233333333\n",
       "  17    0.4    0.8590000  -0.0142857143\n",
       "  17    0.5    0.8590000  -0.0142857143\n",
       "  17    0.6    0.8715000   0.0000000000\n",
       "  17    0.7    0.8715000   0.0000000000\n",
       "  17    0.8    0.8715000   0.0000000000\n",
       "  17    0.9    0.8715000   0.0000000000\n",
       "  18    0.1    0.7886667  -0.0744125583\n",
       "  18    0.2    0.8423333  -0.0318518519\n",
       "  18    0.3    0.8506667   0.0100000000\n",
       "  18    0.4    0.8590000  -0.0142857143\n",
       "  18    0.5    0.8673333  -0.0066666667\n",
       "  18    0.6    0.8715000   0.0000000000\n",
       "  18    0.7    0.8715000   0.0000000000\n",
       "  18    0.8    0.8715000   0.0000000000\n",
       "  18    0.9    0.8715000   0.0000000000\n",
       "  19    0.1    0.8050000  -0.0609645910\n",
       "  19    0.2    0.8423333  -0.0296296296\n",
       "  19    0.3    0.8465000  -0.0300000000\n",
       "  19    0.4    0.8590000  -0.0142857143\n",
       "  19    0.5    0.8673333  -0.0066666667\n",
       "  19    0.6    0.8715000   0.0000000000\n",
       "  19    0.7    0.8715000   0.0000000000\n",
       "  19    0.8    0.8715000   0.0000000000\n",
       "  19    0.9    0.8715000   0.0000000000\n",
       "  20    0.1    0.8008333  -0.0479487179\n",
       "  20    0.2    0.8465000   0.0052910053\n",
       "  20    0.3    0.8465000  -0.0251851852\n",
       "  20    0.4    0.8506667  -0.0233333333\n",
       "  20    0.5    0.8715000   0.0000000000\n",
       "  20    0.6    0.8715000   0.0000000000\n",
       "  20    0.7    0.8715000   0.0000000000\n",
       "  20    0.8    0.8715000   0.0000000000\n",
       "  20    0.9    0.8715000   0.0000000000\n",
       "\n",
       "Accuracy was used to select the optimal model using the largest value.\n",
       "The final values used for the model were size = 1 and decay = 0.1."
      ]
     },
     "metadata": {},
     "output_type": "display_data"
    }
   ],
   "source": [
    "set.seed(seed_universal)\n",
    "rna <- train(form = y ~ .,data = treino, method = 'nnet',\n",
    "             tuneGrid = grid, trControl = ctrl, MaxNWts = 10000, maxit = 2000, trace = FALSE)\n",
    "rna"
   ]
  },
  {
   "cell_type": "code",
   "execution_count": 136,
   "id": "78c4c91e",
   "metadata": {},
   "outputs": [],
   "source": [
    "predicoes.rna <- predict(rna, teste)"
   ]
  },
  {
   "cell_type": "code",
   "execution_count": 137,
   "id": "2d816b7e",
   "metadata": {},
   "outputs": [
    {
     "data": {
      "text/plain": [
       "Confusion Matrix and Statistics\n",
       "\n",
       "          Reference\n",
       "Prediction no yes\n",
       "       no  52   7\n",
       "       yes  0   0\n",
       "                                          \n",
       "               Accuracy : 0.8814          \n",
       "                 95% CI : (0.7707, 0.9509)\n",
       "    No Information Rate : 0.8814          \n",
       "    P-Value [Acc > NIR] : 0.59891         \n",
       "                                          \n",
       "                  Kappa : 0               \n",
       "                                          \n",
       " Mcnemar's Test P-Value : 0.02334         \n",
       "                                          \n",
       "            Sensitivity : 1.0000          \n",
       "            Specificity : 0.0000          \n",
       "         Pos Pred Value : 0.8814          \n",
       "         Neg Pred Value :    NaN          \n",
       "             Prevalence : 0.8814          \n",
       "         Detection Rate : 0.8814          \n",
       "   Detection Prevalence : 1.0000          \n",
       "      Balanced Accuracy : 0.5000          \n",
       "                                          \n",
       "       'Positive' Class : no              \n",
       "                                          "
      ]
     },
     "metadata": {},
     "output_type": "display_data"
    }
   ],
   "source": [
    "confusionMatrix(predicoes.rna, as.factor(teste$y))"
   ]
  },
  {
   "cell_type": "markdown",
   "id": "a8c72ee8",
   "metadata": {},
   "source": [
    "### KNN"
   ]
  },
  {
   "cell_type": "code",
   "execution_count": 196,
   "id": "ea95a976",
   "metadata": {},
   "outputs": [],
   "source": [
    "tuneGrid <- expand.grid(k = c(1, 3, 5, 7, 9, 11, 13, 15, 17, 19, 21))"
   ]
  },
  {
   "cell_type": "code",
   "execution_count": 197,
   "id": "1c713848",
   "metadata": {},
   "outputs": [
    {
     "data": {
      "text/plain": [
       "k-Nearest Neighbors \n",
       "\n",
       "241 samples\n",
       "  8 predictor\n",
       "  2 classes: 'no', 'yes' \n",
       "\n",
       "No pre-processing\n",
       "Resampling: Bootstrapped (25 reps) \n",
       "Summary of sample sizes: 241, 241, 241, 241, 241, 241, ... \n",
       "Resampling results across tuning parameters:\n",
       "\n",
       "  k   Accuracy   Kappa        \n",
       "   1  0.7984854   0.1182560837\n",
       "   3  0.8061770   0.0503916113\n",
       "   5  0.8294749   0.0266087960\n",
       "   7  0.8446598   0.0343770628\n",
       "   9  0.8484313   0.0182649861\n",
       "  11  0.8586352  -0.0060930345\n",
       "  13  0.8649566   0.0087386176\n",
       "  15  0.8677743   0.0007374047\n",
       "  17  0.8672814  -0.0028290445\n",
       "  19  0.8673246  -0.0031148978\n",
       "  21  0.8678491  -0.0010977128\n",
       "\n",
       "Accuracy was used to select the optimal model using the largest value.\n",
       "The final value used for the model was k = 21."
      ]
     },
     "metadata": {},
     "output_type": "display_data"
    }
   ],
   "source": [
    "set.seed(seed_universal)\n",
    "knn <- train(y ~ ., data = treino, method = 'knn', tuneGrid = tuneGrid)\n",
    "knn"
   ]
  },
  {
   "cell_type": "code",
   "execution_count": 198,
   "id": "e965dbab",
   "metadata": {},
   "outputs": [
    {
     "data": {
      "text/plain": [
       "Confusion Matrix and Statistics\n",
       "\n",
       "          Reference\n",
       "Prediction no yes\n",
       "       no  52   7\n",
       "       yes  0   0\n",
       "                                          \n",
       "               Accuracy : 0.8814          \n",
       "                 95% CI : (0.7707, 0.9509)\n",
       "    No Information Rate : 0.8814          \n",
       "    P-Value [Acc > NIR] : 0.59891         \n",
       "                                          \n",
       "                  Kappa : 0               \n",
       "                                          \n",
       " Mcnemar's Test P-Value : 0.02334         \n",
       "                                          \n",
       "            Sensitivity : 1.0000          \n",
       "            Specificity : 0.0000          \n",
       "         Pos Pred Value : 0.8814          \n",
       "         Neg Pred Value :    NaN          \n",
       "             Prevalence : 0.8814          \n",
       "         Detection Rate : 0.8814          \n",
       "   Detection Prevalence : 1.0000          \n",
       "      Balanced Accuracy : 0.5000          \n",
       "                                          \n",
       "       'Positive' Class : no              \n",
       "                                          "
      ]
     },
     "metadata": {},
     "output_type": "display_data"
    }
   ],
   "source": [
    "predicoes.knn <- predict(knn, teste)\n",
    "confusionMatrix(predicoes.knn, as.factor(teste$y))"
   ]
  },
  {
   "cell_type": "markdown",
   "id": "62d6ae7c",
   "metadata": {},
   "source": [
    "---"
   ]
  }
 ],
 "metadata": {
  "kernelspec": {
   "display_name": "R",
   "language": "R",
   "name": "ir"
  },
  "language_info": {
   "codemirror_mode": "r",
   "file_extension": ".r",
   "mimetype": "text/x-r-source",
   "name": "R",
   "pygments_lexer": "r",
   "version": "3.6.1"
  }
 },
 "nbformat": 4,
 "nbformat_minor": 5
}
